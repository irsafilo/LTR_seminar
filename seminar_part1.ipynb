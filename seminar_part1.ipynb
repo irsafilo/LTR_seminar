{
 "cells": [
  {
   "cell_type": "code",
   "execution_count": 1,
   "id": "50bdaf20",
   "metadata": {
    "ExecuteTime": {
     "end_time": "2021-11-12T15:11:01.367013Z",
     "start_time": "2021-11-12T15:11:01.040225Z"
    }
   },
   "outputs": [],
   "source": [
    "import os\n",
    "import numpy as np \n",
    "import pandas as pd \n",
    "from itertools import islice, cycle\n",
    "from more_itertools import pairwise\n",
    "import scipy.sparse as sp\n",
    "from itertools import islice, cycle\n",
    "#from tqdm.auto import tqdm"
   ]
  },
  {
   "cell_type": "markdown",
   "id": "2a1052d7",
   "metadata": {},
   "source": [
    "# Данные"
   ]
  },
  {
   "cell_type": "markdown",
   "id": "fed52e24",
   "metadata": {},
   "source": [
    "Изучаем данные"
   ]
  },
  {
   "cell_type": "code",
   "execution_count": 2,
   "id": "4abba38d",
   "metadata": {
    "ExecuteTime": {
     "end_time": "2021-11-12T15:11:28.632472Z",
     "start_time": "2021-11-12T15:11:27.150756Z"
    }
   },
   "outputs": [],
   "source": [
    "df = pd.read_csv('data/interactions.csv')\n",
    "df_users = pd.read_csv('data/users.csv')\n",
    "df_items = pd.read_csv('data/items.csv')"
   ]
  },
  {
   "cell_type": "code",
   "execution_count": 4,
   "id": "cf237b2c",
   "metadata": {
    "ExecuteTime": {
     "end_time": "2021-11-12T15:12:03.124802Z",
     "start_time": "2021-11-12T15:12:03.107005Z"
    }
   },
   "outputs": [
    {
     "data": {
      "text/html": [
       "<div>\n",
       "<style scoped>\n",
       "    .dataframe tbody tr th:only-of-type {\n",
       "        vertical-align: middle;\n",
       "    }\n",
       "\n",
       "    .dataframe tbody tr th {\n",
       "        vertical-align: top;\n",
       "    }\n",
       "\n",
       "    .dataframe thead th {\n",
       "        text-align: right;\n",
       "    }\n",
       "</style>\n",
       "<table border=\"1\" class=\"dataframe\">\n",
       "  <thead>\n",
       "    <tr style=\"text-align: right;\">\n",
       "      <th></th>\n",
       "      <th>user_id</th>\n",
       "      <th>age</th>\n",
       "      <th>sex</th>\n",
       "    </tr>\n",
       "  </thead>\n",
       "  <tbody>\n",
       "    <tr>\n",
       "      <th>0</th>\n",
       "      <td>1</td>\n",
       "      <td>45_54</td>\n",
       "      <td>NaN</td>\n",
       "    </tr>\n",
       "    <tr>\n",
       "      <th>1</th>\n",
       "      <td>2</td>\n",
       "      <td>18_24</td>\n",
       "      <td>0.0</td>\n",
       "    </tr>\n",
       "    <tr>\n",
       "      <th>2</th>\n",
       "      <td>3</td>\n",
       "      <td>65_inf</td>\n",
       "      <td>0.0</td>\n",
       "    </tr>\n",
       "    <tr>\n",
       "      <th>3</th>\n",
       "      <td>4</td>\n",
       "      <td>18_24</td>\n",
       "      <td>0.0</td>\n",
       "    </tr>\n",
       "    <tr>\n",
       "      <th>4</th>\n",
       "      <td>5</td>\n",
       "      <td>35_44</td>\n",
       "      <td>0.0</td>\n",
       "    </tr>\n",
       "  </tbody>\n",
       "</table>\n",
       "</div>"
      ],
      "text/plain": [
       "   user_id     age  sex\n",
       "0        1   45_54  NaN\n",
       "1        2   18_24  0.0\n",
       "2        3  65_inf  0.0\n",
       "3        4   18_24  0.0\n",
       "4        5   35_44  0.0"
      ]
     },
     "execution_count": 4,
     "metadata": {},
     "output_type": "execute_result"
    }
   ],
   "source": [
    "df_users.head()"
   ]
  },
  {
   "cell_type": "code",
   "execution_count": 5,
   "id": "aac6ec19",
   "metadata": {
    "ExecuteTime": {
     "end_time": "2021-11-12T15:12:11.903662Z",
     "start_time": "2021-11-12T15:12:11.887310Z"
    }
   },
   "outputs": [
    {
     "data": {
      "text/html": [
       "<div>\n",
       "<style scoped>\n",
       "    .dataframe tbody tr th:only-of-type {\n",
       "        vertical-align: middle;\n",
       "    }\n",
       "\n",
       "    .dataframe tbody tr th {\n",
       "        vertical-align: top;\n",
       "    }\n",
       "\n",
       "    .dataframe thead th {\n",
       "        text-align: right;\n",
       "    }\n",
       "</style>\n",
       "<table border=\"1\" class=\"dataframe\">\n",
       "  <thead>\n",
       "    <tr style=\"text-align: right;\">\n",
       "      <th></th>\n",
       "      <th>id</th>\n",
       "      <th>title</th>\n",
       "      <th>genres</th>\n",
       "      <th>authors</th>\n",
       "      <th>year</th>\n",
       "    </tr>\n",
       "  </thead>\n",
       "  <tbody>\n",
       "    <tr>\n",
       "      <th>0</th>\n",
       "      <td>128115</td>\n",
       "      <td>Ворон-челобитчик</td>\n",
       "      <td>Зарубежные детские книги,Сказки,Зарубежная кла...</td>\n",
       "      <td>Михаил Салтыков-Щедрин</td>\n",
       "      <td>1886</td>\n",
       "    </tr>\n",
       "    <tr>\n",
       "      <th>1</th>\n",
       "      <td>210979</td>\n",
       "      <td>Скрипка Ротшильда</td>\n",
       "      <td>Классическая проза,Литература 19 века,Русская ...</td>\n",
       "      <td>Антон Чехов</td>\n",
       "      <td>1894</td>\n",
       "    </tr>\n",
       "    <tr>\n",
       "      <th>2</th>\n",
       "      <td>95632</td>\n",
       "      <td>Испорченные дети</td>\n",
       "      <td>Зарубежная классика,Классическая проза,Литерат...</td>\n",
       "      <td>Михаил Салтыков-Щедрин</td>\n",
       "      <td>1869</td>\n",
       "    </tr>\n",
       "    <tr>\n",
       "      <th>3</th>\n",
       "      <td>247906</td>\n",
       "      <td>Странный человек</td>\n",
       "      <td>Пьесы и драматургия,Литература 19 века</td>\n",
       "      <td>Михаил Лермонтов</td>\n",
       "      <td>1831</td>\n",
       "    </tr>\n",
       "    <tr>\n",
       "      <th>4</th>\n",
       "      <td>294280</td>\n",
       "      <td>Господа ташкентцы</td>\n",
       "      <td>Зарубежная классика,Классическая проза,Литерат...</td>\n",
       "      <td>Михаил Салтыков-Щедрин</td>\n",
       "      <td>1873</td>\n",
       "    </tr>\n",
       "  </tbody>\n",
       "</table>\n",
       "</div>"
      ],
      "text/plain": [
       "       id              title  \\\n",
       "0  128115   Ворон-челобитчик   \n",
       "1  210979  Скрипка Ротшильда   \n",
       "2   95632   Испорченные дети   \n",
       "3  247906   Странный человек   \n",
       "4  294280  Господа ташкентцы   \n",
       "\n",
       "                                              genres                 authors  \\\n",
       "0  Зарубежные детские книги,Сказки,Зарубежная кла...  Михаил Салтыков-Щедрин   \n",
       "1  Классическая проза,Литература 19 века,Русская ...             Антон Чехов   \n",
       "2  Зарубежная классика,Классическая проза,Литерат...  Михаил Салтыков-Щедрин   \n",
       "3             Пьесы и драматургия,Литература 19 века        Михаил Лермонтов   \n",
       "4  Зарубежная классика,Классическая проза,Литерат...  Михаил Салтыков-Щедрин   \n",
       "\n",
       "   year  \n",
       "0  1886  \n",
       "1  1894  \n",
       "2  1869  \n",
       "3  1831  \n",
       "4  1873  "
      ]
     },
     "execution_count": 5,
     "metadata": {},
     "output_type": "execute_result"
    }
   ],
   "source": [
    "df_items.head()"
   ]
  },
  {
   "cell_type": "code",
   "execution_count": 3,
   "id": "86239c4a",
   "metadata": {
    "ExecuteTime": {
     "end_time": "2021-11-12T15:11:28.667000Z",
     "start_time": "2021-11-12T15:11:28.636666Z"
    }
   },
   "outputs": [
    {
     "data": {
      "text/html": [
       "<div>\n",
       "<style scoped>\n",
       "    .dataframe tbody tr th:only-of-type {\n",
       "        vertical-align: middle;\n",
       "    }\n",
       "\n",
       "    .dataframe tbody tr th {\n",
       "        vertical-align: top;\n",
       "    }\n",
       "\n",
       "    .dataframe thead th {\n",
       "        text-align: right;\n",
       "    }\n",
       "</style>\n",
       "<table border=\"1\" class=\"dataframe\">\n",
       "  <thead>\n",
       "    <tr style=\"text-align: right;\">\n",
       "      <th></th>\n",
       "      <th>user_id</th>\n",
       "      <th>item_id</th>\n",
       "      <th>progress</th>\n",
       "      <th>rating</th>\n",
       "      <th>start_date</th>\n",
       "    </tr>\n",
       "  </thead>\n",
       "  <tbody>\n",
       "    <tr>\n",
       "      <th>0</th>\n",
       "      <td>126706</td>\n",
       "      <td>14433</td>\n",
       "      <td>80</td>\n",
       "      <td>NaN</td>\n",
       "      <td>2018-01-01</td>\n",
       "    </tr>\n",
       "    <tr>\n",
       "      <th>1</th>\n",
       "      <td>127290</td>\n",
       "      <td>140952</td>\n",
       "      <td>58</td>\n",
       "      <td>NaN</td>\n",
       "      <td>2018-01-01</td>\n",
       "    </tr>\n",
       "    <tr>\n",
       "      <th>2</th>\n",
       "      <td>66991</td>\n",
       "      <td>198453</td>\n",
       "      <td>89</td>\n",
       "      <td>NaN</td>\n",
       "      <td>2018-01-01</td>\n",
       "    </tr>\n",
       "    <tr>\n",
       "      <th>3</th>\n",
       "      <td>46791</td>\n",
       "      <td>83486</td>\n",
       "      <td>23</td>\n",
       "      <td>5.0</td>\n",
       "      <td>2018-01-01</td>\n",
       "    </tr>\n",
       "    <tr>\n",
       "      <th>4</th>\n",
       "      <td>79313</td>\n",
       "      <td>188770</td>\n",
       "      <td>88</td>\n",
       "      <td>5.0</td>\n",
       "      <td>2018-01-01</td>\n",
       "    </tr>\n",
       "  </tbody>\n",
       "</table>\n",
       "</div>"
      ],
      "text/plain": [
       "   user_id  item_id  progress  rating  start_date\n",
       "0   126706    14433        80     NaN  2018-01-01\n",
       "1   127290   140952        58     NaN  2018-01-01\n",
       "2    66991   198453        89     NaN  2018-01-01\n",
       "3    46791    83486        23     5.0  2018-01-01\n",
       "4    79313   188770        88     5.0  2018-01-01"
      ]
     },
     "execution_count": 3,
     "metadata": {},
     "output_type": "execute_result"
    }
   ],
   "source": [
    "df.head()"
   ]
  },
  {
   "cell_type": "code",
   "execution_count": 6,
   "id": "86687a5c",
   "metadata": {
    "ExecuteTime": {
     "end_time": "2021-11-12T15:12:55.208337Z",
     "start_time": "2021-11-12T15:12:54.763423Z"
    }
   },
   "outputs": [],
   "source": [
    "df['start_date'] = pd.to_datetime(df['start_date'])"
   ]
  },
  {
   "cell_type": "code",
   "execution_count": 7,
   "id": "d8e6d429",
   "metadata": {
    "ExecuteTime": {
     "end_time": "2021-11-12T15:13:07.574240Z",
     "start_time": "2021-11-12T15:13:07.083722Z"
    }
   },
   "outputs": [],
   "source": [
    "duplicates = df.duplicated(subset=['user_id', 'item_id'], keep=False)\n",
    "df_duplicates = df[duplicates].sort_values(by=['user_id', 'start_date'])\n",
    "df = df[~duplicates]"
   ]
  },
  {
   "cell_type": "code",
   "execution_count": 8,
   "id": "8b518e85",
   "metadata": {
    "ExecuteTime": {
     "end_time": "2021-11-12T15:13:11.997424Z",
     "start_time": "2021-11-12T15:13:11.937819Z"
    }
   },
   "outputs": [],
   "source": [
    "df_duplicates = df_duplicates.groupby(['user_id', 'item_id']).agg({\n",
    "    'progress': 'max',\n",
    "    'rating': 'max',\n",
    "    'start_date': 'min'\n",
    "})\n",
    "df = df.append(df_duplicates.reset_index(), ignore_index=True)"
   ]
  },
  {
   "cell_type": "code",
   "execution_count": 9,
   "id": "de9488d6",
   "metadata": {
    "ExecuteTime": {
     "end_time": "2021-11-12T15:13:25.501303Z",
     "start_time": "2021-11-12T15:13:25.460798Z"
    }
   },
   "outputs": [],
   "source": [
    "df['progress'] = df['progress'].astype(np.int8)\n",
    "df['rating'] = df['rating'].astype(pd.SparseDtype(np.float32, np.nan))"
   ]
  },
  {
   "cell_type": "code",
   "execution_count": 10,
   "id": "8c3bbaff",
   "metadata": {
    "ExecuteTime": {
     "end_time": "2021-11-12T15:13:26.099790Z",
     "start_time": "2021-11-12T15:13:25.915008Z"
    }
   },
   "outputs": [],
   "source": [
    "df.to_pickle('data/interactions_preprocessed.pickle')"
   ]
  },
  {
   "cell_type": "code",
   "execution_count": 11,
   "id": "f96d9728",
   "metadata": {
    "ExecuteTime": {
     "end_time": "2021-11-12T15:13:41.975912Z",
     "start_time": "2021-11-12T15:13:41.952084Z"
    }
   },
   "outputs": [],
   "source": [
    "df_users['age'] = df_users['age'].astype('category')\n",
    "df_users['sex'] = df_users['sex'].astype(pd.SparseDtype(np.float32, np.nan))"
   ]
  },
  {
   "cell_type": "code",
   "execution_count": 12,
   "id": "ff806754",
   "metadata": {
    "ExecuteTime": {
     "end_time": "2021-11-12T15:13:42.418514Z",
     "start_time": "2021-11-12T15:13:42.279205Z"
    }
   },
   "outputs": [
    {
     "name": "stdout",
     "output_type": "stream",
     "text": [
      "Кол-во пользователей - 158811\n",
      "Кол-во пользователей c взаимодействиями и фичами - 135677 (85.43%)\n",
      "Кол-во пользователей только c взаимодействиями - 15923 (10.03%)\n",
      "Кол-во пользователей только c фичами - 7211 (4.54%)\n"
     ]
    }
   ],
   "source": [
    "interaction_users = df['user_id'].unique()\n",
    "\n",
    "common_users = len(np.intersect1d(interaction_users, df_users['user_id']))\n",
    "users_only_in_interaction = len(np.setdiff1d(interaction_users, df_users['user_id']))\n",
    "users_only_features = len(np.setdiff1d(df_users['user_id'], interaction_users))\n",
    "total_users = common_users + users_only_in_interaction + users_only_features\n",
    "print(f'Кол-во пользователей - {total_users}')\n",
    "print(f'Кол-во пользователей c взаимодействиями и фичами - {common_users} ({common_users / total_users * 100:.2f}%)')\n",
    "print(f'Кол-во пользователей только c взаимодействиями - {users_only_in_interaction} ({users_only_in_interaction / total_users * 100:.2f}%)')\n",
    "print(f'Кол-во пользователей только c фичами - {users_only_features} ({users_only_features / total_users * 100:.2f}%)')\n"
   ]
  },
  {
   "cell_type": "code",
   "execution_count": 13,
   "id": "dcede14e",
   "metadata": {
    "ExecuteTime": {
     "end_time": "2021-11-12T15:14:04.514299Z",
     "start_time": "2021-11-12T15:14:04.504539Z"
    }
   },
   "outputs": [],
   "source": [
    "df_users.to_pickle('data/users_preprocessed.pickle')"
   ]
  },
  {
   "cell_type": "code",
   "execution_count": 14,
   "id": "32c54d74",
   "metadata": {
    "ExecuteTime": {
     "end_time": "2021-11-12T15:14:05.242517Z",
     "start_time": "2021-11-12T15:14:05.130128Z"
    }
   },
   "outputs": [],
   "source": [
    "for col in ['genres', 'authors', 'year']:\n",
    "    df_items[col] = df_items[col].astype('category')"
   ]
  },
  {
   "cell_type": "code",
   "execution_count": 15,
   "id": "be3ac6f1",
   "metadata": {
    "ExecuteTime": {
     "end_time": "2021-11-12T15:14:05.414609Z",
     "start_time": "2021-11-12T15:14:05.317384Z"
    }
   },
   "outputs": [
    {
     "name": "stdout",
     "output_type": "stream",
     "text": [
      "Кол-во книг - 59599\n",
      "Кол-во книг c взаимодействиями и фичами - 59599 (100.00%)\n",
      "Кол-во книг только c взаимодействиями - 0 (0.00%)\n",
      "Кол-во книг только c фичами - 0 (0.00%)\n"
     ]
    }
   ],
   "source": [
    "interaction_items = df['item_id'].unique()\n",
    "\n",
    "common_items = len(np.intersect1d(interaction_items, df_items['id']))\n",
    "items_only_in_interaction = len(np.setdiff1d(interaction_items, df_items['id']))\n",
    "items_only_features = len(np.setdiff1d(df_items['id'], interaction_items))\n",
    "total_items = common_items + items_only_in_interaction + items_only_features\n",
    "print(f'Кол-во книг - {total_items}')\n",
    "print(f'Кол-во книг c взаимодействиями и фичами - {common_items} ({common_items / total_items * 100:.2f}%)')\n",
    "print(f'Кол-во книг только c взаимодействиями - {items_only_in_interaction} ({items_only_in_interaction / total_items * 100:.2f}%)')\n",
    "print(f'Кол-во книг только c фичами - {items_only_features} ({items_only_features / total_items * 100:.2f}%)')"
   ]
  },
  {
   "cell_type": "code",
   "execution_count": 17,
   "id": "364e3011",
   "metadata": {
    "ExecuteTime": {
     "end_time": "2021-11-12T15:14:23.101360Z",
     "start_time": "2021-11-12T15:14:23.034249Z"
    }
   },
   "outputs": [],
   "source": [
    "df_items.to_pickle('data/items_preprocessed.pickle')"
   ]
  },
  {
   "cell_type": "markdown",
   "id": "5fbd256e",
   "metadata": {},
   "source": [
    "# Метрики"
   ]
  },
  {
   "cell_type": "code",
   "execution_count": null,
   "id": "0354f491",
   "metadata": {},
   "outputs": [],
   "source": []
  },
  {
   "cell_type": "code",
   "execution_count": 19,
   "id": "3ff1320b",
   "metadata": {
    "ExecuteTime": {
     "end_time": "2021-11-12T15:16:07.769898Z",
     "start_time": "2021-11-12T15:16:07.755543Z"
    }
   },
   "outputs": [
    {
     "data": {
      "text/html": [
       "<div>\n",
       "<style scoped>\n",
       "    .dataframe tbody tr th:only-of-type {\n",
       "        vertical-align: middle;\n",
       "    }\n",
       "\n",
       "    .dataframe tbody tr th {\n",
       "        vertical-align: top;\n",
       "    }\n",
       "\n",
       "    .dataframe thead th {\n",
       "        text-align: right;\n",
       "    }\n",
       "</style>\n",
       "<table border=\"1\" class=\"dataframe\">\n",
       "  <thead>\n",
       "    <tr style=\"text-align: right;\">\n",
       "      <th></th>\n",
       "      <th>user_id</th>\n",
       "      <th>item_id</th>\n",
       "    </tr>\n",
       "  </thead>\n",
       "  <tbody>\n",
       "    <tr>\n",
       "      <th>0</th>\n",
       "      <td>Аня</td>\n",
       "      <td>Мастер и Маргарита</td>\n",
       "    </tr>\n",
       "    <tr>\n",
       "      <th>1</th>\n",
       "      <td>Боря</td>\n",
       "      <td>451° по Фаренгейту</td>\n",
       "    </tr>\n",
       "    <tr>\n",
       "      <th>2</th>\n",
       "      <td>Вася</td>\n",
       "      <td>Зеленая миля</td>\n",
       "    </tr>\n",
       "    <tr>\n",
       "      <th>3</th>\n",
       "      <td>Вася</td>\n",
       "      <td>Рита Хейуорт и спасение из Шоушенка</td>\n",
       "    </tr>\n",
       "  </tbody>\n",
       "</table>\n",
       "</div>"
      ],
      "text/plain": [
       "  user_id                              item_id\n",
       "0     Аня                   Мастер и Маргарита\n",
       "1    Боря                   451° по Фаренгейту\n",
       "2    Вася                         Зеленая миля\n",
       "3    Вася  Рита Хейуорт и спасение из Шоушенка"
      ]
     },
     "execution_count": 19,
     "metadata": {},
     "output_type": "execute_result"
    }
   ],
   "source": [
    "df_true = pd.DataFrame({\n",
    "    'user_id': ['Аня',                'Боря',               'Вася',         'Вася'],\n",
    "    'item_id': ['Мастер и Маргарита', '451° по Фаренгейту', 'Зеленая миля', 'Рита Хейуорт и спасение из Шоушенка'],\n",
    "})\n",
    "df_true"
   ]
  },
  {
   "cell_type": "markdown",
   "id": "dfb0357f",
   "metadata": {},
   "source": [
    "Precision@k"
   ]
  },
  {
   "cell_type": "markdown",
   "id": "dc09acaa",
   "metadata": {},
   "source": [
    "Вначале посчитаем метрик для топ-2 (т.е. К = 2). Алгоритм следующий:\n",
    "\n",
    "- Релевантные объекты, которые не были рекомендованы игнорируем (NaN)\n",
    "- Определяем, какие релеватные рекомендации попали в топ-2 (hit)\n",
    "- True positive для каждого пользователя\n",
    "Делим TP на K\n",
    "- Считаем Precision@K для каждого пользователя как сумму его TP/K\n",
    "- Все Precision@K усредняем"
   ]
  },
  {
   "cell_type": "code",
   "execution_count": 20,
   "id": "1030fc0a",
   "metadata": {
    "ExecuteTime": {
     "end_time": "2021-11-12T15:17:16.021188Z",
     "start_time": "2021-11-12T15:17:16.006135Z"
    }
   },
   "outputs": [
    {
     "data": {
      "text/html": [
       "<div>\n",
       "<style scoped>\n",
       "    .dataframe tbody tr th:only-of-type {\n",
       "        vertical-align: middle;\n",
       "    }\n",
       "\n",
       "    .dataframe tbody tr th {\n",
       "        vertical-align: top;\n",
       "    }\n",
       "\n",
       "    .dataframe thead th {\n",
       "        text-align: right;\n",
       "    }\n",
       "</style>\n",
       "<table border=\"1\" class=\"dataframe\">\n",
       "  <thead>\n",
       "    <tr style=\"text-align: right;\">\n",
       "      <th></th>\n",
       "      <th>user_id</th>\n",
       "      <th>item_id</th>\n",
       "      <th>rank</th>\n",
       "    </tr>\n",
       "  </thead>\n",
       "  <tbody>\n",
       "    <tr>\n",
       "      <th>0</th>\n",
       "      <td>Аня</td>\n",
       "      <td>Отверженные</td>\n",
       "      <td>1</td>\n",
       "    </tr>\n",
       "    <tr>\n",
       "      <th>1</th>\n",
       "      <td>Аня</td>\n",
       "      <td>Двенадцать стульев</td>\n",
       "      <td>2</td>\n",
       "    </tr>\n",
       "    <tr>\n",
       "      <th>2</th>\n",
       "      <td>Аня</td>\n",
       "      <td>Герои нашего времени</td>\n",
       "      <td>3</td>\n",
       "    </tr>\n",
       "    <tr>\n",
       "      <th>3</th>\n",
       "      <td>Боря</td>\n",
       "      <td>451° по Фаренгейту</td>\n",
       "      <td>1</td>\n",
       "    </tr>\n",
       "    <tr>\n",
       "      <th>4</th>\n",
       "      <td>Боря</td>\n",
       "      <td>1984</td>\n",
       "      <td>2</td>\n",
       "    </tr>\n",
       "    <tr>\n",
       "      <th>5</th>\n",
       "      <td>Боря</td>\n",
       "      <td>О дивный новый мир</td>\n",
       "      <td>3</td>\n",
       "    </tr>\n",
       "    <tr>\n",
       "      <th>6</th>\n",
       "      <td>Вася</td>\n",
       "      <td>Десять негритят</td>\n",
       "      <td>1</td>\n",
       "    </tr>\n",
       "    <tr>\n",
       "      <th>7</th>\n",
       "      <td>Вася</td>\n",
       "      <td>Искра жизни</td>\n",
       "      <td>2</td>\n",
       "    </tr>\n",
       "    <tr>\n",
       "      <th>8</th>\n",
       "      <td>Вася</td>\n",
       "      <td>Зеленая миля</td>\n",
       "      <td>3</td>\n",
       "    </tr>\n",
       "  </tbody>\n",
       "</table>\n",
       "</div>"
      ],
      "text/plain": [
       "  user_id               item_id  rank\n",
       "0     Аня           Отверженные     1\n",
       "1     Аня    Двенадцать стульев     2\n",
       "2     Аня  Герои нашего времени     3\n",
       "3    Боря    451° по Фаренгейту     1\n",
       "4    Боря                  1984     2\n",
       "5    Боря    О дивный новый мир     3\n",
       "6    Вася       Десять негритят     1\n",
       "7    Вася           Искра жизни     2\n",
       "8    Вася          Зеленая миля     3"
      ]
     },
     "execution_count": 20,
     "metadata": {},
     "output_type": "execute_result"
    }
   ],
   "source": [
    "df_recs = pd.DataFrame({\n",
    "    'user_id': [\n",
    "        'Аня', 'Аня', 'Аня', \n",
    "        'Боря', 'Боря', 'Боря', \n",
    "        'Вася', 'Вася', 'Вася',\n",
    "    ],\n",
    "    'item_id': [\n",
    "        'Отверженные', 'Двенадцать стульев', 'Герои нашего времени', \n",
    "        '451° по Фаренгейту', '1984', 'О дивный новый мир',\n",
    "        'Десять негритят', 'Искра жизни', 'Зеленая миля', \n",
    "    ],\n",
    "    'rank': [\n",
    "        1, 2, 3,\n",
    "        1, 2, 3,\n",
    "        1, 2, 3,\n",
    "    ]\n",
    "})\n",
    "df_recs"
   ]
  },
  {
   "cell_type": "code",
   "execution_count": 21,
   "id": "1844afb8",
   "metadata": {
    "ExecuteTime": {
     "end_time": "2021-11-12T15:17:42.109747Z",
     "start_time": "2021-11-12T15:17:42.097428Z"
    }
   },
   "outputs": [
    {
     "data": {
      "text/html": [
       "<div>\n",
       "<style scoped>\n",
       "    .dataframe tbody tr th:only-of-type {\n",
       "        vertical-align: middle;\n",
       "    }\n",
       "\n",
       "    .dataframe tbody tr th {\n",
       "        vertical-align: top;\n",
       "    }\n",
       "\n",
       "    .dataframe thead th {\n",
       "        text-align: right;\n",
       "    }\n",
       "</style>\n",
       "<table border=\"1\" class=\"dataframe\">\n",
       "  <thead>\n",
       "    <tr style=\"text-align: right;\">\n",
       "      <th></th>\n",
       "      <th></th>\n",
       "      <th>rank</th>\n",
       "    </tr>\n",
       "    <tr>\n",
       "      <th>user_id</th>\n",
       "      <th>item_id</th>\n",
       "      <th></th>\n",
       "    </tr>\n",
       "  </thead>\n",
       "  <tbody>\n",
       "    <tr>\n",
       "      <th>Аня</th>\n",
       "      <th>Мастер и Маргарита</th>\n",
       "      <td>NaN</td>\n",
       "    </tr>\n",
       "    <tr>\n",
       "      <th>Боря</th>\n",
       "      <th>451° по Фаренгейту</th>\n",
       "      <td>1.0</td>\n",
       "    </tr>\n",
       "    <tr>\n",
       "      <th rowspan=\"2\" valign=\"top\">Вася</th>\n",
       "      <th>Зеленая миля</th>\n",
       "      <td>3.0</td>\n",
       "    </tr>\n",
       "    <tr>\n",
       "      <th>Рита Хейуорт и спасение из Шоушенка</th>\n",
       "      <td>NaN</td>\n",
       "    </tr>\n",
       "  </tbody>\n",
       "</table>\n",
       "</div>"
      ],
      "text/plain": [
       "                                             rank\n",
       "user_id item_id                                  \n",
       "Аня     Мастер и Маргарита                    NaN\n",
       "Боря    451° по Фаренгейту                    1.0\n",
       "Вася    Зеленая миля                          3.0\n",
       "        Рита Хейуорт и спасение из Шоушенка   NaN"
      ]
     },
     "execution_count": 21,
     "metadata": {},
     "output_type": "execute_result"
    }
   ],
   "source": [
    "df_merged = df_true.set_index(['user_id', 'item_id']).join(df_recs.set_index(['user_id', 'item_id']), how='left')\n",
    "df_merged"
   ]
  },
  {
   "cell_type": "code",
   "execution_count": 22,
   "id": "49d7fc9a",
   "metadata": {
    "ExecuteTime": {
     "end_time": "2021-11-12T15:18:28.607022Z",
     "start_time": "2021-11-12T15:18:28.589993Z"
    }
   },
   "outputs": [
    {
     "data": {
      "text/html": [
       "<div>\n",
       "<style scoped>\n",
       "    .dataframe tbody tr th:only-of-type {\n",
       "        vertical-align: middle;\n",
       "    }\n",
       "\n",
       "    .dataframe tbody tr th {\n",
       "        vertical-align: top;\n",
       "    }\n",
       "\n",
       "    .dataframe thead th {\n",
       "        text-align: right;\n",
       "    }\n",
       "</style>\n",
       "<table border=\"1\" class=\"dataframe\">\n",
       "  <thead>\n",
       "    <tr style=\"text-align: right;\">\n",
       "      <th></th>\n",
       "      <th></th>\n",
       "      <th>rank</th>\n",
       "      <th>hit@2</th>\n",
       "    </tr>\n",
       "    <tr>\n",
       "      <th>user_id</th>\n",
       "      <th>item_id</th>\n",
       "      <th></th>\n",
       "      <th></th>\n",
       "    </tr>\n",
       "  </thead>\n",
       "  <tbody>\n",
       "    <tr>\n",
       "      <th>Аня</th>\n",
       "      <th>Мастер и Маргарита</th>\n",
       "      <td>NaN</td>\n",
       "      <td>False</td>\n",
       "    </tr>\n",
       "    <tr>\n",
       "      <th>Боря</th>\n",
       "      <th>451° по Фаренгейту</th>\n",
       "      <td>1.0</td>\n",
       "      <td>True</td>\n",
       "    </tr>\n",
       "    <tr>\n",
       "      <th rowspan=\"2\" valign=\"top\">Вася</th>\n",
       "      <th>Зеленая миля</th>\n",
       "      <td>3.0</td>\n",
       "      <td>False</td>\n",
       "    </tr>\n",
       "    <tr>\n",
       "      <th>Рита Хейуорт и спасение из Шоушенка</th>\n",
       "      <td>NaN</td>\n",
       "      <td>False</td>\n",
       "    </tr>\n",
       "  </tbody>\n",
       "</table>\n",
       "</div>"
      ],
      "text/plain": [
       "                                             rank  hit@2\n",
       "user_id item_id                                         \n",
       "Аня     Мастер и Маргарита                    NaN  False\n",
       "Боря    451° по Фаренгейту                    1.0   True\n",
       "Вася    Зеленая миля                          3.0  False\n",
       "        Рита Хейуорт и спасение из Шоушенка   NaN  False"
      ]
     },
     "execution_count": 22,
     "metadata": {},
     "output_type": "execute_result"
    }
   ],
   "source": [
    "df_merged['hit@2'] = df_merged['rank'] <= 2\n",
    "df_merged"
   ]
  },
  {
   "cell_type": "code",
   "execution_count": 23,
   "id": "645baeef",
   "metadata": {
    "ExecuteTime": {
     "end_time": "2021-11-12T15:18:51.793380Z",
     "start_time": "2021-11-12T15:18:51.774649Z"
    }
   },
   "outputs": [
    {
     "data": {
      "text/html": [
       "<div>\n",
       "<style scoped>\n",
       "    .dataframe tbody tr th:only-of-type {\n",
       "        vertical-align: middle;\n",
       "    }\n",
       "\n",
       "    .dataframe tbody tr th {\n",
       "        vertical-align: top;\n",
       "    }\n",
       "\n",
       "    .dataframe thead th {\n",
       "        text-align: right;\n",
       "    }\n",
       "</style>\n",
       "<table border=\"1\" class=\"dataframe\">\n",
       "  <thead>\n",
       "    <tr style=\"text-align: right;\">\n",
       "      <th></th>\n",
       "      <th></th>\n",
       "      <th>rank</th>\n",
       "      <th>hit@2</th>\n",
       "      <th>hit@2/2</th>\n",
       "    </tr>\n",
       "    <tr>\n",
       "      <th>user_id</th>\n",
       "      <th>item_id</th>\n",
       "      <th></th>\n",
       "      <th></th>\n",
       "      <th></th>\n",
       "    </tr>\n",
       "  </thead>\n",
       "  <tbody>\n",
       "    <tr>\n",
       "      <th>Аня</th>\n",
       "      <th>Мастер и Маргарита</th>\n",
       "      <td>NaN</td>\n",
       "      <td>False</td>\n",
       "      <td>0.0</td>\n",
       "    </tr>\n",
       "    <tr>\n",
       "      <th>Боря</th>\n",
       "      <th>451° по Фаренгейту</th>\n",
       "      <td>1.0</td>\n",
       "      <td>True</td>\n",
       "      <td>0.5</td>\n",
       "    </tr>\n",
       "    <tr>\n",
       "      <th rowspan=\"2\" valign=\"top\">Вася</th>\n",
       "      <th>Зеленая миля</th>\n",
       "      <td>3.0</td>\n",
       "      <td>False</td>\n",
       "      <td>0.0</td>\n",
       "    </tr>\n",
       "    <tr>\n",
       "      <th>Рита Хейуорт и спасение из Шоушенка</th>\n",
       "      <td>NaN</td>\n",
       "      <td>False</td>\n",
       "      <td>0.0</td>\n",
       "    </tr>\n",
       "  </tbody>\n",
       "</table>\n",
       "</div>"
      ],
      "text/plain": [
       "                                             rank  hit@2  hit@2/2\n",
       "user_id item_id                                                  \n",
       "Аня     Мастер и Маргарита                    NaN  False      0.0\n",
       "Боря    451° по Фаренгейту                    1.0   True      0.5\n",
       "Вася    Зеленая миля                          3.0  False      0.0\n",
       "        Рита Хейуорт и спасение из Шоушенка   NaN  False      0.0"
      ]
     },
     "execution_count": 23,
     "metadata": {},
     "output_type": "execute_result"
    }
   ],
   "source": [
    "df_merged['hit@2/2'] = df_merged['hit@2'] / 2\n",
    "df_merged"
   ]
  },
  {
   "cell_type": "code",
   "execution_count": 24,
   "id": "0863e79d",
   "metadata": {
    "ExecuteTime": {
     "end_time": "2021-11-12T15:19:04.428527Z",
     "start_time": "2021-11-12T15:19:04.416381Z"
    }
   },
   "outputs": [
    {
     "data": {
      "text/plain": [
       "user_id\n",
       "Аня     0.0\n",
       "Боря    0.5\n",
       "Вася    0.0\n",
       "Name: hit@2/2, dtype: float64"
      ]
     },
     "execution_count": 24,
     "metadata": {},
     "output_type": "execute_result"
    }
   ],
   "source": [
    "df_prec2 = df_merged.groupby(level=0)['hit@2/2'].sum()\n",
    "df_prec2"
   ]
  },
  {
   "cell_type": "code",
   "execution_count": 26,
   "id": "f3f6d5a2",
   "metadata": {
    "ExecuteTime": {
     "end_time": "2021-11-12T15:19:35.775738Z",
     "start_time": "2021-11-12T15:19:35.763127Z"
    }
   },
   "outputs": [
    {
     "name": "stdout",
     "output_type": "stream",
     "text": [
      "Precision@1 = 0.3333\n",
      "Precision@2 = 0.1667\n",
      "Precision@3 = 0.2222\n"
     ]
    }
   ],
   "source": [
    "\n",
    "\n",
    "users_count = df_merged.index.get_level_values('user_id').nunique()\n",
    "for k in [1, 2, 3]:\n",
    "    hit_k = f'hit@{k}'\n",
    "    df_merged[hit_k] = df_merged['rank'] <= k\n",
    "    print(f'Precision@{k} = {(df_merged[hit_k] / k).sum() / users_count:.4f}')"
   ]
  },
  {
   "cell_type": "markdown",
   "id": "caacc32c",
   "metadata": {},
   "source": [
    "Recall@k"
   ]
  },
  {
   "cell_type": "markdown",
   "id": "acafe63e",
   "metadata": {},
   "source": [
    "Посчитайте метрику полноты для k = 1, 2, 3"
   ]
  },
  {
   "cell_type": "markdown",
   "id": "a9960827",
   "metadata": {},
   "source": [
    "Recall@K (k =2) "
   ]
  },
  {
   "cell_type": "code",
   "execution_count": null,
   "id": "a0c624cb",
   "metadata": {},
   "outputs": [],
   "source": [
    "df_merged['users_item_count'] = df_merged.groupby(level='user_id')['rank'].transform(np.size)\n",
    "df_merged"
   ]
  },
  {
   "cell_type": "code",
   "execution_count": null,
   "id": "e75ce5b5",
   "metadata": {},
   "outputs": [],
   "source": [
    "for k in [1, 2, 3]:\n",
    "    hit_k = f'hit@{k}'\n",
    "    # Уже посчитано\n",
    "    # df_merged[hit_k] = df_merged['rank'] <= k  \n",
    "    print(f\"Recall@{k} = {(df_merged[hit_k] / df_merged['users_item_count']).sum() / users_count:.4f}\")"
   ]
  },
  {
   "cell_type": "code",
   "execution_count": null,
   "id": "6a18782d",
   "metadata": {},
   "outputs": [],
   "source": []
  },
  {
   "cell_type": "code",
   "execution_count": null,
   "id": "3d35cdfc",
   "metadata": {},
   "outputs": [],
   "source": []
  },
  {
   "cell_type": "code",
   "execution_count": null,
   "id": "9fa916e0",
   "metadata": {},
   "outputs": [],
   "source": []
  },
  {
   "cell_type": "code",
   "execution_count": null,
   "id": "5e7d01be",
   "metadata": {},
   "outputs": [],
   "source": []
  },
  {
   "cell_type": "markdown",
   "id": "9ff8e5d6",
   "metadata": {},
   "source": [
    "Почему Precision@k и Recall@k не всегда хорошо считать?"
   ]
  },
  {
   "cell_type": "markdown",
   "id": "4007a18f",
   "metadata": {},
   "source": [
    "MRR"
   ]
  },
  {
   "cell_type": "markdown",
   "id": "04e1560e",
   "metadata": {
    "ExecuteTime": {
     "end_time": "2021-11-08T18:53:22.060263Z",
     "start_time": "2021-11-08T18:53:22.056800Z"
    }
   },
   "source": [
    "Эта метрика оценивает качество топ-N рекомендаций c учетом рангов/позиций. Основная идея - оценить \"попадания\" с весом, зависящим от позиции (обычно это обратная пропорциальная зависимость, то есть чем больше позиция, тем меньше вес)."
   ]
  },
  {
   "cell_type": "markdown",
   "id": "54325a41",
   "metadata": {
    "ExecuteTime": {
     "end_time": "2021-11-08T18:55:13.371015Z",
     "start_time": "2021-11-08T18:55:13.368109Z"
    }
   },
   "source": [
    "**Mean Reciproal Rank, MRR**\n",
    "\n",
    "\n",
    "$MRR \\equiv \\frac{1}{Q} \\sum_{i=1}^Q\\frac{1}{r_i}$\n",
    "\n",
    "Где Q - это query или наш пользователь, а rank_i - позиция первой релевантной рекомендации"
   ]
  },
  {
   "cell_type": "code",
   "execution_count": 27,
   "id": "513ce05e",
   "metadata": {
    "ExecuteTime": {
     "end_time": "2021-11-12T15:28:11.993638Z",
     "start_time": "2021-11-12T15:28:11.977207Z"
    }
   },
   "outputs": [
    {
     "data": {
      "text/html": [
       "<div>\n",
       "<style scoped>\n",
       "    .dataframe tbody tr th:only-of-type {\n",
       "        vertical-align: middle;\n",
       "    }\n",
       "\n",
       "    .dataframe tbody tr th {\n",
       "        vertical-align: top;\n",
       "    }\n",
       "\n",
       "    .dataframe thead th {\n",
       "        text-align: right;\n",
       "    }\n",
       "</style>\n",
       "<table border=\"1\" class=\"dataframe\">\n",
       "  <thead>\n",
       "    <tr style=\"text-align: right;\">\n",
       "      <th></th>\n",
       "      <th>user_id</th>\n",
       "      <th>item_id</th>\n",
       "    </tr>\n",
       "  </thead>\n",
       "  <tbody>\n",
       "    <tr>\n",
       "      <th>0</th>\n",
       "      <td>Аня</td>\n",
       "      <td>Мастер и Маргарита</td>\n",
       "    </tr>\n",
       "    <tr>\n",
       "      <th>1</th>\n",
       "      <td>Боря</td>\n",
       "      <td>451° по Фаренгейту</td>\n",
       "    </tr>\n",
       "    <tr>\n",
       "      <th>2</th>\n",
       "      <td>Вася</td>\n",
       "      <td>Зеленая миля</td>\n",
       "    </tr>\n",
       "    <tr>\n",
       "      <th>3</th>\n",
       "      <td>Вася</td>\n",
       "      <td>Рита Хейуорт и спасение из Шоушенка</td>\n",
       "    </tr>\n",
       "  </tbody>\n",
       "</table>\n",
       "</div>"
      ],
      "text/plain": [
       "  user_id                              item_id\n",
       "0     Аня                   Мастер и Маргарита\n",
       "1    Боря                   451° по Фаренгейту\n",
       "2    Вася                         Зеленая миля\n",
       "3    Вася  Рита Хейуорт и спасение из Шоушенка"
      ]
     },
     "execution_count": 27,
     "metadata": {},
     "output_type": "execute_result"
    }
   ],
   "source": [
    "df_true = pd.DataFrame({\n",
    "    'user_id': ['Аня',                'Боря',               'Вася',         'Вася'],\n",
    "    'item_id': ['Мастер и Маргарита', '451° по Фаренгейту', 'Зеленая миля', 'Рита Хейуорт и спасение из Шоушенка'],\n",
    "})\n",
    "df_true"
   ]
  },
  {
   "cell_type": "code",
   "execution_count": 29,
   "id": "f03aaf69",
   "metadata": {
    "ExecuteTime": {
     "end_time": "2021-11-12T15:28:35.221859Z",
     "start_time": "2021-11-12T15:28:35.205352Z"
    }
   },
   "outputs": [
    {
     "data": {
      "text/html": [
       "<div>\n",
       "<style scoped>\n",
       "    .dataframe tbody tr th:only-of-type {\n",
       "        vertical-align: middle;\n",
       "    }\n",
       "\n",
       "    .dataframe tbody tr th {\n",
       "        vertical-align: top;\n",
       "    }\n",
       "\n",
       "    .dataframe thead th {\n",
       "        text-align: right;\n",
       "    }\n",
       "</style>\n",
       "<table border=\"1\" class=\"dataframe\">\n",
       "  <thead>\n",
       "    <tr style=\"text-align: right;\">\n",
       "      <th></th>\n",
       "      <th>user_id</th>\n",
       "      <th>item_id</th>\n",
       "      <th>rank</th>\n",
       "    </tr>\n",
       "  </thead>\n",
       "  <tbody>\n",
       "    <tr>\n",
       "      <th>0</th>\n",
       "      <td>Аня</td>\n",
       "      <td>Отверженные</td>\n",
       "      <td>1</td>\n",
       "    </tr>\n",
       "    <tr>\n",
       "      <th>1</th>\n",
       "      <td>Аня</td>\n",
       "      <td>Двенадцать стульев</td>\n",
       "      <td>2</td>\n",
       "    </tr>\n",
       "    <tr>\n",
       "      <th>2</th>\n",
       "      <td>Аня</td>\n",
       "      <td>Герои нашего времени</td>\n",
       "      <td>3</td>\n",
       "    </tr>\n",
       "    <tr>\n",
       "      <th>3</th>\n",
       "      <td>Боря</td>\n",
       "      <td>451° по Фаренгейту</td>\n",
       "      <td>1</td>\n",
       "    </tr>\n",
       "    <tr>\n",
       "      <th>4</th>\n",
       "      <td>Боря</td>\n",
       "      <td>1984</td>\n",
       "      <td>2</td>\n",
       "    </tr>\n",
       "    <tr>\n",
       "      <th>5</th>\n",
       "      <td>Боря</td>\n",
       "      <td>О дивный новый мир</td>\n",
       "      <td>3</td>\n",
       "    </tr>\n",
       "    <tr>\n",
       "      <th>6</th>\n",
       "      <td>Вася</td>\n",
       "      <td>Десять негритят</td>\n",
       "      <td>1</td>\n",
       "    </tr>\n",
       "    <tr>\n",
       "      <th>7</th>\n",
       "      <td>Вася</td>\n",
       "      <td>Рита Хейуорт и спасение из Шоушенка</td>\n",
       "      <td>2</td>\n",
       "    </tr>\n",
       "    <tr>\n",
       "      <th>8</th>\n",
       "      <td>Вася</td>\n",
       "      <td>Зеленая миля</td>\n",
       "      <td>3</td>\n",
       "    </tr>\n",
       "  </tbody>\n",
       "</table>\n",
       "</div>"
      ],
      "text/plain": [
       "  user_id                              item_id  rank\n",
       "0     Аня                          Отверженные     1\n",
       "1     Аня                   Двенадцать стульев     2\n",
       "2     Аня                 Герои нашего времени     3\n",
       "3    Боря                   451° по Фаренгейту     1\n",
       "4    Боря                                 1984     2\n",
       "5    Боря                   О дивный новый мир     3\n",
       "6    Вася                      Десять негритят     1\n",
       "7    Вася  Рита Хейуорт и спасение из Шоушенка     2\n",
       "8    Вася                         Зеленая миля     3"
      ]
     },
     "execution_count": 29,
     "metadata": {},
     "output_type": "execute_result"
    }
   ],
   "source": [
    "df_recs = pd.DataFrame({\n",
    "    'user_id': [\n",
    "        'Аня', 'Аня', 'Аня', \n",
    "        'Боря', 'Боря', 'Боря', \n",
    "        'Вася', 'Вася', 'Вася',\n",
    "    ],\n",
    "    'item_id': [\n",
    "        'Отверженные', 'Двенадцать стульев', 'Герои нашего времени', \n",
    "        '451° по Фаренгейту', '1984', 'О дивный новый мир',\n",
    "        'Десять негритят', 'Рита Хейуорт и спасение из Шоушенка', 'Зеленая миля', \n",
    "    ],\n",
    "    'rank': [\n",
    "        1, 2, 3,\n",
    "        1, 2, 3,\n",
    "        1, 2, 3,\n",
    "    ]\n",
    "})\n",
    "df_recs"
   ]
  },
  {
   "cell_type": "code",
   "execution_count": 30,
   "id": "387b207f",
   "metadata": {
    "ExecuteTime": {
     "end_time": "2021-11-12T15:28:39.693910Z",
     "start_time": "2021-11-12T15:28:39.669841Z"
    }
   },
   "outputs": [
    {
     "data": {
      "text/html": [
       "<div>\n",
       "<style scoped>\n",
       "    .dataframe tbody tr th:only-of-type {\n",
       "        vertical-align: middle;\n",
       "    }\n",
       "\n",
       "    .dataframe tbody tr th {\n",
       "        vertical-align: top;\n",
       "    }\n",
       "\n",
       "    .dataframe thead th {\n",
       "        text-align: right;\n",
       "    }\n",
       "</style>\n",
       "<table border=\"1\" class=\"dataframe\">\n",
       "  <thead>\n",
       "    <tr style=\"text-align: right;\">\n",
       "      <th></th>\n",
       "      <th></th>\n",
       "      <th>rank</th>\n",
       "    </tr>\n",
       "    <tr>\n",
       "      <th>user_id</th>\n",
       "      <th>item_id</th>\n",
       "      <th></th>\n",
       "    </tr>\n",
       "  </thead>\n",
       "  <tbody>\n",
       "    <tr>\n",
       "      <th>Аня</th>\n",
       "      <th>Мастер и Маргарита</th>\n",
       "      <td>NaN</td>\n",
       "    </tr>\n",
       "    <tr>\n",
       "      <th>Боря</th>\n",
       "      <th>451° по Фаренгейту</th>\n",
       "      <td>1.0</td>\n",
       "    </tr>\n",
       "    <tr>\n",
       "      <th rowspan=\"2\" valign=\"top\">Вася</th>\n",
       "      <th>Рита Хейуорт и спасение из Шоушенка</th>\n",
       "      <td>2.0</td>\n",
       "    </tr>\n",
       "    <tr>\n",
       "      <th>Зеленая миля</th>\n",
       "      <td>3.0</td>\n",
       "    </tr>\n",
       "  </tbody>\n",
       "</table>\n",
       "</div>"
      ],
      "text/plain": [
       "                                             rank\n",
       "user_id item_id                                  \n",
       "Аня     Мастер и Маргарита                    NaN\n",
       "Боря    451° по Фаренгейту                    1.0\n",
       "Вася    Рита Хейуорт и спасение из Шоушенка   2.0\n",
       "        Зеленая миля                          3.0"
      ]
     },
     "execution_count": 30,
     "metadata": {},
     "output_type": "execute_result"
    }
   ],
   "source": [
    "df_merged = df_true.set_index(['user_id', 'item_id']).join(df_recs.set_index(['user_id', 'item_id']), how='left')\n",
    "df_merged = df_merged.sort_values(by=['user_id', 'rank'])\n",
    "df_merged"
   ]
  },
  {
   "cell_type": "code",
   "execution_count": 31,
   "id": "4662f827",
   "metadata": {
    "ExecuteTime": {
     "end_time": "2021-11-12T15:28:51.891437Z",
     "start_time": "2021-11-12T15:28:51.874431Z"
    }
   },
   "outputs": [
    {
     "data": {
      "text/html": [
       "<div>\n",
       "<style scoped>\n",
       "    .dataframe tbody tr th:only-of-type {\n",
       "        vertical-align: middle;\n",
       "    }\n",
       "\n",
       "    .dataframe tbody tr th {\n",
       "        vertical-align: top;\n",
       "    }\n",
       "\n",
       "    .dataframe thead th {\n",
       "        text-align: right;\n",
       "    }\n",
       "</style>\n",
       "<table border=\"1\" class=\"dataframe\">\n",
       "  <thead>\n",
       "    <tr style=\"text-align: right;\">\n",
       "      <th></th>\n",
       "      <th></th>\n",
       "      <th>rank</th>\n",
       "      <th>reciprocal_rank</th>\n",
       "    </tr>\n",
       "    <tr>\n",
       "      <th>user_id</th>\n",
       "      <th>item_id</th>\n",
       "      <th></th>\n",
       "      <th></th>\n",
       "    </tr>\n",
       "  </thead>\n",
       "  <tbody>\n",
       "    <tr>\n",
       "      <th>Аня</th>\n",
       "      <th>Мастер и Маргарита</th>\n",
       "      <td>NaN</td>\n",
       "      <td>NaN</td>\n",
       "    </tr>\n",
       "    <tr>\n",
       "      <th>Боря</th>\n",
       "      <th>451° по Фаренгейту</th>\n",
       "      <td>1.0</td>\n",
       "      <td>1.000000</td>\n",
       "    </tr>\n",
       "    <tr>\n",
       "      <th rowspan=\"2\" valign=\"top\">Вася</th>\n",
       "      <th>Рита Хейуорт и спасение из Шоушенка</th>\n",
       "      <td>2.0</td>\n",
       "      <td>0.500000</td>\n",
       "    </tr>\n",
       "    <tr>\n",
       "      <th>Зеленая миля</th>\n",
       "      <td>3.0</td>\n",
       "      <td>0.333333</td>\n",
       "    </tr>\n",
       "  </tbody>\n",
       "</table>\n",
       "</div>"
      ],
      "text/plain": [
       "                                             rank  reciprocal_rank\n",
       "user_id item_id                                                   \n",
       "Аня     Мастер и Маргарита                    NaN              NaN\n",
       "Боря    451° по Фаренгейту                    1.0         1.000000\n",
       "Вася    Рита Хейуорт и спасение из Шоушенка   2.0         0.500000\n",
       "        Зеленая миля                          3.0         0.333333"
      ]
     },
     "execution_count": 31,
     "metadata": {},
     "output_type": "execute_result"
    }
   ],
   "source": [
    "df_merged['reciprocal_rank'] = 1 / df_merged['rank']\n",
    "df_merged"
   ]
  },
  {
   "cell_type": "code",
   "execution_count": 32,
   "id": "c8444539",
   "metadata": {
    "ExecuteTime": {
     "end_time": "2021-11-12T15:28:57.843844Z",
     "start_time": "2021-11-12T15:28:57.836939Z"
    }
   },
   "outputs": [
    {
     "data": {
      "text/plain": [
       "user_id\n",
       "Аня     NaN\n",
       "Боря    1.0\n",
       "Вася    0.5\n",
       "Name: reciprocal_rank, dtype: float64"
      ]
     },
     "execution_count": 32,
     "metadata": {},
     "output_type": "execute_result"
    }
   ],
   "source": [
    "mrr = df_merged.groupby(level='user_id')['reciprocal_rank'].max()\n",
    "mrr"
   ]
  },
  {
   "cell_type": "code",
   "execution_count": 33,
   "id": "77a8175d",
   "metadata": {
    "ExecuteTime": {
     "end_time": "2021-11-12T15:29:01.483899Z",
     "start_time": "2021-11-12T15:29:01.477780Z"
    }
   },
   "outputs": [
    {
     "name": "stdout",
     "output_type": "stream",
     "text": [
      "MRR = 0.5\n"
     ]
    }
   ],
   "source": [
    "print(f\"MRR = {mrr.fillna(0).mean()}\")"
   ]
  },
  {
   "cell_type": "markdown",
   "id": "dab90b8e",
   "metadata": {},
   "source": [
    "MAP"
   ]
  },
  {
   "cell_type": "markdown",
   "id": "c1143e92",
   "metadata": {
    "ExecuteTime": {
     "end_time": "2021-10-16T09:58:03.244956Z",
     "start_time": "2021-10-16T09:58:03.241920Z"
    }
   },
   "source": [
    "Написать код подсчета метрики MAP"
   ]
  },
  {
   "cell_type": "code",
   "execution_count": null,
   "id": "30ca6bf7",
   "metadata": {},
   "outputs": [],
   "source": []
  },
  {
   "cell_type": "code",
   "execution_count": 39,
   "id": "00acb20a",
   "metadata": {
    "ExecuteTime": {
     "end_time": "2021-11-12T15:42:25.968065Z",
     "start_time": "2021-11-12T15:42:25.940083Z"
    }
   },
   "outputs": [
    {
     "data": {
      "text/html": [
       "<div>\n",
       "<style scoped>\n",
       "    .dataframe tbody tr th:only-of-type {\n",
       "        vertical-align: middle;\n",
       "    }\n",
       "\n",
       "    .dataframe tbody tr th {\n",
       "        vertical-align: top;\n",
       "    }\n",
       "\n",
       "    .dataframe thead th {\n",
       "        text-align: right;\n",
       "    }\n",
       "</style>\n",
       "<table border=\"1\" class=\"dataframe\">\n",
       "  <thead>\n",
       "    <tr style=\"text-align: right;\">\n",
       "      <th></th>\n",
       "      <th></th>\n",
       "      <th>rank</th>\n",
       "    </tr>\n",
       "    <tr>\n",
       "      <th>user_id</th>\n",
       "      <th>item_id</th>\n",
       "      <th></th>\n",
       "    </tr>\n",
       "  </thead>\n",
       "  <tbody>\n",
       "    <tr>\n",
       "      <th>Аня</th>\n",
       "      <th>Мастер и Маргарита</th>\n",
       "      <td>NaN</td>\n",
       "    </tr>\n",
       "    <tr>\n",
       "      <th>Боря</th>\n",
       "      <th>451° по Фаренгейту</th>\n",
       "      <td>1.0</td>\n",
       "    </tr>\n",
       "    <tr>\n",
       "      <th rowspan=\"2\" valign=\"top\">Вася</th>\n",
       "      <th>Рита Хейуорт и спасение из Шоушенка</th>\n",
       "      <td>2.0</td>\n",
       "    </tr>\n",
       "    <tr>\n",
       "      <th>Зеленая миля</th>\n",
       "      <td>3.0</td>\n",
       "    </tr>\n",
       "  </tbody>\n",
       "</table>\n",
       "</div>"
      ],
      "text/plain": [
       "                                             rank\n",
       "user_id item_id                                  \n",
       "Аня     Мастер и Маргарита                    NaN\n",
       "Боря    451° по Фаренгейту                    1.0\n",
       "Вася    Рита Хейуорт и спасение из Шоушенка   2.0\n",
       "        Зеленая миля                          3.0"
      ]
     },
     "execution_count": 39,
     "metadata": {},
     "output_type": "execute_result"
    }
   ],
   "source": [
    "df_merged = df_true.set_index(['user_id', 'item_id']).join(df_recs.set_index(['user_id', 'item_id']), how='left')\n",
    "df_merged = df_merged.sort_values(by=['user_id', 'rank'])\n",
    "df_merged"
   ]
  },
  {
   "cell_type": "code",
   "execution_count": 40,
   "id": "9cbce566",
   "metadata": {
    "ExecuteTime": {
     "end_time": "2021-11-12T15:42:30.480211Z",
     "start_time": "2021-11-12T15:42:30.471645Z"
    }
   },
   "outputs": [],
   "source": [
    "df_merged['cumulative_rank'] = df_merged.groupby(level='user_id').cumcount() + 1"
   ]
  },
  {
   "cell_type": "code",
   "execution_count": 41,
   "id": "2ba0a1fc",
   "metadata": {
    "ExecuteTime": {
     "end_time": "2021-11-12T15:42:34.586831Z",
     "start_time": "2021-11-12T15:42:34.573163Z"
    }
   },
   "outputs": [
    {
     "data": {
      "text/html": [
       "<div>\n",
       "<style scoped>\n",
       "    .dataframe tbody tr th:only-of-type {\n",
       "        vertical-align: middle;\n",
       "    }\n",
       "\n",
       "    .dataframe tbody tr th {\n",
       "        vertical-align: top;\n",
       "    }\n",
       "\n",
       "    .dataframe thead th {\n",
       "        text-align: right;\n",
       "    }\n",
       "</style>\n",
       "<table border=\"1\" class=\"dataframe\">\n",
       "  <thead>\n",
       "    <tr style=\"text-align: right;\">\n",
       "      <th></th>\n",
       "      <th></th>\n",
       "      <th>rank</th>\n",
       "      <th>cumulative_rank</th>\n",
       "    </tr>\n",
       "    <tr>\n",
       "      <th>user_id</th>\n",
       "      <th>item_id</th>\n",
       "      <th></th>\n",
       "      <th></th>\n",
       "    </tr>\n",
       "  </thead>\n",
       "  <tbody>\n",
       "    <tr>\n",
       "      <th>Аня</th>\n",
       "      <th>Мастер и Маргарита</th>\n",
       "      <td>NaN</td>\n",
       "      <td>1</td>\n",
       "    </tr>\n",
       "    <tr>\n",
       "      <th>Боря</th>\n",
       "      <th>451° по Фаренгейту</th>\n",
       "      <td>1.0</td>\n",
       "      <td>1</td>\n",
       "    </tr>\n",
       "    <tr>\n",
       "      <th rowspan=\"2\" valign=\"top\">Вася</th>\n",
       "      <th>Рита Хейуорт и спасение из Шоушенка</th>\n",
       "      <td>2.0</td>\n",
       "      <td>1</td>\n",
       "    </tr>\n",
       "    <tr>\n",
       "      <th>Зеленая миля</th>\n",
       "      <td>3.0</td>\n",
       "      <td>2</td>\n",
       "    </tr>\n",
       "  </tbody>\n",
       "</table>\n",
       "</div>"
      ],
      "text/plain": [
       "                                             rank  cumulative_rank\n",
       "user_id item_id                                                   \n",
       "Аня     Мастер и Маргарита                    NaN                1\n",
       "Боря    451° по Фаренгейту                    1.0                1\n",
       "Вася    Рита Хейуорт и спасение из Шоушенка   2.0                1\n",
       "        Зеленая миля                          3.0                2"
      ]
     },
     "execution_count": 41,
     "metadata": {},
     "output_type": "execute_result"
    }
   ],
   "source": [
    "df_merged"
   ]
  },
  {
   "cell_type": "code",
   "execution_count": 42,
   "id": "4ee67b49",
   "metadata": {
    "ExecuteTime": {
     "end_time": "2021-11-12T15:43:32.398897Z",
     "start_time": "2021-11-12T15:43:32.395147Z"
    }
   },
   "outputs": [],
   "source": [
    "df_merged['cumulative_rank'] = df_merged['cumulative_rank'] / df_merged['rank']"
   ]
  },
  {
   "cell_type": "code",
   "execution_count": 43,
   "id": "79c32ee0",
   "metadata": {
    "ExecuteTime": {
     "end_time": "2021-11-12T15:43:35.409391Z",
     "start_time": "2021-11-12T15:43:35.401935Z"
    }
   },
   "outputs": [
    {
     "data": {
      "text/html": [
       "<div>\n",
       "<style scoped>\n",
       "    .dataframe tbody tr th:only-of-type {\n",
       "        vertical-align: middle;\n",
       "    }\n",
       "\n",
       "    .dataframe tbody tr th {\n",
       "        vertical-align: top;\n",
       "    }\n",
       "\n",
       "    .dataframe thead th {\n",
       "        text-align: right;\n",
       "    }\n",
       "</style>\n",
       "<table border=\"1\" class=\"dataframe\">\n",
       "  <thead>\n",
       "    <tr style=\"text-align: right;\">\n",
       "      <th></th>\n",
       "      <th></th>\n",
       "      <th>rank</th>\n",
       "      <th>cumulative_rank</th>\n",
       "    </tr>\n",
       "    <tr>\n",
       "      <th>user_id</th>\n",
       "      <th>item_id</th>\n",
       "      <th></th>\n",
       "      <th></th>\n",
       "    </tr>\n",
       "  </thead>\n",
       "  <tbody>\n",
       "    <tr>\n",
       "      <th>Аня</th>\n",
       "      <th>Мастер и Маргарита</th>\n",
       "      <td>NaN</td>\n",
       "      <td>NaN</td>\n",
       "    </tr>\n",
       "    <tr>\n",
       "      <th>Боря</th>\n",
       "      <th>451° по Фаренгейту</th>\n",
       "      <td>1.0</td>\n",
       "      <td>1.000000</td>\n",
       "    </tr>\n",
       "    <tr>\n",
       "      <th rowspan=\"2\" valign=\"top\">Вася</th>\n",
       "      <th>Рита Хейуорт и спасение из Шоушенка</th>\n",
       "      <td>2.0</td>\n",
       "      <td>0.500000</td>\n",
       "    </tr>\n",
       "    <tr>\n",
       "      <th>Зеленая миля</th>\n",
       "      <td>3.0</td>\n",
       "      <td>0.666667</td>\n",
       "    </tr>\n",
       "  </tbody>\n",
       "</table>\n",
       "</div>"
      ],
      "text/plain": [
       "                                             rank  cumulative_rank\n",
       "user_id item_id                                                   \n",
       "Аня     Мастер и Маргарита                    NaN              NaN\n",
       "Боря    451° по Фаренгейту                    1.0         1.000000\n",
       "Вася    Рита Хейуорт и спасение из Шоушенка   2.0         0.500000\n",
       "        Зеленая миля                          3.0         0.666667"
      ]
     },
     "execution_count": 43,
     "metadata": {},
     "output_type": "execute_result"
    }
   ],
   "source": [
    "df_merged"
   ]
  },
  {
   "cell_type": "code",
   "execution_count": 44,
   "id": "b4686760",
   "metadata": {
    "ExecuteTime": {
     "end_time": "2021-11-12T15:44:25.559694Z",
     "start_time": "2021-11-12T15:44:25.548218Z"
    }
   },
   "outputs": [
    {
     "data": {
      "text/html": [
       "<div>\n",
       "<style scoped>\n",
       "    .dataframe tbody tr th:only-of-type {\n",
       "        vertical-align: middle;\n",
       "    }\n",
       "\n",
       "    .dataframe tbody tr th {\n",
       "        vertical-align: top;\n",
       "    }\n",
       "\n",
       "    .dataframe thead th {\n",
       "        text-align: right;\n",
       "    }\n",
       "</style>\n",
       "<table border=\"1\" class=\"dataframe\">\n",
       "  <thead>\n",
       "    <tr style=\"text-align: right;\">\n",
       "      <th></th>\n",
       "      <th></th>\n",
       "      <th>rank</th>\n",
       "      <th>cumulative_rank</th>\n",
       "      <th>users_item_count</th>\n",
       "    </tr>\n",
       "    <tr>\n",
       "      <th>user_id</th>\n",
       "      <th>item_id</th>\n",
       "      <th></th>\n",
       "      <th></th>\n",
       "      <th></th>\n",
       "    </tr>\n",
       "  </thead>\n",
       "  <tbody>\n",
       "    <tr>\n",
       "      <th>Аня</th>\n",
       "      <th>Мастер и Маргарита</th>\n",
       "      <td>NaN</td>\n",
       "      <td>NaN</td>\n",
       "      <td>1.0</td>\n",
       "    </tr>\n",
       "    <tr>\n",
       "      <th>Боря</th>\n",
       "      <th>451° по Фаренгейту</th>\n",
       "      <td>1.0</td>\n",
       "      <td>1.000000</td>\n",
       "      <td>1.0</td>\n",
       "    </tr>\n",
       "    <tr>\n",
       "      <th rowspan=\"2\" valign=\"top\">Вася</th>\n",
       "      <th>Рита Хейуорт и спасение из Шоушенка</th>\n",
       "      <td>2.0</td>\n",
       "      <td>0.500000</td>\n",
       "      <td>2.0</td>\n",
       "    </tr>\n",
       "    <tr>\n",
       "      <th>Зеленая миля</th>\n",
       "      <td>3.0</td>\n",
       "      <td>0.666667</td>\n",
       "      <td>2.0</td>\n",
       "    </tr>\n",
       "  </tbody>\n",
       "</table>\n",
       "</div>"
      ],
      "text/plain": [
       "                                             rank  cumulative_rank  \\\n",
       "user_id item_id                                                      \n",
       "Аня     Мастер и Маргарита                    NaN              NaN   \n",
       "Боря    451° по Фаренгейту                    1.0         1.000000   \n",
       "Вася    Рита Хейуорт и спасение из Шоушенка   2.0         0.500000   \n",
       "        Зеленая миля                          3.0         0.666667   \n",
       "\n",
       "                                             users_item_count  \n",
       "user_id item_id                                                \n",
       "Аня     Мастер и Маргарита                                1.0  \n",
       "Боря    451° по Фаренгейту                                1.0  \n",
       "Вася    Рита Хейуорт и спасение из Шоушенка               2.0  \n",
       "        Зеленая миля                                      2.0  "
      ]
     },
     "execution_count": 44,
     "metadata": {},
     "output_type": "execute_result"
    }
   ],
   "source": [
    "df_merged['users_item_count'] = df_merged.groupby(level='user_id')['rank'].transform(np.size)\n",
    "df_merged"
   ]
  },
  {
   "cell_type": "code",
   "execution_count": 45,
   "id": "f4f82d0b",
   "metadata": {
    "ExecuteTime": {
     "end_time": "2021-11-12T15:44:53.498307Z",
     "start_time": "2021-11-12T15:44:53.495113Z"
    }
   },
   "outputs": [],
   "source": [
    "users_count = df_merged.index.get_level_values('user_id').nunique()"
   ]
  },
  {
   "cell_type": "code",
   "execution_count": 46,
   "id": "73795d12",
   "metadata": {
    "ExecuteTime": {
     "end_time": "2021-11-12T15:44:57.029946Z",
     "start_time": "2021-11-12T15:44:57.026600Z"
    }
   },
   "outputs": [
    {
     "data": {
      "text/plain": [
       "3"
      ]
     },
     "execution_count": 46,
     "metadata": {},
     "output_type": "execute_result"
    }
   ],
   "source": [
    "users_count"
   ]
  },
  {
   "cell_type": "code",
   "execution_count": null,
   "id": "84886e4b",
   "metadata": {},
   "outputs": [],
   "source": []
  },
  {
   "cell_type": "code",
   "execution_count": 47,
   "id": "af805e1d",
   "metadata": {
    "ExecuteTime": {
     "end_time": "2021-11-12T15:45:16.272896Z",
     "start_time": "2021-11-12T15:45:16.268905Z"
    }
   },
   "outputs": [
    {
     "name": "stdout",
     "output_type": "stream",
     "text": [
      "MAP@3 = 0.5277777777777778\n"
     ]
    }
   ],
   "source": [
    "map3 = (df_merged[\"cumulative_rank\"] / df_merged[\"users_item_count\"]).sum() / users_count\n",
    "print(f\"MAP@3 = {map3}\")"
   ]
  },
  {
   "cell_type": "code",
   "execution_count": null,
   "id": "00c9b9d5",
   "metadata": {},
   "outputs": [],
   "source": []
  },
  {
   "cell_type": "code",
   "execution_count": null,
   "id": "d781efed",
   "metadata": {},
   "outputs": [],
   "source": []
  },
  {
   "cell_type": "code",
   "execution_count": null,
   "id": "2f1a80d4",
   "metadata": {},
   "outputs": [],
   "source": []
  },
  {
   "cell_type": "code",
   "execution_count": null,
   "id": "19469431",
   "metadata": {},
   "outputs": [],
   "source": []
  },
  {
   "cell_type": "markdown",
   "id": "910735ee",
   "metadata": {
    "ExecuteTime": {
     "end_time": "2021-10-16T10:04:30.121897Z",
     "start_time": "2021-10-16T10:04:30.118865Z"
    }
   },
   "source": [
    "Посчитаем все на нашем датасете"
   ]
  },
  {
   "cell_type": "code",
   "execution_count": 49,
   "id": "e9f05f67",
   "metadata": {
    "ExecuteTime": {
     "end_time": "2021-11-12T15:51:49.363537Z",
     "start_time": "2021-11-12T15:51:49.342249Z"
    }
   },
   "outputs": [
    {
     "data": {
      "text/plain": [
       "[(numpy.datetime64('2019-12-25T00:00:00.000000000'),\n",
       "  numpy.datetime64('2019-12-26T00:00:00.000000000')),\n",
       " (numpy.datetime64('2019-12-26T00:00:00.000000000'),\n",
       "  numpy.datetime64('2019-12-27T00:00:00.000000000')),\n",
       " (numpy.datetime64('2019-12-27T00:00:00.000000000'),\n",
       "  numpy.datetime64('2019-12-28T00:00:00.000000000')),\n",
       " (numpy.datetime64('2019-12-28T00:00:00.000000000'),\n",
       "  numpy.datetime64('2019-12-29T00:00:00.000000000')),\n",
       " (numpy.datetime64('2019-12-29T00:00:00.000000000'),\n",
       "  numpy.datetime64('2019-12-30T00:00:00.000000000')),\n",
       " (numpy.datetime64('2019-12-30T00:00:00.000000000'),\n",
       "  numpy.datetime64('2019-12-31T00:00:00.000000000'))]"
      ]
     },
     "execution_count": 49,
     "metadata": {},
     "output_type": "execute_result"
    }
   ],
   "source": [
    "test_dates = df['start_date'].unique()[-7:]\n",
    "test_dates = list(pairwise(test_dates))\n",
    "test_dates"
   ]
  },
  {
   "cell_type": "code",
   "execution_count": 50,
   "id": "354e6f74",
   "metadata": {
    "ExecuteTime": {
     "end_time": "2021-11-12T15:51:50.120316Z",
     "start_time": "2021-11-12T15:51:49.815282Z"
    }
   },
   "outputs": [
    {
     "data": {
      "text/plain": [
       "((numpy.datetime64('2019-12-25T00:00:00.000000000'),\n",
       "  numpy.datetime64('2019-12-26T00:00:00.000000000')),\n",
       " (1517994, 5),\n",
       " (2114, 5))"
      ]
     },
     "execution_count": 50,
     "metadata": {},
     "output_type": "execute_result"
    }
   ],
   "source": [
    "split_dates = test_dates[0]\n",
    "train = df[df['start_date'] < split_dates[0]]\n",
    "test = df[(df['start_date'] >= split_dates[0]) & (df['start_date'] < split_dates[1])]\n",
    "test = test[(test['rating'] >= 4) | (test['rating'].isnull())]\n",
    "split_dates, train.shape, test.shape"
   ]
  },
  {
   "cell_type": "code",
   "execution_count": null,
   "id": "0e028e90",
   "metadata": {},
   "outputs": [],
   "source": []
  },
  {
   "cell_type": "code",
   "execution_count": 51,
   "id": "7667c255",
   "metadata": {
    "ExecuteTime": {
     "end_time": "2021-11-12T15:52:42.413578Z",
     "start_time": "2021-11-12T15:52:42.404725Z"
    }
   },
   "outputs": [],
   "source": [
    "class PopularRecommender():\n",
    "    def __init__(self, max_K=100, days=30, item_column='item_id', dt_column='date'):\n",
    "        self.max_K = max_K\n",
    "        self.days = days\n",
    "        self.item_column = item_column\n",
    "        self.dt_column = dt_column\n",
    "        self.recommendations = []\n",
    "        \n",
    "    def fit(self, df, ):\n",
    "        min_date = df[self.dt_column].max().normalize() - pd.DateOffset(days=self.days)\n",
    "        self.recommendations = df.loc[df[self.dt_column] > min_date, self.item_column].value_counts().head(self.max_K).index.values\n",
    "    \n",
    "    def recommend(self, users=None, N=10):\n",
    "        recs = self.recommendations[:N]\n",
    "        if users is None:\n",
    "            return recs\n",
    "        else:\n",
    "            return list(islice(cycle([recs]), len(users)))"
   ]
  },
  {
   "cell_type": "code",
   "execution_count": 52,
   "id": "382c8954",
   "metadata": {
    "ExecuteTime": {
     "end_time": "2021-11-12T15:52:52.879326Z",
     "start_time": "2021-11-12T15:52:52.859700Z"
    }
   },
   "outputs": [],
   "source": [
    "pop_model = PopularRecommender(days=7, dt_column='start_date')\n",
    "pop_model.fit(train)"
   ]
  },
  {
   "cell_type": "code",
   "execution_count": 53,
   "id": "b8fca8a6",
   "metadata": {
    "ExecuteTime": {
     "end_time": "2021-11-12T15:52:53.302728Z",
     "start_time": "2021-11-12T15:52:53.299222Z"
    }
   },
   "outputs": [],
   "source": [
    "top10_recs = pop_model.recommend()"
   ]
  },
  {
   "cell_type": "code",
   "execution_count": 54,
   "id": "13a24b39",
   "metadata": {
    "ExecuteTime": {
     "end_time": "2021-11-12T15:52:55.593422Z",
     "start_time": "2021-11-12T15:52:55.548641Z"
    }
   },
   "outputs": [
    {
     "data": {
      "text/plain": [
       "'Ворон-челобитчик'"
      ]
     },
     "execution_count": 54,
     "metadata": {},
     "output_type": "execute_result"
    }
   ],
   "source": [
    "item_titles = pd.Series(df_items['title'].values, index=df_items['id']).to_dict()\n",
    "item_titles[128115]"
   ]
  },
  {
   "cell_type": "code",
   "execution_count": 55,
   "id": "10cfa9bf",
   "metadata": {
    "ExecuteTime": {
     "end_time": "2021-11-12T15:52:55.780558Z",
     "start_time": "2021-11-12T15:52:55.775004Z"
    }
   },
   "outputs": [
    {
     "data": {
      "text/plain": [
       "['Пикник на обочине',\n",
       " 'Кавказский пленник',\n",
       " 'Записки юного врача',\n",
       " 'Богатый папа, бедный папа. Роберт Кийосаки (обзор)',\n",
       " 'Москва и москвичи',\n",
       " 'Понедельник начинается в субботу',\n",
       " 'Хитрость',\n",
       " 'Сказка о попе и о работнике его Балде',\n",
       " 'Лорд, который влюбился. Тайный жених',\n",
       " 'История государства Российского. Том 2. От Великого князя Святополка до Великого князя Мстислава Изяславовича']"
      ]
     },
     "execution_count": 55,
     "metadata": {},
     "output_type": "execute_result"
    }
   ],
   "source": [
    "list(map(item_titles.get, top10_recs))"
   ]
  },
  {
   "cell_type": "code",
   "execution_count": 56,
   "id": "415973bb",
   "metadata": {
    "ExecuteTime": {
     "end_time": "2021-11-12T15:53:24.339999Z",
     "start_time": "2021-11-12T15:53:24.318079Z"
    }
   },
   "outputs": [
    {
     "data": {
      "text/html": [
       "<div>\n",
       "<style scoped>\n",
       "    .dataframe tbody tr th:only-of-type {\n",
       "        vertical-align: middle;\n",
       "    }\n",
       "\n",
       "    .dataframe tbody tr th {\n",
       "        vertical-align: top;\n",
       "    }\n",
       "\n",
       "    .dataframe thead th {\n",
       "        text-align: right;\n",
       "    }\n",
       "</style>\n",
       "<table border=\"1\" class=\"dataframe\">\n",
       "  <thead>\n",
       "    <tr style=\"text-align: right;\">\n",
       "      <th></th>\n",
       "      <th>user_id</th>\n",
       "      <th>item_id</th>\n",
       "    </tr>\n",
       "  </thead>\n",
       "  <tbody>\n",
       "    <tr>\n",
       "      <th>0</th>\n",
       "      <td>38753</td>\n",
       "      <td>[235407, 230067, 35265, 281005, 147734, 208935...</td>\n",
       "    </tr>\n",
       "    <tr>\n",
       "      <th>1</th>\n",
       "      <td>101642</td>\n",
       "      <td>[235407, 230067, 35265, 281005, 147734, 208935...</td>\n",
       "    </tr>\n",
       "    <tr>\n",
       "      <th>2</th>\n",
       "      <td>13548</td>\n",
       "      <td>[235407, 230067, 35265, 281005, 147734, 208935...</td>\n",
       "    </tr>\n",
       "    <tr>\n",
       "      <th>3</th>\n",
       "      <td>130425</td>\n",
       "      <td>[235407, 230067, 35265, 281005, 147734, 208935...</td>\n",
       "    </tr>\n",
       "    <tr>\n",
       "      <th>4</th>\n",
       "      <td>93986</td>\n",
       "      <td>[235407, 230067, 35265, 281005, 147734, 208935...</td>\n",
       "    </tr>\n",
       "  </tbody>\n",
       "</table>\n",
       "</div>"
      ],
      "text/plain": [
       "   user_id                                            item_id\n",
       "0    38753  [235407, 230067, 35265, 281005, 147734, 208935...\n",
       "1   101642  [235407, 230067, 35265, 281005, 147734, 208935...\n",
       "2    13548  [235407, 230067, 35265, 281005, 147734, 208935...\n",
       "3   130425  [235407, 230067, 35265, 281005, 147734, 208935...\n",
       "4    93986  [235407, 230067, 35265, 281005, 147734, 208935..."
      ]
     },
     "execution_count": 56,
     "metadata": {},
     "output_type": "execute_result"
    }
   ],
   "source": [
    "recs = pd.DataFrame({'user_id': test['user_id'].unique()})\n",
    "top_N = 10\n",
    "recs['item_id'] = pop_model.recommend(recs['user_id'], N=top_N)\n",
    "recs.head()"
   ]
  },
  {
   "cell_type": "code",
   "execution_count": 57,
   "id": "716034dd",
   "metadata": {
    "ExecuteTime": {
     "end_time": "2021-11-12T15:53:35.848808Z",
     "start_time": "2021-11-12T15:53:35.830333Z"
    }
   },
   "outputs": [
    {
     "data": {
      "text/html": [
       "<div>\n",
       "<style scoped>\n",
       "    .dataframe tbody tr th:only-of-type {\n",
       "        vertical-align: middle;\n",
       "    }\n",
       "\n",
       "    .dataframe tbody tr th {\n",
       "        vertical-align: top;\n",
       "    }\n",
       "\n",
       "    .dataframe thead th {\n",
       "        text-align: right;\n",
       "    }\n",
       "</style>\n",
       "<table border=\"1\" class=\"dataframe\">\n",
       "  <thead>\n",
       "    <tr style=\"text-align: right;\">\n",
       "      <th></th>\n",
       "      <th>user_id</th>\n",
       "      <th>item_id</th>\n",
       "    </tr>\n",
       "  </thead>\n",
       "  <tbody>\n",
       "    <tr>\n",
       "      <th>0</th>\n",
       "      <td>38753</td>\n",
       "      <td>235407</td>\n",
       "    </tr>\n",
       "    <tr>\n",
       "      <th>0</th>\n",
       "      <td>38753</td>\n",
       "      <td>230067</td>\n",
       "    </tr>\n",
       "    <tr>\n",
       "      <th>0</th>\n",
       "      <td>38753</td>\n",
       "      <td>35265</td>\n",
       "    </tr>\n",
       "    <tr>\n",
       "      <th>0</th>\n",
       "      <td>38753</td>\n",
       "      <td>281005</td>\n",
       "    </tr>\n",
       "    <tr>\n",
       "      <th>0</th>\n",
       "      <td>38753</td>\n",
       "      <td>147734</td>\n",
       "    </tr>\n",
       "    <tr>\n",
       "      <th>0</th>\n",
       "      <td>38753</td>\n",
       "      <td>208935</td>\n",
       "    </tr>\n",
       "    <tr>\n",
       "      <th>0</th>\n",
       "      <td>38753</td>\n",
       "      <td>285394</td>\n",
       "    </tr>\n",
       "    <tr>\n",
       "      <th>0</th>\n",
       "      <td>38753</td>\n",
       "      <td>96052</td>\n",
       "    </tr>\n",
       "    <tr>\n",
       "      <th>0</th>\n",
       "      <td>38753</td>\n",
       "      <td>62715</td>\n",
       "    </tr>\n",
       "    <tr>\n",
       "      <th>0</th>\n",
       "      <td>38753</td>\n",
       "      <td>151190</td>\n",
       "    </tr>\n",
       "    <tr>\n",
       "      <th>1</th>\n",
       "      <td>101642</td>\n",
       "      <td>235407</td>\n",
       "    </tr>\n",
       "    <tr>\n",
       "      <th>1</th>\n",
       "      <td>101642</td>\n",
       "      <td>230067</td>\n",
       "    </tr>\n",
       "  </tbody>\n",
       "</table>\n",
       "</div>"
      ],
      "text/plain": [
       "   user_id item_id\n",
       "0    38753  235407\n",
       "0    38753  230067\n",
       "0    38753   35265\n",
       "0    38753  281005\n",
       "0    38753  147734\n",
       "0    38753  208935\n",
       "0    38753  285394\n",
       "0    38753   96052\n",
       "0    38753   62715\n",
       "0    38753  151190\n",
       "1   101642  235407\n",
       "1   101642  230067"
      ]
     },
     "execution_count": 57,
     "metadata": {},
     "output_type": "execute_result"
    }
   ],
   "source": [
    "recs = recs.explode('item_id')\n",
    "recs.head(top_N + 2)"
   ]
  },
  {
   "cell_type": "code",
   "execution_count": 58,
   "id": "4b536c94",
   "metadata": {
    "ExecuteTime": {
     "end_time": "2021-11-12T15:54:19.856426Z",
     "start_time": "2021-11-12T15:54:19.835346Z"
    }
   },
   "outputs": [
    {
     "data": {
      "text/html": [
       "<div>\n",
       "<style scoped>\n",
       "    .dataframe tbody tr th:only-of-type {\n",
       "        vertical-align: middle;\n",
       "    }\n",
       "\n",
       "    .dataframe tbody tr th {\n",
       "        vertical-align: top;\n",
       "    }\n",
       "\n",
       "    .dataframe thead th {\n",
       "        text-align: right;\n",
       "    }\n",
       "</style>\n",
       "<table border=\"1\" class=\"dataframe\">\n",
       "  <thead>\n",
       "    <tr style=\"text-align: right;\">\n",
       "      <th></th>\n",
       "      <th>user_id</th>\n",
       "      <th>item_id</th>\n",
       "      <th>rank</th>\n",
       "    </tr>\n",
       "  </thead>\n",
       "  <tbody>\n",
       "    <tr>\n",
       "      <th>0</th>\n",
       "      <td>38753</td>\n",
       "      <td>235407</td>\n",
       "      <td>1</td>\n",
       "    </tr>\n",
       "    <tr>\n",
       "      <th>0</th>\n",
       "      <td>38753</td>\n",
       "      <td>230067</td>\n",
       "      <td>2</td>\n",
       "    </tr>\n",
       "    <tr>\n",
       "      <th>0</th>\n",
       "      <td>38753</td>\n",
       "      <td>35265</td>\n",
       "      <td>3</td>\n",
       "    </tr>\n",
       "    <tr>\n",
       "      <th>0</th>\n",
       "      <td>38753</td>\n",
       "      <td>281005</td>\n",
       "      <td>4</td>\n",
       "    </tr>\n",
       "    <tr>\n",
       "      <th>0</th>\n",
       "      <td>38753</td>\n",
       "      <td>147734</td>\n",
       "      <td>5</td>\n",
       "    </tr>\n",
       "    <tr>\n",
       "      <th>0</th>\n",
       "      <td>38753</td>\n",
       "      <td>208935</td>\n",
       "      <td>6</td>\n",
       "    </tr>\n",
       "    <tr>\n",
       "      <th>0</th>\n",
       "      <td>38753</td>\n",
       "      <td>285394</td>\n",
       "      <td>7</td>\n",
       "    </tr>\n",
       "    <tr>\n",
       "      <th>0</th>\n",
       "      <td>38753</td>\n",
       "      <td>96052</td>\n",
       "      <td>8</td>\n",
       "    </tr>\n",
       "    <tr>\n",
       "      <th>0</th>\n",
       "      <td>38753</td>\n",
       "      <td>62715</td>\n",
       "      <td>9</td>\n",
       "    </tr>\n",
       "    <tr>\n",
       "      <th>0</th>\n",
       "      <td>38753</td>\n",
       "      <td>151190</td>\n",
       "      <td>10</td>\n",
       "    </tr>\n",
       "    <tr>\n",
       "      <th>1</th>\n",
       "      <td>101642</td>\n",
       "      <td>235407</td>\n",
       "      <td>1</td>\n",
       "    </tr>\n",
       "    <tr>\n",
       "      <th>1</th>\n",
       "      <td>101642</td>\n",
       "      <td>230067</td>\n",
       "      <td>2</td>\n",
       "    </tr>\n",
       "  </tbody>\n",
       "</table>\n",
       "</div>"
      ],
      "text/plain": [
       "   user_id item_id  rank\n",
       "0    38753  235407     1\n",
       "0    38753  230067     2\n",
       "0    38753   35265     3\n",
       "0    38753  281005     4\n",
       "0    38753  147734     5\n",
       "0    38753  208935     6\n",
       "0    38753  285394     7\n",
       "0    38753   96052     8\n",
       "0    38753   62715     9\n",
       "0    38753  151190    10\n",
       "1   101642  235407     1\n",
       "1   101642  230067     2"
      ]
     },
     "execution_count": 58,
     "metadata": {},
     "output_type": "execute_result"
    }
   ],
   "source": [
    "recs['rank'] = recs.groupby('user_id').cumcount() + 1\n",
    "recs.head(top_N + 2)"
   ]
  },
  {
   "cell_type": "code",
   "execution_count": 59,
   "id": "657e36b4",
   "metadata": {
    "ExecuteTime": {
     "end_time": "2021-11-12T15:54:32.638948Z",
     "start_time": "2021-11-12T15:54:32.630645Z"
    }
   },
   "outputs": [
    {
     "data": {
      "text/plain": [
       "user_id     int64\n",
       "item_id    object\n",
       "rank        int64\n",
       "dtype: object"
      ]
     },
     "execution_count": 59,
     "metadata": {},
     "output_type": "execute_result"
    }
   ],
   "source": [
    "recs.dtypes"
   ]
  },
  {
   "cell_type": "code",
   "execution_count": 60,
   "id": "8054d5ac",
   "metadata": {
    "ExecuteTime": {
     "end_time": "2021-11-12T15:54:33.461873Z",
     "start_time": "2021-11-12T15:54:33.454906Z"
    }
   },
   "outputs": [],
   "source": [
    "recs['item_id'] = recs['item_id'].astype(np.int64)"
   ]
  },
  {
   "cell_type": "code",
   "execution_count": 61,
   "id": "7f72d8f0",
   "metadata": {
    "ExecuteTime": {
     "end_time": "2021-11-12T15:54:41.503381Z",
     "start_time": "2021-11-12T15:54:41.487718Z"
    }
   },
   "outputs": [],
   "source": [
    "test_recs = test.merge(recs, on = ['user_id', 'item_id'], how = 'inner')"
   ]
  },
  {
   "cell_type": "code",
   "execution_count": 62,
   "id": "efb1c600",
   "metadata": {
    "ExecuteTime": {
     "end_time": "2021-11-12T15:54:41.884336Z",
     "start_time": "2021-11-12T15:54:41.867333Z"
    }
   },
   "outputs": [
    {
     "data": {
      "text/html": [
       "<div>\n",
       "<style scoped>\n",
       "    .dataframe tbody tr th:only-of-type {\n",
       "        vertical-align: middle;\n",
       "    }\n",
       "\n",
       "    .dataframe tbody tr th {\n",
       "        vertical-align: top;\n",
       "    }\n",
       "\n",
       "    .dataframe thead th {\n",
       "        text-align: right;\n",
       "    }\n",
       "</style>\n",
       "<table border=\"1\" class=\"dataframe\">\n",
       "  <thead>\n",
       "    <tr style=\"text-align: right;\">\n",
       "      <th></th>\n",
       "      <th>user_id</th>\n",
       "      <th>item_id</th>\n",
       "      <th>progress</th>\n",
       "      <th>rating</th>\n",
       "      <th>start_date</th>\n",
       "      <th>rank</th>\n",
       "    </tr>\n",
       "  </thead>\n",
       "  <tbody>\n",
       "    <tr>\n",
       "      <th>0</th>\n",
       "      <td>102560</td>\n",
       "      <td>147734</td>\n",
       "      <td>0</td>\n",
       "      <td>NaN</td>\n",
       "      <td>2019-12-25</td>\n",
       "      <td>5</td>\n",
       "    </tr>\n",
       "    <tr>\n",
       "      <th>1</th>\n",
       "      <td>33152</td>\n",
       "      <td>147734</td>\n",
       "      <td>0</td>\n",
       "      <td>NaN</td>\n",
       "      <td>2019-12-25</td>\n",
       "      <td>5</td>\n",
       "    </tr>\n",
       "    <tr>\n",
       "      <th>2</th>\n",
       "      <td>55393</td>\n",
       "      <td>147734</td>\n",
       "      <td>1</td>\n",
       "      <td>NaN</td>\n",
       "      <td>2019-12-25</td>\n",
       "      <td>5</td>\n",
       "    </tr>\n",
       "    <tr>\n",
       "      <th>3</th>\n",
       "      <td>129781</td>\n",
       "      <td>147734</td>\n",
       "      <td>1</td>\n",
       "      <td>NaN</td>\n",
       "      <td>2019-12-25</td>\n",
       "      <td>5</td>\n",
       "    </tr>\n",
       "    <tr>\n",
       "      <th>4</th>\n",
       "      <td>57724</td>\n",
       "      <td>230067</td>\n",
       "      <td>74</td>\n",
       "      <td>NaN</td>\n",
       "      <td>2019-12-25</td>\n",
       "      <td>2</td>\n",
       "    </tr>\n",
       "  </tbody>\n",
       "</table>\n",
       "</div>"
      ],
      "text/plain": [
       "   user_id  item_id  progress  rating start_date  rank\n",
       "0   102560   147734         0     NaN 2019-12-25     5\n",
       "1    33152   147734         0     NaN 2019-12-25     5\n",
       "2    55393   147734         1     NaN 2019-12-25     5\n",
       "3   129781   147734         1     NaN 2019-12-25     5\n",
       "4    57724   230067        74     NaN 2019-12-25     2"
      ]
     },
     "execution_count": 62,
     "metadata": {},
     "output_type": "execute_result"
    }
   ],
   "source": [
    "test_recs.head()"
   ]
  },
  {
   "cell_type": "code",
   "execution_count": 63,
   "id": "57e4cae3",
   "metadata": {
    "ExecuteTime": {
     "end_time": "2021-11-12T15:54:49.496902Z",
     "start_time": "2021-11-12T15:54:49.476004Z"
    }
   },
   "outputs": [
    {
     "data": {
      "text/html": [
       "<div>\n",
       "<style scoped>\n",
       "    .dataframe tbody tr th:only-of-type {\n",
       "        vertical-align: middle;\n",
       "    }\n",
       "\n",
       "    .dataframe tbody tr th {\n",
       "        vertical-align: top;\n",
       "    }\n",
       "\n",
       "    .dataframe thead th {\n",
       "        text-align: right;\n",
       "    }\n",
       "</style>\n",
       "<table border=\"1\" class=\"dataframe\">\n",
       "  <thead>\n",
       "    <tr style=\"text-align: right;\">\n",
       "      <th></th>\n",
       "      <th>user_id</th>\n",
       "      <th>item_id</th>\n",
       "      <th>progress</th>\n",
       "      <th>rating</th>\n",
       "      <th>start_date</th>\n",
       "      <th>rank</th>\n",
       "    </tr>\n",
       "  </thead>\n",
       "  <tbody>\n",
       "    <tr>\n",
       "      <th>46</th>\n",
       "      <td>474</td>\n",
       "      <td>235407</td>\n",
       "      <td>100</td>\n",
       "      <td>5.0</td>\n",
       "      <td>2019-12-25</td>\n",
       "      <td>1</td>\n",
       "    </tr>\n",
       "    <tr>\n",
       "      <th>18</th>\n",
       "      <td>1672</td>\n",
       "      <td>230067</td>\n",
       "      <td>12</td>\n",
       "      <td>NaN</td>\n",
       "      <td>2019-12-25</td>\n",
       "      <td>2</td>\n",
       "    </tr>\n",
       "    <tr>\n",
       "      <th>25</th>\n",
       "      <td>2345</td>\n",
       "      <td>208935</td>\n",
       "      <td>76</td>\n",
       "      <td>NaN</td>\n",
       "      <td>2019-12-25</td>\n",
       "      <td>6</td>\n",
       "    </tr>\n",
       "    <tr>\n",
       "      <th>61</th>\n",
       "      <td>9279</td>\n",
       "      <td>96052</td>\n",
       "      <td>100</td>\n",
       "      <td>NaN</td>\n",
       "      <td>2019-12-25</td>\n",
       "      <td>8</td>\n",
       "    </tr>\n",
       "    <tr>\n",
       "      <th>52</th>\n",
       "      <td>10260</td>\n",
       "      <td>35265</td>\n",
       "      <td>0</td>\n",
       "      <td>NaN</td>\n",
       "      <td>2019-12-25</td>\n",
       "      <td>3</td>\n",
       "    </tr>\n",
       "  </tbody>\n",
       "</table>\n",
       "</div>"
      ],
      "text/plain": [
       "    user_id  item_id  progress  rating start_date  rank\n",
       "46      474   235407       100     5.0 2019-12-25     1\n",
       "18     1672   230067        12     NaN 2019-12-25     2\n",
       "25     2345   208935        76     NaN 2019-12-25     6\n",
       "61     9279    96052       100     NaN 2019-12-25     8\n",
       "52    10260    35265         0     NaN 2019-12-25     3"
      ]
     },
     "execution_count": 63,
     "metadata": {},
     "output_type": "execute_result"
    }
   ],
   "source": [
    "test_recs = test_recs.sort_values(by=['user_id', 'rank'])\n",
    "test_recs.head()"
   ]
  },
  {
   "cell_type": "markdown",
   "id": "090ac897",
   "metadata": {},
   "source": [
    "### NDCG"
   ]
  },
  {
   "cell_type": "markdown",
   "id": "3465d032",
   "metadata": {
    "ExecuteTime": {
     "end_time": "2021-10-16T10:10:17.967565Z",
     "start_time": "2021-10-16T10:10:17.964807Z"
    }
   },
   "source": [
    "Посчитайте метрику ndcg"
   ]
  },
  {
   "cell_type": "code",
   "execution_count": null,
   "id": "5962b118",
   "metadata": {},
   "outputs": [],
   "source": [
    "1/0"
   ]
  },
  {
   "cell_type": "code",
   "execution_count": 67,
   "id": "a8cfefbc",
   "metadata": {
    "ExecuteTime": {
     "end_time": "2021-11-12T16:08:34.404771Z",
     "start_time": "2021-11-12T16:08:34.397431Z"
    }
   },
   "outputs": [],
   "source": [
    "def ndcg_at_k(\n",
    "    df: pd.DataFrame,\n",
    "    user_col: str = 'user_id',\n",
    "    rank_col: str = 'item_id',\n",
    "    k: int = 1,\n",
    "    log_base: int = 2,\n",
    ") -> pd.Series:\n",
    "    dcg = ((df[rank_col] <= k).astype(int) / log_at_base(df[rank_col] + 1, log_base))\n",
    "    idcg = (1 / log_at_base(np.arange(1, k + 1) + 1, log_base)).sum()\n",
    "    res = (\n",
    "        pd.DataFrame({user_col: df[user_col], \"ndcg\": dcg / idcg})\n",
    "        .groupby(user_col)[\"ndcg\"]\n",
    "        .sum()\n",
    "    )\n",
    "    return res"
   ]
  },
  {
   "cell_type": "code",
   "execution_count": null,
   "id": "9aa86935",
   "metadata": {},
   "outputs": [],
   "source": []
  },
  {
   "cell_type": "code",
   "execution_count": null,
   "id": "22bc715b",
   "metadata": {},
   "outputs": [],
   "source": []
  },
  {
   "cell_type": "code",
   "execution_count": 68,
   "id": "01c2178e",
   "metadata": {
    "ExecuteTime": {
     "end_time": "2021-11-12T16:08:39.429009Z",
     "start_time": "2021-11-12T16:08:38.964192Z"
    }
   },
   "outputs": [
    {
     "data": {
      "text/html": [
       "<div>\n",
       "<style scoped>\n",
       "    .dataframe tbody tr th:only-of-type {\n",
       "        vertical-align: middle;\n",
       "    }\n",
       "\n",
       "    .dataframe tbody tr th {\n",
       "        vertical-align: top;\n",
       "    }\n",
       "\n",
       "    .dataframe thead th {\n",
       "        text-align: right;\n",
       "    }\n",
       "</style>\n",
       "<table border=\"1\" class=\"dataframe\">\n",
       "  <thead>\n",
       "    <tr style=\"text-align: right;\">\n",
       "      <th></th>\n",
       "      <th></th>\n",
       "      <th>progress</th>\n",
       "      <th>rating</th>\n",
       "      <th>start_date</th>\n",
       "      <th>rank</th>\n",
       "      <th>users_item_count</th>\n",
       "      <th>reciprocal_rank</th>\n",
       "      <th>cumulative_rank</th>\n",
       "    </tr>\n",
       "    <tr>\n",
       "      <th>user_id</th>\n",
       "      <th>item_id</th>\n",
       "      <th></th>\n",
       "      <th></th>\n",
       "      <th></th>\n",
       "      <th></th>\n",
       "      <th></th>\n",
       "      <th></th>\n",
       "      <th></th>\n",
       "    </tr>\n",
       "  </thead>\n",
       "  <tbody>\n",
       "    <tr>\n",
       "      <th>129222</th>\n",
       "      <th>275441</th>\n",
       "      <td>24</td>\n",
       "      <td>NaN</td>\n",
       "      <td>2019-12-25</td>\n",
       "      <td>NaN</td>\n",
       "      <td>1.0</td>\n",
       "      <td>0.0</td>\n",
       "      <td>NaN</td>\n",
       "    </tr>\n",
       "    <tr>\n",
       "      <th>18067</th>\n",
       "      <th>69599</th>\n",
       "      <td>77</td>\n",
       "      <td>NaN</td>\n",
       "      <td>2019-12-25</td>\n",
       "      <td>NaN</td>\n",
       "      <td>1.0</td>\n",
       "      <td>0.0</td>\n",
       "      <td>NaN</td>\n",
       "    </tr>\n",
       "    <tr>\n",
       "      <th>76378</th>\n",
       "      <th>246837</th>\n",
       "      <td>93</td>\n",
       "      <td>NaN</td>\n",
       "      <td>2019-12-25</td>\n",
       "      <td>NaN</td>\n",
       "      <td>1.0</td>\n",
       "      <td>0.0</td>\n",
       "      <td>NaN</td>\n",
       "    </tr>\n",
       "    <tr>\n",
       "      <th>135722</th>\n",
       "      <th>267580</th>\n",
       "      <td>71</td>\n",
       "      <td>NaN</td>\n",
       "      <td>2019-12-25</td>\n",
       "      <td>NaN</td>\n",
       "      <td>1.0</td>\n",
       "      <td>0.0</td>\n",
       "      <td>NaN</td>\n",
       "    </tr>\n",
       "    <tr>\n",
       "      <th>92498</th>\n",
       "      <th>39822</th>\n",
       "      <td>35</td>\n",
       "      <td>NaN</td>\n",
       "      <td>2019-12-25</td>\n",
       "      <td>NaN</td>\n",
       "      <td>1.0</td>\n",
       "      <td>0.0</td>\n",
       "      <td>NaN</td>\n",
       "    </tr>\n",
       "  </tbody>\n",
       "</table>\n",
       "</div>"
      ],
      "text/plain": [
       "                 progress  rating start_date  rank  users_item_count  \\\n",
       "user_id item_id                                                        \n",
       "129222  275441         24     NaN 2019-12-25   NaN               1.0   \n",
       "18067   69599          77     NaN 2019-12-25   NaN               1.0   \n",
       "76378   246837         93     NaN 2019-12-25   NaN               1.0   \n",
       "135722  267580         71     NaN 2019-12-25   NaN               1.0   \n",
       "92498   39822          35     NaN 2019-12-25   NaN               1.0   \n",
       "\n",
       "                 reciprocal_rank  cumulative_rank  \n",
       "user_id item_id                                    \n",
       "129222  275441               0.0              NaN  \n",
       "18067   69599                0.0              NaN  \n",
       "76378   246837               0.0              NaN  \n",
       "135722  267580               0.0              NaN  \n",
       "92498   39822                0.0              NaN  "
      ]
     },
     "execution_count": 68,
     "metadata": {},
     "output_type": "execute_result"
    }
   ],
   "source": [
    "test_recs = test.set_index(['user_id', 'item_id']).join(recs.set_index(['user_id', 'item_id']))\n",
    "test_recs['users_item_count'] = test_recs.groupby(level='user_id', sort=False)['rank'].transform(np.size)\n",
    "test_recs['reciprocal_rank'] = 1 / test_recs['rank']\n",
    "test_recs['reciprocal_rank'] = test_recs['reciprocal_rank'].fillna(0)\n",
    "test_recs['cumulative_rank'] = test_recs.groupby(level='user_id').cumcount() + 1\n",
    "test_recs['cumulative_rank'] = test_recs['cumulative_rank'] / test_recs['rank']\n",
    "test_recs.tail()"
   ]
  },
  {
   "cell_type": "markdown",
   "id": "54471582",
   "metadata": {},
   "source": [
    "Посчитайте метрики по test (2019-12-25, 2019-12-26)\n",
    "Precision@1 = \n",
    "\n",
    "Recall@1 = \n",
    "\n",
    "Precision@2 = \n",
    "\n",
    "Recall@2 = \n",
    "\n",
    "Precision@3 = \n",
    "\n",
    "Recall@3 = \n",
    "\n",
    "Precision@4 = \n",
    "\n",
    "Recall@4 = \n",
    "\n",
    "Precision@5 = \n",
    "\n",
    "Recall@5 = \n",
    "\n",
    "Precision@6 = \n",
    "\n",
    "Recall@6 = \n",
    "\n",
    "Precision@7 = \n",
    "\n",
    "Recall@7 = \n",
    "\n",
    "Precision@8 = \n",
    "\n",
    "Recall@8 = \n",
    "\n",
    "Precision@9 =\n",
    "\n",
    "Recall@9 = \n",
    "\n",
    "Precision@10 = \n",
    "\n",
    "Recall@10 = \n",
    "\n",
    "MAP@10 = \n",
    "\n",
    "MRR = "
   ]
  },
  {
   "cell_type": "markdown",
   "id": "33c79446",
   "metadata": {},
   "source": [
    "# ItemToItem модели"
   ]
  },
  {
   "cell_type": "markdown",
   "id": "83dc9967",
   "metadata": {},
   "source": [
    "### Нужно запрограммировать BM25Okapi"
   ]
  },
  {
   "cell_type": "code",
   "execution_count": 71,
   "id": "519dfc19",
   "metadata": {
    "ExecuteTime": {
     "end_time": "2021-11-12T16:18:08.779945Z",
     "start_time": "2021-11-12T16:18:08.777516Z"
    }
   },
   "outputs": [],
   "source": [
    "import math"
   ]
  },
  {
   "cell_type": "code",
   "execution_count": 72,
   "id": "33041a79",
   "metadata": {
    "ExecuteTime": {
     "end_time": "2021-11-12T16:18:13.114413Z",
     "start_time": "2021-11-12T16:18:13.099114Z"
    }
   },
   "outputs": [],
   "source": [
    "\n",
    "class BM25:\n",
    "    def __init__(self, corpus, tokenizer=None):\n",
    "        self.corpus_size = len(corpus)\n",
    "        self.avgdl = 0\n",
    "        self.doc_freqs = []\n",
    "        self.idf = {}\n",
    "        self.doc_len = []\n",
    "        self.tokenizer = tokenizer\n",
    "\n",
    "        if tokenizer:\n",
    "            corpus = self._tokenize_corpus(corpus)\n",
    "\n",
    "        nd = self._initialize(corpus)\n",
    "        self._calc_idf(nd)\n",
    "\n",
    "    def _initialize(self, corpus):\n",
    "        nd = {}  # word -> number of documents with word\n",
    "        num_doc = 0\n",
    "        for document in corpus:\n",
    "            self.doc_len.append(len(document))\n",
    "            num_doc += len(document)\n",
    "\n",
    "            frequencies = {}\n",
    "            for word in document:\n",
    "                if word not in frequencies:\n",
    "                    frequencies[word] = 0\n",
    "                frequencies[word] += 1\n",
    "            self.doc_freqs.append(frequencies)\n",
    "\n",
    "            for word, freq in frequencies.items():\n",
    "                try:\n",
    "                    nd[word]+=1\n",
    "                except KeyError:\n",
    "                    nd[word] = 1\n",
    "\n",
    "        self.avgdl = num_doc / self.corpus_size\n",
    "        return nd\n",
    "\n",
    "    def _tokenize_corpus(self, corpus):\n",
    "        pool = Pool(cpu_count())\n",
    "        tokenized_corpus = pool.map(self.tokenizer, corpus)\n",
    "        return tokenized_corpus\n",
    "\n",
    "    def _calc_idf(self, nd):\n",
    "        raise NotImplementedError()\n",
    "\n",
    "    def get_scores(self, query):\n",
    "        raise NotImplementedError()\n",
    "\n",
    "    def get_batch_scores(self, query, doc_ids):\n",
    "        raise NotImplementedError()\n",
    "\n",
    "    def get_top_n(self, query, documents, n=5):\n",
    "\n",
    "        assert self.corpus_size == len(documents), \"The documents given don't match the index corpus!\"\n",
    "\n",
    "        scores = self.get_scores(query)\n",
    "        top_n = np.argsort(scores)[::-1][:n]\n",
    "        return [documents[i] for i in top_n]\n",
    "\n",
    "\n",
    "\n",
    "class BM25Okapi(BM25):\n",
    "    def __init__(self, corpus, tokenizer=None, k1=1.5, b=0.75, epsilon=0.25):\n",
    "        self.k1 = k1\n",
    "        self.b = b\n",
    "        self.epsilon = epsilon\n",
    "        super().__init__(corpus, tokenizer)\n",
    "\n",
    "    def _calc_idf(self, nd):\n",
    "        \"\"\"\n",
    "        Calculates frequencies of terms in documents and in corpus.\n",
    "        This algorithm sets a floor on the idf values to eps * average_idf\n",
    "        \"\"\"\n",
    "        # collect idf sum to calculate an average idf for epsilon value\n",
    "        idf_sum = 0\n",
    "        # collect words with negative idf to set them a special epsilon value.\n",
    "        # idf can be negative if word is contained in more than half of documents\n",
    "        negative_idfs = []\n",
    "        for word, freq in nd.items():\n",
    "            idf = math.log(self.corpus_size - freq + 0.5) - math.log(freq + 0.5)\n",
    "            self.idf[word] = idf\n",
    "            idf_sum += idf\n",
    "            if idf < 0:\n",
    "                negative_idfs.append(word)\n",
    "        self.average_idf = idf_sum / len(self.idf)\n",
    "\n",
    "        eps = self.epsilon * self.average_idf\n",
    "        for word in negative_idfs:\n",
    "            self.idf[word] = eps\n",
    "\n",
    "    def get_scores(self, query):\n",
    "        \"\"\"\n",
    "        The ATIRE BM25 variant uses an idf function which uses a log(idf) score. To prevent negative idf scores,\n",
    "        this algorithm also adds a floor to the idf value of epsilon.\n",
    "        See [Trotman, A., X. Jia, M. Crane, Towards an Efficient and Effective Search Engine] for more info\n",
    "        :param query:\n",
    "        :return:\n",
    "        \"\"\"\n",
    "        score = np.zeros(self.corpus_size)\n",
    "        doc_len = np.array(self.doc_len)\n",
    "        for q in query:\n",
    "            q_freq = np.array([(doc.get(q) or 0) for doc in self.doc_freqs])\n",
    "            score += (self.idf.get(q) or 0) * (q_freq * (self.k1 + 1) /\n",
    "                                               (q_freq + self.k1 * (1 - self.b + self.b * doc_len / self.avgdl)))\n",
    "        return score\n",
    "\n",
    "    def get_batch_scores(self, query, doc_ids):\n",
    "        \"\"\"\n",
    "        Calculate bm25 scores between query and subset of all docs\n",
    "        \"\"\"\n",
    "        assert all(di < len(self.doc_freqs) for di in doc_ids)\n",
    "        score = np.zeros(len(doc_ids))\n",
    "        doc_len = np.array(self.doc_len)[doc_ids]\n",
    "        for q in query:\n",
    "            q_freq = np.array([(self.doc_freqs[di].get(q) or 0) for di in doc_ids])\n",
    "            score += (self.idf.get(q) or 0) * (q_freq * (self.k1 + 1) /\n",
    "                                               (q_freq + self.k1 * (1 - self.b + self.b * doc_len / self.avgdl)))\n",
    "        return score.tolist()\n",
    "\n",
    "\n",
    "class BM25Plus(BM25):\n",
    "    def __init__(self, corpus, tokenizer=None, k1=1.5, b=0.75, delta=1):\n",
    "        # Algorithm specific parameters\n",
    "        self.k1 = k1\n",
    "        self.b = b\n",
    "        self.delta = delta\n",
    "        super().__init__(corpus, tokenizer)\n",
    "\n",
    "    def _calc_idf(self, nd):\n",
    "        \"\"\"\n",
    "        -\n",
    "        \"\"\"\n",
    "\n",
    "\n",
    "    def get_scores(self, query):\n",
    "        \"\"\"-\"\"\"\n",
    "\n",
    "    def get_batch_scores(self, query, doc_ids):\n",
    "        \"\"\"\n",
    "        Calculate bm25 scores between query and subset of all docs\n",
    "        \"\"\"\n",
    "        assert all(di < len(self.doc_freqs) for di in doc_ids)\n",
    "\n",
    "\n"
   ]
  },
  {
   "cell_type": "code",
   "execution_count": null,
   "id": "cbd492ca",
   "metadata": {},
   "outputs": [],
   "source": []
  },
  {
   "cell_type": "code",
   "execution_count": 73,
   "id": "6f69b5e0",
   "metadata": {
    "ExecuteTime": {
     "end_time": "2021-11-12T16:18:13.893909Z",
     "start_time": "2021-11-12T16:18:13.890940Z"
    }
   },
   "outputs": [],
   "source": [
    "corpus = [\n",
    "    \"Hello there good man!\",\n",
    "    \"It is quite windy in London\",\n",
    "    \"How is the weather today?\"\n",
    "]\n",
    "\n",
    "tokenized_corpus = [doc.split(\" \") for doc in corpus]\n",
    "\n",
    "bm25 = BM25Okapi(tokenized_corpus)"
   ]
  },
  {
   "cell_type": "code",
   "execution_count": 74,
   "id": "144509c4",
   "metadata": {
    "ExecuteTime": {
     "end_time": "2021-11-12T16:18:28.020357Z",
     "start_time": "2021-11-12T16:18:28.011642Z"
    }
   },
   "outputs": [],
   "source": [
    "query = \"windy London\"\n",
    "tokenized_query = query.split(\" \")\n",
    "\n",
    "doc_scores = bm25.get_scores(tokenized_query)\n",
    "\n"
   ]
  },
  {
   "cell_type": "code",
   "execution_count": 75,
   "id": "3214059f",
   "metadata": {
    "ExecuteTime": {
     "end_time": "2021-11-12T16:18:29.520383Z",
     "start_time": "2021-11-12T16:18:29.503761Z"
    }
   },
   "outputs": [
    {
     "data": {
      "text/plain": [
       "['It is quite windy in London']"
      ]
     },
     "execution_count": 75,
     "metadata": {},
     "output_type": "execute_result"
    }
   ],
   "source": [
    "bm25.get_top_n(tokenized_query, corpus, n=1)"
   ]
  },
  {
   "cell_type": "code",
   "execution_count": 76,
   "id": "9d797e62",
   "metadata": {
    "ExecuteTime": {
     "end_time": "2021-11-12T16:18:56.389310Z",
     "start_time": "2021-11-12T16:18:56.376427Z"
    }
   },
   "outputs": [
    {
     "data": {
      "text/plain": [
       "['How is the weather today?']"
      ]
     },
     "execution_count": 76,
     "metadata": {},
     "output_type": "execute_result"
    }
   ],
   "source": [
    "query = \"How London\"\n",
    "tokenized_query = query.split(\" \")\n",
    "\n",
    "doc_scores = bm25.get_scores(tokenized_query)\n",
    "\n",
    "bm25.get_top_n(tokenized_query, corpus, n=1)"
   ]
  },
  {
   "cell_type": "markdown",
   "id": "f7a204af",
   "metadata": {},
   "source": [
    "Возьмем BM25 из Implicit для рекомендаий"
   ]
  },
  {
   "cell_type": "code",
   "execution_count": 77,
   "id": "9c061687",
   "metadata": {
    "ExecuteTime": {
     "end_time": "2021-11-12T16:19:15.591259Z",
     "start_time": "2021-11-12T16:19:15.576782Z"
    }
   },
   "outputs": [],
   "source": [
    "import os\n",
    "import numpy as np \n",
    "import pandas as pd \n",
    "from itertools import islice, cycle\n",
    "from more_itertools import pairwise\n",
    "import scipy.sparse as sp\n",
    "from itertools import islice, cycle"
   ]
  },
  {
   "cell_type": "code",
   "execution_count": null,
   "id": "c06cfafc",
   "metadata": {},
   "outputs": [],
   "source": []
  },
  {
   "cell_type": "code",
   "execution_count": 78,
   "id": "8c7570fe",
   "metadata": {
    "ExecuteTime": {
     "end_time": "2021-11-12T16:19:16.551140Z",
     "start_time": "2021-11-12T16:19:16.243937Z"
    }
   },
   "outputs": [],
   "source": [
    "df = pd.read_pickle('data/interactions_preprocessed.pickle')\n",
    "df_users = pd.read_pickle('data/users_preprocessed.pickle')\n",
    "df_items = pd.read_pickle('data/items_preprocessed.pickle')"
   ]
  },
  {
   "cell_type": "code",
   "execution_count": 79,
   "id": "302e742f",
   "metadata": {
    "ExecuteTime": {
     "end_time": "2021-11-12T16:19:16.571122Z",
     "start_time": "2021-11-12T16:19:16.553433Z"
    }
   },
   "outputs": [
    {
     "data": {
      "text/plain": [
       "((1532998, 5), (142888, 3), (59599, 5))"
      ]
     },
     "execution_count": 79,
     "metadata": {},
     "output_type": "execute_result"
    }
   ],
   "source": [
    "df.shape, df_users.shape, df_items.shape"
   ]
  },
  {
   "cell_type": "code",
   "execution_count": 80,
   "id": "d3d28b28",
   "metadata": {
    "ExecuteTime": {
     "end_time": "2021-11-12T16:19:22.018202Z",
     "start_time": "2021-11-12T16:19:21.960664Z"
    }
   },
   "outputs": [
    {
     "data": {
      "text/plain": [
       "151600"
      ]
     },
     "execution_count": 80,
     "metadata": {},
     "output_type": "execute_result"
    }
   ],
   "source": [
    "users_inv_mapping = dict(enumerate(df['user_id'].unique()))\n",
    "users_mapping = {v: k for k, v in users_inv_mapping.items()}\n",
    "len(users_mapping)"
   ]
  },
  {
   "cell_type": "code",
   "execution_count": 81,
   "id": "5bfdcacb",
   "metadata": {
    "ExecuteTime": {
     "end_time": "2021-11-12T16:19:22.222044Z",
     "start_time": "2021-11-12T16:19:22.193637Z"
    }
   },
   "outputs": [
    {
     "data": {
      "text/plain": [
       "59599"
      ]
     },
     "execution_count": 81,
     "metadata": {},
     "output_type": "execute_result"
    }
   ],
   "source": [
    "items_inv_mapping = dict(enumerate(df['item_id'].unique()))\n",
    "items_mapping = {v: k for k, v in items_inv_mapping.items()}\n",
    "len(items_mapping)"
   ]
  },
  {
   "cell_type": "code",
   "execution_count": 82,
   "id": "82c4b110",
   "metadata": {
    "ExecuteTime": {
     "end_time": "2021-11-12T16:19:22.502012Z",
     "start_time": "2021-11-12T16:19:22.446412Z"
    }
   },
   "outputs": [
    {
     "data": {
      "text/plain": [
       "(59599, 'ворон-челобитчик')"
      ]
     },
     "execution_count": 82,
     "metadata": {},
     "output_type": "execute_result"
    }
   ],
   "source": [
    "df_items['title'] = df_items['title'].str.lower()\n",
    "item_titles = pd.Series(df_items['title'].values, index=df_items['id']).to_dict()\n",
    "len(item_titles), item_titles[128115]"
   ]
  },
  {
   "cell_type": "code",
   "execution_count": 83,
   "id": "3a5c2302",
   "metadata": {
    "ExecuteTime": {
     "end_time": "2021-11-12T16:19:23.552917Z",
     "start_time": "2021-11-12T16:19:22.546561Z"
    }
   },
   "outputs": [
    {
     "data": {
      "text/plain": [
       "title\n",
       "# 20 восьмая                                                     [201623]\n",
       "# duo                                                             [72582]\n",
       "# me too. роман                                                  [171172]\n",
       "# партия                                                         [224512]\n",
       "#1917: человек из раньшего времени. библиотека «проекта 1917»    [230768]\n",
       "                                                                   ...   \n",
       "…чума на оба ваши дома!                                          [226481]\n",
       "№ 12, или история одного прекрасного юноши                        [20979]\n",
       "伦巴德人的故事                                                          [119226]\n",
       "地球への旅                                                            [148400]\n",
       "�baby blues�                                                      [98635]\n",
       "Name: id, Length: 57289, dtype: object"
      ]
     },
     "execution_count": 83,
     "metadata": {},
     "output_type": "execute_result"
    }
   ],
   "source": [
    "title_items = df_items.groupby('title')['id'].agg(list)\n",
    "title_items"
   ]
  },
  {
   "cell_type": "code",
   "execution_count": 84,
   "id": "1d59eea3",
   "metadata": {
    "ExecuteTime": {
     "end_time": "2021-11-12T16:19:23.960660Z",
     "start_time": "2021-11-12T16:19:23.943565Z"
    }
   },
   "outputs": [
    {
     "data": {
      "text/plain": [
       "1     55708\n",
       "2      1197\n",
       "3       245\n",
       "4        71\n",
       "5        38\n",
       "6        11\n",
       "7         8\n",
       "8         3\n",
       "9         2\n",
       "23        1\n",
       "18        1\n",
       "47        1\n",
       "13        1\n",
       "12        1\n",
       "11        1\n",
       "Name: id, dtype: int64"
      ]
     },
     "execution_count": 84,
     "metadata": {},
     "output_type": "execute_result"
    }
   ],
   "source": [
    "title_count = title_items.map(len)\n",
    "title_count.value_counts()"
   ]
  },
  {
   "cell_type": "code",
   "execution_count": 85,
   "id": "0dbce9d4",
   "metadata": {
    "ExecuteTime": {
     "end_time": "2021-11-12T16:19:26.324316Z",
     "start_time": "2021-11-12T16:19:26.287346Z"
    }
   },
   "outputs": [
    {
     "data": {
      "text/html": [
       "<div>\n",
       "<style scoped>\n",
       "    .dataframe tbody tr th:only-of-type {\n",
       "        vertical-align: middle;\n",
       "    }\n",
       "\n",
       "    .dataframe tbody tr th {\n",
       "        vertical-align: top;\n",
       "    }\n",
       "\n",
       "    .dataframe thead tr th {\n",
       "        text-align: left;\n",
       "    }\n",
       "\n",
       "    .dataframe thead tr:last-of-type th {\n",
       "        text-align: right;\n",
       "    }\n",
       "</style>\n",
       "<table border=\"1\" class=\"dataframe\">\n",
       "  <thead>\n",
       "    <tr>\n",
       "      <th></th>\n",
       "      <th>progress</th>\n",
       "      <th>rating</th>\n",
       "      <th colspan=\"2\" halign=\"left\">start_date</th>\n",
       "    </tr>\n",
       "    <tr>\n",
       "      <th></th>\n",
       "      <th>size</th>\n",
       "      <th>mean</th>\n",
       "      <th>min</th>\n",
       "      <th>max</th>\n",
       "    </tr>\n",
       "    <tr>\n",
       "      <th>item_id</th>\n",
       "      <th></th>\n",
       "      <th></th>\n",
       "      <th></th>\n",
       "      <th></th>\n",
       "    </tr>\n",
       "  </thead>\n",
       "  <tbody>\n",
       "    <tr>\n",
       "      <th>44681</th>\n",
       "      <td>353</td>\n",
       "      <td>4.56</td>\n",
       "      <td>2018-01-24</td>\n",
       "      <td>2019-12-20</td>\n",
       "    </tr>\n",
       "    <tr>\n",
       "      <th>162716</th>\n",
       "      <td>59</td>\n",
       "      <td>4.80</td>\n",
       "      <td>2018-01-25</td>\n",
       "      <td>2019-12-30</td>\n",
       "    </tr>\n",
       "  </tbody>\n",
       "</table>\n",
       "</div>"
      ],
      "text/plain": [
       "        progress rating start_date           \n",
       "            size   mean        min        max\n",
       "item_id                                      \n",
       "44681        353   4.56 2018-01-24 2019-12-20\n",
       "162716        59   4.80 2018-01-25 2019-12-30"
      ]
     },
     "execution_count": 85,
     "metadata": {},
     "output_type": "execute_result"
    }
   ],
   "source": [
    "df['rating'] = np.array(df['rating'].values, dtype=np.float32)\n",
    "\n",
    "df.loc[df['item_id'].isin([44681, 162716])].groupby('item_id').agg({\n",
    "    'progress': np.size,\n",
    "    'rating': ['mean'],\n",
    "    'start_date': ['min', 'max'],\n",
    "})"
   ]
  },
  {
   "cell_type": "code",
   "execution_count": 86,
   "id": "dbfc6876",
   "metadata": {
    "ExecuteTime": {
     "end_time": "2021-11-12T16:19:26.643603Z",
     "start_time": "2021-11-12T16:19:26.633706Z"
    }
   },
   "outputs": [
    {
     "data": {
      "text/plain": [
       "(Timestamp('2019-12-24 00:00:00'), Timestamp('2019-12-31 00:00:00'))"
      ]
     },
     "execution_count": 86,
     "metadata": {},
     "output_type": "execute_result"
    }
   ],
   "source": [
    "last_date = df['start_date'].max().normalize()\n",
    "folds = 7\n",
    "start_date = last_date - pd.Timedelta(days=folds)\n",
    "start_date, last_date"
   ]
  },
  {
   "cell_type": "code",
   "execution_count": 87,
   "id": "776953a2",
   "metadata": {
    "ExecuteTime": {
     "end_time": "2021-11-12T16:19:26.842618Z",
     "start_time": "2021-11-12T16:19:26.829481Z"
    }
   },
   "outputs": [],
   "source": [
    "class TimeRangeSplit():\n",
    "    \"\"\"\n",
    "        https://pandas.pydata.org/pandas-docs/stable/reference/api/pandas.date_range.html\n",
    "    \"\"\"\n",
    "    def __init__(self, \n",
    "                 start_date, \n",
    "                 end_date=None, \n",
    "                 freq='D', \n",
    "                 periods=None, \n",
    "                 tz=None, \n",
    "                 normalize=False, \n",
    "                 closed=None, \n",
    "                 train_min_date=None,\n",
    "                 filter_cold_users=True, \n",
    "                 filter_cold_items=True, \n",
    "                 filter_already_seen=True):\n",
    "        \n",
    "        self.start_date = start_date\n",
    "        if end_date is None and periods is None:\n",
    "            raise ValueError(\"Either 'end_date' or 'periods' must be non-zero, not both at the same time.\")\n",
    "\n",
    "        self.end_date = end_date\n",
    "        self.freq = freq\n",
    "        self.periods = periods\n",
    "        self.tz = tz\n",
    "        self.normalize = normalize\n",
    "        self.closed = closed\n",
    "        self.train_min_date = pd.to_datetime(train_min_date, errors='raise')\n",
    "        self.filter_cold_users = filter_cold_users\n",
    "        self.filter_cold_items = filter_cold_items\n",
    "        self.filter_already_seen = filter_already_seen\n",
    "\n",
    "        self.date_range = pd.date_range(\n",
    "            start=start_date, \n",
    "            end=end_date, \n",
    "            freq=freq, \n",
    "            periods=periods, \n",
    "            tz=tz, \n",
    "            normalize=normalize, \n",
    "            closed=closed)\n",
    "\n",
    "        self.max_n_splits = max(0, len(self.date_range) - 1)\n",
    "        if self.max_n_splits == 0:\n",
    "            raise ValueError(\"Provided parametrs set an empty date range.\") \n",
    "\n",
    "    def split(self, \n",
    "              df, \n",
    "              user_column='user_id',\n",
    "              item_column='item_id',\n",
    "              datetime_column='date',\n",
    "              fold_stats=False):\n",
    "        df_datetime = df[datetime_column]\n",
    "        if self.train_min_date is not None:\n",
    "            train_min_mask = df_datetime >= self.train_min_date\n",
    "        else:\n",
    "            train_min_mask = df_datetime.notnull()\n",
    "\n",
    "        date_range = self.date_range[(self.date_range >= df_datetime.min()) & \n",
    "                                     (self.date_range <= df_datetime.max())]\n",
    "\n",
    "        for start, end in pairwise(date_range):\n",
    "            fold_info = {\n",
    "                'Start date': start,\n",
    "                'End date': end\n",
    "            }\n",
    "            train_mask = train_min_mask & (df_datetime < start)\n",
    "            train_idx = df.index[train_mask]\n",
    "            if fold_stats:\n",
    "                fold_info['Train'] = len(train_idx)\n",
    "\n",
    "            test_mask = (df_datetime >= start) & (df_datetime < end)\n",
    "            test_idx = df.index[test_mask]\n",
    "            \n",
    "            if self.filter_cold_users:\n",
    "                new = np.setdiff1d(\n",
    "                    df.loc[test_idx, user_column].unique(), \n",
    "                    df.loc[train_idx, user_column].unique())\n",
    "                new_idx = df.index[test_mask & df[user_column].isin(new)]\n",
    "                test_idx = np.setdiff1d(test_idx, new_idx)\n",
    "                test_mask = df.index.isin(test_idx)\n",
    "                if fold_stats:\n",
    "                    fold_info['New users'] = len(new)\n",
    "                    fold_info['New users interactions'] = len(new_idx)\n",
    "\n",
    "            if self.filter_cold_items:\n",
    "                new = np.setdiff1d(\n",
    "                    df.loc[test_idx, item_column].unique(), \n",
    "                    df.loc[train_idx, item_column].unique())\n",
    "                new_idx = df.index[test_mask & df[item_column].isin(new)]\n",
    "                test_idx = np.setdiff1d(test_idx, new_idx)\n",
    "                test_mask = df.index.isin(test_idx)\n",
    "                if fold_stats:\n",
    "                    fold_info['New items'] = len(new)\n",
    "                    fold_info['New items interactions'] = len(new_idx)\n",
    "\n",
    "            if self.filter_already_seen:\n",
    "                user_item = [user_column, item_column]\n",
    "                train_pairs = df.loc[train_idx, user_item].set_index(user_item).index\n",
    "                test_pairs = df.loc[test_idx, user_item].set_index(user_item).index\n",
    "                intersection = train_pairs.intersection(test_pairs)\n",
    "                test_idx = test_idx[~test_pairs.isin(intersection)]\n",
    "                # test_mask = rd.df.index.isin(test_idx)\n",
    "                if fold_stats:\n",
    "                    fold_info['Known interactions'] = len(intersection)\n",
    "\n",
    "            if fold_stats:\n",
    "                fold_info['Test'] = len(test_idx)\n",
    "\n",
    "            yield (train_idx, test_idx, fold_info)\n",
    "\n",
    "    def get_n_splits(self, df, datetime_column='date'):\n",
    "        df_datetime = df[datetime_column]\n",
    "        if self.train_min_date is not None:\n",
    "            df_datetime = df_datetime[df_datetime >= self.train_min_date]\n",
    "\n",
    "        date_range = self.date_range[(self.date_range >= df_datetime.min()) & \n",
    "                                     (self.date_range <= df_datetime.max())]\n",
    "\n",
    "        return max(0, len(date_range) - 1)\n"
   ]
  },
  {
   "cell_type": "code",
   "execution_count": 88,
   "id": "f8b1052c",
   "metadata": {
    "ExecuteTime": {
     "end_time": "2021-11-12T16:19:27.287088Z",
     "start_time": "2021-11-12T16:19:27.279467Z"
    }
   },
   "outputs": [
    {
     "data": {
      "text/plain": [
       "(Timestamp('2019-12-24 00:00:00'), Timestamp('2019-12-31 00:00:00'))"
      ]
     },
     "execution_count": 88,
     "metadata": {},
     "output_type": "execute_result"
    }
   ],
   "source": [
    "last_date = df['start_date'].max().normalize()\n",
    "folds = 7\n",
    "start_date = last_date - pd.Timedelta(days=folds)\n",
    "start_date, last_date"
   ]
  },
  {
   "cell_type": "code",
   "execution_count": 89,
   "id": "e50333f0",
   "metadata": {
    "ExecuteTime": {
     "end_time": "2021-11-12T16:19:27.392523Z",
     "start_time": "2021-11-12T16:19:27.375032Z"
    }
   },
   "outputs": [
    {
     "data": {
      "text/plain": [
       "(7, 7)"
      ]
     },
     "execution_count": 89,
     "metadata": {},
     "output_type": "execute_result"
    }
   ],
   "source": [
    "cv = TimeRangeSplit(start_date=start_date, periods=folds+1)\n",
    "\n",
    "cv.max_n_splits, cv.get_n_splits(df, datetime_column='start_date')"
   ]
  },
  {
   "cell_type": "code",
   "execution_count": 90,
   "id": "0c381ce2",
   "metadata": {
    "ExecuteTime": {
     "end_time": "2021-11-12T16:19:40.321570Z",
     "start_time": "2021-11-12T16:19:29.926010Z"
    }
   },
   "outputs": [],
   "source": [
    "folds_with_stats = list(cv.split(\n",
    "    df, \n",
    "    user_column='user_id',\n",
    "    item_column='item_id',\n",
    "    datetime_column='start_date',\n",
    "    fold_stats=True\n",
    "))\n",
    "\n",
    "folds_info_with_stats = pd.DataFrame([info for _, _, info in folds_with_stats])"
   ]
  },
  {
   "cell_type": "code",
   "execution_count": 91,
   "id": "b910e022",
   "metadata": {
    "ExecuteTime": {
     "end_time": "2021-11-12T16:19:40.327437Z",
     "start_time": "2021-11-12T16:19:40.323285Z"
    }
   },
   "outputs": [
    {
     "data": {
      "text/plain": [
       "[(Timestamp('2019-12-24 00:00:00', freq='D'),\n",
       "  Timestamp('2019-12-25 00:00:00', freq='D')),\n",
       " (Timestamp('2019-12-25 00:00:00', freq='D'),\n",
       "  Timestamp('2019-12-26 00:00:00', freq='D')),\n",
       " (Timestamp('2019-12-26 00:00:00', freq='D'),\n",
       "  Timestamp('2019-12-27 00:00:00', freq='D')),\n",
       " (Timestamp('2019-12-27 00:00:00', freq='D'),\n",
       "  Timestamp('2019-12-28 00:00:00', freq='D')),\n",
       " (Timestamp('2019-12-28 00:00:00', freq='D'),\n",
       "  Timestamp('2019-12-29 00:00:00', freq='D')),\n",
       " (Timestamp('2019-12-29 00:00:00', freq='D'),\n",
       "  Timestamp('2019-12-30 00:00:00', freq='D')),\n",
       " (Timestamp('2019-12-30 00:00:00', freq='D'),\n",
       "  Timestamp('2019-12-31 00:00:00', freq='D'))]"
      ]
     },
     "execution_count": 91,
     "metadata": {},
     "output_type": "execute_result"
    }
   ],
   "source": [
    "fold_dates = [(info['Start date'], info['End date']) for _, _, info in folds_with_stats]\n",
    "fold_dates\n"
   ]
  },
  {
   "cell_type": "code",
   "execution_count": 92,
   "id": "29c50e88",
   "metadata": {
    "ExecuteTime": {
     "end_time": "2021-11-12T16:19:40.332407Z",
     "start_time": "2021-11-12T16:19:40.328484Z"
    }
   },
   "outputs": [],
   "source": [
    "def compute_metrics(df_true, df_pred, top_N):\n",
    "    result = {}\n",
    "    test_recs = df_true.set_index(['user_id', 'item_id']).join(df_pred.set_index(['user_id', 'item_id']))\n",
    "    test_recs = test_recs.sort_values(by=['user_id', 'rank'])\n",
    "\n",
    "    test_recs['users_item_count'] = test_recs.groupby(level='user_id')['rank'].transform(np.size)\n",
    "    test_recs['reciprocal_rank'] = (1 / test_recs['rank']).fillna(0)\n",
    "    test_recs['cumulative_rank'] = test_recs.groupby(level='user_id').cumcount() + 1\n",
    "    test_recs['cumulative_rank'] = test_recs['cumulative_rank'] / test_recs['rank']\n",
    "    \n",
    "    # код из прошлого заданния про метрики"
   ]
  },
  {
   "cell_type": "code",
   "execution_count": 93,
   "id": "e89496c7",
   "metadata": {
    "ExecuteTime": {
     "end_time": "2021-11-12T16:19:40.427909Z",
     "start_time": "2021-11-12T16:19:40.333802Z"
    }
   },
   "outputs": [
    {
     "data": {
      "text/plain": [
       "((1515946, 5), (2045, 5))"
      ]
     },
     "execution_count": 93,
     "metadata": {},
     "output_type": "execute_result"
    }
   ],
   "source": [
    "train_idx, test_idx, info = folds_with_stats[0]\n",
    "\n",
    "train = df.loc[train_idx]\n",
    "test = df.loc[test_idx]\n",
    "train.shape, test.shape"
   ]
  },
  {
   "cell_type": "code",
   "execution_count": 94,
   "id": "3ce22b0e",
   "metadata": {
    "ExecuteTime": {
     "end_time": "2021-11-12T16:19:40.432587Z",
     "start_time": "2021-11-12T16:19:40.428942Z"
    }
   },
   "outputs": [],
   "source": [
    "def get_coo_matrix(df, \n",
    "                   user_col='user_id', \n",
    "                   item_col='item_id', \n",
    "                   weight_col=None, \n",
    "                   users_mapping=users_mapping, \n",
    "                   items_mapping=items_mapping):\n",
    "    if weight_col is None:\n",
    "        weights = np.ones(len(df), dtype=np.float32)\n",
    "    else:\n",
    "        weights = df[weight_col].astype(np.float32)\n",
    "\n",
    "    interaction_matrix = sp.coo_matrix((\n",
    "        weights, \n",
    "        (\n",
    "            df[user_col].map(users_mapping.get), \n",
    "            df[item_col].map(items_mapping.get)\n",
    "        )\n",
    "    ))\n",
    "    return interaction_matrix"
   ]
  },
  {
   "cell_type": "code",
   "execution_count": 95,
   "id": "605b930a",
   "metadata": {
    "ExecuteTime": {
     "end_time": "2021-11-12T16:19:41.895726Z",
     "start_time": "2021-11-12T16:19:40.433610Z"
    }
   },
   "outputs": [
    {
     "data": {
      "text/plain": [
       "<151589x59599 sparse matrix of type '<class 'numpy.float32'>'\n",
       "\twith 1515946 stored elements in Compressed Sparse Row format>"
      ]
     },
     "execution_count": 95,
     "metadata": {},
     "output_type": "execute_result"
    }
   ],
   "source": [
    "train_mat = get_coo_matrix(train).tocsr()\n",
    "train_mat\n"
   ]
  },
  {
   "cell_type": "code",
   "execution_count": 96,
   "id": "972f42dd",
   "metadata": {
    "ExecuteTime": {
     "end_time": "2021-11-12T16:19:44.417958Z",
     "start_time": "2021-11-12T16:19:44.347574Z"
    }
   },
   "outputs": [],
   "source": [
    "from implicit.nearest_neighbours import CosineRecommender, TFIDFRecommender, BM25Recommender"
   ]
  },
  {
   "cell_type": "code",
   "execution_count": 97,
   "id": "b2225791",
   "metadata": {
    "ExecuteTime": {
     "end_time": "2021-11-12T16:19:46.344851Z",
     "start_time": "2021-11-12T16:19:44.897252Z"
    }
   },
   "outputs": [
    {
     "data": {
      "application/vnd.jupyter.widget-view+json": {
       "model_id": "848820808e8646638208a80cceb471fb",
       "version_major": 2,
       "version_minor": 0
      },
      "text/plain": [
       "  0%|          | 0/59599 [00:00<?, ?it/s]"
      ]
     },
     "metadata": {},
     "output_type": "display_data"
    }
   ],
   "source": [
    "cosine_model = CosineRecommender(K=10)\n",
    "cosine_model.fit(train_mat.T) # "
   ]
  },
  {
   "cell_type": "code",
   "execution_count": 98,
   "id": "19777d3c",
   "metadata": {
    "ExecuteTime": {
     "end_time": "2021-11-12T16:19:47.705509Z",
     "start_time": "2021-11-12T16:19:46.346641Z"
    }
   },
   "outputs": [
    {
     "data": {
      "application/vnd.jupyter.widget-view+json": {
       "model_id": "986a9ea91ea442039492babf64e4ef68",
       "version_major": 2,
       "version_minor": 0
      },
      "text/plain": [
       "  0%|          | 0/59599 [00:00<?, ?it/s]"
      ]
     },
     "metadata": {},
     "output_type": "display_data"
    }
   ],
   "source": [
    "md = BM25Recommender()\n",
    "md.fit(train_mat.T) # "
   ]
  },
  {
   "cell_type": "code",
   "execution_count": 99,
   "id": "c622aaa7",
   "metadata": {
    "ExecuteTime": {
     "end_time": "2021-11-12T16:19:47.710989Z",
     "start_time": "2021-11-12T16:19:47.706890Z"
    }
   },
   "outputs": [
    {
     "name": "stdout",
     "output_type": "stream",
     "text": [
      "Рекомендации для пользователя 139942, номер строки - 10346\n"
     ]
    }
   ],
   "source": [
    "top_N = 10\n",
    "user_id = test['user_id'].iloc[0]\n",
    "row_id = users_mapping[user_id]\n",
    "print(f'Рекомендации для пользователя {user_id}, номер строки - {row_id}')"
   ]
  },
  {
   "cell_type": "code",
   "execution_count": 100,
   "id": "ca6a80bf",
   "metadata": {
    "ExecuteTime": {
     "end_time": "2021-11-12T16:19:49.206341Z",
     "start_time": "2021-11-12T16:19:49.197733Z"
    }
   },
   "outputs": [
    {
     "data": {
      "text/html": [
       "<div>\n",
       "<style scoped>\n",
       "    .dataframe tbody tr th:only-of-type {\n",
       "        vertical-align: middle;\n",
       "    }\n",
       "\n",
       "    .dataframe tbody tr th {\n",
       "        vertical-align: top;\n",
       "    }\n",
       "\n",
       "    .dataframe thead th {\n",
       "        text-align: right;\n",
       "    }\n",
       "</style>\n",
       "<table border=\"1\" class=\"dataframe\">\n",
       "  <thead>\n",
       "    <tr style=\"text-align: right;\">\n",
       "      <th></th>\n",
       "      <th>col_id</th>\n",
       "      <th>similarity</th>\n",
       "    </tr>\n",
       "  </thead>\n",
       "  <tbody>\n",
       "    <tr>\n",
       "      <th>0</th>\n",
       "      <td>4341</td>\n",
       "      <td>0.297014</td>\n",
       "    </tr>\n",
       "    <tr>\n",
       "      <th>1</th>\n",
       "      <td>7353</td>\n",
       "      <td>0.220847</td>\n",
       "    </tr>\n",
       "    <tr>\n",
       "      <th>2</th>\n",
       "      <td>36593</td>\n",
       "      <td>0.215622</td>\n",
       "    </tr>\n",
       "    <tr>\n",
       "      <th>3</th>\n",
       "      <td>3802</td>\n",
       "      <td>0.188025</td>\n",
       "    </tr>\n",
       "    <tr>\n",
       "      <th>4</th>\n",
       "      <td>51215</td>\n",
       "      <td>0.145095</td>\n",
       "    </tr>\n",
       "    <tr>\n",
       "      <th>5</th>\n",
       "      <td>49085</td>\n",
       "      <td>0.128586</td>\n",
       "    </tr>\n",
       "    <tr>\n",
       "      <th>6</th>\n",
       "      <td>37852</td>\n",
       "      <td>0.102340</td>\n",
       "    </tr>\n",
       "    <tr>\n",
       "      <th>7</th>\n",
       "      <td>7873</td>\n",
       "      <td>0.101929</td>\n",
       "    </tr>\n",
       "    <tr>\n",
       "      <th>8</th>\n",
       "      <td>46769</td>\n",
       "      <td>0.100504</td>\n",
       "    </tr>\n",
       "    <tr>\n",
       "      <th>9</th>\n",
       "      <td>56270</td>\n",
       "      <td>0.100504</td>\n",
       "    </tr>\n",
       "  </tbody>\n",
       "</table>\n",
       "</div>"
      ],
      "text/plain": [
       "   col_id  similarity\n",
       "0    4341    0.297014\n",
       "1    7353    0.220847\n",
       "2   36593    0.215622\n",
       "3    3802    0.188025\n",
       "4   51215    0.145095\n",
       "5   49085    0.128586\n",
       "6   37852    0.102340\n",
       "7    7873    0.101929\n",
       "8   46769    0.100504\n",
       "9   56270    0.100504"
      ]
     },
     "execution_count": 100,
     "metadata": {},
     "output_type": "execute_result"
    }
   ],
   "source": [
    "recs = cosine_model.recommend(row_id, train_mat, N=top_N, filter_already_liked_items=True)\n",
    "recs = pd.DataFrame(recs, columns=['col_id', 'similarity'])\n",
    "recs"
   ]
  },
  {
   "cell_type": "code",
   "execution_count": 101,
   "id": "5e7ffd48",
   "metadata": {
    "ExecuteTime": {
     "end_time": "2021-11-12T16:19:49.587770Z",
     "start_time": "2021-11-12T16:19:49.577566Z"
    }
   },
   "outputs": [
    {
     "data": {
      "text/html": [
       "<div>\n",
       "<style scoped>\n",
       "    .dataframe tbody tr th:only-of-type {\n",
       "        vertical-align: middle;\n",
       "    }\n",
       "\n",
       "    .dataframe tbody tr th {\n",
       "        vertical-align: top;\n",
       "    }\n",
       "\n",
       "    .dataframe thead th {\n",
       "        text-align: right;\n",
       "    }\n",
       "</style>\n",
       "<table border=\"1\" class=\"dataframe\">\n",
       "  <thead>\n",
       "    <tr style=\"text-align: right;\">\n",
       "      <th></th>\n",
       "      <th>col_id</th>\n",
       "      <th>similarity</th>\n",
       "      <th>item_id</th>\n",
       "      <th>title</th>\n",
       "    </tr>\n",
       "  </thead>\n",
       "  <tbody>\n",
       "    <tr>\n",
       "      <th>0</th>\n",
       "      <td>4341</td>\n",
       "      <td>0.297014</td>\n",
       "      <td>193358</td>\n",
       "      <td>#охотник на волков</td>\n",
       "    </tr>\n",
       "    <tr>\n",
       "      <th>1</th>\n",
       "      <td>7353</td>\n",
       "      <td>0.220847</td>\n",
       "      <td>125586</td>\n",
       "      <td>меч предназначения</td>\n",
       "    </tr>\n",
       "    <tr>\n",
       "      <th>2</th>\n",
       "      <td>36593</td>\n",
       "      <td>0.215622</td>\n",
       "      <td>203882</td>\n",
       "      <td>#имя для лис</td>\n",
       "    </tr>\n",
       "    <tr>\n",
       "      <th>3</th>\n",
       "      <td>3802</td>\n",
       "      <td>0.188025</td>\n",
       "      <td>90986</td>\n",
       "      <td>кровь эльфов</td>\n",
       "    </tr>\n",
       "    <tr>\n",
       "      <th>4</th>\n",
       "      <td>51215</td>\n",
       "      <td>0.145095</td>\n",
       "      <td>146180</td>\n",
       "      <td>крещение руси</td>\n",
       "    </tr>\n",
       "    <tr>\n",
       "      <th>5</th>\n",
       "      <td>49085</td>\n",
       "      <td>0.128586</td>\n",
       "      <td>264849</td>\n",
       "      <td>сплав закона</td>\n",
       "    </tr>\n",
       "    <tr>\n",
       "      <th>6</th>\n",
       "      <td>37852</td>\n",
       "      <td>0.102340</td>\n",
       "      <td>238155</td>\n",
       "      <td>владычица озера</td>\n",
       "    </tr>\n",
       "    <tr>\n",
       "      <th>7</th>\n",
       "      <td>7873</td>\n",
       "      <td>0.101929</td>\n",
       "      <td>7094</td>\n",
       "      <td>крещение огнем</td>\n",
       "    </tr>\n",
       "    <tr>\n",
       "      <th>8</th>\n",
       "      <td>46769</td>\n",
       "      <td>0.100504</td>\n",
       "      <td>240226</td>\n",
       "      <td>отпущение без грехов</td>\n",
       "    </tr>\n",
       "    <tr>\n",
       "      <th>9</th>\n",
       "      <td>56270</td>\n",
       "      <td>0.100504</td>\n",
       "      <td>1728</td>\n",
       "      <td>«злой город»</td>\n",
       "    </tr>\n",
       "  </tbody>\n",
       "</table>\n",
       "</div>"
      ],
      "text/plain": [
       "   col_id  similarity  item_id                 title\n",
       "0    4341    0.297014   193358    #охотник на волков\n",
       "1    7353    0.220847   125586    меч предназначения\n",
       "2   36593    0.215622   203882          #имя для лис\n",
       "3    3802    0.188025    90986          кровь эльфов\n",
       "4   51215    0.145095   146180         крещение руси\n",
       "5   49085    0.128586   264849          сплав закона\n",
       "6   37852    0.102340   238155       владычица озера\n",
       "7    7873    0.101929     7094        крещение огнем\n",
       "8   46769    0.100504   240226  отпущение без грехов\n",
       "9   56270    0.100504     1728          «злой город»"
      ]
     },
     "execution_count": 101,
     "metadata": {},
     "output_type": "execute_result"
    }
   ],
   "source": [
    "recs['item_id'] = recs['col_id'].map(items_inv_mapping.get)\n",
    "recs['title'] = recs['item_id'].map(item_titles.get)\n",
    "recs"
   ]
  },
  {
   "cell_type": "markdown",
   "id": "cfb4b945",
   "metadata": {
    "ExecuteTime": {
     "end_time": "2021-11-08T19:20:55.969824Z",
     "start_time": "2021-11-08T19:20:55.967505Z"
    }
   },
   "source": [
    "### Выберете наилучшую модель и параметры из Implcict с точки зрения максимизации map@10"
   ]
  },
  {
   "cell_type": "code",
   "execution_count": null,
   "id": "91607e61",
   "metadata": {},
   "outputs": [],
   "source": []
  },
  {
   "cell_type": "markdown",
   "id": "b50bafee",
   "metadata": {},
   "source": [
    "# DSSM Torch"
   ]
  },
  {
   "cell_type": "markdown",
   "id": "1c658ad7",
   "metadata": {},
   "source": [
    "Torch"
   ]
  },
  {
   "cell_type": "code",
   "execution_count": 72,
   "id": "bcc3b217",
   "metadata": {
    "ExecuteTime": {
     "end_time": "2021-11-11T19:06:05.889311Z",
     "start_time": "2021-11-11T19:06:05.499845Z"
    }
   },
   "outputs": [],
   "source": [
    "import torch\n",
    "from torch import nn, optim\n",
    "from torch.utils.data import Dataset, DataLoader\n",
    "import torch.nn.functional as F"
   ]
  },
  {
   "cell_type": "code",
   "execution_count": 73,
   "id": "a501d9e2",
   "metadata": {
    "ExecuteTime": {
     "end_time": "2021-11-11T19:06:06.026442Z",
     "start_time": "2021-11-11T19:06:06.024205Z"
    }
   },
   "outputs": [],
   "source": [
    "from scipy import sparse\n",
    "import typing as tp\n",
    "from tqdm.notebook import tqdm"
   ]
  },
  {
   "cell_type": "code",
   "execution_count": 74,
   "id": "96711d61",
   "metadata": {
    "ExecuteTime": {
     "end_time": "2021-11-11T19:06:06.272970Z",
     "start_time": "2021-11-11T19:06:06.265551Z"
    }
   },
   "outputs": [
    {
     "data": {
      "text/html": [
       "<div>\n",
       "<style scoped>\n",
       "    .dataframe tbody tr th:only-of-type {\n",
       "        vertical-align: middle;\n",
       "    }\n",
       "\n",
       "    .dataframe tbody tr th {\n",
       "        vertical-align: top;\n",
       "    }\n",
       "\n",
       "    .dataframe thead th {\n",
       "        text-align: right;\n",
       "    }\n",
       "</style>\n",
       "<table border=\"1\" class=\"dataframe\">\n",
       "  <thead>\n",
       "    <tr style=\"text-align: right;\">\n",
       "      <th></th>\n",
       "      <th>user_id</th>\n",
       "      <th>item_id</th>\n",
       "      <th>progress</th>\n",
       "      <th>rating</th>\n",
       "      <th>start_date</th>\n",
       "    </tr>\n",
       "  </thead>\n",
       "  <tbody>\n",
       "    <tr>\n",
       "      <th>0</th>\n",
       "      <td>126706</td>\n",
       "      <td>14433</td>\n",
       "      <td>80</td>\n",
       "      <td>NaN</td>\n",
       "      <td>2018-01-01</td>\n",
       "    </tr>\n",
       "    <tr>\n",
       "      <th>1</th>\n",
       "      <td>127290</td>\n",
       "      <td>140952</td>\n",
       "      <td>58</td>\n",
       "      <td>NaN</td>\n",
       "      <td>2018-01-01</td>\n",
       "    </tr>\n",
       "    <tr>\n",
       "      <th>2</th>\n",
       "      <td>66991</td>\n",
       "      <td>198453</td>\n",
       "      <td>89</td>\n",
       "      <td>NaN</td>\n",
       "      <td>2018-01-01</td>\n",
       "    </tr>\n",
       "    <tr>\n",
       "      <th>3</th>\n",
       "      <td>46791</td>\n",
       "      <td>83486</td>\n",
       "      <td>23</td>\n",
       "      <td>5.0</td>\n",
       "      <td>2018-01-01</td>\n",
       "    </tr>\n",
       "    <tr>\n",
       "      <th>4</th>\n",
       "      <td>79313</td>\n",
       "      <td>188770</td>\n",
       "      <td>88</td>\n",
       "      <td>5.0</td>\n",
       "      <td>2018-01-01</td>\n",
       "    </tr>\n",
       "  </tbody>\n",
       "</table>\n",
       "</div>"
      ],
      "text/plain": [
       "   user_id  item_id  progress  rating start_date\n",
       "0   126706    14433        80     NaN 2018-01-01\n",
       "1   127290   140952        58     NaN 2018-01-01\n",
       "2    66991   198453        89     NaN 2018-01-01\n",
       "3    46791    83486        23     5.0 2018-01-01\n",
       "4    79313   188770        88     5.0 2018-01-01"
      ]
     },
     "execution_count": 74,
     "metadata": {},
     "output_type": "execute_result"
    }
   ],
   "source": [
    "df.head()"
   ]
  },
  {
   "cell_type": "code",
   "execution_count": 75,
   "id": "20ff419f",
   "metadata": {
    "ExecuteTime": {
     "end_time": "2021-11-11T19:06:06.644616Z",
     "start_time": "2021-11-11T19:06:06.628917Z"
    }
   },
   "outputs": [
    {
     "data": {
      "text/plain": [
       "7"
      ]
     },
     "execution_count": 75,
     "metadata": {},
     "output_type": "execute_result"
    }
   ],
   "source": [
    "cv.get_n_splits(df, datetime_column='start_date')"
   ]
  },
  {
   "cell_type": "code",
   "execution_count": 76,
   "id": "3c50cea2",
   "metadata": {
    "ExecuteTime": {
     "end_time": "2021-11-11T19:06:17.201025Z",
     "start_time": "2021-11-11T19:06:07.037946Z"
    }
   },
   "outputs": [
    {
     "name": "stdout",
     "output_type": "stream",
     "text": [
      "CPU times: user 8.72 s, sys: 1.44 s, total: 10.2 s\n",
      "Wall time: 10.2 s\n"
     ]
    },
    {
     "data": {
      "text/html": [
       "<div>\n",
       "<style scoped>\n",
       "    .dataframe tbody tr th:only-of-type {\n",
       "        vertical-align: middle;\n",
       "    }\n",
       "\n",
       "    .dataframe tbody tr th {\n",
       "        vertical-align: top;\n",
       "    }\n",
       "\n",
       "    .dataframe thead th {\n",
       "        text-align: right;\n",
       "    }\n",
       "</style>\n",
       "<table border=\"1\" class=\"dataframe\">\n",
       "  <thead>\n",
       "    <tr style=\"text-align: right;\">\n",
       "      <th></th>\n",
       "      <th>Start date</th>\n",
       "      <th>End date</th>\n",
       "    </tr>\n",
       "  </thead>\n",
       "  <tbody>\n",
       "    <tr>\n",
       "      <th>0</th>\n",
       "      <td>2019-12-24</td>\n",
       "      <td>2019-12-25</td>\n",
       "    </tr>\n",
       "    <tr>\n",
       "      <th>1</th>\n",
       "      <td>2019-12-25</td>\n",
       "      <td>2019-12-26</td>\n",
       "    </tr>\n",
       "    <tr>\n",
       "      <th>2</th>\n",
       "      <td>2019-12-26</td>\n",
       "      <td>2019-12-27</td>\n",
       "    </tr>\n",
       "    <tr>\n",
       "      <th>3</th>\n",
       "      <td>2019-12-27</td>\n",
       "      <td>2019-12-28</td>\n",
       "    </tr>\n",
       "    <tr>\n",
       "      <th>4</th>\n",
       "      <td>2019-12-28</td>\n",
       "      <td>2019-12-29</td>\n",
       "    </tr>\n",
       "    <tr>\n",
       "      <th>5</th>\n",
       "      <td>2019-12-29</td>\n",
       "      <td>2019-12-30</td>\n",
       "    </tr>\n",
       "    <tr>\n",
       "      <th>6</th>\n",
       "      <td>2019-12-30</td>\n",
       "      <td>2019-12-31</td>\n",
       "    </tr>\n",
       "  </tbody>\n",
       "</table>\n",
       "</div>"
      ],
      "text/plain": [
       "  Start date   End date\n",
       "0 2019-12-24 2019-12-25\n",
       "1 2019-12-25 2019-12-26\n",
       "2 2019-12-26 2019-12-27\n",
       "3 2019-12-27 2019-12-28\n",
       "4 2019-12-28 2019-12-29\n",
       "5 2019-12-29 2019-12-30\n",
       "6 2019-12-30 2019-12-31"
      ]
     },
     "execution_count": 76,
     "metadata": {},
     "output_type": "execute_result"
    }
   ],
   "source": [
    "%%time\n",
    "folds = list(cv.split(df, datetime_column='start_date'))\n",
    "pd.DataFrame([stats for _, _, stats in folds])"
   ]
  },
  {
   "cell_type": "code",
   "execution_count": 77,
   "id": "1bdb8fad",
   "metadata": {
    "ExecuteTime": {
     "end_time": "2021-11-11T19:06:17.306380Z",
     "start_time": "2021-11-11T19:06:17.202523Z"
    }
   },
   "outputs": [],
   "source": [
    "df['user_id'] = df['user_id'].astype('category')\n",
    "df['item_id'] = df['item_id'].astype('category')"
   ]
  },
  {
   "cell_type": "code",
   "execution_count": 78,
   "id": "a7c5901f",
   "metadata": {
    "ExecuteTime": {
     "end_time": "2021-11-11T19:06:17.313606Z",
     "start_time": "2021-11-11T19:06:17.307642Z"
    }
   },
   "outputs": [],
   "source": [
    "class DSSM(nn.Module):\n",
    "    \n",
    "    def __init__(\n",
    "        self,\n",
    "        uf_dim: int,\n",
    "        uf1_dim: int,\n",
    "        uf2_dim: int,\n",
    "        if_dim: int,\n",
    "        if1_dim: int,\n",
    "        if2_dim: int,\n",
    "        final_dim: int,\n",
    "        dropout: float,\n",
    "    ):\n",
    "        super().__init__()\n",
    "        \n",
    "        self.user_seq = nn.Sequential(\n",
    "            nn.Linear(uf_dim, uf1_dim),\n",
    "            nn.BatchNorm1d(uf1_dim),\n",
    "            nn.ReLU(),\n",
    "            nn.Dropout(dropout),\n",
    "            \n",
    "            nn.Linear(uf1_dim, uf2_dim),\n",
    "            nn.BatchNorm1d(uf2_dim),\n",
    "            nn.ReLU(),\n",
    "            nn.Dropout(dropout),\n",
    "            \n",
    "            nn.Linear(uf2_dim, final_dim),\n",
    "            nn.BatchNorm1d(final_dim),\n",
    "            nn.ReLU(),\n",
    "        )\n",
    "        self.item_seq = nn.Sequential(\n",
    "            nn.Linear(if_dim, if1_dim),\n",
    "            nn.BatchNorm1d(if1_dim),\n",
    "            nn.ReLU(),\n",
    "            nn.Dropout(dropout),\n",
    "            \n",
    "            nn.Linear(if1_dim, if2_dim),\n",
    "            nn.BatchNorm1d(if2_dim),\n",
    "            nn.ReLU(),\n",
    "            nn.Dropout(dropout),\n",
    "            \n",
    "            nn.Linear(if2_dim, final_dim),\n",
    "            nn.BatchNorm1d(final_dim),\n",
    "            nn.ReLU(),\n",
    "        )        \n",
    "        self.cosine = nn.CosineSimilarity()\n",
    "    \n",
    "    def forward(\n",
    "        self,\n",
    "        user_features,\n",
    "        item_features,\n",
    "    ):\n",
    "        user_vec = self.user_seq(user_features)\n",
    "        item_vec = self.item_seq(item_features)\n",
    "        sim = self.cosine(user_vec, item_vec)\n",
    "        return sim"
   ]
  },
  {
   "cell_type": "code",
   "execution_count": 79,
   "id": "9b189929",
   "metadata": {
    "ExecuteTime": {
     "end_time": "2021-11-11T19:06:17.323417Z",
     "start_time": "2021-11-11T19:06:17.315061Z"
    }
   },
   "outputs": [],
   "source": [
    "def csr_to_tensor(csr: sparse.csr_matrix, flatten=False) -> torch.Tensor:\n",
    "    arr = csr.toarray()\n",
    "    if flatten:\n",
    "        arr = arr.reshape(-1)\n",
    "    return torch.from_numpy(arr)\n",
    "\n",
    "\n",
    "def make_id_csr(ids: pd.Series, n_cols: int) -> sparse.csr_matrix:\n",
    "    csr = sparse.csr_matrix(\n",
    "        (\n",
    "            np.ones(len(ids)),\n",
    "            (\n",
    "                np.arange(len(ids)),\n",
    "                ids,\n",
    "            )\n",
    "        ),\n",
    "        shape=(len(ids), n_cols),\n",
    "    )\n",
    "    return csr\n",
    "\n",
    "def binary_accuracy(true: torch.Tensor, pred: torch.Tensor) -> torch.Tensor:\n",
    "    predicted_labels = torch.round(torch.sigmoid(pred))\n",
    "    correct = (predicted_labels == true).float()\n",
    "    acc = correct.sum(axis=0) / len(correct)\n",
    "    return acc\n",
    "\n",
    "\n",
    "\n",
    "def process_epoch(\n",
    "    net: nn.Module,\n",
    "    loader: DataLoader,  # type: ignore\n",
    "    optimizer: optim.Optimizer,\n",
    "    criterion: nn.modules.loss._Loss,\n",
    "    device: torch.device,\n",
    "    process: str, # \"train\", \"eval\"\n",
    ") -> tp.Tuple[float, float, np.ndarray, np.ndarray]:\n",
    "    epoch_loss = 0.\n",
    "    epoch_acc = 0\n",
    "    n_batches = len(loader)\n",
    "    all_true = []\n",
    "    all_predictions = []\n",
    "\n",
    "    if process == \"train\":\n",
    "        net.train()\n",
    "    elif process == \"eval\":\n",
    "        net.eval()\n",
    "\n",
    "    with torch.set_grad_enabled(process == \"train\"):\n",
    "        for batch in tqdm(loader, total=n_batches):\n",
    "            u_batch, i_batch, y_batch = [b.to(device) for b in batch]\n",
    "            pred = net(u_batch, i_batch)\n",
    "            loss = criterion(pred, y_batch.type_as(pred))\n",
    "            acc = binary_accuracy(y_batch, pred)\n",
    "\n",
    "            if process == \"train\":\n",
    "                optimizer.zero_grad()\n",
    "                loss.backward()\n",
    "                optimizer.step()\n",
    "\n",
    "            epoch_loss += loss.item()\n",
    "            epoch_acc += acc.detach().cpu().numpy()\n",
    "            \n",
    "            all_true.append(y_batch.detach().cpu().numpy())\n",
    "            all_predictions.append(torch.sigmoid(pred).detach().cpu().numpy())\n",
    "\n",
    "    return (\n",
    "        epoch_loss / n_batches, \n",
    "        epoch_acc / n_batches, \n",
    "        np.concatenate(all_true, axis=0),\n",
    "        np.concatenate(all_predictions, axis=0),\n",
    "    )"
   ]
  },
  {
   "cell_type": "code",
   "execution_count": 80,
   "id": "4b4deca9",
   "metadata": {
    "ExecuteTime": {
     "end_time": "2021-11-11T19:06:17.337424Z",
     "start_time": "2021-11-11T19:06:17.324285Z"
    }
   },
   "outputs": [
    {
     "data": {
      "text/plain": [
       "device(type='cuda', index=0)"
      ]
     },
     "execution_count": 80,
     "metadata": {},
     "output_type": "execute_result"
    }
   ],
   "source": [
    "device = torch.device(\"cuda:0\" if torch.cuda.is_available() else \"cpu\")\n",
    "device"
   ]
  },
  {
   "cell_type": "code",
   "execution_count": 81,
   "id": "66c7fd56",
   "metadata": {
    "ExecuteTime": {
     "end_time": "2021-11-11T19:06:17.425792Z",
     "start_time": "2021-11-11T19:06:17.338452Z"
    }
   },
   "outputs": [],
   "source": [
    "train_idx, test_idx, _ = folds[0]\n",
    "\n",
    "df_train = df.loc[train_idx]\n",
    "#df_train['user_id'].cat.remove_unused_categories(inplace=True)\n",
    "#df_train['item_id'].cat.remove_unused_categories(inplace=True)\n",
    "df_test = df.loc[test_idx]"
   ]
  },
  {
   "cell_type": "code",
   "execution_count": 82,
   "id": "007686d4",
   "metadata": {
    "ExecuteTime": {
     "end_time": "2021-11-11T19:06:18.523937Z",
     "start_time": "2021-11-11T19:06:18.289048Z"
    }
   },
   "outputs": [],
   "source": [
    "unq_users = np.unique(\n",
    "    np.concatenate(\n",
    "        (\n",
    "            df_train['user_id'].values,\n",
    "            df_test['item_id'].values,\n",
    "        )\n",
    "    )\n",
    ")\n",
    "unq_items = np.unique(\n",
    "    np.concatenate(\n",
    "        (\n",
    "            df_train['user_id'].values,\n",
    "            df_test['item_id'].values,\n",
    "        )\n",
    "    )\n",
    ")"
   ]
  },
  {
   "cell_type": "code",
   "execution_count": 83,
   "id": "5f5899cc",
   "metadata": {
    "ExecuteTime": {
     "end_time": "2021-11-11T19:06:18.529329Z",
     "start_time": "2021-11-11T19:06:18.525376Z"
    }
   },
   "outputs": [
    {
     "data": {
      "text/plain": [
       "user_id             category\n",
       "item_id             category\n",
       "progress                int8\n",
       "rating               float32\n",
       "start_date    datetime64[ns]\n",
       "dtype: object"
      ]
     },
     "execution_count": 83,
     "metadata": {},
     "output_type": "execute_result"
    }
   ],
   "source": [
    "df_train.dtypes"
   ]
  },
  {
   "cell_type": "code",
   "execution_count": 84,
   "id": "3fc38567",
   "metadata": {
    "ExecuteTime": {
     "end_time": "2021-11-11T19:06:19.606076Z",
     "start_time": "2021-11-11T19:06:19.599501Z"
    }
   },
   "outputs": [],
   "source": [
    "class RecDataset(Dataset):\n",
    "    \n",
    "    def __init__(\n",
    "        self,\n",
    "        interactions_df: pd.DataFrame,\n",
    "        unq_u_ids=None,\n",
    "        unq_i_ids=None,\n",
    "        neg_share=0.5,\n",
    "    ):\n",
    "        u_ids_pos = interactions_df['user_id'].cat.codes.values\n",
    "        i_ids_pos = interactions_df['item_id'].cat.codes.values\n",
    "        \n",
    "        if unq_u_ids is None:\n",
    "            unq_u_ids = np.unique(u_ids_pos)\n",
    "        if unq_i_ids is None:\n",
    "            unq_i_ids = np.unique(i_ids_pos)\n",
    "            \n",
    "        assert np.isin(u_ids_pos, unq_u_ids).all()\n",
    "        assert np.isin(i_ids_pos, unq_i_ids).all()\n",
    "        \n",
    "        n_negs = int(len(interactions_df) * neg_share / (1 - neg_share))\n",
    "        \n",
    "        # take random, do not check (can be positives here, but probability is very low)\n",
    "        u_ids_neg = np.random.choice(unq_u_ids, n_negs)\n",
    "        i_ids_neg = np.random.choice(unq_i_ids, n_negs)\n",
    "        \n",
    "        user_features = make_id_csr(np.concatenate((u_ids_pos, u_ids_neg)), n_cols=unq_u_ids.size)\n",
    "        item_features = make_id_csr(np.concatenate((i_ids_pos, i_ids_neg)), n_cols=unq_i_ids.size)\n",
    "        \n",
    "        self.user_features = user_features.astype(np.float32)\n",
    "        self.item_features = item_features.astype(np.float32)\n",
    "        self.y = np.concatenate((np.ones(len(interactions_df)), np.zeros(n_negs)))\n",
    "        \n",
    "    def __getitem__(self, index: int):\n",
    "        u_f = csr_to_tensor(self.user_features[index], flatten=True)\n",
    "        i_f = csr_to_tensor(self.item_features[index], flatten=True)\n",
    "        y = self.y[index]\n",
    "        return u_f, i_f, y\n",
    "        \n",
    "    def __len__(self):\n",
    "        return self.user_features.shape[0]\n",
    "    \n"
   ]
  },
  {
   "cell_type": "code",
   "execution_count": 85,
   "id": "3e8af8a2",
   "metadata": {
    "ExecuteTime": {
     "end_time": "2021-11-11T19:06:21.160044Z",
     "start_time": "2021-11-11T19:06:19.979593Z"
    }
   },
   "outputs": [],
   "source": [
    "train_idx, test_idx, _ = folds[0]\n",
    "\n",
    "df_train = df.loc[train_idx]\n",
    "df_train['user_id'].cat.remove_unused_categories(inplace=True)\n",
    "df_train['item_id'].cat.remove_unused_categories(inplace=True)\n",
    "\n",
    "df_test = df.loc[test_idx]\n",
    "df_test['user_id'].cat.remove_unused_categories(inplace=True)\n",
    "df_test['item_id'].cat.remove_unused_categories(inplace=True)\n",
    "\n",
    "unq_users = np.unique(\n",
    "    np.concatenate(\n",
    "        (\n",
    "            df_train['user_id'].cat.codes.values,\n",
    "            df_test['user_id'].cat.codes.values,\n",
    "        )\n",
    "    )\n",
    ")\n",
    "unq_items = np.unique(\n",
    "    np.concatenate(\n",
    "        (\n",
    "            df_train['item_id'].cat.codes.values,\n",
    "            df_test['item_id'].cat.codes.values,\n",
    "        )\n",
    "    )\n",
    ")\n",
    "\n",
    "train_data = RecDataset(df_train, unq_u_ids=unq_users, unq_i_ids=unq_items)\n",
    "test_data = RecDataset(df_test, unq_u_ids=unq_users, unq_i_ids=unq_items)\n",
    "\n",
    "train_loader = DataLoader(\n",
    "    train_data,\n",
    "    batch_size=128,\n",
    "    num_workers=8,\n",
    "    pin_memory=True,\n",
    "    shuffle=True,\n",
    ")\n",
    "test_loader = DataLoader(\n",
    "    test_data,\n",
    "    batch_size=128,\n",
    "    num_workers=4,\n",
    "    pin_memory=True,\n",
    "    shuffle=False,\n",
    ")"
   ]
  },
  {
   "cell_type": "code",
   "execution_count": 86,
   "id": "fe96beb5",
   "metadata": {
    "ExecuteTime": {
     "end_time": "2021-11-11T19:06:25.520251Z",
     "start_time": "2021-11-11T19:06:21.604540Z"
    }
   },
   "outputs": [
    {
     "data": {
      "text/plain": [
       "DSSM(\n",
       "  (user_seq): Sequential(\n",
       "    (0): Linear(in_features=151589, out_features=32, bias=True)\n",
       "    (1): BatchNorm1d(32, eps=1e-05, momentum=0.1, affine=True, track_running_stats=True)\n",
       "    (2): ReLU()\n",
       "    (3): Dropout(p=0.5, inplace=False)\n",
       "    (4): Linear(in_features=32, out_features=16, bias=True)\n",
       "    (5): BatchNorm1d(16, eps=1e-05, momentum=0.1, affine=True, track_running_stats=True)\n",
       "    (6): ReLU()\n",
       "    (7): Dropout(p=0.5, inplace=False)\n",
       "    (8): Linear(in_features=16, out_features=8, bias=True)\n",
       "    (9): BatchNorm1d(8, eps=1e-05, momentum=0.1, affine=True, track_running_stats=True)\n",
       "    (10): ReLU()\n",
       "  )\n",
       "  (item_seq): Sequential(\n",
       "    (0): Linear(in_features=59599, out_features=32, bias=True)\n",
       "    (1): BatchNorm1d(32, eps=1e-05, momentum=0.1, affine=True, track_running_stats=True)\n",
       "    (2): ReLU()\n",
       "    (3): Dropout(p=0.5, inplace=False)\n",
       "    (4): Linear(in_features=32, out_features=16, bias=True)\n",
       "    (5): BatchNorm1d(16, eps=1e-05, momentum=0.1, affine=True, track_running_stats=True)\n",
       "    (6): ReLU()\n",
       "    (7): Dropout(p=0.5, inplace=False)\n",
       "    (8): Linear(in_features=16, out_features=8, bias=True)\n",
       "    (9): BatchNorm1d(8, eps=1e-05, momentum=0.1, affine=True, track_running_stats=True)\n",
       "    (10): ReLU()\n",
       "  )\n",
       "  (cosine): CosineSimilarity()\n",
       ")"
      ]
     },
     "execution_count": 86,
     "metadata": {},
     "output_type": "execute_result"
    }
   ],
   "source": [
    "net = DSSM(\n",
    "    uf_dim=unq_users.size,\n",
    "    uf1_dim=32, #256\n",
    "    uf2_dim=16, #128\n",
    "    if_dim=unq_items.size,\n",
    "    if1_dim=32, #256\n",
    "    if2_dim=16, #128\n",
    "    final_dim=8, # 64\n",
    "    dropout=0.5,\n",
    ")\n",
    "net.to(device)"
   ]
  },
  {
   "cell_type": "code",
   "execution_count": 87,
   "id": "382cf88b",
   "metadata": {
    "ExecuteTime": {
     "end_time": "2021-11-11T19:06:29.915539Z",
     "start_time": "2021-11-11T19:06:29.912902Z"
    }
   },
   "outputs": [],
   "source": [
    "optimizer = optim.Adam(net.parameters())\n",
    "criterion = nn.BCEWithLogitsLoss().to(device)"
   ]
  },
  {
   "cell_type": "code",
   "execution_count": 88,
   "id": "a7e826fb",
   "metadata": {
    "ExecuteTime": {
     "end_time": "2021-11-11T19:07:22.401520Z",
     "start_time": "2021-11-11T19:06:30.174373Z"
    },
    "scrolled": true
   },
   "outputs": [
    {
     "name": "stdout",
     "output_type": "stream",
     "text": [
      "Epoch 1 started\n"
     ]
    },
    {
     "data": {
      "application/vnd.jupyter.widget-view+json": {
       "model_id": "e7e1177fa91446a98eaa6fd839409b99",
       "version_major": 2,
       "version_minor": 0
      },
      "text/plain": [
       "  0%|          | 0/23687 [00:00<?, ?it/s]"
      ]
     },
     "metadata": {},
     "output_type": "display_data"
    },
    {
     "name": "stderr",
     "output_type": "stream",
     "text": [
      "Exception in thread Thread-10:\n",
      "Traceback (most recent call last):\n",
      "  File \"/opt/anaconda2/lib/python3.7/threading.py\", line 917, in _bootstrap_inner\n",
      "    self.run()\n",
      "  File \"/opt/anaconda2/lib/python3.7/threading.py\", line 865, in run\n",
      "    self._target(*self._args, **self._kwargs)\n",
      "  File \"/data/home/irsafilo/course/shad/venv/lib/python3.7/site-packages/torch/utils/data/_utils/pin_memory.py\", line 28, in _pin_memory_loop\n",
      "    r = in_queue.get(timeout=MP_STATUS_CHECK_INTERVAL)\n",
      "  File \"/opt/anaconda2/lib/python3.7/multiprocessing/queues.py\", line 113, in get\n",
      "    return _ForkingPickler.loads(res)\n",
      "  File \"/data/home/irsafilo/course/shad/venv/lib/python3.7/site-packages/torch/multiprocessing/reductions.py\", line 289, in rebuild_storage_fd\n",
      "    fd = df.detach()\n",
      "  File \"/opt/anaconda2/lib/python3.7/multiprocessing/resource_sharer.py\", line 57, in detach\n",
      "    with _resource_sharer.get_connection(self._id) as conn:\n",
      "  File \"/opt/anaconda2/lib/python3.7/multiprocessing/resource_sharer.py\", line 87, in get_connection\n",
      "    c = Client(address, authkey=process.current_process().authkey)\n",
      "  File \"/opt/anaconda2/lib/python3.7/multiprocessing/connection.py\", line 492, in Client\n",
      "    c = SocketClient(address)\n",
      "  File \"/opt/anaconda2/lib/python3.7/multiprocessing/connection.py\", line 619, in SocketClient\n",
      "    s.connect(address)\n",
      "FileNotFoundError: [Errno 2] No such file or directory\n",
      "\n"
     ]
    },
    {
     "ename": "KeyboardInterrupt",
     "evalue": "",
     "output_type": "error",
     "traceback": [
      "\u001b[0;31m---------------------------------------------------------------------------\u001b[0m",
      "\u001b[0;31mKeyboardInterrupt\u001b[0m                         Traceback (most recent call last)",
      "\u001b[0;32m<timed exec>\u001b[0m in \u001b[0;36m<module>\u001b[0;34m\u001b[0m\n",
      "\u001b[0;32m/tmp/ipykernel_115748/3835885113.py\u001b[0m in \u001b[0;36mprocess_epoch\u001b[0;34m(net, loader, optimizer, criterion, device, process)\u001b[0m\n\u001b[1;32m     47\u001b[0m \u001b[0;34m\u001b[0m\u001b[0m\n\u001b[1;32m     48\u001b[0m     \u001b[0;32mwith\u001b[0m \u001b[0mtorch\u001b[0m\u001b[0;34m.\u001b[0m\u001b[0mset_grad_enabled\u001b[0m\u001b[0;34m(\u001b[0m\u001b[0mprocess\u001b[0m \u001b[0;34m==\u001b[0m \u001b[0;34m\"train\"\u001b[0m\u001b[0;34m)\u001b[0m\u001b[0;34m:\u001b[0m\u001b[0;34m\u001b[0m\u001b[0;34m\u001b[0m\u001b[0m\n\u001b[0;32m---> 49\u001b[0;31m         \u001b[0;32mfor\u001b[0m \u001b[0mbatch\u001b[0m \u001b[0;32min\u001b[0m \u001b[0mtqdm\u001b[0m\u001b[0;34m(\u001b[0m\u001b[0mloader\u001b[0m\u001b[0;34m,\u001b[0m \u001b[0mtotal\u001b[0m\u001b[0;34m=\u001b[0m\u001b[0mn_batches\u001b[0m\u001b[0;34m)\u001b[0m\u001b[0;34m:\u001b[0m\u001b[0;34m\u001b[0m\u001b[0;34m\u001b[0m\u001b[0m\n\u001b[0m\u001b[1;32m     50\u001b[0m             \u001b[0mu_batch\u001b[0m\u001b[0;34m,\u001b[0m \u001b[0mi_batch\u001b[0m\u001b[0;34m,\u001b[0m \u001b[0my_batch\u001b[0m \u001b[0;34m=\u001b[0m \u001b[0;34m[\u001b[0m\u001b[0mb\u001b[0m\u001b[0;34m.\u001b[0m\u001b[0mto\u001b[0m\u001b[0;34m(\u001b[0m\u001b[0mdevice\u001b[0m\u001b[0;34m)\u001b[0m \u001b[0;32mfor\u001b[0m \u001b[0mb\u001b[0m \u001b[0;32min\u001b[0m \u001b[0mbatch\u001b[0m\u001b[0;34m]\u001b[0m\u001b[0;34m\u001b[0m\u001b[0;34m\u001b[0m\u001b[0m\n\u001b[1;32m     51\u001b[0m             \u001b[0mpred\u001b[0m \u001b[0;34m=\u001b[0m \u001b[0mnet\u001b[0m\u001b[0;34m(\u001b[0m\u001b[0mu_batch\u001b[0m\u001b[0;34m,\u001b[0m \u001b[0mi_batch\u001b[0m\u001b[0;34m)\u001b[0m\u001b[0;34m\u001b[0m\u001b[0;34m\u001b[0m\u001b[0m\n",
      "\u001b[0;32m/data/home/irsafilo/course/shad/venv/lib/python3.7/site-packages/tqdm/notebook.py\u001b[0m in \u001b[0;36m__iter__\u001b[0;34m(self)\u001b[0m\n\u001b[1;32m    255\u001b[0m     \u001b[0;32mdef\u001b[0m \u001b[0m__iter__\u001b[0m\u001b[0;34m(\u001b[0m\u001b[0mself\u001b[0m\u001b[0;34m)\u001b[0m\u001b[0;34m:\u001b[0m\u001b[0;34m\u001b[0m\u001b[0;34m\u001b[0m\u001b[0m\n\u001b[1;32m    256\u001b[0m         \u001b[0;32mtry\u001b[0m\u001b[0;34m:\u001b[0m\u001b[0;34m\u001b[0m\u001b[0;34m\u001b[0m\u001b[0m\n\u001b[0;32m--> 257\u001b[0;31m             \u001b[0;32mfor\u001b[0m \u001b[0mobj\u001b[0m \u001b[0;32min\u001b[0m \u001b[0msuper\u001b[0m\u001b[0;34m(\u001b[0m\u001b[0mtqdm_notebook\u001b[0m\u001b[0;34m,\u001b[0m \u001b[0mself\u001b[0m\u001b[0;34m)\u001b[0m\u001b[0;34m.\u001b[0m\u001b[0m__iter__\u001b[0m\u001b[0;34m(\u001b[0m\u001b[0;34m)\u001b[0m\u001b[0;34m:\u001b[0m\u001b[0;34m\u001b[0m\u001b[0;34m\u001b[0m\u001b[0m\n\u001b[0m\u001b[1;32m    258\u001b[0m                 \u001b[0;31m# return super(tqdm...) will not catch exception\u001b[0m\u001b[0;34m\u001b[0m\u001b[0;34m\u001b[0m\u001b[0;34m\u001b[0m\u001b[0m\n\u001b[1;32m    259\u001b[0m                 \u001b[0;32myield\u001b[0m \u001b[0mobj\u001b[0m\u001b[0;34m\u001b[0m\u001b[0;34m\u001b[0m\u001b[0m\n",
      "\u001b[0;32m/data/home/irsafilo/course/shad/venv/lib/python3.7/site-packages/tqdm/std.py\u001b[0m in \u001b[0;36m__iter__\u001b[0;34m(self)\u001b[0m\n\u001b[1;32m   1183\u001b[0m \u001b[0;34m\u001b[0m\u001b[0m\n\u001b[1;32m   1184\u001b[0m         \u001b[0;32mtry\u001b[0m\u001b[0;34m:\u001b[0m\u001b[0;34m\u001b[0m\u001b[0;34m\u001b[0m\u001b[0m\n\u001b[0;32m-> 1185\u001b[0;31m             \u001b[0;32mfor\u001b[0m \u001b[0mobj\u001b[0m \u001b[0;32min\u001b[0m \u001b[0miterable\u001b[0m\u001b[0;34m:\u001b[0m\u001b[0;34m\u001b[0m\u001b[0;34m\u001b[0m\u001b[0m\n\u001b[0m\u001b[1;32m   1186\u001b[0m                 \u001b[0;32myield\u001b[0m \u001b[0mobj\u001b[0m\u001b[0;34m\u001b[0m\u001b[0;34m\u001b[0m\u001b[0m\n\u001b[1;32m   1187\u001b[0m                 \u001b[0;31m# Update and possibly print the progressbar.\u001b[0m\u001b[0;34m\u001b[0m\u001b[0;34m\u001b[0m\u001b[0;34m\u001b[0m\u001b[0m\n",
      "\u001b[0;32m/data/home/irsafilo/course/shad/venv/lib/python3.7/site-packages/torch/utils/data/dataloader.py\u001b[0m in \u001b[0;36m__next__\u001b[0;34m(self)\u001b[0m\n\u001b[1;32m    519\u001b[0m             \u001b[0;32mif\u001b[0m \u001b[0mself\u001b[0m\u001b[0;34m.\u001b[0m\u001b[0m_sampler_iter\u001b[0m \u001b[0;32mis\u001b[0m \u001b[0;32mNone\u001b[0m\u001b[0;34m:\u001b[0m\u001b[0;34m\u001b[0m\u001b[0;34m\u001b[0m\u001b[0m\n\u001b[1;32m    520\u001b[0m                 \u001b[0mself\u001b[0m\u001b[0;34m.\u001b[0m\u001b[0m_reset\u001b[0m\u001b[0;34m(\u001b[0m\u001b[0;34m)\u001b[0m\u001b[0;34m\u001b[0m\u001b[0;34m\u001b[0m\u001b[0m\n\u001b[0;32m--> 521\u001b[0;31m             \u001b[0mdata\u001b[0m \u001b[0;34m=\u001b[0m \u001b[0mself\u001b[0m\u001b[0;34m.\u001b[0m\u001b[0m_next_data\u001b[0m\u001b[0;34m(\u001b[0m\u001b[0;34m)\u001b[0m\u001b[0;34m\u001b[0m\u001b[0;34m\u001b[0m\u001b[0m\n\u001b[0m\u001b[1;32m    522\u001b[0m             \u001b[0mself\u001b[0m\u001b[0;34m.\u001b[0m\u001b[0m_num_yielded\u001b[0m \u001b[0;34m+=\u001b[0m \u001b[0;36m1\u001b[0m\u001b[0;34m\u001b[0m\u001b[0;34m\u001b[0m\u001b[0m\n\u001b[1;32m    523\u001b[0m             \u001b[0;32mif\u001b[0m \u001b[0mself\u001b[0m\u001b[0;34m.\u001b[0m\u001b[0m_dataset_kind\u001b[0m \u001b[0;34m==\u001b[0m \u001b[0m_DatasetKind\u001b[0m\u001b[0;34m.\u001b[0m\u001b[0mIterable\u001b[0m \u001b[0;32mand\u001b[0m\u001b[0;31m \u001b[0m\u001b[0;31m\\\u001b[0m\u001b[0;34m\u001b[0m\u001b[0;34m\u001b[0m\u001b[0m\n",
      "\u001b[0;32m/data/home/irsafilo/course/shad/venv/lib/python3.7/site-packages/torch/utils/data/dataloader.py\u001b[0m in \u001b[0;36m_next_data\u001b[0;34m(self)\u001b[0m\n\u001b[1;32m   1184\u001b[0m \u001b[0;34m\u001b[0m\u001b[0m\n\u001b[1;32m   1185\u001b[0m             \u001b[0;32massert\u001b[0m \u001b[0;32mnot\u001b[0m \u001b[0mself\u001b[0m\u001b[0;34m.\u001b[0m\u001b[0m_shutdown\u001b[0m \u001b[0;32mand\u001b[0m \u001b[0mself\u001b[0m\u001b[0;34m.\u001b[0m\u001b[0m_tasks_outstanding\u001b[0m \u001b[0;34m>\u001b[0m \u001b[0;36m0\u001b[0m\u001b[0;34m\u001b[0m\u001b[0;34m\u001b[0m\u001b[0m\n\u001b[0;32m-> 1186\u001b[0;31m             \u001b[0midx\u001b[0m\u001b[0;34m,\u001b[0m \u001b[0mdata\u001b[0m \u001b[0;34m=\u001b[0m \u001b[0mself\u001b[0m\u001b[0;34m.\u001b[0m\u001b[0m_get_data\u001b[0m\u001b[0;34m(\u001b[0m\u001b[0;34m)\u001b[0m\u001b[0;34m\u001b[0m\u001b[0;34m\u001b[0m\u001b[0m\n\u001b[0m\u001b[1;32m   1187\u001b[0m             \u001b[0mself\u001b[0m\u001b[0;34m.\u001b[0m\u001b[0m_tasks_outstanding\u001b[0m \u001b[0;34m-=\u001b[0m \u001b[0;36m1\u001b[0m\u001b[0;34m\u001b[0m\u001b[0;34m\u001b[0m\u001b[0m\n\u001b[1;32m   1188\u001b[0m             \u001b[0;32mif\u001b[0m \u001b[0mself\u001b[0m\u001b[0;34m.\u001b[0m\u001b[0m_dataset_kind\u001b[0m \u001b[0;34m==\u001b[0m \u001b[0m_DatasetKind\u001b[0m\u001b[0;34m.\u001b[0m\u001b[0mIterable\u001b[0m\u001b[0;34m:\u001b[0m\u001b[0;34m\u001b[0m\u001b[0;34m\u001b[0m\u001b[0m\n",
      "\u001b[0;32m/data/home/irsafilo/course/shad/venv/lib/python3.7/site-packages/torch/utils/data/dataloader.py\u001b[0m in \u001b[0;36m_get_data\u001b[0;34m(self)\u001b[0m\n\u001b[1;32m   1140\u001b[0m         \u001b[0;32melif\u001b[0m \u001b[0mself\u001b[0m\u001b[0;34m.\u001b[0m\u001b[0m_pin_memory\u001b[0m\u001b[0;34m:\u001b[0m\u001b[0;34m\u001b[0m\u001b[0;34m\u001b[0m\u001b[0m\n\u001b[1;32m   1141\u001b[0m             \u001b[0;32mwhile\u001b[0m \u001b[0mself\u001b[0m\u001b[0;34m.\u001b[0m\u001b[0m_pin_memory_thread\u001b[0m\u001b[0;34m.\u001b[0m\u001b[0mis_alive\u001b[0m\u001b[0;34m(\u001b[0m\u001b[0;34m)\u001b[0m\u001b[0;34m:\u001b[0m\u001b[0;34m\u001b[0m\u001b[0;34m\u001b[0m\u001b[0m\n\u001b[0;32m-> 1142\u001b[0;31m                 \u001b[0msuccess\u001b[0m\u001b[0;34m,\u001b[0m \u001b[0mdata\u001b[0m \u001b[0;34m=\u001b[0m \u001b[0mself\u001b[0m\u001b[0;34m.\u001b[0m\u001b[0m_try_get_data\u001b[0m\u001b[0;34m(\u001b[0m\u001b[0;34m)\u001b[0m\u001b[0;34m\u001b[0m\u001b[0;34m\u001b[0m\u001b[0m\n\u001b[0m\u001b[1;32m   1143\u001b[0m                 \u001b[0;32mif\u001b[0m \u001b[0msuccess\u001b[0m\u001b[0;34m:\u001b[0m\u001b[0;34m\u001b[0m\u001b[0;34m\u001b[0m\u001b[0m\n\u001b[1;32m   1144\u001b[0m                     \u001b[0;32mreturn\u001b[0m \u001b[0mdata\u001b[0m\u001b[0;34m\u001b[0m\u001b[0;34m\u001b[0m\u001b[0m\n",
      "\u001b[0;32m/data/home/irsafilo/course/shad/venv/lib/python3.7/site-packages/torch/utils/data/dataloader.py\u001b[0m in \u001b[0;36m_try_get_data\u001b[0;34m(self, timeout)\u001b[0m\n\u001b[1;32m    988\u001b[0m         \u001b[0;31m#   (bool: whether successfully get data, any: data if successful else None)\u001b[0m\u001b[0;34m\u001b[0m\u001b[0;34m\u001b[0m\u001b[0;34m\u001b[0m\u001b[0m\n\u001b[1;32m    989\u001b[0m         \u001b[0;32mtry\u001b[0m\u001b[0;34m:\u001b[0m\u001b[0;34m\u001b[0m\u001b[0;34m\u001b[0m\u001b[0m\n\u001b[0;32m--> 990\u001b[0;31m             \u001b[0mdata\u001b[0m \u001b[0;34m=\u001b[0m \u001b[0mself\u001b[0m\u001b[0;34m.\u001b[0m\u001b[0m_data_queue\u001b[0m\u001b[0;34m.\u001b[0m\u001b[0mget\u001b[0m\u001b[0;34m(\u001b[0m\u001b[0mtimeout\u001b[0m\u001b[0;34m=\u001b[0m\u001b[0mtimeout\u001b[0m\u001b[0;34m)\u001b[0m\u001b[0;34m\u001b[0m\u001b[0;34m\u001b[0m\u001b[0m\n\u001b[0m\u001b[1;32m    991\u001b[0m             \u001b[0;32mreturn\u001b[0m \u001b[0;34m(\u001b[0m\u001b[0;32mTrue\u001b[0m\u001b[0;34m,\u001b[0m \u001b[0mdata\u001b[0m\u001b[0;34m)\u001b[0m\u001b[0;34m\u001b[0m\u001b[0;34m\u001b[0m\u001b[0m\n\u001b[1;32m    992\u001b[0m         \u001b[0;32mexcept\u001b[0m \u001b[0mException\u001b[0m \u001b[0;32mas\u001b[0m \u001b[0me\u001b[0m\u001b[0;34m:\u001b[0m\u001b[0;34m\u001b[0m\u001b[0;34m\u001b[0m\u001b[0m\n",
      "\u001b[0;32m/opt/anaconda2/lib/python3.7/queue.py\u001b[0m in \u001b[0;36mget\u001b[0;34m(self, block, timeout)\u001b[0m\n\u001b[1;32m    177\u001b[0m                     \u001b[0;32mif\u001b[0m \u001b[0mremaining\u001b[0m \u001b[0;34m<=\u001b[0m \u001b[0;36m0.0\u001b[0m\u001b[0;34m:\u001b[0m\u001b[0;34m\u001b[0m\u001b[0;34m\u001b[0m\u001b[0m\n\u001b[1;32m    178\u001b[0m                         \u001b[0;32mraise\u001b[0m \u001b[0mEmpty\u001b[0m\u001b[0;34m\u001b[0m\u001b[0;34m\u001b[0m\u001b[0m\n\u001b[0;32m--> 179\u001b[0;31m                     \u001b[0mself\u001b[0m\u001b[0;34m.\u001b[0m\u001b[0mnot_empty\u001b[0m\u001b[0;34m.\u001b[0m\u001b[0mwait\u001b[0m\u001b[0;34m(\u001b[0m\u001b[0mremaining\u001b[0m\u001b[0;34m)\u001b[0m\u001b[0;34m\u001b[0m\u001b[0;34m\u001b[0m\u001b[0m\n\u001b[0m\u001b[1;32m    180\u001b[0m             \u001b[0mitem\u001b[0m \u001b[0;34m=\u001b[0m \u001b[0mself\u001b[0m\u001b[0;34m.\u001b[0m\u001b[0m_get\u001b[0m\u001b[0;34m(\u001b[0m\u001b[0;34m)\u001b[0m\u001b[0;34m\u001b[0m\u001b[0;34m\u001b[0m\u001b[0m\n\u001b[1;32m    181\u001b[0m             \u001b[0mself\u001b[0m\u001b[0;34m.\u001b[0m\u001b[0mnot_full\u001b[0m\u001b[0;34m.\u001b[0m\u001b[0mnotify\u001b[0m\u001b[0;34m(\u001b[0m\u001b[0;34m)\u001b[0m\u001b[0;34m\u001b[0m\u001b[0;34m\u001b[0m\u001b[0m\n",
      "\u001b[0;32m/opt/anaconda2/lib/python3.7/threading.py\u001b[0m in \u001b[0;36mwait\u001b[0;34m(self, timeout)\u001b[0m\n\u001b[1;32m    298\u001b[0m             \u001b[0;32melse\u001b[0m\u001b[0;34m:\u001b[0m\u001b[0;34m\u001b[0m\u001b[0;34m\u001b[0m\u001b[0m\n\u001b[1;32m    299\u001b[0m                 \u001b[0;32mif\u001b[0m \u001b[0mtimeout\u001b[0m \u001b[0;34m>\u001b[0m \u001b[0;36m0\u001b[0m\u001b[0;34m:\u001b[0m\u001b[0;34m\u001b[0m\u001b[0;34m\u001b[0m\u001b[0m\n\u001b[0;32m--> 300\u001b[0;31m                     \u001b[0mgotit\u001b[0m \u001b[0;34m=\u001b[0m \u001b[0mwaiter\u001b[0m\u001b[0;34m.\u001b[0m\u001b[0macquire\u001b[0m\u001b[0;34m(\u001b[0m\u001b[0;32mTrue\u001b[0m\u001b[0;34m,\u001b[0m \u001b[0mtimeout\u001b[0m\u001b[0;34m)\u001b[0m\u001b[0;34m\u001b[0m\u001b[0;34m\u001b[0m\u001b[0m\n\u001b[0m\u001b[1;32m    301\u001b[0m                 \u001b[0;32melse\u001b[0m\u001b[0;34m:\u001b[0m\u001b[0;34m\u001b[0m\u001b[0;34m\u001b[0m\u001b[0m\n\u001b[1;32m    302\u001b[0m                     \u001b[0mgotit\u001b[0m \u001b[0;34m=\u001b[0m \u001b[0mwaiter\u001b[0m\u001b[0;34m.\u001b[0m\u001b[0macquire\u001b[0m\u001b[0;34m(\u001b[0m\u001b[0;32mFalse\u001b[0m\u001b[0;34m)\u001b[0m\u001b[0;34m\u001b[0m\u001b[0;34m\u001b[0m\u001b[0m\n",
      "\u001b[0;31mKeyboardInterrupt\u001b[0m: "
     ]
    }
   ],
   "source": [
    "%%time\n",
    "train_losses = []\n",
    "valid_losses = []\n",
    "best_valid_loss = float('inf')\n",
    "best_model_state: tp.Dict[str, torch.Tensor] = {}\n",
    "for epoch in range(1):\n",
    "    print(f\"Epoch {epoch + 1} started\")\n",
    "\n",
    "    train_loss, train_acc, train_true, train_pred = process_epoch(net, train_loader, optimizer, criterion, device, \"train\")\n",
    "    valid_loss, valid_acc, valid_true, valid_pred = process_epoch(net, test_loader, optimizer, criterion, device, \"eval\")\n",
    "    \n",
    "    train_losses.append(train_loss)\n",
    "    valid_losses.append(valid_loss)\n",
    "    \n",
    "    if valid_loss < best_valid_loss:\n",
    "        best_valid_loss = valid_loss\n",
    "        best_model_state = net.state_dict()\n",
    "    \n",
    "#     train_aucs = roc_auc_many(train_true, train_pred)\n",
    "#     valid_aucs = roc_auc_many(valid_true, valid_pred)\n",
    "    \n",
    "    print(f\"Epoch: {epoch + 1:02}\")\n",
    "    print(\n",
    "        f\"\\n\\t Train Loss: {train_loss:.3f}\"\n",
    "        f\"\\n\\t Train Accuracy: {train_acc.round(3)}\"\n",
    "#         f\"\\n\\t Train AUC: {np.array(train_aucs).round(3)}\"\n",
    "    )\n",
    "    print(\n",
    "        f\"\\n\\t Valid Loss: {valid_loss:.3f}\"\n",
    "        f\"\\n\\t Valid Accuracy: {valid_acc.round(3)}\"\n",
    "#         f\"\\n\\t Valid AUC: {np.array(valid_aucs).round(3)}\"\n",
    "    )\n",
    "\n",
    "net.load_state_dict(best_model_state)"
   ]
  },
  {
   "cell_type": "code",
   "execution_count": null,
   "id": "d070f69d",
   "metadata": {},
   "outputs": [],
   "source": []
  },
  {
   "cell_type": "markdown",
   "id": "a7657538",
   "metadata": {},
   "source": [
    "# Алгоритмы ранжирования"
   ]
  },
  {
   "cell_type": "code",
   "execution_count": 102,
   "id": "890cc5c2",
   "metadata": {
    "ExecuteTime": {
     "end_time": "2021-11-12T16:36:33.976009Z",
     "start_time": "2021-11-12T16:36:33.710173Z"
    }
   },
   "outputs": [],
   "source": [
    "import numpy as np\n",
    "import pandas as pd\n",
    "import lightgbm"
   ]
  },
  {
   "cell_type": "code",
   "execution_count": 103,
   "id": "00bdd52a",
   "metadata": {
    "ExecuteTime": {
     "end_time": "2021-11-12T16:36:34.274728Z",
     "start_time": "2021-11-12T16:36:34.269716Z"
    }
   },
   "outputs": [],
   "source": [
    "df = pd.DataFrame({\n",
    "    \"query_id\":[i for i in range(100) for j in range(10)],\n",
    "    \"var1\":np.random.random(size=(1000,)),\n",
    "    \"var2\":np.random.random(size=(1000,)),\n",
    "    \"var3\":np.random.random(size=(1000,)),\n",
    "    \"relevance\":list(np.random.permutation([0,0,0,0,0, 0,0,0,1,1]))*100\n",
    "})"
   ]
  },
  {
   "cell_type": "code",
   "execution_count": 104,
   "id": "b8de5541",
   "metadata": {
    "ExecuteTime": {
     "end_time": "2021-11-12T16:36:35.917959Z",
     "start_time": "2021-11-12T16:36:35.909864Z"
    }
   },
   "outputs": [
    {
     "data": {
      "text/html": [
       "<div>\n",
       "<style scoped>\n",
       "    .dataframe tbody tr th:only-of-type {\n",
       "        vertical-align: middle;\n",
       "    }\n",
       "\n",
       "    .dataframe tbody tr th {\n",
       "        vertical-align: top;\n",
       "    }\n",
       "\n",
       "    .dataframe thead th {\n",
       "        text-align: right;\n",
       "    }\n",
       "</style>\n",
       "<table border=\"1\" class=\"dataframe\">\n",
       "  <thead>\n",
       "    <tr style=\"text-align: right;\">\n",
       "      <th></th>\n",
       "      <th>query_id</th>\n",
       "      <th>var1</th>\n",
       "      <th>var2</th>\n",
       "      <th>var3</th>\n",
       "      <th>relevance</th>\n",
       "    </tr>\n",
       "  </thead>\n",
       "  <tbody>\n",
       "    <tr>\n",
       "      <th>0</th>\n",
       "      <td>0</td>\n",
       "      <td>0.145919</td>\n",
       "      <td>0.318222</td>\n",
       "      <td>0.004795</td>\n",
       "      <td>0</td>\n",
       "    </tr>\n",
       "    <tr>\n",
       "      <th>1</th>\n",
       "      <td>0</td>\n",
       "      <td>0.570852</td>\n",
       "      <td>0.498379</td>\n",
       "      <td>0.647453</td>\n",
       "      <td>0</td>\n",
       "    </tr>\n",
       "    <tr>\n",
       "      <th>2</th>\n",
       "      <td>0</td>\n",
       "      <td>0.638582</td>\n",
       "      <td>0.002770</td>\n",
       "      <td>0.079687</td>\n",
       "      <td>0</td>\n",
       "    </tr>\n",
       "    <tr>\n",
       "      <th>3</th>\n",
       "      <td>0</td>\n",
       "      <td>0.846366</td>\n",
       "      <td>0.698434</td>\n",
       "      <td>0.507535</td>\n",
       "      <td>0</td>\n",
       "    </tr>\n",
       "    <tr>\n",
       "      <th>4</th>\n",
       "      <td>0</td>\n",
       "      <td>0.529181</td>\n",
       "      <td>0.738735</td>\n",
       "      <td>0.548863</td>\n",
       "      <td>0</td>\n",
       "    </tr>\n",
       "  </tbody>\n",
       "</table>\n",
       "</div>"
      ],
      "text/plain": [
       "   query_id      var1      var2      var3  relevance\n",
       "0         0  0.145919  0.318222  0.004795          0\n",
       "1         0  0.570852  0.498379  0.647453          0\n",
       "2         0  0.638582  0.002770  0.079687          0\n",
       "3         0  0.846366  0.698434  0.507535          0\n",
       "4         0  0.529181  0.738735  0.548863          0"
      ]
     },
     "execution_count": 104,
     "metadata": {},
     "output_type": "execute_result"
    }
   ],
   "source": [
    "df.head()"
   ]
  },
  {
   "cell_type": "code",
   "execution_count": 105,
   "id": "a0e37427",
   "metadata": {
    "ExecuteTime": {
     "end_time": "2021-11-12T16:37:30.516425Z",
     "start_time": "2021-11-12T16:37:30.503589Z"
    }
   },
   "outputs": [
    {
     "data": {
      "text/html": [
       "<div>\n",
       "<style scoped>\n",
       "    .dataframe tbody tr th:only-of-type {\n",
       "        vertical-align: middle;\n",
       "    }\n",
       "\n",
       "    .dataframe tbody tr th {\n",
       "        vertical-align: top;\n",
       "    }\n",
       "\n",
       "    .dataframe thead th {\n",
       "        text-align: right;\n",
       "    }\n",
       "</style>\n",
       "<table border=\"1\" class=\"dataframe\">\n",
       "  <thead>\n",
       "    <tr style=\"text-align: right;\">\n",
       "      <th></th>\n",
       "      <th>query_id</th>\n",
       "      <th>var1</th>\n",
       "      <th>var2</th>\n",
       "      <th>var3</th>\n",
       "      <th>relevance</th>\n",
       "    </tr>\n",
       "  </thead>\n",
       "  <tbody>\n",
       "    <tr>\n",
       "      <th>995</th>\n",
       "      <td>99</td>\n",
       "      <td>0.927659</td>\n",
       "      <td>0.025131</td>\n",
       "      <td>0.539747</td>\n",
       "      <td>1</td>\n",
       "    </tr>\n",
       "    <tr>\n",
       "      <th>996</th>\n",
       "      <td>99</td>\n",
       "      <td>0.595341</td>\n",
       "      <td>0.333927</td>\n",
       "      <td>0.297698</td>\n",
       "      <td>1</td>\n",
       "    </tr>\n",
       "    <tr>\n",
       "      <th>997</th>\n",
       "      <td>99</td>\n",
       "      <td>0.630101</td>\n",
       "      <td>0.871618</td>\n",
       "      <td>0.008137</td>\n",
       "      <td>0</td>\n",
       "    </tr>\n",
       "    <tr>\n",
       "      <th>998</th>\n",
       "      <td>99</td>\n",
       "      <td>0.722011</td>\n",
       "      <td>0.919749</td>\n",
       "      <td>0.133257</td>\n",
       "      <td>0</td>\n",
       "    </tr>\n",
       "    <tr>\n",
       "      <th>999</th>\n",
       "      <td>99</td>\n",
       "      <td>0.747857</td>\n",
       "      <td>0.221893</td>\n",
       "      <td>0.212690</td>\n",
       "      <td>0</td>\n",
       "    </tr>\n",
       "  </tbody>\n",
       "</table>\n",
       "</div>"
      ],
      "text/plain": [
       "     query_id      var1      var2      var3  relevance\n",
       "995        99  0.927659  0.025131  0.539747          1\n",
       "996        99  0.595341  0.333927  0.297698          1\n",
       "997        99  0.630101  0.871618  0.008137          0\n",
       "998        99  0.722011  0.919749  0.133257          0\n",
       "999        99  0.747857  0.221893  0.212690          0"
      ]
     },
     "execution_count": 105,
     "metadata": {},
     "output_type": "execute_result"
    }
   ],
   "source": [
    "df.tail()"
   ]
  },
  {
   "cell_type": "code",
   "execution_count": 108,
   "id": "2bc54c30",
   "metadata": {
    "ExecuteTime": {
     "end_time": "2021-11-12T16:38:31.150168Z",
     "start_time": "2021-11-12T16:38:31.139167Z"
    }
   },
   "outputs": [],
   "source": [
    "train_df = df[:800]  # first 80%\n",
    "validation_df = df[800:]  # remaining 20%\n",
    "\n",
    "qids_train = train_df.groupby(\"query_id\")[\"query_id\"].count().to_numpy()\n",
    "X_train = train_df.drop([\"query_id\", \"relevance\"], axis=1)\n",
    "y_train = train_df[\"relevance\"]\n",
    "\n",
    "qids_validation = validation_df.groupby(\"query_id\")[\"query_id\"].count().to_numpy()\n",
    "X_validation = validation_df.drop([\"query_id\", \"relevance\"], axis=1)\n",
    "y_validation = validation_df[\"relevance\"]"
   ]
  },
  {
   "cell_type": "code",
   "execution_count": 109,
   "id": "ce3b4180",
   "metadata": {
    "ExecuteTime": {
     "end_time": "2021-11-12T16:38:33.239117Z",
     "start_time": "2021-11-12T16:38:33.233938Z"
    }
   },
   "outputs": [
    {
     "data": {
      "text/plain": [
       "array([10, 10, 10, 10, 10, 10, 10, 10, 10, 10, 10, 10, 10, 10, 10, 10, 10,\n",
       "       10, 10, 10, 10, 10, 10, 10, 10, 10, 10, 10, 10, 10, 10, 10, 10, 10,\n",
       "       10, 10, 10, 10, 10, 10, 10, 10, 10, 10, 10, 10, 10, 10, 10, 10, 10,\n",
       "       10, 10, 10, 10, 10, 10, 10, 10, 10, 10, 10, 10, 10, 10, 10, 10, 10,\n",
       "       10, 10, 10, 10, 10, 10, 10, 10, 10, 10, 10, 10])"
      ]
     },
     "execution_count": 109,
     "metadata": {},
     "output_type": "execute_result"
    }
   ],
   "source": [
    "qids_train"
   ]
  },
  {
   "cell_type": "code",
   "execution_count": 110,
   "id": "4cb158fa",
   "metadata": {
    "ExecuteTime": {
     "end_time": "2021-11-12T16:39:05.420863Z",
     "start_time": "2021-11-12T16:39:05.404087Z"
    }
   },
   "outputs": [
    {
     "data": {
      "text/plain": [
       "array([10, 10, 10, 10, 10, 10, 10, 10, 10, 10, 10, 10, 10, 10, 10, 10, 10,\n",
       "       10, 10, 10])"
      ]
     },
     "execution_count": 110,
     "metadata": {},
     "output_type": "execute_result"
    }
   ],
   "source": [
    "qids_validation"
   ]
  },
  {
   "cell_type": "code",
   "execution_count": 111,
   "id": "dc3b82e8",
   "metadata": {
    "ExecuteTime": {
     "end_time": "2021-11-12T16:39:06.557002Z",
     "start_time": "2021-11-12T16:39:06.539865Z"
    }
   },
   "outputs": [
    {
     "data": {
      "text/html": [
       "<div>\n",
       "<style scoped>\n",
       "    .dataframe tbody tr th:only-of-type {\n",
       "        vertical-align: middle;\n",
       "    }\n",
       "\n",
       "    .dataframe tbody tr th {\n",
       "        vertical-align: top;\n",
       "    }\n",
       "\n",
       "    .dataframe thead th {\n",
       "        text-align: right;\n",
       "    }\n",
       "</style>\n",
       "<table border=\"1\" class=\"dataframe\">\n",
       "  <thead>\n",
       "    <tr style=\"text-align: right;\">\n",
       "      <th></th>\n",
       "      <th>var1</th>\n",
       "      <th>var2</th>\n",
       "      <th>var3</th>\n",
       "    </tr>\n",
       "  </thead>\n",
       "  <tbody>\n",
       "    <tr>\n",
       "      <th>800</th>\n",
       "      <td>0.653470</td>\n",
       "      <td>0.994187</td>\n",
       "      <td>0.585130</td>\n",
       "    </tr>\n",
       "    <tr>\n",
       "      <th>801</th>\n",
       "      <td>0.686948</td>\n",
       "      <td>0.087938</td>\n",
       "      <td>0.007318</td>\n",
       "    </tr>\n",
       "    <tr>\n",
       "      <th>802</th>\n",
       "      <td>0.791950</td>\n",
       "      <td>0.660912</td>\n",
       "      <td>0.950166</td>\n",
       "    </tr>\n",
       "    <tr>\n",
       "      <th>803</th>\n",
       "      <td>0.658954</td>\n",
       "      <td>0.594713</td>\n",
       "      <td>0.059344</td>\n",
       "    </tr>\n",
       "    <tr>\n",
       "      <th>804</th>\n",
       "      <td>0.152590</td>\n",
       "      <td>0.285497</td>\n",
       "      <td>0.897389</td>\n",
       "    </tr>\n",
       "  </tbody>\n",
       "</table>\n",
       "</div>"
      ],
      "text/plain": [
       "         var1      var2      var3\n",
       "800  0.653470  0.994187  0.585130\n",
       "801  0.686948  0.087938  0.007318\n",
       "802  0.791950  0.660912  0.950166\n",
       "803  0.658954  0.594713  0.059344\n",
       "804  0.152590  0.285497  0.897389"
      ]
     },
     "execution_count": 111,
     "metadata": {},
     "output_type": "execute_result"
    }
   ],
   "source": [
    "X_validation.head()"
   ]
  },
  {
   "cell_type": "code",
   "execution_count": 112,
   "id": "f6beee63",
   "metadata": {
    "ExecuteTime": {
     "end_time": "2021-11-12T16:39:12.212380Z",
     "start_time": "2021-11-12T16:39:12.201147Z"
    }
   },
   "outputs": [
    {
     "data": {
      "text/plain": [
       "800    0\n",
       "801    0\n",
       "802    0\n",
       "803    0\n",
       "804    0\n",
       "Name: relevance, dtype: int64"
      ]
     },
     "execution_count": 112,
     "metadata": {},
     "output_type": "execute_result"
    }
   ],
   "source": [
    "y_validation.head()"
   ]
  },
  {
   "cell_type": "code",
   "execution_count": 113,
   "id": "7845917f",
   "metadata": {
    "ExecuteTime": {
     "end_time": "2021-11-12T16:39:45.362988Z",
     "start_time": "2021-11-12T16:39:45.359622Z"
    }
   },
   "outputs": [],
   "source": [
    "model = lightgbm.LGBMRanker(\n",
    "    objective=\"lambdarank\",\n",
    "    metric=\"ndcg\",\n",
    ")"
   ]
  },
  {
   "cell_type": "code",
   "execution_count": 114,
   "id": "0ff24125",
   "metadata": {
    "ExecuteTime": {
     "end_time": "2021-11-12T16:41:25.720606Z",
     "start_time": "2021-11-12T16:39:45.558987Z"
    },
    "scrolled": true
   },
   "outputs": [
    {
     "name": "stdout",
     "output_type": "stream",
     "text": [
      "[10]\tvalid_0's ndcg@10: 0.552886\n",
      "[20]\tvalid_0's ndcg@10: 0.519568\n",
      "[30]\tvalid_0's ndcg@10: 0.514397\n"
     ]
    },
    {
     "ename": "KeyboardInterrupt",
     "evalue": "",
     "output_type": "error",
     "traceback": [
      "\u001b[0;31m---------------------------------------------------------------------------\u001b[0m",
      "\u001b[0;31mKeyboardInterrupt\u001b[0m                         Traceback (most recent call last)",
      "\u001b[0;32m/tmp/ipykernel_87561/479166264.py\u001b[0m in \u001b[0;36m<module>\u001b[0;34m\u001b[0m\n\u001b[1;32m      6\u001b[0m     \u001b[0meval_group\u001b[0m\u001b[0;34m=\u001b[0m\u001b[0;34m[\u001b[0m\u001b[0mqids_validation\u001b[0m\u001b[0;34m]\u001b[0m\u001b[0;34m,\u001b[0m\u001b[0;34m\u001b[0m\u001b[0;34m\u001b[0m\u001b[0m\n\u001b[1;32m      7\u001b[0m     \u001b[0meval_at\u001b[0m\u001b[0;34m=\u001b[0m\u001b[0;36m10\u001b[0m\u001b[0;34m,\u001b[0m\u001b[0;34m\u001b[0m\u001b[0;34m\u001b[0m\u001b[0m\n\u001b[0;32m----> 8\u001b[0;31m     \u001b[0mverbose\u001b[0m\u001b[0;34m=\u001b[0m\u001b[0;36m10\u001b[0m\u001b[0;34m,\u001b[0m\u001b[0;34m\u001b[0m\u001b[0;34m\u001b[0m\u001b[0m\n\u001b[0m\u001b[1;32m      9\u001b[0m )\n",
      "\u001b[0;32m/data/home/irsafilo/course/shad/venv/lib/python3.7/site-packages/lightgbm/sklearn.py\u001b[0m in \u001b[0;36mfit\u001b[0;34m(self, X, y, sample_weight, init_score, group, eval_set, eval_names, eval_sample_weight, eval_init_score, eval_group, eval_metric, eval_at, early_stopping_rounds, verbose, feature_name, categorical_feature, callbacks, init_model)\u001b[0m\n\u001b[1;32m    985\u001b[0m                     \u001b[0meval_init_score\u001b[0m\u001b[0;34m=\u001b[0m\u001b[0meval_init_score\u001b[0m\u001b[0;34m,\u001b[0m \u001b[0meval_group\u001b[0m\u001b[0;34m=\u001b[0m\u001b[0meval_group\u001b[0m\u001b[0;34m,\u001b[0m \u001b[0meval_metric\u001b[0m\u001b[0;34m=\u001b[0m\u001b[0meval_metric\u001b[0m\u001b[0;34m,\u001b[0m\u001b[0;34m\u001b[0m\u001b[0;34m\u001b[0m\u001b[0m\n\u001b[1;32m    986\u001b[0m                     \u001b[0mearly_stopping_rounds\u001b[0m\u001b[0;34m=\u001b[0m\u001b[0mearly_stopping_rounds\u001b[0m\u001b[0;34m,\u001b[0m \u001b[0mverbose\u001b[0m\u001b[0;34m=\u001b[0m\u001b[0mverbose\u001b[0m\u001b[0;34m,\u001b[0m \u001b[0mfeature_name\u001b[0m\u001b[0;34m=\u001b[0m\u001b[0mfeature_name\u001b[0m\u001b[0;34m,\u001b[0m\u001b[0;34m\u001b[0m\u001b[0;34m\u001b[0m\u001b[0m\n\u001b[0;32m--> 987\u001b[0;31m                     categorical_feature=categorical_feature, callbacks=callbacks, init_model=init_model)\n\u001b[0m\u001b[1;32m    988\u001b[0m         \u001b[0;32mreturn\u001b[0m \u001b[0mself\u001b[0m\u001b[0;34m\u001b[0m\u001b[0;34m\u001b[0m\u001b[0m\n\u001b[1;32m    989\u001b[0m \u001b[0;34m\u001b[0m\u001b[0m\n",
      "\u001b[0;32m/data/home/irsafilo/course/shad/venv/lib/python3.7/site-packages/lightgbm/sklearn.py\u001b[0m in \u001b[0;36mfit\u001b[0;34m(self, X, y, sample_weight, init_score, group, eval_set, eval_names, eval_sample_weight, eval_class_weight, eval_init_score, eval_group, eval_metric, early_stopping_rounds, verbose, feature_name, categorical_feature, callbacks, init_model)\u001b[0m\n\u001b[1;32m    686\u001b[0m                               \u001b[0mevals_result\u001b[0m\u001b[0;34m=\u001b[0m\u001b[0mevals_result\u001b[0m\u001b[0;34m,\u001b[0m \u001b[0mfobj\u001b[0m\u001b[0;34m=\u001b[0m\u001b[0mself\u001b[0m\u001b[0;34m.\u001b[0m\u001b[0m_fobj\u001b[0m\u001b[0;34m,\u001b[0m \u001b[0mfeval\u001b[0m\u001b[0;34m=\u001b[0m\u001b[0meval_metrics_callable\u001b[0m\u001b[0;34m,\u001b[0m\u001b[0;34m\u001b[0m\u001b[0;34m\u001b[0m\u001b[0m\n\u001b[1;32m    687\u001b[0m                               \u001b[0mverbose_eval\u001b[0m\u001b[0;34m=\u001b[0m\u001b[0mverbose\u001b[0m\u001b[0;34m,\u001b[0m \u001b[0mfeature_name\u001b[0m\u001b[0;34m=\u001b[0m\u001b[0mfeature_name\u001b[0m\u001b[0;34m,\u001b[0m\u001b[0;34m\u001b[0m\u001b[0;34m\u001b[0m\u001b[0m\n\u001b[0;32m--> 688\u001b[0;31m                               callbacks=callbacks, init_model=init_model)\n\u001b[0m\u001b[1;32m    689\u001b[0m \u001b[0;34m\u001b[0m\u001b[0m\n\u001b[1;32m    690\u001b[0m         \u001b[0;32mif\u001b[0m \u001b[0mevals_result\u001b[0m\u001b[0;34m:\u001b[0m\u001b[0;34m\u001b[0m\u001b[0;34m\u001b[0m\u001b[0m\n",
      "\u001b[0;32m/data/home/irsafilo/course/shad/venv/lib/python3.7/site-packages/lightgbm/engine.py\u001b[0m in \u001b[0;36mtrain\u001b[0;34m(params, train_set, num_boost_round, valid_sets, valid_names, fobj, feval, init_model, feature_name, categorical_feature, early_stopping_rounds, evals_result, verbose_eval, learning_rates, keep_training_booster, callbacks)\u001b[0m\n\u001b[1;32m    247\u001b[0m                                     evaluation_result_list=None))\n\u001b[1;32m    248\u001b[0m \u001b[0;34m\u001b[0m\u001b[0m\n\u001b[0;32m--> 249\u001b[0;31m         \u001b[0mbooster\u001b[0m\u001b[0;34m.\u001b[0m\u001b[0mupdate\u001b[0m\u001b[0;34m(\u001b[0m\u001b[0mfobj\u001b[0m\u001b[0;34m=\u001b[0m\u001b[0mfobj\u001b[0m\u001b[0;34m)\u001b[0m\u001b[0;34m\u001b[0m\u001b[0;34m\u001b[0m\u001b[0m\n\u001b[0m\u001b[1;32m    250\u001b[0m \u001b[0;34m\u001b[0m\u001b[0m\n\u001b[1;32m    251\u001b[0m         \u001b[0mevaluation_result_list\u001b[0m \u001b[0;34m=\u001b[0m \u001b[0;34m[\u001b[0m\u001b[0;34m]\u001b[0m\u001b[0;34m\u001b[0m\u001b[0;34m\u001b[0m\u001b[0m\n",
      "\u001b[0;32m/data/home/irsafilo/course/shad/venv/lib/python3.7/site-packages/lightgbm/basic.py\u001b[0m in \u001b[0;36mupdate\u001b[0;34m(self, train_set, fobj)\u001b[0m\n\u001b[1;32m   2643\u001b[0m             _safe_call(_LIB.LGBM_BoosterUpdateOneIter(\n\u001b[1;32m   2644\u001b[0m                 \u001b[0mself\u001b[0m\u001b[0;34m.\u001b[0m\u001b[0mhandle\u001b[0m\u001b[0;34m,\u001b[0m\u001b[0;34m\u001b[0m\u001b[0;34m\u001b[0m\u001b[0m\n\u001b[0;32m-> 2645\u001b[0;31m                 ctypes.byref(is_finished)))\n\u001b[0m\u001b[1;32m   2646\u001b[0m             \u001b[0mself\u001b[0m\u001b[0;34m.\u001b[0m\u001b[0m__is_predicted_cur_iter\u001b[0m \u001b[0;34m=\u001b[0m \u001b[0;34m[\u001b[0m\u001b[0;32mFalse\u001b[0m \u001b[0;32mfor\u001b[0m \u001b[0m_\u001b[0m \u001b[0;32min\u001b[0m \u001b[0mrange\u001b[0m\u001b[0;34m(\u001b[0m\u001b[0mself\u001b[0m\u001b[0;34m.\u001b[0m\u001b[0m__num_dataset\u001b[0m\u001b[0;34m)\u001b[0m\u001b[0;34m]\u001b[0m\u001b[0;34m\u001b[0m\u001b[0;34m\u001b[0m\u001b[0m\n\u001b[1;32m   2647\u001b[0m             \u001b[0;32mreturn\u001b[0m \u001b[0mis_finished\u001b[0m\u001b[0;34m.\u001b[0m\u001b[0mvalue\u001b[0m \u001b[0;34m==\u001b[0m \u001b[0;36m1\u001b[0m\u001b[0;34m\u001b[0m\u001b[0;34m\u001b[0m\u001b[0m\n",
      "\u001b[0;31mKeyboardInterrupt\u001b[0m: "
     ]
    }
   ],
   "source": [
    "model.fit(\n",
    "    X=X_train,\n",
    "    y=y_train,\n",
    "    group=qids_train,\n",
    "    eval_set=[(X_validation, y_validation)],\n",
    "    eval_group=[qids_validation],\n",
    "    eval_at=10,\n",
    "    verbose=10,\n",
    ")"
   ]
  },
  {
   "cell_type": "code",
   "execution_count": null,
   "id": "a930fcb1",
   "metadata": {},
   "outputs": [],
   "source": []
  },
  {
   "cell_type": "markdown",
   "id": "8c13f5d3",
   "metadata": {},
   "source": [
    "### Реализуйте lambdamart model"
   ]
  },
  {
   "cell_type": "code",
   "execution_count": 103,
   "id": "ee5b25b6",
   "metadata": {
    "ExecuteTime": {
     "end_time": "2021-11-11T19:09:32.963526Z",
     "start_time": "2021-11-11T19:09:32.912330Z"
    }
   },
   "outputs": [
    {
     "name": "stdout",
     "output_type": "stream",
     "text": [
      "[-9.11921696 -9.06961912 -9.09686847 -9.05784061 -9.06402035 -8.85883171\n",
      " -8.80634888 -8.61861135 -8.26913952 -7.7986417  -7.26218883 -6.59235805\n",
      " -5.79645127 -4.8224706  -3.73366565 -2.40071506 -0.7663117   1.41545657\n",
      "  4.45896242  8.68988917]\n"
     ]
    }
   ],
   "source": [
    "import numpy as np\n",
    "from lightgbm import LGBMRanker\n",
    "\n",
    "N = 20\n",
    "y = np.arange(N)\n",
    "X = np.random.normal(size=(N, 2))\n",
    "X[:, 1] = y[0:]\n",
    "\n",
    "model = LGBMRanker(min_data=1, min_data_in_bin=1)\n",
    "model.fit(X, y, group=[N])\n",
    "print(model.predict(X))"
   ]
  },
  {
   "cell_type": "code",
   "execution_count": 115,
   "id": "732b863a",
   "metadata": {
    "ExecuteTime": {
     "end_time": "2021-11-12T16:41:38.913228Z",
     "start_time": "2021-11-12T16:41:38.868414Z"
    }
   },
   "outputs": [],
   "source": [
    "from catboost import CatBoostRanker, Pool, MetricVisualizer\n",
    "from copy import deepcopy\n",
    "import numpy as np\n",
    "import os\n",
    "import pandas as pd"
   ]
  },
  {
   "cell_type": "code",
   "execution_count": 116,
   "id": "d3c2e862",
   "metadata": {
    "ExecuteTime": {
     "end_time": "2021-11-12T16:42:08.989644Z",
     "start_time": "2021-11-12T16:42:08.982904Z"
    }
   },
   "outputs": [],
   "source": [
    "from catboost.datasets import msrank_10k"
   ]
  },
  {
   "cell_type": "code",
   "execution_count": 117,
   "id": "6c423500",
   "metadata": {
    "ExecuteTime": {
     "end_time": "2021-11-12T16:42:09.507780Z",
     "start_time": "2021-11-12T16:42:09.240634Z"
    }
   },
   "outputs": [],
   "source": [
    "train_df = pd.read_csv('msrank_train.csv', index_col=0)"
   ]
  },
  {
   "cell_type": "code",
   "execution_count": 118,
   "id": "000edc3f",
   "metadata": {
    "ExecuteTime": {
     "end_time": "2021-11-12T16:42:10.381019Z",
     "start_time": "2021-11-12T16:42:10.042425Z"
    }
   },
   "outputs": [],
   "source": [
    "test_df = pd.read_csv('msrank_test.csv', index_col=0)"
   ]
  },
  {
   "cell_type": "code",
   "execution_count": 119,
   "id": "c6f9c5c7",
   "metadata": {
    "ExecuteTime": {
     "end_time": "2021-11-12T16:42:16.287977Z",
     "start_time": "2021-11-12T16:42:16.282582Z"
    }
   },
   "outputs": [
    {
     "data": {
      "text/plain": [
       "(10000, 138)"
      ]
     },
     "execution_count": 119,
     "metadata": {},
     "output_type": "execute_result"
    }
   ],
   "source": [
    "train_df.shape"
   ]
  },
  {
   "cell_type": "code",
   "execution_count": 121,
   "id": "3b8b4b40",
   "metadata": {
    "ExecuteTime": {
     "end_time": "2021-11-12T16:42:32.662258Z",
     "start_time": "2021-11-12T16:42:32.631092Z"
    }
   },
   "outputs": [
    {
     "data": {
      "text/html": [
       "<div>\n",
       "<style scoped>\n",
       "    .dataframe tbody tr th:only-of-type {\n",
       "        vertical-align: middle;\n",
       "    }\n",
       "\n",
       "    .dataframe tbody tr th {\n",
       "        vertical-align: top;\n",
       "    }\n",
       "\n",
       "    .dataframe thead th {\n",
       "        text-align: right;\n",
       "    }\n",
       "</style>\n",
       "<table border=\"1\" class=\"dataframe\">\n",
       "  <thead>\n",
       "    <tr style=\"text-align: right;\">\n",
       "      <th></th>\n",
       "      <th>0</th>\n",
       "      <th>1</th>\n",
       "      <th>2</th>\n",
       "      <th>3</th>\n",
       "      <th>4</th>\n",
       "      <th>5</th>\n",
       "      <th>6</th>\n",
       "      <th>7</th>\n",
       "      <th>8</th>\n",
       "      <th>9</th>\n",
       "      <th>...</th>\n",
       "      <th>128</th>\n",
       "      <th>129</th>\n",
       "      <th>130</th>\n",
       "      <th>131</th>\n",
       "      <th>132</th>\n",
       "      <th>133</th>\n",
       "      <th>134</th>\n",
       "      <th>135</th>\n",
       "      <th>136</th>\n",
       "      <th>137</th>\n",
       "    </tr>\n",
       "  </thead>\n",
       "  <tbody>\n",
       "    <tr>\n",
       "      <th>0</th>\n",
       "      <td>2.0</td>\n",
       "      <td>1</td>\n",
       "      <td>3</td>\n",
       "      <td>3</td>\n",
       "      <td>0</td>\n",
       "      <td>0</td>\n",
       "      <td>3</td>\n",
       "      <td>1.0</td>\n",
       "      <td>1.0</td>\n",
       "      <td>0.000000</td>\n",
       "      <td>...</td>\n",
       "      <td>62</td>\n",
       "      <td>11089534</td>\n",
       "      <td>2</td>\n",
       "      <td>116</td>\n",
       "      <td>64034</td>\n",
       "      <td>13</td>\n",
       "      <td>3</td>\n",
       "      <td>0</td>\n",
       "      <td>0</td>\n",
       "      <td>0.0</td>\n",
       "    </tr>\n",
       "    <tr>\n",
       "      <th>1</th>\n",
       "      <td>2.0</td>\n",
       "      <td>1</td>\n",
       "      <td>3</td>\n",
       "      <td>0</td>\n",
       "      <td>3</td>\n",
       "      <td>0</td>\n",
       "      <td>3</td>\n",
       "      <td>1.0</td>\n",
       "      <td>0.0</td>\n",
       "      <td>1.000000</td>\n",
       "      <td>...</td>\n",
       "      <td>54</td>\n",
       "      <td>11089534</td>\n",
       "      <td>2</td>\n",
       "      <td>124</td>\n",
       "      <td>64034</td>\n",
       "      <td>1</td>\n",
       "      <td>2</td>\n",
       "      <td>0</td>\n",
       "      <td>0</td>\n",
       "      <td>0.0</td>\n",
       "    </tr>\n",
       "    <tr>\n",
       "      <th>2</th>\n",
       "      <td>0.0</td>\n",
       "      <td>1</td>\n",
       "      <td>3</td>\n",
       "      <td>0</td>\n",
       "      <td>2</td>\n",
       "      <td>0</td>\n",
       "      <td>3</td>\n",
       "      <td>1.0</td>\n",
       "      <td>0.0</td>\n",
       "      <td>0.666667</td>\n",
       "      <td>...</td>\n",
       "      <td>45</td>\n",
       "      <td>3</td>\n",
       "      <td>1</td>\n",
       "      <td>124</td>\n",
       "      <td>3344</td>\n",
       "      <td>14</td>\n",
       "      <td>67</td>\n",
       "      <td>0</td>\n",
       "      <td>0</td>\n",
       "      <td>0.0</td>\n",
       "    </tr>\n",
       "    <tr>\n",
       "      <th>3</th>\n",
       "      <td>2.0</td>\n",
       "      <td>1</td>\n",
       "      <td>3</td>\n",
       "      <td>0</td>\n",
       "      <td>3</td>\n",
       "      <td>0</td>\n",
       "      <td>3</td>\n",
       "      <td>1.0</td>\n",
       "      <td>0.0</td>\n",
       "      <td>1.000000</td>\n",
       "      <td>...</td>\n",
       "      <td>56</td>\n",
       "      <td>11089534</td>\n",
       "      <td>13</td>\n",
       "      <td>123</td>\n",
       "      <td>63933</td>\n",
       "      <td>1</td>\n",
       "      <td>3</td>\n",
       "      <td>0</td>\n",
       "      <td>0</td>\n",
       "      <td>0.0</td>\n",
       "    </tr>\n",
       "    <tr>\n",
       "      <th>4</th>\n",
       "      <td>1.0</td>\n",
       "      <td>1</td>\n",
       "      <td>3</td>\n",
       "      <td>0</td>\n",
       "      <td>3</td>\n",
       "      <td>0</td>\n",
       "      <td>3</td>\n",
       "      <td>1.0</td>\n",
       "      <td>0.0</td>\n",
       "      <td>1.000000</td>\n",
       "      <td>...</td>\n",
       "      <td>64</td>\n",
       "      <td>5</td>\n",
       "      <td>7</td>\n",
       "      <td>256</td>\n",
       "      <td>49697</td>\n",
       "      <td>1</td>\n",
       "      <td>13</td>\n",
       "      <td>0</td>\n",
       "      <td>0</td>\n",
       "      <td>0.0</td>\n",
       "    </tr>\n",
       "  </tbody>\n",
       "</table>\n",
       "<p>5 rows × 138 columns</p>\n",
       "</div>"
      ],
      "text/plain": [
       "     0  1  2  3  4  5  6    7    8         9  ...  128       129  130  131  \\\n",
       "0  2.0  1  3  3  0  0  3  1.0  1.0  0.000000  ...   62  11089534    2  116   \n",
       "1  2.0  1  3  0  3  0  3  1.0  0.0  1.000000  ...   54  11089534    2  124   \n",
       "2  0.0  1  3  0  2  0  3  1.0  0.0  0.666667  ...   45         3    1  124   \n",
       "3  2.0  1  3  0  3  0  3  1.0  0.0  1.000000  ...   56  11089534   13  123   \n",
       "4  1.0  1  3  0  3  0  3  1.0  0.0  1.000000  ...   64         5    7  256   \n",
       "\n",
       "     132  133  134  135  136  137  \n",
       "0  64034   13    3    0    0  0.0  \n",
       "1  64034    1    2    0    0  0.0  \n",
       "2   3344   14   67    0    0  0.0  \n",
       "3  63933    1    3    0    0  0.0  \n",
       "4  49697    1   13    0    0  0.0  \n",
       "\n",
       "[5 rows x 138 columns]"
      ]
     },
     "execution_count": 121,
     "metadata": {},
     "output_type": "execute_result"
    }
   ],
   "source": [
    "train_df.head()"
   ]
  },
  {
   "cell_type": "code",
   "execution_count": 120,
   "id": "fc13a139",
   "metadata": {
    "ExecuteTime": {
     "end_time": "2021-11-12T16:42:17.157249Z",
     "start_time": "2021-11-12T16:42:17.153131Z"
    }
   },
   "outputs": [
    {
     "data": {
      "text/plain": [
       "(10000, 138)"
      ]
     },
     "execution_count": 120,
     "metadata": {},
     "output_type": "execute_result"
    }
   ],
   "source": [
    "test_df.shape"
   ]
  },
  {
   "cell_type": "markdown",
   "id": "68bb291d",
   "metadata": {},
   "source": [
    "### Ranking problem\n",
    "\n",
    "Введем обозначения:\n",
    "* $Q = \\{q_1, \\dots, q_n\\}$ список запросов\n",
    "* $D_q = \\{d_{q1}, \\dots, d_{qm}\\}$ -- набор документов, полученных для группы $q$\n",
    "* $L_q = \\{l_{q1}, \\dots, l_{qm}\\}$ -- метки релевантности для объектов из набор $D_q$\n",
    "\n",
    "Каждый обьект $d_{qi}$ представлен в векторном пространстве признаков, описывающих связи между группой и объектом.\n",
    "\n",
    "Таким образом, каждая группа связана с набором объектов. Например, группа - это запрос, а объект - это документ, если мы ранжируем документы по поисковому запросу.\n",
    "\n",
    "Цель состоит в том, чтобы изучить функцию ранжирования $ f = f (d_ {qi}) $, такую, чтобы ранжирование объектов $ d_ {qi} $ для всех групп из $ Q $ основывалось на их оценках $ x_ {qi} = f (d_ {qi}) $ максимально приближенных к идеальному рейтингу согласно $ l_ {qi} $."
   ]
  },
  {
   "cell_type": "markdown",
   "id": "5caadb74",
   "metadata": {},
   "source": [
    "### Ranking quality metrics:\n",
    "* __Precision__\n",
    "    $$ \\mbox{P}=\\frac{|\\{\\mbox{relevant docs}\\}\\cap\\{\\mbox{retrieved docs}\\}|}{|\\{\\mbox{retrieved docs}\\}|} $$\n",
    "* __Recall__\n",
    "    $$ \\mbox{R}=\\frac{|\\{\\mbox{relevant docs}\\}\\cap\\{\\mbox{retrieved docs}\\}|}{|\\{\\mbox{relevant docs}\\}|} $$\n",
    "    \n",
    "    Обозначение $ @ k $ означает, что метрика рассчитывается для первых $ k $ документов из списка ранжирования.\n",
    "\n",
    "     Например, если 1,2,5,7,9 - это ранги релевантных документов (перечисления начинаются с номера 1 из десяти полученных, то $ P @ 5 $ будет $\\frac{3}{5}$.\n",
    "\n",
    "* __Mean average precision (MAP)__\n",
    "    $$\\frac{1}{|Q|}\\sum_{q \\in Q} \\frac{1}{|\\mbox{relevant docs in } D_q|} \\sum_{k} P@k(q) \\times rel(q, k) $$\n",
    "    \n",
    "    Где $rel(q, k)$ - метка релевантности документа на k-й позиции в нашем рейтинге $ D_q $. Этот показатель вычисляет среднюю точность для запроса, взвешенного с учетом релевантности документов, а затем вычисляет среднее значение между всеми запросами.\n",
    "    \n",
    "* __Discounted cumulative gain (DCG)__\n",
    "    $$\\sum_{k=1}^{mq} \\frac{2 ^ {l_{qk}}}{\\log_2(k+1)}$$\n",
    "    \n",
    "    Эта метрика учитывает поведение пользователя: внимание пользователя находится наверху, а затем нелинейно уменьшается до конца.\n",
    "    \n",
    "* __NDCG__ - нормализованный DCG = DCG $ ~ / ~ $ IDCG, где IDCG - максимально возможное значение DCG с заданным набором меток релевантности.\n",
    "\n",
    "* __AverageGain__ - представляет среднее значение значений метки для объектов с определенными значениями верхней метки.\n",
    "* __[PFound](https://tech.yandex.com/catboost/doc/dg/references/pfound-docpage/#pfound)__\n",
    "    \n",
    "Больше на wiki: https://en.wikipedia.org/wiki/Evaluation_measures_(information_retrieval)\n",
    "\n",
    "Параметр $ @ k $ для каждой метрики можно указать через параметр метрики «top», например «NDCG: top = 10» будет означать NDCG @ 10."
   ]
  },
  {
   "cell_type": "code",
   "execution_count": null,
   "id": "e79395a1",
   "metadata": {},
   "outputs": [],
   "source": []
  },
  {
   "cell_type": "code",
   "execution_count": null,
   "id": "cd83087a",
   "metadata": {},
   "outputs": [],
   "source": []
  },
  {
   "cell_type": "code",
   "execution_count": null,
   "id": "8eaaee5b",
   "metadata": {},
   "outputs": [],
   "source": []
  },
  {
   "cell_type": "code",
   "execution_count": 123,
   "id": "31c6037b",
   "metadata": {
    "ExecuteTime": {
     "end_time": "2021-11-12T16:45:42.570275Z",
     "start_time": "2021-11-12T16:45:42.546131Z"
    }
   },
   "outputs": [],
   "source": [
    "#from catboost.datasets import msrank_10k\n",
    "#train_df, test_df = msrank_10k()\n",
    "\n",
    "X_train = train_df.drop(['0', '1'], axis=1).values\n",
    "y_train = train_df['0'].values\n",
    "queries_train = train_df['1'].values\n",
    "\n",
    "X_test = test_df.drop(['0', '1'], axis=1).values\n",
    "y_test = test_df['0'].values\n",
    "queries_test = test_df['1'].values"
   ]
  },
  {
   "cell_type": "code",
   "execution_count": null,
   "id": "472b1c2e",
   "metadata": {},
   "outputs": [],
   "source": []
  },
  {
   "cell_type": "code",
   "execution_count": 124,
   "id": "f5407cd2",
   "metadata": {
    "ExecuteTime": {
     "end_time": "2021-11-12T16:45:44.626556Z",
     "start_time": "2021-11-12T16:45:44.622370Z"
    }
   },
   "outputs": [
    {
     "name": "stdout",
     "output_type": "stream",
     "text": [
      "10000\n"
     ]
    }
   ],
   "source": [
    "num_documents = X_train.shape[0]\n",
    "print(num_documents)"
   ]
  },
  {
   "cell_type": "markdown",
   "id": "78e2df0a",
   "metadata": {},
   "source": [
    "Число фичей"
   ]
  },
  {
   "cell_type": "code",
   "execution_count": 125,
   "id": "a343c558",
   "metadata": {
    "ExecuteTime": {
     "end_time": "2021-11-12T16:45:47.913897Z",
     "start_time": "2021-11-12T16:45:47.908582Z"
    }
   },
   "outputs": [
    {
     "data": {
      "text/plain": [
       "136"
      ]
     },
     "execution_count": 125,
     "metadata": {},
     "output_type": "execute_result"
    }
   ],
   "source": [
    "X_train.shape[1]"
   ]
  },
  {
   "cell_type": "markdown",
   "id": "e50e1082",
   "metadata": {},
   "source": [
    "__Relevance labels statistics__\n",
    "\n",
    "0 - неактуально, 4 - очень актуально. В таблице представлено количество документов для каждого значения."
   ]
  },
  {
   "cell_type": "code",
   "execution_count": 126,
   "id": "ac748980",
   "metadata": {
    "ExecuteTime": {
     "end_time": "2021-11-12T16:46:01.795175Z",
     "start_time": "2021-11-12T16:46:01.785247Z"
    }
   },
   "outputs": [
    {
     "data": {
      "text/plain": [
       "dict_items([(2.0, 1326), (0.0, 5481), (1.0, 3000), (3.0, 142), (4.0, 51)])"
      ]
     },
     "execution_count": 126,
     "metadata": {},
     "output_type": "execute_result"
    }
   ],
   "source": [
    "from collections import Counter\n",
    "Counter(y_train).items()"
   ]
  },
  {
   "cell_type": "code",
   "execution_count": 127,
   "id": "39a57bd9",
   "metadata": {
    "ExecuteTime": {
     "end_time": "2021-11-12T16:46:19.510988Z",
     "start_time": "2021-11-12T16:46:19.506891Z"
    }
   },
   "outputs": [],
   "source": [
    "max_relevance = np.max(y_train)\n",
    "y_train /= max_relevance\n",
    "y_test /= max_relevance"
   ]
  },
  {
   "cell_type": "code",
   "execution_count": 128,
   "id": "08d6113d",
   "metadata": {
    "ExecuteTime": {
     "end_time": "2021-11-12T16:46:23.532989Z",
     "start_time": "2021-11-12T16:46:23.526304Z"
    }
   },
   "outputs": [
    {
     "data": {
      "text/plain": [
       "array([[3., 3., 0., ..., 0., 0., 0.],\n",
       "       [3., 0., 3., ..., 0., 0., 0.],\n",
       "       [3., 0., 2., ..., 0., 0., 0.],\n",
       "       ...,\n",
       "       [2., 0., 2., ..., 0., 0., 0.],\n",
       "       [2., 0., 1., ..., 0., 0., 0.],\n",
       "       [2., 1., 1., ..., 0., 0., 0.]])"
      ]
     },
     "execution_count": 128,
     "metadata": {},
     "output_type": "execute_result"
    }
   ],
   "source": [
    "X_train"
   ]
  },
  {
   "cell_type": "code",
   "execution_count": 130,
   "id": "0ea861d3",
   "metadata": {
    "ExecuteTime": {
     "end_time": "2021-11-12T16:47:10.302754Z",
     "start_time": "2021-11-12T16:47:10.297903Z"
    }
   },
   "outputs": [
    {
     "data": {
      "text/plain": [
       "87"
      ]
     },
     "execution_count": 130,
     "metadata": {},
     "output_type": "execute_result"
    }
   ],
   "source": [
    "num_queries = np.unique(queries_train).shape[0]\n",
    "num_queries"
   ]
  },
  {
   "cell_type": "code",
   "execution_count": 131,
   "id": "4601a041",
   "metadata": {
    "ExecuteTime": {
     "end_time": "2021-11-12T16:47:13.702610Z",
     "start_time": "2021-11-12T16:47:13.624447Z"
    }
   },
   "outputs": [],
   "source": [
    "train = Pool(\n",
    "    data=X_train,\n",
    "    label=y_train,\n",
    "    group_id=queries_train\n",
    ")\n",
    "\n",
    "test = Pool(\n",
    "    data=X_test,\n",
    "    label=y_test,\n",
    "    group_id=queries_test\n",
    ")"
   ]
  },
  {
   "cell_type": "markdown",
   "id": "d9dbc7a5",
   "metadata": {},
   "source": [
    "### Можем создать pools из файлов"
   ]
  },
  {
   "cell_type": "code",
   "execution_count": 138,
   "id": "861484b4",
   "metadata": {
    "ExecuteTime": {
     "end_time": "2021-11-12T16:55:24.917788Z",
     "start_time": "2021-11-12T16:55:23.138601Z"
    }
   },
   "outputs": [],
   "source": [
    "data_dir = './msrank'\n",
    "\n",
    "if not os.path.exists(data_dir):\n",
    "    os.makedirs(data_dir)\n",
    "\n",
    "train_file = os.path.join(data_dir, 'train.csv')\n",
    "test_file = os.path.join(data_dir, 'test.csv')\n",
    "\n",
    "train_df.to_csv(train_file, index=False, header=False)\n",
    "test_df.to_csv(test_file, index=False, header=False)"
   ]
  },
  {
   "cell_type": "code",
   "execution_count": 139,
   "id": "3b547344",
   "metadata": {
    "ExecuteTime": {
     "end_time": "2021-11-12T16:55:24.923240Z",
     "start_time": "2021-11-12T16:55:24.920027Z"
    }
   },
   "outputs": [],
   "source": [
    "description_file = os.path.join(data_dir, 'dataset.cd')\n",
    "with open(description_file, 'w') as f:\n",
    "    f.write('0\\tLabel\\n')\n",
    "    f.write('1\\tQueryId\\n')"
   ]
  },
  {
   "cell_type": "markdown",
   "id": "b8815fed",
   "metadata": {},
   "source": [
    "### <span style=\"color:#ce2029\">Attention:</span> Все обьекты должны быть сгруппированы по group_id\n",
    "\n",
    "Например, если набор данных состоит из пяти документов\n",
    "\\ [d1, d2, d3, d4, d5 \\] с соответствующими запросами \\ [q1, q2, q2, q1, q2 \\], тогда набор данных должен выглядеть так:\n",
    "\n",
    "$$\\begin{pmatrix}\n",
    "    d_1, q_1, f_1\\\\\n",
    "    d_4, q_1, f_4\\\\\n",
    "    d_2, q_2, f_2\\\\\n",
    "    d_3, q_2, f_3\\\\\n",
    "    d_5, q_2, f_5\\\\\n",
    "\\end{pmatrix} \\hspace{6px} \\texttt{or} \\hspace{6px}\n",
    "\\begin{pmatrix}\n",
    "    d_2, q_2, f_2\\\\\n",
    "    d_3, q_2, f_3\\\\\n",
    "    d_5, q_2, f_5\\\\\n",
    "    d_1, q_1, f_1\\\\\n",
    "    d_4, q_1, f_4\\\\\n",
    "\\end{pmatrix}$$\n",
    "\n",
    "где $f_i$ это вектор фичей для i-го документа."
   ]
  },
  {
   "cell_type": "markdown",
   "id": "827119c2",
   "metadata": {},
   "source": [
    "### Сведение проблемы к задаче машинного обучения\n",
    "\n",
    "Первая и самая простая идея - попытаться предсказать релевантность документа $ l_q $, минимизируя RMSE.\n",
    "\n",
    "$$\\frac{1}{N}\\sqrt{ \\sum_q \\sum_{d_{qk}} \\left(f(d_{qk}) - l_{qk} \\right)^2 }$$"
   ]
  },
  {
   "cell_type": "code",
   "execution_count": 132,
   "id": "e8a0885a",
   "metadata": {
    "ExecuteTime": {
     "end_time": "2021-11-12T16:49:00.458780Z",
     "start_time": "2021-11-12T16:49:00.449280Z"
    }
   },
   "outputs": [],
   "source": [
    "default_parameters = {\n",
    "    'iterations': 2000,\n",
    "    'custom_metric': ['NDCG', 'PFound', 'AverageGain:top=10'],\n",
    "    'verbose': False,\n",
    "    'random_seed': 0,\n",
    "}\n",
    "\n",
    "parameters = {}"
   ]
  },
  {
   "cell_type": "code",
   "execution_count": 133,
   "id": "e96b5ff2",
   "metadata": {
    "ExecuteTime": {
     "end_time": "2021-11-12T16:49:02.110660Z",
     "start_time": "2021-11-12T16:49:02.105403Z"
    }
   },
   "outputs": [],
   "source": [
    "def fit_model(loss_function, additional_params=None, train_pool=train, test_pool=test):\n",
    "    parameters = deepcopy(default_parameters)\n",
    "    parameters['loss_function'] = loss_function\n",
    "    parameters['train_dir'] = loss_function\n",
    "    \n",
    "    if additional_params is not None:\n",
    "        parameters.update(additional_params)\n",
    "        \n",
    "    model = CatBoostRanker(**parameters)\n",
    "    #model.fit(train_pool, eval_set=test_pool, plot=True)\n",
    "    model.fit(train_pool, eval_set=test_pool, plot=False)\n",
    "    return model"
   ]
  },
  {
   "cell_type": "code",
   "execution_count": 134,
   "id": "c7aca779",
   "metadata": {
    "ExecuteTime": {
     "end_time": "2021-11-12T16:49:30.358486Z",
     "start_time": "2021-11-12T16:49:03.556523Z"
    }
   },
   "outputs": [
    {
     "name": "stderr",
     "output_type": "stream",
     "text": [
      "/data/home/irsafilo/course/shad/venv/lib/python3.7/site-packages/catboost/core.py:5765: RuntimeWarning: Regression loss ('RMSE') ignores an important ranking parameter 'group_id'\n",
      "  warnings.warn(\"Regression loss ('{}') ignores an important ranking parameter 'group_id'\".format(loss_function), RuntimeWarning)\n"
     ]
    }
   ],
   "source": [
    "model = fit_model('RMSE', {'custom_metric': ['PrecisionAt:top=10', 'RecallAt:top=10', 'MAP:top=10']})"
   ]
  },
  {
   "cell_type": "code",
   "execution_count": null,
   "id": "a4de938c",
   "metadata": {},
   "outputs": [],
   "source": []
  },
  {
   "cell_type": "code",
   "execution_count": null,
   "id": "1e9b2609",
   "metadata": {},
   "outputs": [],
   "source": []
  },
  {
   "cell_type": "markdown",
   "id": "c489e447",
   "metadata": {},
   "source": [
    "### Параметр весов групп\n",
    "Предположим, мы знаем, что одни запросы для нас важнее других. <br/>\n",
    "Слово «важность» используется здесь с точки зрения точности или качества прогнозов CatBoostRanker для заданных запросов. <br/>\n",
    "Вы можете передать эту дополнительную информацию алгоритму с помощью параметра group_weights. <br/>\n",
    "Под капотом CatBoostRanker использует эти веса в функции потерь, просто умножая их на групповое слагаемое. <br/>\n",
    "Таким образом, чем больше вес, тем больше внимания будет уделяться запросу. <br/>\n",
    "Приведем пример процедуры обучения со случайными весами запросов."
   ]
  },
  {
   "cell_type": "code",
   "execution_count": 135,
   "id": "5201e1a0",
   "metadata": {
    "ExecuteTime": {
     "end_time": "2021-11-12T16:51:01.188636Z",
     "start_time": "2021-11-12T16:50:33.165682Z"
    }
   },
   "outputs": [
    {
     "data": {
      "text/plain": [
       "<catboost.core.CatBoostRanker at 0x7f9d020f9f60>"
      ]
     },
     "execution_count": 135,
     "metadata": {},
     "output_type": "execute_result"
    }
   ],
   "source": [
    "def create_weights(queries):\n",
    "    query_set = np.unique(queries)\n",
    "    query_weights = np.random.uniform(size=query_set.shape[0])\n",
    "    weights = np.zeros(shape=queries.shape)\n",
    "    \n",
    "    for i, query_id in enumerate(query_set):\n",
    "        weights[queries == query_id] = query_weights[i]\n",
    "    \n",
    "    return weights\n",
    "    \n",
    "\n",
    "train_with_weights = Pool(\n",
    "    data=X_train,\n",
    "    label=y_train,\n",
    "    group_weight=create_weights(queries_train),\n",
    "    group_id=queries_train\n",
    ")\n",
    "\n",
    "test_with_weights = Pool(\n",
    "    data=X_test,\n",
    "    label=y_test,\n",
    "    group_weight=create_weights(queries_test),\n",
    "    group_id=queries_test\n",
    ")\n",
    "\n",
    "fit_model(\n",
    "    'RMSE', \n",
    "    additional_params={'train_dir': 'RMSE_weigths'}, \n",
    "    train_pool=train_with_weights,\n",
    "    test_pool=test_with_weights\n",
    ")\n"
   ]
  },
  {
   "cell_type": "markdown",
   "id": "2cb6e12d",
   "metadata": {},
   "source": [
    "Поэксперементируйте с весами, задав их сокореллировано релевантности, сокореллировано частоте"
   ]
  },
  {
   "cell_type": "code",
   "execution_count": null,
   "id": "6fc5ce14",
   "metadata": {},
   "outputs": [],
   "source": []
  },
  {
   "cell_type": "markdown",
   "id": "85018424",
   "metadata": {},
   "source": [
    "## Особый случай: прогноз топ-1\n",
    "\n",
    "Когда-нибудь вы можете столкнуться с проблемой $ - $, вам нужно будет предсказать один из наиболее релевантных объектов для данного запроса. <br/>\n",
    "Для этого в CatBoostRanker есть режим __QuerySoftMax__.\n",
    "\n",
    "Предположим, что у вашего набора данных бинарный таргет: 1 $ - $ означает лучший документ для запроса, 0 $ - $ другие. <br/>\n",
    "Мы максимально увеличим вероятность того, что станем лучшим документом для данного запроса. <br/>\n",
    "Набор данных MSRANK не содержит двоичных меток, но, например, для метода __QuerySoftMax__ мы конвертируем его в этот формат, <br/> выбирая лучший документ для каждого запроса."
   ]
  },
  {
   "cell_type": "code",
   "execution_count": null,
   "id": "e925ca8b",
   "metadata": {},
   "outputs": [],
   "source": []
  },
  {
   "cell_type": "code",
   "execution_count": 136,
   "id": "3b04a4b3",
   "metadata": {
    "ExecuteTime": {
     "end_time": "2021-11-12T16:51:38.646983Z",
     "start_time": "2021-11-12T16:51:38.637307Z"
    }
   },
   "outputs": [],
   "source": [
    "def get_best_documents(labels, queries):\n",
    "    query_set = np.unique(queries)\n",
    "    num_queries = query_set.shape[0]\n",
    "    by_query_arg_max = {query: -1 for query in query_set}\n",
    "    \n",
    "    for i, query in enumerate(queries):\n",
    "        best_idx = by_query_arg_max[query]\n",
    "        if best_idx == -1 or labels[best_idx] < labels[i]:\n",
    "            by_query_arg_max[query] = i\n",
    "    \n",
    "    binary_best_docs = np.zeros(shape=labels.shape)\n",
    "    for arg_max in by_query_arg_max.values():\n",
    "        binary_best_docs[arg_max] = 1.\n",
    "        \n",
    "    return binary_best_docs"
   ]
  },
  {
   "cell_type": "code",
   "execution_count": 140,
   "id": "7eeb5ce5",
   "metadata": {
    "ExecuteTime": {
     "end_time": "2021-11-12T16:59:42.220871Z",
     "start_time": "2021-11-12T16:55:28.155393Z"
    },
    "scrolled": true
   },
   "outputs": [
    {
     "data": {
      "text/plain": [
       "<catboost.core.CatBoostRanker at 0x7f9be3066400>"
      ]
     },
     "execution_count": 140,
     "metadata": {},
     "output_type": "execute_result"
    }
   ],
   "source": [
    "best_docs_train = get_best_documents(y_train, queries_train)\n",
    "best_docs_test = get_best_documents(y_test, queries_test)\n",
    "\n",
    "train_with_weights = Pool(\n",
    "    data=X_train,\n",
    "    label=best_docs_train,\n",
    "    group_id=queries_train,\n",
    "    group_weight=create_weights(queries_train)\n",
    ")\n",
    "\n",
    "test_with_weights = Pool(\n",
    "    data=X_test,\n",
    "    label=best_docs_test,\n",
    "    group_id=queries_test,\n",
    "    group_weight=create_weights(queries_test)\n",
    ")\n",
    "\n",
    "fit_model(\n",
    "    'QuerySoftMax',\n",
    "    additional_params={'custom_metric': 'AverageGain:top=1'},\n",
    "    train_pool=train_with_weights,\n",
    "    test_pool=test_with_weights\n",
    ")"
   ]
  },
  {
   "cell_type": "markdown",
   "id": "6712fee5",
   "metadata": {},
   "source": [
    "### Уменьшение проблемы, шаг 2\n",
    "\n",
    "Теперь посмотрим на пример релевантности документов:\n",
    "\n",
    "$$ \n",
    "    \\begin{align}\n",
    "    labels(q_1) &= \\begin{bmatrix}\n",
    "           4 \\\\\n",
    "           3 \\\\\n",
    "           3 \\\\\n",
    "           1\n",
    "         \\end{bmatrix},\n",
    "    labels(q_2) &= \\begin{bmatrix}\n",
    "           2 \\\\\n",
    "           1 \\\\\n",
    "           1 \\\\\n",
    "           0\n",
    "         \\end{bmatrix}\n",
    "   \\end{align}\n",
    "$$\n",
    "\n",
    "Это означает, что с функцией потерь RMSE мы уделяем больше внимания q1, чем q2.\n",
    "\n",
    "Чтобы избежать этой проблемы, мы вводим в RMSE коэффициент $ c_q $, который зависит только от запроса (и если факт равен среднему значению разницы между предсказанием и меткой).\n",
    "\n",
    "$$\\frac{1}{N}\\sqrt{ \\sum_q \\sum_{d_{qk}} \\left(f(d_{qk}) - l_{qk} - \\color{red}{c_{q}} \\right)^2 }$$"
   ]
  },
  {
   "cell_type": "code",
   "execution_count": null,
   "id": "0b9934bd",
   "metadata": {},
   "outputs": [],
   "source": []
  },
  {
   "cell_type": "code",
   "execution_count": null,
   "id": "cfa69014",
   "metadata": {},
   "outputs": [],
   "source": []
  },
  {
   "cell_type": "code",
   "execution_count": 54,
   "id": "0e4e7d26",
   "metadata": {
    "ExecuteTime": {
     "end_time": "2021-11-09T18:34:53.414461Z",
     "start_time": "2021-11-09T18:34:26.590344Z"
    }
   },
   "outputs": [
    {
     "data": {
      "text/plain": [
       "<catboost.core.CatBoostRanker at 0x7f821837f5f8>"
      ]
     },
     "execution_count": 54,
     "metadata": {},
     "output_type": "execute_result"
    }
   ],
   "source": [
    "fit_model('QueryRMSE')"
   ]
  },
  {
   "cell_type": "code",
   "execution_count": null,
   "id": "90d0ad6f",
   "metadata": {},
   "outputs": [],
   "source": []
  },
  {
   "cell_type": "code",
   "execution_count": null,
   "id": "52847910",
   "metadata": {},
   "outputs": [],
   "source": []
  },
  {
   "cell_type": "markdown",
   "id": "e7a91e76",
   "metadata": {},
   "source": [
    "### Уменьшение проблемы, шаг 3\n",
    "\n",
    "Поскольку целью ранжирования является прогнозирование списка документов (который может быть сгенерирован на основе заданных релевантностей документов), функция потерь RMSE не учитывает отношения между документами: первый лучше, чем второй, второй лучше, чем третий и пятый и т. Д. .\n",
    "\n",
    "Мы можем легко внести эту информацию в функцию потерь, сведя проблему не к регрессии, а к классификации для двух документов. $ (D_i, d_j) $ - делает $ i $ ый лучше, чем $ j $ ый, или нет.\n",
    "\n",
    "Таким образом, мы минимизируем отрицательную логарифмическую вероятность:\n",
    "\n",
    "$$ - \\sum_{i, j \\in Pairs} \\log \\left (\\frac {1} {1 + \\exp {- (f (d_i) - f (d_j))}} \\right) $$\n",
    "\n",
    "Методы, основанные на парных сравнениях, называются __pairwise__ в CatBoostRanker, эта цель называется __PairLogit__.\n",
    "\n",
    "Нет необходимости изменять набор данных, которые CatBoost генерирует для нас. Количество генерируемых пар, управляемых параметром max_size."
   ]
  },
  {
   "cell_type": "code",
   "execution_count": null,
   "id": "b68494c3",
   "metadata": {},
   "outputs": [],
   "source": [
    "fit_model('PairLogit')"
   ]
  },
  {
   "cell_type": "markdown",
   "id": "b1c82319",
   "metadata": {},
   "source": [
    "Также мы можем указать пары напрямую. Это можно сделать двумя способами:\n",
    "\n",
    "1. Двумерная матрица с shape = (num_pairs, 2) $ \\rightarrow $ (Win_id, loser_id): list, numpy.array, pandas.DataFrame.\n",
    "2. Второй путь к входному файлу, содержащему описания пар:\n",
    "     * Формат строки: $ \\texttt {[индекс победителя, индекс проигравшего, вес пары]} $"
   ]
  },
  {
   "cell_type": "code",
   "execution_count": 141,
   "id": "e9f21803",
   "metadata": {
    "ExecuteTime": {
     "end_time": "2021-11-12T16:59:42.302971Z",
     "start_time": "2021-11-12T16:59:42.223360Z"
    }
   },
   "outputs": [],
   "source": [
    "def read_groups(file_name):\n",
    "    groups = {}\n",
    "    group_ids = []\n",
    "\n",
    "    with open(file_name) as f:\n",
    "        for doc_id, line in enumerate(f):\n",
    "            line = line.split(',')[:2]\n",
    "            \n",
    "            label, query_id = float(line[0]), int(line[1])\n",
    "            if query_id not in groups:\n",
    "                groups[query_id] = []\n",
    "            groups[query_id].append((doc_id, label))\n",
    "\n",
    "            group_ids.append(query_id)\n",
    "\n",
    "    return groups, group_ids\n",
    "            \n",
    "train_groups, train_group_ids = read_groups(train_file)\n",
    "assert num_queries == len(train_groups)"
   ]
  },
  {
   "cell_type": "code",
   "execution_count": null,
   "id": "6d7701e8",
   "metadata": {},
   "outputs": [],
   "source": []
  },
  {
   "cell_type": "code",
   "execution_count": 142,
   "id": "6fbb80a6",
   "metadata": {
    "ExecuteTime": {
     "end_time": "2021-11-12T16:59:43.157526Z",
     "start_time": "2021-11-12T16:59:42.304241Z"
    }
   },
   "outputs": [],
   "source": [
    "pairs = []\n",
    "\n",
    "for group in train_groups.values():\n",
    "    for i in range(len(group)):\n",
    "        for j in range(i, len(group)):\n",
    "            if i == j:\n",
    "                continue\n",
    "            doc_i, relevance_i = group[i]\n",
    "            doc_j, relevance_j = group[j]\n",
    "            if relevance_i < relevance_j:\n",
    "                pairs.append((doc_j, doc_i))\n",
    "            else:\n",
    "                pairs.append((doc_i, doc_j))\n",
    "                \n",
    "pairs_file = os.path.join(data_dir, 'pairs.csv')\n",
    "\n",
    "with open(pairs_file, 'w') as f:\n",
    "    for pair in pairs:\n",
    "        f.write(str(pair[0]) + '\\t' + str(pair[1]) + '\\t1\\n')"
   ]
  },
  {
   "cell_type": "code",
   "execution_count": 143,
   "id": "b364bd6e",
   "metadata": {
    "ExecuteTime": {
     "end_time": "2021-11-12T16:59:44.500089Z",
     "start_time": "2021-11-12T16:59:43.159489Z"
    }
   },
   "outputs": [],
   "source": [
    "pool1 = Pool(data=X_train, label=y_train, group_id=train_group_ids, pairs=pairs)\n",
    "pool2 = Pool(data=train_file, column_description=description_file, pairs=pairs_file, delimiter=',')"
   ]
  },
  {
   "cell_type": "markdown",
   "id": "ed91466e",
   "metadata": {},
   "source": [
    "### шаг 3.1"
   ]
  },
  {
   "cell_type": "code",
   "execution_count": null,
   "id": "a048fba3",
   "metadata": {},
   "outputs": [],
   "source": [
    "fit_model('PairLogitPairwise')"
   ]
  },
  {
   "cell_type": "code",
   "execution_count": null,
   "id": "dfe4c9e1",
   "metadata": {},
   "outputs": [],
   "source": []
  },
  {
   "cell_type": "markdown",
   "id": "66067b75",
   "metadata": {},
   "source": [
    "### Уменьшение проблемы, шаг 4\n",
    "\n",
    "Предыдущая функция потерь напрямую минимизировала количество пар $ (d_i, d_j) $, где $ l_i> l_j $, но $ f (d_i) <f (d_j) $, просто указала количество неправильно размещенных документов.\n",
    "\n",
    "Поскольку внимание пользователя уделяется первым документам и низким - последним, неправильное переключение первых двух документов и двух последних имеет разную стоимость.\n",
    "\n",
    "На шагах 3 и 3.1 пользователь может установить вес пары.\n",
    "\n",
    "Метод __YetiRank__ учитывает этот эффект и генерирует веса для пар в соответствии с их положением ([paper] (https://cache-mskstoredata08.cdn.yandex.net/download.yandex.ru/company/to_rank_challenge_with_yetirank.pdf)).\n",
    "\n",
    "$$ - \\sum_{i,j \\in Pairs} \\color{red}{w_{ij}} \\log \\left( \\frac{1}{1 + \\exp{-(f(d_i) - f(d_j))}} \\right) $$"
   ]
  },
  {
   "cell_type": "code",
   "execution_count": null,
   "id": "8f680d56",
   "metadata": {
    "ExecuteTime": {
     "end_time": "2021-11-09T18:42:31.193185Z",
     "start_time": "2021-11-09T18:42:31.193174Z"
    }
   },
   "outputs": [],
   "source": [
    "fit_model('YetiRank')"
   ]
  },
  {
   "cell_type": "markdown",
   "id": "ef5e44f0",
   "metadata": {},
   "source": [
    "### Шаг 4.1\n",
    "\n",
    "Как и в шаге 3.1, __YetiRankPairwise__ медленнее, чем __YetiRank__, но дает более точные результаты."
   ]
  },
  {
   "cell_type": "code",
   "execution_count": null,
   "id": "cf57dcc8",
   "metadata": {
    "ExecuteTime": {
     "end_time": "2021-11-09T18:42:31.194382Z",
     "start_time": "2021-11-09T18:42:31.194373Z"
    }
   },
   "outputs": [],
   "source": [
    "fit_model('YetiRankPairwise')"
   ]
  },
  {
   "cell_type": "code",
   "execution_count": 60,
   "id": "2f8f49d8",
   "metadata": {
    "ExecuteTime": {
     "end_time": "2021-11-09T18:43:33.436862Z",
     "start_time": "2021-11-09T18:42:58.235355Z"
    },
    "scrolled": true
   },
   "outputs": [
    {
     "data": {
      "application/vnd.jupyter.widget-view+json": {
       "model_id": "282dcd3d49554c9286fb6f31fab90f58",
       "version_major": 2,
       "version_minor": 0
      },
      "text/plain": [
       "MetricVisualizer(layout=Layout(align_self='stretch', height='500px'))"
      ]
     },
     "metadata": {},
     "output_type": "display_data"
    },
    {
     "ename": "KeyboardInterrupt",
     "evalue": "",
     "output_type": "error",
     "traceback": [
      "\u001b[0;31m---------------------------------------------------------------------------\u001b[0m",
      "\u001b[0;31mKeyboardInterrupt\u001b[0m                         Traceback (most recent call last)",
      "\u001b[0;32m/tmp/ipykernel_84427/189348924.py\u001b[0m in \u001b[0;36m<module>\u001b[0;34m\u001b[0m\n\u001b[1;32m      1\u001b[0m \u001b[0mwidget\u001b[0m \u001b[0;34m=\u001b[0m \u001b[0mMetricVisualizer\u001b[0m\u001b[0;34m(\u001b[0m\u001b[0;34m[\u001b[0m\u001b[0;34m'RMSE'\u001b[0m\u001b[0;34m,\u001b[0m \u001b[0;34m'QueryRMSE'\u001b[0m\u001b[0;34m,\u001b[0m \u001b[0;34m'PairLogit'\u001b[0m\u001b[0;34m,\u001b[0m \u001b[0;34m'PairLogitPairwise'\u001b[0m\u001b[0;34m,\u001b[0m \u001b[0;34m'YetiRank'\u001b[0m\u001b[0;34m,\u001b[0m \u001b[0;34m'YetiRankPairwise'\u001b[0m\u001b[0;34m]\u001b[0m\u001b[0;34m)\u001b[0m\u001b[0;34m\u001b[0m\u001b[0;34m\u001b[0m\u001b[0m\n\u001b[0;32m----> 2\u001b[0;31m \u001b[0mwidget\u001b[0m\u001b[0;34m.\u001b[0m\u001b[0mstart\u001b[0m\u001b[0;34m(\u001b[0m\u001b[0;34m)\u001b[0m\u001b[0;34m\u001b[0m\u001b[0;34m\u001b[0m\u001b[0m\n\u001b[0m",
      "\u001b[0;32m/data/home/irsafilo/course/shad/venv/lib/python3.7/site-packages/catboost/widget/ipythonwidget.py\u001b[0m in \u001b[0;36mstart\u001b[0;34m(self)\u001b[0m\n\u001b[1;32m     42\u001b[0m         \u001b[0mdisplay\u001b[0m\u001b[0;34m(\u001b[0m\u001b[0mself\u001b[0m\u001b[0;34m)\u001b[0m\u001b[0;34m\u001b[0m\u001b[0;34m\u001b[0m\u001b[0m\n\u001b[1;32m     43\u001b[0m         \u001b[0mself\u001b[0m\u001b[0;34m.\u001b[0m\u001b[0m_update_data\u001b[0m\u001b[0;34m(\u001b[0m\u001b[0;34m)\u001b[0m\u001b[0;34m\u001b[0m\u001b[0;34m\u001b[0m\u001b[0m\n\u001b[0;32m---> 44\u001b[0;31m         \u001b[0;32mwhile\u001b[0m \u001b[0;32mnot\u001b[0m \u001b[0mself\u001b[0m\u001b[0;34m.\u001b[0m\u001b[0m_need_to_stop\u001b[0m\u001b[0;34m.\u001b[0m\u001b[0mwait\u001b[0m\u001b[0;34m(\u001b[0m\u001b[0;36m1.0\u001b[0m\u001b[0;34m)\u001b[0m\u001b[0;34m:\u001b[0m\u001b[0;34m\u001b[0m\u001b[0;34m\u001b[0m\u001b[0m\n\u001b[0m\u001b[1;32m     45\u001b[0m             \u001b[0mself\u001b[0m\u001b[0;34m.\u001b[0m\u001b[0m_update_data\u001b[0m\u001b[0;34m(\u001b[0m\u001b[0;34m)\u001b[0m\u001b[0;34m\u001b[0m\u001b[0;34m\u001b[0m\u001b[0m\n\u001b[1;32m     46\u001b[0m \u001b[0;34m\u001b[0m\u001b[0m\n",
      "\u001b[0;32m/opt/anaconda2/lib/python3.7/threading.py\u001b[0m in \u001b[0;36mwait\u001b[0;34m(self, timeout)\u001b[0m\n\u001b[1;32m    550\u001b[0m             \u001b[0msignaled\u001b[0m \u001b[0;34m=\u001b[0m \u001b[0mself\u001b[0m\u001b[0;34m.\u001b[0m\u001b[0m_flag\u001b[0m\u001b[0;34m\u001b[0m\u001b[0;34m\u001b[0m\u001b[0m\n\u001b[1;32m    551\u001b[0m             \u001b[0;32mif\u001b[0m \u001b[0;32mnot\u001b[0m \u001b[0msignaled\u001b[0m\u001b[0;34m:\u001b[0m\u001b[0;34m\u001b[0m\u001b[0;34m\u001b[0m\u001b[0m\n\u001b[0;32m--> 552\u001b[0;31m                 \u001b[0msignaled\u001b[0m \u001b[0;34m=\u001b[0m \u001b[0mself\u001b[0m\u001b[0;34m.\u001b[0m\u001b[0m_cond\u001b[0m\u001b[0;34m.\u001b[0m\u001b[0mwait\u001b[0m\u001b[0;34m(\u001b[0m\u001b[0mtimeout\u001b[0m\u001b[0;34m)\u001b[0m\u001b[0;34m\u001b[0m\u001b[0;34m\u001b[0m\u001b[0m\n\u001b[0m\u001b[1;32m    553\u001b[0m             \u001b[0;32mreturn\u001b[0m \u001b[0msignaled\u001b[0m\u001b[0;34m\u001b[0m\u001b[0;34m\u001b[0m\u001b[0m\n\u001b[1;32m    554\u001b[0m \u001b[0;34m\u001b[0m\u001b[0m\n",
      "\u001b[0;32m/opt/anaconda2/lib/python3.7/threading.py\u001b[0m in \u001b[0;36mwait\u001b[0;34m(self, timeout)\u001b[0m\n\u001b[1;32m    298\u001b[0m             \u001b[0;32melse\u001b[0m\u001b[0;34m:\u001b[0m\u001b[0;34m\u001b[0m\u001b[0;34m\u001b[0m\u001b[0m\n\u001b[1;32m    299\u001b[0m                 \u001b[0;32mif\u001b[0m \u001b[0mtimeout\u001b[0m \u001b[0;34m>\u001b[0m \u001b[0;36m0\u001b[0m\u001b[0;34m:\u001b[0m\u001b[0;34m\u001b[0m\u001b[0;34m\u001b[0m\u001b[0m\n\u001b[0;32m--> 300\u001b[0;31m                     \u001b[0mgotit\u001b[0m \u001b[0;34m=\u001b[0m \u001b[0mwaiter\u001b[0m\u001b[0;34m.\u001b[0m\u001b[0macquire\u001b[0m\u001b[0;34m(\u001b[0m\u001b[0;32mTrue\u001b[0m\u001b[0;34m,\u001b[0m \u001b[0mtimeout\u001b[0m\u001b[0;34m)\u001b[0m\u001b[0;34m\u001b[0m\u001b[0;34m\u001b[0m\u001b[0m\n\u001b[0m\u001b[1;32m    301\u001b[0m                 \u001b[0;32melse\u001b[0m\u001b[0;34m:\u001b[0m\u001b[0;34m\u001b[0m\u001b[0;34m\u001b[0m\u001b[0m\n\u001b[1;32m    302\u001b[0m                     \u001b[0mgotit\u001b[0m \u001b[0;34m=\u001b[0m \u001b[0mwaiter\u001b[0m\u001b[0;34m.\u001b[0m\u001b[0macquire\u001b[0m\u001b[0;34m(\u001b[0m\u001b[0;32mFalse\u001b[0m\u001b[0;34m)\u001b[0m\u001b[0;34m\u001b[0m\u001b[0;34m\u001b[0m\u001b[0m\n",
      "\u001b[0;31mKeyboardInterrupt\u001b[0m: "
     ]
    }
   ],
   "source": [
    "widget = MetricVisualizer(['RMSE', 'QueryRMSE', 'PairLogit', 'PairLogitPairwise', 'YetiRank', 'YetiRankPairwise'])\n",
    "widget.start()"
   ]
  },
  {
   "cell_type": "code",
   "execution_count": 61,
   "id": "e122d190",
   "metadata": {
    "ExecuteTime": {
     "end_time": "2021-11-09T18:43:37.871311Z",
     "start_time": "2021-11-09T18:43:37.709855Z"
    }
   },
   "outputs": [
    {
     "data": {
      "application/vnd.jupyter.widget-view+json": {
       "model_id": "c7644b7dfc5147d680667128c88f0f84",
       "version_major": 2,
       "version_minor": 0
      },
      "text/plain": [
       "MetricVisualizer(layout=Layout(align_self='stretch', height='500px'))"
      ]
     },
     "metadata": {},
     "output_type": "display_data"
    }
   ],
   "source": [
    "widget = MetricVisualizer(['RMSE', 'QueryRMSE'])\n",
    "widget.start()"
   ]
  },
  {
   "cell_type": "code",
   "execution_count": null,
   "id": "f18ecc9c",
   "metadata": {},
   "outputs": [],
   "source": []
  },
  {
   "cell_type": "markdown",
   "id": "2c6babf5",
   "metadata": {},
   "source": [
    "### Простая классификация\n",
    "\n",
    "Очень быстро $ \\rightarrow $ очень медленно; Простой метод $ \\rightarrow $ сложный метод; Низкое качество $ \\rightarrow $ высокое качество.\n",
    "\n",
    "1. RMSE\n",
    "2. QueryRMSE\n",
    "3. PairLogit\n",
    "4. PairLogitPairwise\n",
    "5. YetiRank\n",
    "6. YetiRankPairwise\n",
    "\n",
    "Помимо нашей классификации, качество конкретного метода может зависеть от вашего набора данных."
   ]
  },
  {
   "cell_type": "markdown",
   "id": "6c7e8df5",
   "metadata": {},
   "source": [
    "Посмотрите на метрику NDCG метода YetiRank $ - $ она недостаточно приспособлена."
   ]
  },
  {
   "cell_type": "code",
   "execution_count": 144,
   "id": "04df56cd",
   "metadata": {
    "ExecuteTime": {
     "end_time": "2021-11-12T16:59:54.236822Z",
     "start_time": "2021-11-12T16:59:51.674205Z"
    },
    "scrolled": true
   },
   "outputs": [
    {
     "ename": "KeyboardInterrupt",
     "evalue": "",
     "output_type": "error",
     "traceback": [
      "\u001b[0;31m---------------------------------------------------------------------------\u001b[0m",
      "\u001b[0;31mKeyboardInterrupt\u001b[0m                         Traceback (most recent call last)",
      "\u001b[0;32m/tmp/ipykernel_87561/3528911564.py\u001b[0m in \u001b[0;36m<module>\u001b[0;34m\u001b[0m\n\u001b[0;32m----> 1\u001b[0;31m \u001b[0mfit_model\u001b[0m\u001b[0;34m(\u001b[0m\u001b[0;34m'YetiRank'\u001b[0m\u001b[0;34m,\u001b[0m \u001b[0;34m{\u001b[0m\u001b[0;34m'train_dir'\u001b[0m\u001b[0;34m:\u001b[0m \u001b[0;34m'YetiRank-lr-0.3'\u001b[0m\u001b[0;34m,\u001b[0m \u001b[0;34m'learning_rate'\u001b[0m\u001b[0;34m:\u001b[0m \u001b[0;36m0.3\u001b[0m\u001b[0;34m}\u001b[0m\u001b[0;34m)\u001b[0m\u001b[0;34m\u001b[0m\u001b[0;34m\u001b[0m\u001b[0m\n\u001b[0m",
      "\u001b[0;32m/tmp/ipykernel_87561/280428970.py\u001b[0m in \u001b[0;36mfit_model\u001b[0;34m(loss_function, additional_params, train_pool, test_pool)\u001b[0m\n\u001b[1;32m      9\u001b[0m     \u001b[0mmodel\u001b[0m \u001b[0;34m=\u001b[0m \u001b[0mCatBoostRanker\u001b[0m\u001b[0;34m(\u001b[0m\u001b[0;34m**\u001b[0m\u001b[0mparameters\u001b[0m\u001b[0;34m)\u001b[0m\u001b[0;34m\u001b[0m\u001b[0;34m\u001b[0m\u001b[0m\n\u001b[1;32m     10\u001b[0m     \u001b[0;31m#model.fit(train_pool, eval_set=test_pool, plot=True)\u001b[0m\u001b[0;34m\u001b[0m\u001b[0;34m\u001b[0m\u001b[0;34m\u001b[0m\u001b[0m\n\u001b[0;32m---> 11\u001b[0;31m     \u001b[0mmodel\u001b[0m\u001b[0;34m.\u001b[0m\u001b[0mfit\u001b[0m\u001b[0;34m(\u001b[0m\u001b[0mtrain_pool\u001b[0m\u001b[0;34m,\u001b[0m \u001b[0meval_set\u001b[0m\u001b[0;34m=\u001b[0m\u001b[0mtest_pool\u001b[0m\u001b[0;34m,\u001b[0m \u001b[0mplot\u001b[0m\u001b[0;34m=\u001b[0m\u001b[0;32mFalse\u001b[0m\u001b[0;34m)\u001b[0m\u001b[0;34m\u001b[0m\u001b[0;34m\u001b[0m\u001b[0m\n\u001b[0m\u001b[1;32m     12\u001b[0m     \u001b[0;32mreturn\u001b[0m \u001b[0mmodel\u001b[0m\u001b[0;34m\u001b[0m\u001b[0;34m\u001b[0m\u001b[0m\n",
      "\u001b[0;32m/data/home/irsafilo/course/shad/venv/lib/python3.7/site-packages/catboost/core.py\u001b[0m in \u001b[0;36mfit\u001b[0;34m(self, X, y, group_id, cat_features, text_features, embedding_features, pairs, sample_weight, group_weight, subgroup_id, pairs_weight, baseline, use_best_model, eval_set, verbose, logging_level, plot, column_description, verbose_eval, metric_period, silent, early_stopping_rounds, save_snapshot, snapshot_file, snapshot_interval, init_model, callbacks, log_cout, log_cerr)\u001b[0m\n\u001b[1;32m   5646\u001b[0m                   \u001b[0msample_weight\u001b[0m\u001b[0;34m,\u001b[0m \u001b[0mgroup_id\u001b[0m\u001b[0;34m,\u001b[0m \u001b[0mgroup_weight\u001b[0m\u001b[0;34m,\u001b[0m \u001b[0msubgroup_id\u001b[0m\u001b[0;34m,\u001b[0m \u001b[0mpairs_weight\u001b[0m\u001b[0;34m,\u001b[0m \u001b[0mbaseline\u001b[0m\u001b[0;34m,\u001b[0m \u001b[0muse_best_model\u001b[0m\u001b[0;34m,\u001b[0m\u001b[0;34m\u001b[0m\u001b[0;34m\u001b[0m\u001b[0m\n\u001b[1;32m   5647\u001b[0m                   \u001b[0meval_set\u001b[0m\u001b[0;34m,\u001b[0m \u001b[0mverbose\u001b[0m\u001b[0;34m,\u001b[0m \u001b[0mlogging_level\u001b[0m\u001b[0;34m,\u001b[0m \u001b[0mplot\u001b[0m\u001b[0;34m,\u001b[0m \u001b[0mcolumn_description\u001b[0m\u001b[0;34m,\u001b[0m \u001b[0mverbose_eval\u001b[0m\u001b[0;34m,\u001b[0m \u001b[0mmetric_period\u001b[0m\u001b[0;34m,\u001b[0m\u001b[0;34m\u001b[0m\u001b[0;34m\u001b[0m\u001b[0m\n\u001b[0;32m-> 5648\u001b[0;31m                   silent, early_stopping_rounds, save_snapshot, snapshot_file, snapshot_interval, init_model, callbacks, log_cout, log_cerr)\n\u001b[0m\u001b[1;32m   5649\u001b[0m         \u001b[0;32mreturn\u001b[0m \u001b[0mself\u001b[0m\u001b[0;34m\u001b[0m\u001b[0;34m\u001b[0m\u001b[0m\n\u001b[1;32m   5650\u001b[0m \u001b[0;34m\u001b[0m\u001b[0m\n",
      "\u001b[0;32m/data/home/irsafilo/course/shad/venv/lib/python3.7/site-packages/catboost/core.py\u001b[0m in \u001b[0;36m_fit\u001b[0;34m(self, X, y, cat_features, text_features, embedding_features, pairs, sample_weight, group_id, group_weight, subgroup_id, pairs_weight, baseline, use_best_model, eval_set, verbose, logging_level, plot, column_description, verbose_eval, metric_period, silent, early_stopping_rounds, save_snapshot, snapshot_file, snapshot_interval, init_model, callbacks, log_cout, log_cerr)\u001b[0m\n\u001b[1;32m   2000\u001b[0m                 \u001b[0mparams\u001b[0m\u001b[0;34m,\u001b[0m\u001b[0;34m\u001b[0m\u001b[0;34m\u001b[0m\u001b[0m\n\u001b[1;32m   2001\u001b[0m                 \u001b[0mallow_clear_pool\u001b[0m\u001b[0;34m,\u001b[0m\u001b[0;34m\u001b[0m\u001b[0;34m\u001b[0m\u001b[0m\n\u001b[0;32m-> 2002\u001b[0;31m                 \u001b[0mtrain_params\u001b[0m\u001b[0;34m[\u001b[0m\u001b[0;34m\"init_model\"\u001b[0m\u001b[0;34m]\u001b[0m\u001b[0;34m\u001b[0m\u001b[0;34m\u001b[0m\u001b[0m\n\u001b[0m\u001b[1;32m   2003\u001b[0m             )\n\u001b[1;32m   2004\u001b[0m \u001b[0;34m\u001b[0m\u001b[0m\n",
      "\u001b[0;32m/data/home/irsafilo/course/shad/venv/lib/python3.7/site-packages/catboost/core.py\u001b[0m in \u001b[0;36m_train\u001b[0;34m(self, train_pool, test_pool, params, allow_clear_pool, init_model)\u001b[0m\n\u001b[1;32m   1426\u001b[0m \u001b[0;34m\u001b[0m\u001b[0m\n\u001b[1;32m   1427\u001b[0m     \u001b[0;32mdef\u001b[0m \u001b[0m_train\u001b[0m\u001b[0;34m(\u001b[0m\u001b[0mself\u001b[0m\u001b[0;34m,\u001b[0m \u001b[0mtrain_pool\u001b[0m\u001b[0;34m,\u001b[0m \u001b[0mtest_pool\u001b[0m\u001b[0;34m,\u001b[0m \u001b[0mparams\u001b[0m\u001b[0;34m,\u001b[0m \u001b[0mallow_clear_pool\u001b[0m\u001b[0;34m,\u001b[0m \u001b[0minit_model\u001b[0m\u001b[0;34m)\u001b[0m\u001b[0;34m:\u001b[0m\u001b[0;34m\u001b[0m\u001b[0;34m\u001b[0m\u001b[0m\n\u001b[0;32m-> 1428\u001b[0;31m         \u001b[0mself\u001b[0m\u001b[0;34m.\u001b[0m\u001b[0m_object\u001b[0m\u001b[0;34m.\u001b[0m\u001b[0m_train\u001b[0m\u001b[0;34m(\u001b[0m\u001b[0mtrain_pool\u001b[0m\u001b[0;34m,\u001b[0m \u001b[0mtest_pool\u001b[0m\u001b[0;34m,\u001b[0m \u001b[0mparams\u001b[0m\u001b[0;34m,\u001b[0m \u001b[0mallow_clear_pool\u001b[0m\u001b[0;34m,\u001b[0m \u001b[0minit_model\u001b[0m\u001b[0;34m.\u001b[0m\u001b[0m_object\u001b[0m \u001b[0;32mif\u001b[0m \u001b[0minit_model\u001b[0m \u001b[0;32melse\u001b[0m \u001b[0;32mNone\u001b[0m\u001b[0;34m)\u001b[0m\u001b[0;34m\u001b[0m\u001b[0;34m\u001b[0m\u001b[0m\n\u001b[0m\u001b[1;32m   1429\u001b[0m         \u001b[0mself\u001b[0m\u001b[0;34m.\u001b[0m\u001b[0m_set_trained_model_attributes\u001b[0m\u001b[0;34m(\u001b[0m\u001b[0;34m)\u001b[0m\u001b[0;34m\u001b[0m\u001b[0;34m\u001b[0m\u001b[0m\n\u001b[1;32m   1430\u001b[0m \u001b[0;34m\u001b[0m\u001b[0m\n",
      "\u001b[0;32m_catboost.pyx\u001b[0m in \u001b[0;36m_catboost._CatBoost._train\u001b[0;34m()\u001b[0m\n",
      "\u001b[0;32m_catboost.pyx\u001b[0m in \u001b[0;36m_catboost._CatBoost._train\u001b[0;34m()\u001b[0m\n",
      "\u001b[0;31mKeyboardInterrupt\u001b[0m: "
     ]
    }
   ],
   "source": [
    "fit_model('YetiRank', {'train_dir': 'YetiRank-lr-0.3', 'learning_rate': 0.3})"
   ]
  },
  {
   "cell_type": "code",
   "execution_count": null,
   "id": "2b2fe433",
   "metadata": {
    "ExecuteTime": {
     "end_time": "2021-11-09T18:42:31.197465Z",
     "start_time": "2021-11-09T18:42:31.197456Z"
    }
   },
   "outputs": [],
   "source": [
    "widget = MetricVisualizer(['YetiRank', 'YetiRank-lr-0.3'])\n",
    "widget.start()"
   ]
  },
  {
   "cell_type": "code",
   "execution_count": null,
   "id": "a978b484",
   "metadata": {},
   "outputs": [],
   "source": []
  },
  {
   "cell_type": "markdown",
   "id": "e5c39dbf",
   "metadata": {
    "ExecuteTime": {
     "end_time": "2021-10-31T17:19:22.190932Z",
     "start_time": "2021-10-31T17:19:22.185240Z"
    }
   },
   "source": [
    "## Регрессия против классификации против LTR\n",
    "Все они обучаются c учителем. Но целевые переменные различаются. Алгоритм обучения будет отличаться тем, как мы математически формулируем цель обучения.\n",
    "\n",
    "**Регрессия**\n",
    "Мы пытаемся изучить функцию f (x) с учетом признака x, чтобы предсказать действительное значение y∈ℝ.\n",
    "\n",
    "Пример: я хочу спрогнозировать средний баланс CASA в следующие 7 дней для учетной записи.\n",
    "\n",
    "**Классификация**\n",
    "Мы пытаемся изучить функцию f (x) с учетом признака x, чтобы предсказать набор дискретных целочисленных меток y∈ {1,2, ..., N} с N -классами.\n",
    "\n",
    "**Пример**: я хочу предсказать, будет ли продлен данный FD (фиксированный депозит) по истечении текущего срока.\n",
    "\n",
    "**Обучение ранжированию**\n",
    "Мы пытаемся изучить функцию f (q, D), учитывая запрос q и соответствующий список элементов D, чтобы предсказать порядок (ранжирование) всех элементов в списке."
   ]
  },
  {
   "cell_type": "markdown",
   "id": "9a2fb188",
   "metadata": {},
   "source": [
    "## Классическая проблема в LTR\n",
    "\n",
    "**web-search ranking**\n",
    "\n",
    "Учитывая поисковый запрос, ранжируйте релевантность результирующих совпадающих URL-адресов документов, чтобы в первую очередь пользователю был представлен более релевантный документ.\n",
    "\n",
    "Более формально мы изображаем вышеуказанную проблему как следующую задачу:\n",
    "\n",
    "Учитывая запрос q и результирующие n документов D = d1, d2, ..., dn, мы хотели бы изучить функцию f, такую, чтобы f (q, D) предсказывала релевантность любого данного документа, связанного с запрос. В идеале функция f (q, D) должна возвращать упорядоченный список документов D , ранжированных от наиболее до наименее релевантных для данного запроса q.\n",
    "\n",
    "Популярные наборы данных веб-поиска для крупномасштабного теста LTR:\n",
    "\n",
    "Наборы данных Microsoft LTR\n",
    "\n",
    "Наборы данных Yahoo LTR"
   ]
  },
  {
   "cell_type": "markdown",
   "id": "c67393c3",
   "metadata": {},
   "source": [
    "## Неклассические проблемы в LTR\n",
    "LTR - это общий подход к решению задачи ранжирования. Вот еще несколько примеров, помимо рейтинга в веб-поиске. Обратите внимание, что не все из них, на первый взгляд, представляют собой задачу ранжирования.\n",
    "\n",
    "**Рекомендательная система** (Вычисление персональный рейтинг предпочтений продуктов)\n",
    "\n",
    "**Выбор портфеля акций** (Вычисление доходности акций)\n",
    "\n",
    "**Автоответчик на сообщение** (Определение рейтинга лучших кандидатов в рекомендациях по электронной почте / ответу на сообщение)\n",
    "\n",
    "**Изображение в текст** (Решение контекстной функции лучшего кандидата) "
   ]
  },
  {
   "cell_type": "markdown",
   "id": "c2b3ceaa",
   "metadata": {},
   "source": [
    "## Типы  LTR алгоритмов:\n",
    "- Pointwise\n",
    "- Pairwise\n",
    "- Listwise\n",
    "\n",
    "Они отличаются тем, как мы формулируем **функцию потерь** в основной задаче машинного обучения.\n",
    "\n"
   ]
  },
  {
   "cell_type": "markdown",
   "id": "ab339b7d",
   "metadata": {},
   "source": [
    "**Задача ранжирования**\n",
    "\n",
    "Учитывая запрос q и результирующий документ n D = d1, d2, ..., dn, мы хотели бы изучить функцию f, такую, чтобы f (q, D) предсказывала релевантность любого данного документа, связанного с запрос."
   ]
  },
  {
   "cell_type": "markdown",
   "id": "6f7c1821",
   "metadata": {},
   "source": [
    "## pairwise LTR\n",
    "При попарном подходе мы все еще пытаемся изучить функцию точечной оценки f (q, di), однако наши обучающие примеры теперь состоят из пар документов в одном запросе:\n",
    "\n",
    "x1: q1, (d1, d2)\n",
    "х2: q2, (d3, d4)\n",
    "x3: q2, (d3, d5)\n",
    "x4: q2, (d4, d5)\n",
    "\n",
    "При такой настройке можно получить новый набор попарных БИНАРНЫХ меток, просто сравнив индивидуальную оценку релевантности в каждой паре. Например, для первого запроса q1, если y1 = 0 (совершенно неактуально) для d1 и y2 = 3 (очень актуально) для d2, то у нас есть новая метка y1 <y2 для пары документов (d1, d2). **Теперь проблема превратилась в задачу обучения бинарной классификации.**\n",
    "\n",
    "Для того чтобы попарно изучить поточечную функцию f (q, di), мы моделируем разницу в баллах вероятностно:\n",
    " \n",
    "$Pr(i \\succ j) \\equiv \\frac{1}{1 + exp^{-(s_i - s_j)}}$\n",
    "Проще говоря, если документ i соответствует лучше, чем документ j (который мы обозначаем как i≻j), то вероятность того, что функция оценки получит оценку f (q, di) = si выше, чем f (q, dj) = sj должен быть близок к 1. Другими словами, модель пытается научиться, учитывая запрос, как оценить пару документов, чтобы более релевантный документ получил более высокую оценку.\n",
    "\n",
    "Плюсы:\n",
    "Модель учится ранжировать напрямую, хотя и только попарно, но теоретически она может приблизиться к производительности общей задачи ранжирования при наличии N документов в согласованном списке.\n",
    "Нам не нужны явные точечные метки. Требуются только парные предпочтения. Это преимущество, потому что иногда мы можем сделать вывод о парном предпочтении только на основе собранных данных о поведении пользователей.\n",
    "Минусы:\n",
    "Сама функция скоринга по-прежнему является точечной, а это означает, что относительная информация в пространстве функций среди разных документов по одному и тому же запросу все еще не используется полностью."
   ]
  },
  {
   "cell_type": "markdown",
   "id": "3f8b1443",
   "metadata": {},
   "source": [
    "**Задача ранжирования**\n",
    "\n",
    "Учитывая запрос q и результирующий документ n D = d1, d2, ..., dn, мы хотели бы изучить функцию f, такую, чтобы f (q, D) предсказывала релевантность любого данного документа, связанного с запрос.\n",
    "\n",
    "## Listwise LTR\n",
    "ListNet - это первый предложенный списочный подход. Здесь мы объясняем, как он подходит к задаче ранжирования.\n",
    "\n",
    "ListNet основан на концепции вероятности перестановки с учетом ранжированного списка. Снова мы предполагаем, что есть функция точечной оценки f (q, di), используемая для оценки и, следовательно, ранжирования данного списка элементов. Но вместо моделирования вероятности попарного сравнения с использованием разницы оценок теперь мы хотели бы смоделировать вероятность всех результатов ранжирования.\n",
    "\n",
    "x1: q1, (d1, d2)\n",
    "\n",
    "x2: q2, (d3, d4, d5)\n",
    "\n",
    "**вероятность перестановки**"
   ]
  },
  {
   "cell_type": "markdown",
   "id": "239b1dab",
   "metadata": {
    "ExecuteTime": {
     "end_time": "2021-11-01T17:40:19.383323Z",
     "start_time": "2021-11-01T17:40:19.376769Z"
    }
   },
   "source": [
    "Обозначим π как конкретную перестановку данного списка длины n, ϕ (si) = f (q, di) как любую возрастающую функцию оценки si для данного запроса q и документа i. Вероятность наличия перестановки π может быть записана как\n",
    "\n",
    "$Pr(\\pi) = \\prod_{i=1}^n \\frac{\\phi(s_i)}{\\sum_{k=i}^n\\phi(s_k)}$\n",
    "\n",
    "Для иллюстрации, учитывая список из 3 элементов, вероятность возврата перестановки s1, s2, s3 рассчитывается как: \n",
    "\n",
    "$Pr(\\pi = \\{s_1, s_2, s_3\\}) = \\frac{\\phi(s_1)}{\\phi(s_1) + \\phi(s_2) + \\phi(s_3)} \\cdot \\frac{\\phi(s_2)}{\\phi(s_2) + \\phi(s_3)} \\cdot \\frac{\\phi(s_3)}{\\phi(s_3)}$\n",
    "\n",
    "Из-за вычислительной сложности ListNet упрощает задачу, рассматривая только первую вероятность данного элемента. Вероятность первого попадания объекта i равна сумме вероятностей перестановок, в которых объект i занимает первое место. В самом деле, вероятность первого попадания объекта i может быть записана как:\n",
    "\n",
    "$Pr(i) = \\frac{\\phi(s_i)}{\\sum_{k=1}^n \\phi(s_k)}$\n",
    "\n",
    "Теперь, учитывая любые два списка ранжирования, представленные вероятностями первого числа, мы можем измерить их разницу с помощью перекрестной энтропии. Затем мы можем построить алгоритм машинного обучения, который минимизирует перекрестную энтропию.\n",
    "\n",
    "Для выбора функции ϕ (⋅) это может быть так же просто, как просто экспоненциальная функция. В самом деле, когда ϕ (⋅) экспоненциально, а длина списка равна двум, решение сведется к попарной модели, которую мы только что описали в предыдущем разделе.\n",
    "\n",
    "- Плюсы:\n",
    "\n",
    "     - Теоретически обоснованное решение подойти к задаче ранжирования.\n",
    "\n",
    "- Минусы:\n",
    "\n",
    "     - Дорогостоящие вычисления в теоретической форме, поэтому на практике используются несколько приближений. (Например, использование первой вероятности.)\n",
    "     - Функция подсчета очков по-прежнему точечная, что может быть неоптимальным."
   ]
  },
  {
   "cell_type": "markdown",
   "id": "3585ad53",
   "metadata": {},
   "source": [
    "## Эволюция LTR Model\n",
    "Как мы оцениваем результат прогнозирования рейтинга?\n",
    "\n",
    "Было предложено несколько показателей, которые обычно используются при оценке модели ранжирования:\n",
    "\n",
    "- Бинарная релевантность\n",
    "     - Средняя средняя точность (MAP)\n",
    "     - Средний взаимный ранг (MRR)\n",
    "- Оценка релевантности\n",
    "     - Нормализованная дисконтированная совокупная прибыль (NDCG)\n",
    "     - Ожидаемый взаимный ранг (ERR)\n",
    "    \n",
    "Как правило, бинарные меры учитывают только релевантные и сравнительные данные. нерелевантными, в то время как при градуированных показателях также будет учитываться ранжирование среди релевантных элементов. В этом случае при оценке рейтингового списка имеет значение степень релевантности."
   ]
  },
  {
   "cell_type": "markdown",
   "id": "b334801c",
   "metadata": {},
   "source": [
    "## Labeling Issues\n",
    "Вообще говоря, есть два подхода к маркировке набора данных ранжирования:\n",
    "\n",
    "- Человеческое суждение\n",
    "- Вывод из log поведения пользователя\n",
    "\n",
    "Для первого подхода требуется огромная рабочая сила, чтобы обозначить релевантность каждого элемента для данного запроса. В реальном мире многие наборы данных не могут быть помечены таким образом, поэтому мы полагаемся на второй подход, который косвенно определяет предпочтения пользователя среди различных элементов.\n",
    "\n",
    "Обычно парное предпочтение может быть получено из взаимодействия пользователя с результатом запроса. Например, используйте данные о кликах, чтобы сделать вывод о релевантности веб-поиска. Вот почему попарный подход в LTR может привлечь гораздо больше внимания, чем точечный метод: из-за доступности данных.\n"
   ]
  },
  {
   "cell_type": "markdown",
   "id": "39135003",
   "metadata": {},
   "source": [
    "## From Pairwise to Listwise, and More\n",
    "Недавно исследователи из Google обобщили структуру LambdaMART, чтобы предоставить теоретические основы модели ранжирования всех трех типов функции потерь (точечной, попарной, списочной) и прямой оптимизации всех популярных показателей ранжирования (NDCG, MAP, ... ). Фреймворк называется LambdaLoss (2018).\n",
    "\n",
    "Готовая к производству реализация такого фреймворка также находится в открытом доступе в виде модуля ранжирования в популярной библиотеке TensorFlow. Также предлагается функция групповой оценки, которая может быть реализована в библиотеке.\n",
    "\n",
    "Причина, по которой мы решили специально разработать вышеупомянутые модели, заключается в том, что они являются самой основой литературы LTR, цитируемой более тысячи раз.\n",
    "\n",
    "И причина, по которой выбираются библиотеки, в основном та же: это самые современные популярные фреймворки с открытым исходным кодом в этой области.\n",
    "\n"
   ]
  },
  {
   "cell_type": "markdown",
   "id": "71a03a7c",
   "metadata": {},
   "source": [
    "## RankNet\n",
    "Помните, что мы моделируем разницу оценок между данной парой (i, j) как вероятность, основанную на сигмовидной функции:\n",
    "\n",
    "$Pr(i \\succ j) = P_{ij} \\equiv \\frac{1}{1 + exp^{-(s_i - s_j)}}$\n",
    "где\n",
    "\n",
    "si=f(q,di) \n",
    "\n",
    "это точечный результат, полученный нашим алгоритмом f (q, d), который в RankNet сформулирован как двухуровневая нейронная сеть, параметризованная набором wk. (Или даже подумайте проще, пусть f (q, di) = wxi как линейный алгоритм.)\n",
    "\n",
    "Учитывая распределение вероятностей p, энтропия определяется как: p⋅log21p. Теперь пусть yij∈ {0,1} будет фактической меткой данной пары (i, j). Функция потерь в приведенной выше настройке будет перекрестной энтропией:\n",
    "\n",
    "$loss = -\\sum_{i \\neq j}{y_{ij}log_2P_{ij} + (1-y_{ij})log_2(1-P_{ij})}$\n",
    "\n",
    "Кросс-энтропия измеряет, насколько близки два распределения вероятностей друг к другу. Естественно, это хорошая целевая функция для модели машинного обучения, моделирующей вероятность оптимизации. Используя технологию обратного распространения, мы можем численно найти веса модели в f (q, d), которые минимизируют потерю кросс-энтропии.\n",
    "\n",
    "Обратите внимание, что приведенная выше потеря носит очень общий характер: это просто ожидаемая логарифмическая потеря или сумма кросс-энтропии из каждого обучающего примера, используемая для измерения того, насколько хорошо распределение модели приближается к эмпирическому распределению данных обучения (которое, в свою очередь, служит приближением к неизвестному истинному распределению, генерирующему обучающие данные). Мы можем легко поменять местами нейронную сеть с другими учащимися, что приведет к множеству различных попарных моделей LTR."
   ]
  },
  {
   "cell_type": "markdown",
   "id": "0e3ff5fa",
   "metadata": {},
   "source": [
    "## LambdaNet\n",
    "От RankNet до LambdaNet были достигнуты два важных усовершенствования.\n",
    "\n",
    "1.Ускорение обучения за счет факторизации расчета градиента\n",
    "\n",
    "2) Оптимизация по метрике ранжирования"
   ]
  },
  {
   "cell_type": "markdown",
   "id": "b81feed0",
   "metadata": {},
   "source": [
    "## Gradient Factorization\n",
    "Во-первых, LambdaNet - это **математически улучшенная версия RankNet**. Улучшение основано на факторизации вычисления градиента потери кросс-энтропии в контексте попарного обновления.\n",
    "\n",
    "Учитывая потерю точечной кросс-энтропии как L:\n",
    "\n",
    "$L = y_{ij}log_2P_{ij} + (1-y_{ij})log_2(1-P_{ij})$\n",
    " \n",
    "Градиент (производная 1-го порядка потерь относительно параметра модели wk) может быть записан как:\n",
    "\n",
    "$\\frac{\\partial L}{\\partial w_k} = \\frac{\\partial L}{\\partial s_i} \\frac{\\partial s_i}{\\partial w_k} + \\frac{\\partial L}{\\partial s_j} \\frac{\\partial s_j}{\\partial w_k}$\n",
    "\n",
    "Проще говоря, влияние изменения параметра модели wk будет происходить через результирующие изменения в оценках модели, а затем изменения в потерях. Теперь перепишите градиент общих потерь для всех обучающих пар {i, j}, удовлетворяющих i≻j:\n",
    "\n",
    "$\\begin{align}\n",
    "\\frac{\\partial L_T}{\\partial w_k} \n",
    "&= \\sum_{\\{i, j\\}} \\bigg[ \\frac{\\partial L}{\\partial s_i} \\frac{\\partial s_i}{\\partial w_k} + \\frac{\\partial L}{\\partial s_j} \\frac{\\partial s_j}{\\partial w_k} \\bigg] \\\\ \n",
    "&= \\sum_i \\frac{\\partial s_i}{\\partial w_k} \\bigg( \\sum_{\\forall j \\prec i} \\frac{\\partial L(s_i, s_j)}{\\partial s_i} \\bigg) + \\sum_j \\frac{\\partial s_j}{\\partial w_k} \\bigg( \\sum_{\\forall i \\succ j} \\frac{\\partial L(s_i, s_j)}{\\partial s_j} \\bigg)\n",
    "\\end{align}$\n",
    " \n",
    "при том, что:\n",
    "$\\frac{\\partial L(s_i, s_j)}{\\partial s_i} = - \\frac{\\partial L(s_i, s_j)}{\\partial s_j} = log_2e\\big[(1 - y_{ij}) - \\frac{1}{1 + e^{s_i - s_j}}\\big]$,\n",
    "и переиндексация второго члена, мы получаем:\n",
    "\n",
    "$\\begin{align}\n",
    "\\frac{\\partial L_T}{\\partial w_k} \n",
    "&= \\sum_i \\frac{\\partial s_i}{\\partial w_k} \\bigg[ \\sum_{\\forall j \\prec i} \\frac{\\partial L(s_i, s_j)}{\\partial s_i} + \\sum_{\\forall j \\prec i} \\frac{\\partial L(s_j, s_i)}{\\partial s_i} \\bigg] \\\\\n",
    "&= \\sum_i \\frac{\\partial s_i}{\\partial w_k} \\bigg[ \\sum_{\\forall j \\prec i} \\frac{\\partial L(s_i, s_j)}{\\partial s_i} - \\sum_{\\forall j \\succ i} \\frac{\\partial L(s_j, s_i)}{\\partial s_j} \\bigg] \\\\\n",
    "&= \\sum_i \\frac{\\partial s_i}{\\partial w_k} \\lambda_i\n",
    "\\end{align}$\n",
    "\n",
    "Интуиция за вышеуказанным градиентом:\n",
    "\n",
    "Для каждого документа в данном запросе существует компонент градиента, который мы обозначили как лямбда, который вычисляется путем рассмотрения всех сравниваемых с ним документов высшего и более низкого качества. Относительно худший документ подтолкнет текущий документ вверх, а относительно лучший - вниз.\n",
    "\n",
    "Смысл вышеупомянутой факторизации заключается в том, что в процессе обучения, вместо обновления каждой пары документов, мы можем выполнять обновление для каждого запроса. А поскольку лямбда намного дешевле вычислить, весь процесс обучения может значительно ускориться."
   ]
  },
  {
   "cell_type": "markdown",
   "id": "bcedcfe2",
   "metadata": {},
   "source": [
    "## Ranking Metric Optimization\n",
    "Поскольку мы моделируем разницу оценок пары документов в запросе как показатель вероятности, модель оптимизирует попарную корректность ранжирования, что может не быть в конечном итоге желаемой целью.\n",
    "\n",
    "Помните, что цель ранжирования действительно измеряется (в идеале) позиционно-зависимым градуированным показателем, таким как NDCG. Но в приведенной выше установке NDCG напрямую не связан с минимизацией кросс-энтропии. Прямым и простым решением является использование NDCG в качестве критерия ранней остановки и определение с помощью набора данных проверки.\n",
    "\n",
    "LambdaRank предлагает еще одно решение. Исследователь обнаружил, что во время обновления градиента с использованием понятия лямбда для каждой пары вместо вычисления только лямбда мы можем скорректировать лямбда путем изменения NDCG для этой пары при условии, что позиции двух элементов поменялись местами друг с другом.\n",
    "\n",
    "Лямбда данного документа:\n",
    "\n",
    "$\\begin{align}\n",
    "\\lambda_i \n",
    "&= \\bigg[ \\sum_{\\forall j \\prec i} \\frac{\\partial L(s_i, s_j)}{\\partial s_i} - \\sum_{\\forall j \\succ i} \\frac{\\partial L(s_j, s_i)}{\\partial s_j} \\bigg] \\\\\n",
    "&= \\bigg[ \\sum_{\\forall j \\prec i} \\lambda_{ij} - \\sum_{\\forall j \\succ i} \\lambda_{ij} \\bigg]\n",
    "\\end{align}$\n",
    "\n",
    "Предлагаемый метод состоит в том, чтобы настроить попарную лямбду λij так, чтобы:\n",
    "\n",
    "$\\lambda_{ij} \\equiv \\frac{\\partial L(s_i, s_j)}{\\partial s_i} \\cdot |\\Delta NDCG_{ij}|$\n",
    "где  ΔNDCGij  это изменение в NDCG, когда позиции i и j меняются местами.\n",
    "\n",
    "Исследователь обнаружил, что при такой корректировке, без теоретических доказательств, модель эмпирически оптимизирует NDCG и, следовательно, дает лучшие общие результаты."
   ]
  },
  {
   "cell_type": "markdown",
   "id": "661c1c22",
   "metadata": {},
   "source": [
    "## LambdaMART\n",
    "LambdaMART - это просто LambdaNet, но она заменяет базовую модель нейронной сети **деревьями регрессии с градиентным усилением** (или, в более общем смысле, машинами с градиентным усилением, GBM). GBM доказал свою надежность и производительность при решении реальных проблем.\n",
    "\n",
    "Модель выигрывает несколько реальных крупномасштабных соревнований LTR.\n"
   ]
  },
  {
   "cell_type": "markdown",
   "id": "aac7f35f",
   "metadata": {},
   "source": [
    "## LambdaLoss\n",
    "В исходной структуре LambdaRank и LambdaMART не проводилось никаких теоретических работ, чтобы математически доказать, что метрика ранжирования оптимизируется после корректировки расчета лямбда. Вывод основан исключительно на эмпирических работах, то есть на наблюдении за результатами из различных наборов данных и моделирования с экспериментами.\n",
    "\n",
    "Исследователи из Google недавно (2018 г.) опубликовали обобщенную структуру под названием LambdaLoss, которая служит расширением исходной модели ранжирования и содержит подробные теоретические обоснования, подтверждающие, что модель действительно оптимизирует метрику ранжирования."
   ]
  },
  {
   "cell_type": "markdown",
   "id": "5ee11324",
   "metadata": {},
   "source": [
    "## Implement LambdaMART using lightgbm"
   ]
  },
  {
   "cell_type": "code",
   "execution_count": null,
   "id": "4033d7bf",
   "metadata": {},
   "outputs": [],
   "source": []
  },
  {
   "cell_type": "code",
   "execution_count": null,
   "id": "9053e6aa",
   "metadata": {},
   "outputs": [],
   "source": []
  },
  {
   "cell_type": "code",
   "execution_count": 132,
   "id": "9e8a9aaa",
   "metadata": {
    "ExecuteTime": {
     "end_time": "2021-11-11T19:27:32.843237Z",
     "start_time": "2021-11-11T19:27:32.827148Z"
    }
   },
   "outputs": [
    {
     "data": {
      "text/html": [
       "<div>\n",
       "<style scoped>\n",
       "    .dataframe tbody tr th:only-of-type {\n",
       "        vertical-align: middle;\n",
       "    }\n",
       "\n",
       "    .dataframe tbody tr th {\n",
       "        vertical-align: top;\n",
       "    }\n",
       "\n",
       "    .dataframe thead th {\n",
       "        text-align: right;\n",
       "    }\n",
       "</style>\n",
       "<table border=\"1\" class=\"dataframe\">\n",
       "  <thead>\n",
       "    <tr style=\"text-align: right;\">\n",
       "      <th></th>\n",
       "      <th>0</th>\n",
       "      <th>1</th>\n",
       "      <th>2</th>\n",
       "      <th>3</th>\n",
       "      <th>4</th>\n",
       "      <th>5</th>\n",
       "      <th>6</th>\n",
       "      <th>7</th>\n",
       "      <th>8</th>\n",
       "      <th>9</th>\n",
       "      <th>...</th>\n",
       "      <th>128</th>\n",
       "      <th>129</th>\n",
       "      <th>130</th>\n",
       "      <th>131</th>\n",
       "      <th>132</th>\n",
       "      <th>133</th>\n",
       "      <th>134</th>\n",
       "      <th>135</th>\n",
       "      <th>136</th>\n",
       "      <th>137</th>\n",
       "    </tr>\n",
       "  </thead>\n",
       "  <tbody>\n",
       "    <tr>\n",
       "      <th>0</th>\n",
       "      <td>0.50</td>\n",
       "      <td>1</td>\n",
       "      <td>3</td>\n",
       "      <td>3</td>\n",
       "      <td>0</td>\n",
       "      <td>0</td>\n",
       "      <td>3</td>\n",
       "      <td>1.0</td>\n",
       "      <td>1.0</td>\n",
       "      <td>0.000000</td>\n",
       "      <td>...</td>\n",
       "      <td>62</td>\n",
       "      <td>11089534</td>\n",
       "      <td>2</td>\n",
       "      <td>116</td>\n",
       "      <td>64034</td>\n",
       "      <td>13</td>\n",
       "      <td>3</td>\n",
       "      <td>0</td>\n",
       "      <td>0</td>\n",
       "      <td>0.0</td>\n",
       "    </tr>\n",
       "    <tr>\n",
       "      <th>1</th>\n",
       "      <td>0.50</td>\n",
       "      <td>1</td>\n",
       "      <td>3</td>\n",
       "      <td>0</td>\n",
       "      <td>3</td>\n",
       "      <td>0</td>\n",
       "      <td>3</td>\n",
       "      <td>1.0</td>\n",
       "      <td>0.0</td>\n",
       "      <td>1.000000</td>\n",
       "      <td>...</td>\n",
       "      <td>54</td>\n",
       "      <td>11089534</td>\n",
       "      <td>2</td>\n",
       "      <td>124</td>\n",
       "      <td>64034</td>\n",
       "      <td>1</td>\n",
       "      <td>2</td>\n",
       "      <td>0</td>\n",
       "      <td>0</td>\n",
       "      <td>0.0</td>\n",
       "    </tr>\n",
       "    <tr>\n",
       "      <th>2</th>\n",
       "      <td>0.00</td>\n",
       "      <td>1</td>\n",
       "      <td>3</td>\n",
       "      <td>0</td>\n",
       "      <td>2</td>\n",
       "      <td>0</td>\n",
       "      <td>3</td>\n",
       "      <td>1.0</td>\n",
       "      <td>0.0</td>\n",
       "      <td>0.666667</td>\n",
       "      <td>...</td>\n",
       "      <td>45</td>\n",
       "      <td>3</td>\n",
       "      <td>1</td>\n",
       "      <td>124</td>\n",
       "      <td>3344</td>\n",
       "      <td>14</td>\n",
       "      <td>67</td>\n",
       "      <td>0</td>\n",
       "      <td>0</td>\n",
       "      <td>0.0</td>\n",
       "    </tr>\n",
       "    <tr>\n",
       "      <th>3</th>\n",
       "      <td>0.50</td>\n",
       "      <td>1</td>\n",
       "      <td>3</td>\n",
       "      <td>0</td>\n",
       "      <td>3</td>\n",
       "      <td>0</td>\n",
       "      <td>3</td>\n",
       "      <td>1.0</td>\n",
       "      <td>0.0</td>\n",
       "      <td>1.000000</td>\n",
       "      <td>...</td>\n",
       "      <td>56</td>\n",
       "      <td>11089534</td>\n",
       "      <td>13</td>\n",
       "      <td>123</td>\n",
       "      <td>63933</td>\n",
       "      <td>1</td>\n",
       "      <td>3</td>\n",
       "      <td>0</td>\n",
       "      <td>0</td>\n",
       "      <td>0.0</td>\n",
       "    </tr>\n",
       "    <tr>\n",
       "      <th>4</th>\n",
       "      <td>0.25</td>\n",
       "      <td>1</td>\n",
       "      <td>3</td>\n",
       "      <td>0</td>\n",
       "      <td>3</td>\n",
       "      <td>0</td>\n",
       "      <td>3</td>\n",
       "      <td>1.0</td>\n",
       "      <td>0.0</td>\n",
       "      <td>1.000000</td>\n",
       "      <td>...</td>\n",
       "      <td>64</td>\n",
       "      <td>5</td>\n",
       "      <td>7</td>\n",
       "      <td>256</td>\n",
       "      <td>49697</td>\n",
       "      <td>1</td>\n",
       "      <td>13</td>\n",
       "      <td>0</td>\n",
       "      <td>0</td>\n",
       "      <td>0.0</td>\n",
       "    </tr>\n",
       "  </tbody>\n",
       "</table>\n",
       "<p>5 rows × 138 columns</p>\n",
       "</div>"
      ],
      "text/plain": [
       "      0  1  2  3  4  5  6    7    8         9  ...  128       129  130  131  \\\n",
       "0  0.50  1  3  3  0  0  3  1.0  1.0  0.000000  ...   62  11089534    2  116   \n",
       "1  0.50  1  3  0  3  0  3  1.0  0.0  1.000000  ...   54  11089534    2  124   \n",
       "2  0.00  1  3  0  2  0  3  1.0  0.0  0.666667  ...   45         3    1  124   \n",
       "3  0.50  1  3  0  3  0  3  1.0  0.0  1.000000  ...   56  11089534   13  123   \n",
       "4  0.25  1  3  0  3  0  3  1.0  0.0  1.000000  ...   64         5    7  256   \n",
       "\n",
       "     132  133  134  135  136  137  \n",
       "0  64034   13    3    0    0  0.0  \n",
       "1  64034    1    2    0    0  0.0  \n",
       "2   3344   14   67    0    0  0.0  \n",
       "3  63933    1    3    0    0  0.0  \n",
       "4  49697    1   13    0    0  0.0  \n",
       "\n",
       "[5 rows x 138 columns]"
      ]
     },
     "execution_count": 132,
     "metadata": {},
     "output_type": "execute_result"
    }
   ],
   "source": [
    "train_df.head()"
   ]
  },
  {
   "cell_type": "code",
   "execution_count": 133,
   "id": "998c9d35",
   "metadata": {
    "ExecuteTime": {
     "end_time": "2021-11-11T19:27:33.150662Z",
     "start_time": "2021-11-11T19:27:33.136617Z"
    }
   },
   "outputs": [
    {
     "data": {
      "text/html": [
       "<div>\n",
       "<style scoped>\n",
       "    .dataframe tbody tr th:only-of-type {\n",
       "        vertical-align: middle;\n",
       "    }\n",
       "\n",
       "    .dataframe tbody tr th {\n",
       "        vertical-align: top;\n",
       "    }\n",
       "\n",
       "    .dataframe thead th {\n",
       "        text-align: right;\n",
       "    }\n",
       "</style>\n",
       "<table border=\"1\" class=\"dataframe\">\n",
       "  <thead>\n",
       "    <tr style=\"text-align: right;\">\n",
       "      <th></th>\n",
       "      <th>0</th>\n",
       "      <th>1</th>\n",
       "      <th>2</th>\n",
       "      <th>3</th>\n",
       "      <th>4</th>\n",
       "      <th>5</th>\n",
       "      <th>6</th>\n",
       "      <th>7</th>\n",
       "      <th>8</th>\n",
       "      <th>9</th>\n",
       "      <th>...</th>\n",
       "      <th>128</th>\n",
       "      <th>129</th>\n",
       "      <th>130</th>\n",
       "      <th>131</th>\n",
       "      <th>132</th>\n",
       "      <th>133</th>\n",
       "      <th>134</th>\n",
       "      <th>135</th>\n",
       "      <th>136</th>\n",
       "      <th>137</th>\n",
       "    </tr>\n",
       "  </thead>\n",
       "  <tbody>\n",
       "    <tr>\n",
       "      <th>0</th>\n",
       "      <td>0.50</td>\n",
       "      <td>13</td>\n",
       "      <td>2</td>\n",
       "      <td>0</td>\n",
       "      <td>2</td>\n",
       "      <td>1</td>\n",
       "      <td>2</td>\n",
       "      <td>1.0</td>\n",
       "      <td>0.0</td>\n",
       "      <td>1.0</td>\n",
       "      <td>...</td>\n",
       "      <td>35</td>\n",
       "      <td>1</td>\n",
       "      <td>0</td>\n",
       "      <td>266</td>\n",
       "      <td>25070</td>\n",
       "      <td>28</td>\n",
       "      <td>7</td>\n",
       "      <td>0</td>\n",
       "      <td>0</td>\n",
       "      <td>0.0</td>\n",
       "    </tr>\n",
       "    <tr>\n",
       "      <th>1</th>\n",
       "      <td>0.25</td>\n",
       "      <td>13</td>\n",
       "      <td>2</td>\n",
       "      <td>0</td>\n",
       "      <td>0</td>\n",
       "      <td>0</td>\n",
       "      <td>2</td>\n",
       "      <td>1.0</td>\n",
       "      <td>0.0</td>\n",
       "      <td>0.0</td>\n",
       "      <td>...</td>\n",
       "      <td>17</td>\n",
       "      <td>93</td>\n",
       "      <td>0</td>\n",
       "      <td>153</td>\n",
       "      <td>12860</td>\n",
       "      <td>65</td>\n",
       "      <td>158</td>\n",
       "      <td>0</td>\n",
       "      <td>0</td>\n",
       "      <td>0.0</td>\n",
       "    </tr>\n",
       "    <tr>\n",
       "      <th>2</th>\n",
       "      <td>0.75</td>\n",
       "      <td>13</td>\n",
       "      <td>2</td>\n",
       "      <td>0</td>\n",
       "      <td>1</td>\n",
       "      <td>0</td>\n",
       "      <td>2</td>\n",
       "      <td>1.0</td>\n",
       "      <td>0.0</td>\n",
       "      <td>0.5</td>\n",
       "      <td>...</td>\n",
       "      <td>19</td>\n",
       "      <td>0</td>\n",
       "      <td>0</td>\n",
       "      <td>153</td>\n",
       "      <td>1131</td>\n",
       "      <td>112</td>\n",
       "      <td>141</td>\n",
       "      <td>0</td>\n",
       "      <td>0</td>\n",
       "      <td>0.0</td>\n",
       "    </tr>\n",
       "    <tr>\n",
       "      <th>3</th>\n",
       "      <td>0.25</td>\n",
       "      <td>13</td>\n",
       "      <td>2</td>\n",
       "      <td>0</td>\n",
       "      <td>2</td>\n",
       "      <td>1</td>\n",
       "      <td>2</td>\n",
       "      <td>1.0</td>\n",
       "      <td>0.0</td>\n",
       "      <td>1.0</td>\n",
       "      <td>...</td>\n",
       "      <td>50</td>\n",
       "      <td>81775</td>\n",
       "      <td>0</td>\n",
       "      <td>560</td>\n",
       "      <td>61224</td>\n",
       "      <td>1</td>\n",
       "      <td>14</td>\n",
       "      <td>0</td>\n",
       "      <td>0</td>\n",
       "      <td>0.0</td>\n",
       "    </tr>\n",
       "    <tr>\n",
       "      <th>4</th>\n",
       "      <td>0.00</td>\n",
       "      <td>13</td>\n",
       "      <td>1</td>\n",
       "      <td>0</td>\n",
       "      <td>0</td>\n",
       "      <td>0</td>\n",
       "      <td>1</td>\n",
       "      <td>0.5</td>\n",
       "      <td>0.0</td>\n",
       "      <td>0.0</td>\n",
       "      <td>...</td>\n",
       "      <td>24</td>\n",
       "      <td>0</td>\n",
       "      <td>0</td>\n",
       "      <td>57953</td>\n",
       "      <td>15600</td>\n",
       "      <td>15</td>\n",
       "      <td>12</td>\n",
       "      <td>0</td>\n",
       "      <td>0</td>\n",
       "      <td>0.0</td>\n",
       "    </tr>\n",
       "  </tbody>\n",
       "</table>\n",
       "<p>5 rows × 138 columns</p>\n",
       "</div>"
      ],
      "text/plain": [
       "      0   1  2  3  4  5  6    7    8    9  ...  128    129  130    131    132  \\\n",
       "0  0.50  13  2  0  2  1  2  1.0  0.0  1.0  ...   35      1    0    266  25070   \n",
       "1  0.25  13  2  0  0  0  2  1.0  0.0  0.0  ...   17     93    0    153  12860   \n",
       "2  0.75  13  2  0  1  0  2  1.0  0.0  0.5  ...   19      0    0    153   1131   \n",
       "3  0.25  13  2  0  2  1  2  1.0  0.0  1.0  ...   50  81775    0    560  61224   \n",
       "4  0.00  13  1  0  0  0  1  0.5  0.0  0.0  ...   24      0    0  57953  15600   \n",
       "\n",
       "   133  134  135  136  137  \n",
       "0   28    7    0    0  0.0  \n",
       "1   65  158    0    0  0.0  \n",
       "2  112  141    0    0  0.0  \n",
       "3    1   14    0    0  0.0  \n",
       "4   15   12    0    0  0.0  \n",
       "\n",
       "[5 rows x 138 columns]"
      ]
     },
     "execution_count": 133,
     "metadata": {},
     "output_type": "execute_result"
    }
   ],
   "source": [
    "test_df.head()"
   ]
  },
  {
   "cell_type": "code",
   "execution_count": 145,
   "id": "9fe30b44",
   "metadata": {
    "ExecuteTime": {
     "end_time": "2021-11-12T17:14:56.329151Z",
     "start_time": "2021-11-12T17:14:55.540853Z"
    }
   },
   "outputs": [],
   "source": [
    "train_df = pd.read_csv('msrank_train.csv', index_col=0)\n",
    "test_df = pd.read_csv('msrank_test.csv', index_col=0)"
   ]
  },
  {
   "cell_type": "code",
   "execution_count": 146,
   "id": "c9165d0f",
   "metadata": {
    "ExecuteTime": {
     "end_time": "2021-11-12T17:14:56.382490Z",
     "start_time": "2021-11-12T17:14:56.333121Z"
    }
   },
   "outputs": [],
   "source": [
    "#from catboost.datasets import msrank_10k\n",
    "#train_df, test_df = msrank_10k()\n",
    "\n",
    "X_train = train_df.drop(['0', '1'], axis=1).values\n",
    "y_train = train_df['0'].values\n",
    "\n",
    "qids_train = train_df.groupby(\"1\")[\"1\"].count().to_numpy()\n",
    "\n",
    "X_test = test_df.drop(['0', '1'], axis=1).values\n",
    "y_test = test_df['0'].values\n",
    "\n",
    "qids_test = test_df.groupby(\"1\")[\"1\"].count().to_numpy()\n"
   ]
  },
  {
   "cell_type": "code",
   "execution_count": 147,
   "id": "9211f7ca",
   "metadata": {
    "ExecuteTime": {
     "end_time": "2021-11-12T17:14:59.810991Z",
     "start_time": "2021-11-12T17:14:59.805366Z"
    }
   },
   "outputs": [],
   "source": [
    "import lightgbm as lgb"
   ]
  },
  {
   "cell_type": "code",
   "execution_count": 148,
   "id": "a5b449de",
   "metadata": {
    "ExecuteTime": {
     "end_time": "2021-11-12T17:15:36.728336Z",
     "start_time": "2021-11-12T17:15:00.101421Z"
    },
    "scrolled": true
   },
   "outputs": [
    {
     "name": "stdout",
     "output_type": "stream",
     "text": [
      "[10]\tvalid_0's ndcg@10: 0.369033\n"
     ]
    },
    {
     "ename": "KeyboardInterrupt",
     "evalue": "",
     "output_type": "error",
     "traceback": [
      "\u001b[0;31m---------------------------------------------------------------------------\u001b[0m",
      "\u001b[0;31mKeyboardInterrupt\u001b[0m                         Traceback (most recent call last)",
      "\u001b[0;32m/tmp/ipykernel_87561/2427147057.py\u001b[0m in \u001b[0;36m<module>\u001b[0;34m\u001b[0m\n\u001b[1;32m     10\u001b[0m     \u001b[0meval_group\u001b[0m\u001b[0;34m=\u001b[0m\u001b[0;34m[\u001b[0m\u001b[0mqids_test\u001b[0m\u001b[0;34m]\u001b[0m\u001b[0;34m,\u001b[0m\u001b[0;34m\u001b[0m\u001b[0;34m\u001b[0m\u001b[0m\n\u001b[1;32m     11\u001b[0m     \u001b[0meval_at\u001b[0m\u001b[0;34m=\u001b[0m\u001b[0;36m10\u001b[0m\u001b[0;34m,\u001b[0m\u001b[0;34m\u001b[0m\u001b[0;34m\u001b[0m\u001b[0m\n\u001b[0;32m---> 12\u001b[0;31m     \u001b[0mverbose\u001b[0m\u001b[0;34m=\u001b[0m\u001b[0;36m10\u001b[0m\u001b[0;34m,\u001b[0m\u001b[0;34m\u001b[0m\u001b[0;34m\u001b[0m\u001b[0m\n\u001b[0m\u001b[1;32m     13\u001b[0m )\n",
      "\u001b[0;32m/data/home/irsafilo/course/shad/venv/lib/python3.7/site-packages/lightgbm/sklearn.py\u001b[0m in \u001b[0;36mfit\u001b[0;34m(self, X, y, sample_weight, init_score, group, eval_set, eval_names, eval_sample_weight, eval_init_score, eval_group, eval_metric, eval_at, early_stopping_rounds, verbose, feature_name, categorical_feature, callbacks, init_model)\u001b[0m\n\u001b[1;32m    985\u001b[0m                     \u001b[0meval_init_score\u001b[0m\u001b[0;34m=\u001b[0m\u001b[0meval_init_score\u001b[0m\u001b[0;34m,\u001b[0m \u001b[0meval_group\u001b[0m\u001b[0;34m=\u001b[0m\u001b[0meval_group\u001b[0m\u001b[0;34m,\u001b[0m \u001b[0meval_metric\u001b[0m\u001b[0;34m=\u001b[0m\u001b[0meval_metric\u001b[0m\u001b[0;34m,\u001b[0m\u001b[0;34m\u001b[0m\u001b[0;34m\u001b[0m\u001b[0m\n\u001b[1;32m    986\u001b[0m                     \u001b[0mearly_stopping_rounds\u001b[0m\u001b[0;34m=\u001b[0m\u001b[0mearly_stopping_rounds\u001b[0m\u001b[0;34m,\u001b[0m \u001b[0mverbose\u001b[0m\u001b[0;34m=\u001b[0m\u001b[0mverbose\u001b[0m\u001b[0;34m,\u001b[0m \u001b[0mfeature_name\u001b[0m\u001b[0;34m=\u001b[0m\u001b[0mfeature_name\u001b[0m\u001b[0;34m,\u001b[0m\u001b[0;34m\u001b[0m\u001b[0;34m\u001b[0m\u001b[0m\n\u001b[0;32m--> 987\u001b[0;31m                     categorical_feature=categorical_feature, callbacks=callbacks, init_model=init_model)\n\u001b[0m\u001b[1;32m    988\u001b[0m         \u001b[0;32mreturn\u001b[0m \u001b[0mself\u001b[0m\u001b[0;34m\u001b[0m\u001b[0;34m\u001b[0m\u001b[0m\n\u001b[1;32m    989\u001b[0m \u001b[0;34m\u001b[0m\u001b[0m\n",
      "\u001b[0;32m/data/home/irsafilo/course/shad/venv/lib/python3.7/site-packages/lightgbm/sklearn.py\u001b[0m in \u001b[0;36mfit\u001b[0;34m(self, X, y, sample_weight, init_score, group, eval_set, eval_names, eval_sample_weight, eval_class_weight, eval_init_score, eval_group, eval_metric, early_stopping_rounds, verbose, feature_name, categorical_feature, callbacks, init_model)\u001b[0m\n\u001b[1;32m    686\u001b[0m                               \u001b[0mevals_result\u001b[0m\u001b[0;34m=\u001b[0m\u001b[0mevals_result\u001b[0m\u001b[0;34m,\u001b[0m \u001b[0mfobj\u001b[0m\u001b[0;34m=\u001b[0m\u001b[0mself\u001b[0m\u001b[0;34m.\u001b[0m\u001b[0m_fobj\u001b[0m\u001b[0;34m,\u001b[0m \u001b[0mfeval\u001b[0m\u001b[0;34m=\u001b[0m\u001b[0meval_metrics_callable\u001b[0m\u001b[0;34m,\u001b[0m\u001b[0;34m\u001b[0m\u001b[0;34m\u001b[0m\u001b[0m\n\u001b[1;32m    687\u001b[0m                               \u001b[0mverbose_eval\u001b[0m\u001b[0;34m=\u001b[0m\u001b[0mverbose\u001b[0m\u001b[0;34m,\u001b[0m \u001b[0mfeature_name\u001b[0m\u001b[0;34m=\u001b[0m\u001b[0mfeature_name\u001b[0m\u001b[0;34m,\u001b[0m\u001b[0;34m\u001b[0m\u001b[0;34m\u001b[0m\u001b[0m\n\u001b[0;32m--> 688\u001b[0;31m                               callbacks=callbacks, init_model=init_model)\n\u001b[0m\u001b[1;32m    689\u001b[0m \u001b[0;34m\u001b[0m\u001b[0m\n\u001b[1;32m    690\u001b[0m         \u001b[0;32mif\u001b[0m \u001b[0mevals_result\u001b[0m\u001b[0;34m:\u001b[0m\u001b[0;34m\u001b[0m\u001b[0;34m\u001b[0m\u001b[0m\n",
      "\u001b[0;32m/data/home/irsafilo/course/shad/venv/lib/python3.7/site-packages/lightgbm/engine.py\u001b[0m in \u001b[0;36mtrain\u001b[0;34m(params, train_set, num_boost_round, valid_sets, valid_names, fobj, feval, init_model, feature_name, categorical_feature, early_stopping_rounds, evals_result, verbose_eval, learning_rates, keep_training_booster, callbacks)\u001b[0m\n\u001b[1;32m    247\u001b[0m                                     evaluation_result_list=None))\n\u001b[1;32m    248\u001b[0m \u001b[0;34m\u001b[0m\u001b[0m\n\u001b[0;32m--> 249\u001b[0;31m         \u001b[0mbooster\u001b[0m\u001b[0;34m.\u001b[0m\u001b[0mupdate\u001b[0m\u001b[0;34m(\u001b[0m\u001b[0mfobj\u001b[0m\u001b[0;34m=\u001b[0m\u001b[0mfobj\u001b[0m\u001b[0;34m)\u001b[0m\u001b[0;34m\u001b[0m\u001b[0;34m\u001b[0m\u001b[0m\n\u001b[0m\u001b[1;32m    250\u001b[0m \u001b[0;34m\u001b[0m\u001b[0m\n\u001b[1;32m    251\u001b[0m         \u001b[0mevaluation_result_list\u001b[0m \u001b[0;34m=\u001b[0m \u001b[0;34m[\u001b[0m\u001b[0;34m]\u001b[0m\u001b[0;34m\u001b[0m\u001b[0;34m\u001b[0m\u001b[0m\n",
      "\u001b[0;32m/data/home/irsafilo/course/shad/venv/lib/python3.7/site-packages/lightgbm/basic.py\u001b[0m in \u001b[0;36mupdate\u001b[0;34m(self, train_set, fobj)\u001b[0m\n\u001b[1;32m   2643\u001b[0m             _safe_call(_LIB.LGBM_BoosterUpdateOneIter(\n\u001b[1;32m   2644\u001b[0m                 \u001b[0mself\u001b[0m\u001b[0;34m.\u001b[0m\u001b[0mhandle\u001b[0m\u001b[0;34m,\u001b[0m\u001b[0;34m\u001b[0m\u001b[0;34m\u001b[0m\u001b[0m\n\u001b[0;32m-> 2645\u001b[0;31m                 ctypes.byref(is_finished)))\n\u001b[0m\u001b[1;32m   2646\u001b[0m             \u001b[0mself\u001b[0m\u001b[0;34m.\u001b[0m\u001b[0m__is_predicted_cur_iter\u001b[0m \u001b[0;34m=\u001b[0m \u001b[0;34m[\u001b[0m\u001b[0;32mFalse\u001b[0m \u001b[0;32mfor\u001b[0m \u001b[0m_\u001b[0m \u001b[0;32min\u001b[0m \u001b[0mrange\u001b[0m\u001b[0;34m(\u001b[0m\u001b[0mself\u001b[0m\u001b[0;34m.\u001b[0m\u001b[0m__num_dataset\u001b[0m\u001b[0;34m)\u001b[0m\u001b[0;34m]\u001b[0m\u001b[0;34m\u001b[0m\u001b[0;34m\u001b[0m\u001b[0m\n\u001b[1;32m   2647\u001b[0m             \u001b[0;32mreturn\u001b[0m \u001b[0mis_finished\u001b[0m\u001b[0;34m.\u001b[0m\u001b[0mvalue\u001b[0m \u001b[0;34m==\u001b[0m \u001b[0;36m1\u001b[0m\u001b[0;34m\u001b[0m\u001b[0;34m\u001b[0m\u001b[0m\n",
      "\u001b[0;31mKeyboardInterrupt\u001b[0m: "
     ]
    }
   ],
   "source": [
    "model = lgb.LGBMRanker(\n",
    "    objective=\"lambdarank\",\n",
    "    metric=\"ndcg\",\n",
    ")\n",
    "model.fit(\n",
    "    X=X_train,\n",
    "    y=y_train,\n",
    "    group=qids_train,\n",
    "    eval_set=[(X_test, y_test)],\n",
    "    eval_group=[qids_test],\n",
    "    eval_at=10,\n",
    "    verbose=10,\n",
    ")"
   ]
  },
  {
   "cell_type": "markdown",
   "id": "6b2e1fe5",
   "metadata": {},
   "source": [
    "## Listwise LTR на tensorflow"
   ]
  },
  {
   "cell_type": "markdown",
   "id": "2301f652",
   "metadata": {},
   "source": [
    "Мы будем использовать tensorflow вместе с tensorflow_ranking, чтобы продемонстрировать, как мы можем построить модель PoC LTR в пределах 200 строк кода Python.\n",
    "\n",
    "Обратите внимание, что обычно использование tensorflow требует гораздо больше усилий, поскольку это низкоуровневый фреймворк для моделирования машинного обучения."
   ]
  },
  {
   "cell_type": "markdown",
   "id": "c3c37176",
   "metadata": {},
   "source": [
    "Мы рассматриваем задачу ранжирования над ANTIQUE, набором данных с ответами на вопросы. Учитывая запрос и список ответов, цель состоит в том, чтобы максимизировать метрику, связанную с рангом (NDCG).\n",
    "\n",
    "**A Question Answering Dataset**\n",
    "\n",
    "ANTIQUE - это общедоступный набор данных для неактуальных ответов на вопросы в открытом домене, собранный через Yahoo! ответы.\n",
    "\n",
    "На каждый вопрос есть список ответов, актуальность которых оценивается по шкале от 1 до 5.\n",
    "\n",
    "Размер списка может варьироваться в зависимости от запроса, поэтому мы используем фиксированный «размер списка» 50, где список либо усечен, либо дополнен фиктивными значениями.\n",
    "\n",
    "Этот набор данных подходит для сценария обучения ранжированию. Набор данных разделен на 2206 запросов для обучения и 200 запросов для тестирования.\n",
    "\n",
    "Загрузим файл обучения, тестовых данных и словарь."
   ]
  },
  {
   "cell_type": "code",
   "execution_count": 141,
   "id": "e715a277",
   "metadata": {
    "ExecuteTime": {
     "end_time": "2021-11-11T19:30:13.345427Z",
     "start_time": "2021-11-11T19:30:13.343531Z"
    }
   },
   "outputs": [],
   "source": [
    "#!wget -O \"vocab.txt\" \"http://ciir.cs.umass.edu/downloads/Antique/tf-ranking/vocab.txt\"\n",
    "#!wget -O \"train.tfrecords\" \"http://ciir.cs.umass.edu/downloads/Antique/tf-ranking/ELWC/train.tfrecords\"\n",
    "#!wget -O \"test.tfrecords\" \"http://ciir.cs.umass.edu/downloads/Antique/tf-ranking//ELWC/test.tfrecords\""
   ]
  },
  {
   "cell_type": "markdown",
   "id": "903a5d80",
   "metadata": {},
   "source": [
    "## Data Formats for Ranking"
   ]
  },
  {
   "cell_type": "markdown",
   "id": "a10f5c03",
   "metadata": {},
   "source": [
    "Для представления данных ранжирования протобуферы представляют собой расширяемые структуры, подходящие для хранения данных в сериализованном формате либо локально, либо распределенно.\n",
    "\n",
    "https://chromium.googlesource.com/external/github.com/tensorflow/tensorflow/+/r0.10/tensorflow/g3doc/how_tos/tool_developers/index.md\n",
    "\n",
    "Ранжирование обычно состоит из характеристик, соответствующих каждому из сортируемых примеров. Кроме того, для ранжирования полезны признаки, связанные с запросом, пользователем или сессии. Мы называем их признаками контекста, поскольку они не зависят от примеров.\n",
    "\n",
    "Мы используем популярный протокол tf.Example для представления признаков для контекста и каждого из примеров. Мы используем протобуфер ExampleListWithContext (ELWC) для хранения контекста как tf.Example и списка примеров, которые будут ранжироваться как список протоколов tf.Example.\n",
    "\n",
    "Здесь определяется протбуфер ExampleListWithContext.\n",
    "\n",
    "Создадим фиктивные данные в формате ELWC. Мы будем использовать эти фиктивные данные, чтобы показать, как выглядит прототип.\n"
   ]
  },
  {
   "cell_type": "markdown",
   "id": "6758475b",
   "metadata": {},
   "source": [
    "Загрузите и установите пакеты TensorFlow Ranking и TensorFlow Serving."
   ]
  },
  {
   "cell_type": "code",
   "execution_count": null,
   "id": "8a0cb75e",
   "metadata": {},
   "outputs": [],
   "source": []
  },
  {
   "cell_type": "code",
   "execution_count": 149,
   "id": "524b46ff",
   "metadata": {
    "ExecuteTime": {
     "end_time": "2021-11-12T17:18:05.980063Z",
     "start_time": "2021-11-12T17:18:03.404551Z"
    }
   },
   "outputs": [
    {
     "name": "stderr",
     "output_type": "stream",
     "text": [
      "2021-11-12 20:18:03.645909: W tensorflow/stream_executor/platform/default/dso_loader.cc:64] Could not load dynamic library 'libcudart.so.11.0'; dlerror: libcudart.so.11.0: cannot open shared object file: No such file or directory\n",
      "2021-11-12 20:18:03.646009: I tensorflow/stream_executor/cuda/cudart_stub.cc:29] Ignore above cudart dlerror if you do not have a GPU set up on your machine.\n",
      "/data/home/irsafilo/course/shad/venv/lib/python3.7/site-packages/tensorflow_addons/utils/ensure_tf_install.py:67: UserWarning: Tensorflow Addons supports using Python ops for all Tensorflow versions above or equal to 2.4.0 and strictly below 2.7.0 (nightly versions are not supported). \n",
      " The versions of TensorFlow you are currently using is 2.7.0 and is not supported. \n",
      "Some things might work, some things might not.\n",
      "If you were to encounter a bug, do not file an issue.\n",
      "If you want to make sure you're using a tested and supported configuration, either change the TensorFlow version or the TensorFlow Addons's version. \n",
      "You can find the compatibility matrix in TensorFlow Addon's readme:\n",
      "https://github.com/tensorflow/addons\n",
      "  UserWarning,\n"
     ]
    }
   ],
   "source": [
    "import tensorflow as tf\n",
    "import tensorflow_ranking as tfr\n",
    "from tensorflow_serving.apis import input_pb2"
   ]
  },
  {
   "cell_type": "code",
   "execution_count": null,
   "id": "ca9760d4",
   "metadata": {},
   "outputs": [],
   "source": []
  },
  {
   "cell_type": "code",
   "execution_count": 150,
   "id": "cb838114",
   "metadata": {
    "ExecuteTime": {
     "end_time": "2021-11-12T17:18:09.315563Z",
     "start_time": "2021-11-12T17:18:09.309837Z"
    }
   },
   "outputs": [],
   "source": [
    "from google.protobuf import text_format\n",
    "\n",
    "CONTEXT = text_format.Parse(\n",
    "    \"\"\"\n",
    "    features {\n",
    "      feature {\n",
    "        key: \"query_tokens\"\n",
    "        value { bytes_list { value: [\"this\", \"is\", \"a\", \"relevant\", \"question\"] } }\n",
    "      }\n",
    "    }\"\"\", tf.train.Example())"
   ]
  },
  {
   "cell_type": "code",
   "execution_count": 152,
   "id": "d9dcf1c5",
   "metadata": {
    "ExecuteTime": {
     "end_time": "2021-11-12T17:18:42.028203Z",
     "start_time": "2021-11-12T17:18:42.021903Z"
    }
   },
   "outputs": [],
   "source": [
    "EXAMPLES = [\n",
    "    text_format.Parse(\n",
    "    \"\"\"\n",
    "    features {\n",
    "      feature {\n",
    "        key: \"document_tokens\"\n",
    "        value { bytes_list { value: [\"this\", \"is\", \"a\", \"relevant\", \"answer\"] } }\n",
    "      }\n",
    "      feature {\n",
    "        key: \"relevance\"\n",
    "        value { int64_list { value: 5 } }\n",
    "      }\n",
    "    }\"\"\", tf.train.Example()),\n",
    "    text_format.Parse(\n",
    "        \"\"\"\n",
    "    features {\n",
    "      feature {\n",
    "        key: \"document_tokens\"\n",
    "        value { bytes_list { value: [\"irrelevant\", \"data\"] } }\n",
    "      }\n",
    "      feature {\n",
    "        key: \"relevance\"\n",
    "        value { int64_list { value: 1 } }\n",
    "      }\n",
    "    }\"\"\", tf.train.Example()),\n",
    "]"
   ]
  },
  {
   "cell_type": "code",
   "execution_count": 153,
   "id": "03dafa72",
   "metadata": {
    "ExecuteTime": {
     "end_time": "2021-11-12T17:18:50.841868Z",
     "start_time": "2021-11-12T17:18:50.837003Z"
    }
   },
   "outputs": [],
   "source": [
    "ELWC = input_pb2.ExampleListWithContext()\n",
    "ELWC.context.CopyFrom(CONTEXT)\n",
    "for example in EXAMPLES:\n",
    "    example_features = ELWC.examples.add()\n",
    "    example_features.CopyFrom(example)"
   ]
  },
  {
   "cell_type": "code",
   "execution_count": 154,
   "id": "70c47a13",
   "metadata": {
    "ExecuteTime": {
     "end_time": "2021-11-12T17:18:51.053508Z",
     "start_time": "2021-11-12T17:18:51.048849Z"
    }
   },
   "outputs": [
    {
     "name": "stdout",
     "output_type": "stream",
     "text": [
      "examples {\n",
      "  features {\n",
      "    feature {\n",
      "      key: \"document_tokens\"\n",
      "      value {\n",
      "        bytes_list {\n",
      "          value: \"this\"\n",
      "          value: \"is\"\n",
      "          value: \"a\"\n",
      "          value: \"relevant\"\n",
      "          value: \"answer\"\n",
      "        }\n",
      "      }\n",
      "    }\n",
      "    feature {\n",
      "      key: \"relevance\"\n",
      "      value {\n",
      "        int64_list {\n",
      "          value: 5\n",
      "        }\n",
      "      }\n",
      "    }\n",
      "  }\n",
      "}\n",
      "examples {\n",
      "  features {\n",
      "    feature {\n",
      "      key: \"document_tokens\"\n",
      "      value {\n",
      "        bytes_list {\n",
      "          value: \"irrelevant\"\n",
      "          value: \"data\"\n",
      "        }\n",
      "      }\n",
      "    }\n",
      "    feature {\n",
      "      key: \"relevance\"\n",
      "      value {\n",
      "        int64_list {\n",
      "          value: 1\n",
      "        }\n",
      "      }\n",
      "    }\n",
      "  }\n",
      "}\n",
      "context {\n",
      "  features {\n",
      "    feature {\n",
      "      key: \"query_tokens\"\n",
      "      value {\n",
      "        bytes_list {\n",
      "          value: \"this\"\n",
      "          value: \"is\"\n",
      "          value: \"a\"\n",
      "          value: \"relevant\"\n",
      "          value: \"question\"\n",
      "        }\n",
      "      }\n",
      "    }\n",
      "  }\n",
      "}\n",
      "\n"
     ]
    }
   ],
   "source": [
    "print(ELWC)"
   ]
  },
  {
   "cell_type": "markdown",
   "id": "eba1af66",
   "metadata": {},
   "source": [
    "\n",
    "**Dependencies and Global Variables**\n",
    "\n",
    "Здесь мы определяем пути обучения и тестирования, а также гиперпараметры модели."
   ]
  },
  {
   "cell_type": "code",
   "execution_count": null,
   "id": "9878c93d",
   "metadata": {},
   "outputs": [],
   "source": []
  },
  {
   "cell_type": "code",
   "execution_count": 155,
   "id": "291ed4eb",
   "metadata": {
    "ExecuteTime": {
     "end_time": "2021-11-12T17:19:38.421194Z",
     "start_time": "2021-11-12T17:19:38.415573Z"
    }
   },
   "outputs": [],
   "source": [
    "# Store the paths to files containing training and test instances.\n",
    "_TRAIN_DATA_PATH = \"train.tfrecords\"\n",
    "_TEST_DATA_PATH = \"test.tfrecords\"\n",
    "\n",
    "# Store the vocabulary path for query and document tokens.\n",
    "_VOCAB_PATH = \"vocab.txt\"\n",
    "\n",
    "# The maximum number of documents per query in the dataset.\n",
    "# Document lists are padded or truncated to this size.\n",
    "_LIST_SIZE = 50\n",
    "\n",
    "# The document relevance label.\n",
    "_LABEL_FEATURE = \"relevance\"\n",
    "\n",
    "# Padding labels are set negative so that the corresponding examples can be\n",
    "# ignored in loss and metrics.\n",
    "_PADDING_LABEL = -1\n",
    "\n",
    "# Learning rate for optimizer.\n",
    "_LEARNING_RATE = 0.05\n",
    "\n",
    "# Parameters to the scoring function.\n",
    "_BATCH_SIZE = 32\n",
    "_HIDDEN_LAYER_DIMS = [\"64\", \"32\", \"16\"]\n",
    "_DROPOUT_RATE = 0.8\n",
    "_GROUP_SIZE = 1  # Pointwise scoring.\n",
    "\n",
    "# Location of model directory and number of training steps.\n",
    "_MODEL_DIR = \"ranking_model_dir\"\n",
    "_NUM_TRAIN_STEPS = 15 * 1000"
   ]
  },
  {
   "cell_type": "markdown",
   "id": "7ac1a6fa",
   "metadata": {},
   "source": [
    "**Components of a Ranking Estimator**\n",
    "\n",
    "Общие компоненты рейтингового оценщика показаны ниже.\n",
    "\n",
    "Ключевые компоненты библиотеки:\n",
    "\n",
    "- Input Reader\n",
    "- Tranform Function\n",
    "- Scoring Function\n",
    "- Ranking Losses\n",
    "- Ranking Metrics\n",
    "- Ranking Head\n",
    "- Model Builder\n"
   ]
  },
  {
   "cell_type": "markdown",
   "id": "7aca5231",
   "metadata": {},
   "source": [
    "Столбцы фичей - это абстракции TensorFlow, которые используются для сбора обширной информации о каждой фичи. Это позволяет легко преобразовывать широкий спектр необработанных фичей и взаимодействовать с ними в одном обьекте.\n",
    "\n",
    "В соответствии с нашими форматами ввода для ранжирования, такими как формат ELWC, мы создаем столбцы фичей для всех признаков"
   ]
  },
  {
   "cell_type": "code",
   "execution_count": 156,
   "id": "1fbe6e4d",
   "metadata": {
    "ExecuteTime": {
     "end_time": "2021-11-12T17:20:49.665178Z",
     "start_time": "2021-11-12T17:20:49.658462Z"
    }
   },
   "outputs": [],
   "source": [
    "_EMBEDDING_DIMENSION = 20\n",
    "\n",
    "\n",
    "def context_feature_columns():\n",
    "    \"\"\"Returns context feature names to column definitions.\"\"\"\n",
    "    sparse_column = tf.feature_column.categorical_column_with_vocabulary_file(\n",
    "    key=\"query_tokens\",\n",
    "    vocabulary_file=_VOCAB_PATH)\n",
    "    query_embedding_column = tf.feature_column.embedding_column(\n",
    "    sparse_column, _EMBEDDING_DIMENSION)\n",
    "    return {\"query_tokens\": query_embedding_column}\n",
    "\n",
    "\n",
    "def example_feature_columns():\n",
    "    \"\"\"Returns the example feature columns.\"\"\"\n",
    "    sparse_column = tf.feature_column.categorical_column_with_vocabulary_file(\n",
    "    key=\"document_tokens\",\n",
    "    vocabulary_file=_VOCAB_PATH)\n",
    "    document_embedding_column = tf.feature_column.embedding_column(\n",
    "    sparse_column, _EMBEDDING_DIMENSION)\n",
    "    return {\"document_tokens\": document_embedding_column}"
   ]
  },
  {
   "cell_type": "markdown",
   "id": "4cb0ba6b",
   "metadata": {},
   "source": [
    "### Reading Input Data using input_fn"
   ]
  },
  {
   "cell_type": "markdown",
   "id": "f89f5b36",
   "metadata": {},
   "source": [
    "Устройство чтения ввода считывает данные из постоянного хранилища для создания необработанных плотных и разреженных тензоров соответствующего типа для каждой фичи. Примеры признаков представлены трехмерными тензорами (где измерения соответствуют запросам, примерам и значениям признака). Особенности контекста представлены двумерными тензорами (где измерения соответствуют запросам и значениям признаков)."
   ]
  },
  {
   "cell_type": "markdown",
   "id": "f45a7f87",
   "metadata": {},
   "source": [
    "https://www.tensorflow.org/tutorials/structured_data/feature_columns"
   ]
  },
  {
   "cell_type": "code",
   "execution_count": 157,
   "id": "352e13d0",
   "metadata": {
    "ExecuteTime": {
     "end_time": "2021-11-12T17:21:38.584301Z",
     "start_time": "2021-11-12T17:21:38.576075Z"
    }
   },
   "outputs": [],
   "source": [
    "def input_fn(path, num_epochs=None):\n",
    "    context_feature_spec = tf.feature_column.make_parse_example_spec(\n",
    "        context_feature_columns().values())\n",
    "    label_column = tf.feature_column.numeric_column(\n",
    "        _LABEL_FEATURE, dtype=tf.int64, default_value=_PADDING_LABEL)\n",
    "    example_feature_spec = tf.feature_column.make_parse_example_spec(\n",
    "        list(example_feature_columns().values()) + [label_column])\n",
    "    dataset = tfr.data.build_ranking_dataset(\n",
    "        file_pattern=path,\n",
    "        data_format=tfr.data.ELWC,\n",
    "        batch_size=_BATCH_SIZE,\n",
    "        list_size=_LIST_SIZE,\n",
    "        context_feature_spec=context_feature_spec,\n",
    "        example_feature_spec=example_feature_spec,\n",
    "        reader=tf.data.TFRecordDataset,\n",
    "        shuffle=False,\n",
    "        num_epochs=num_epochs)\n",
    "    features = tf.compat.v1.data.make_one_shot_iterator(dataset).get_next()\n",
    "    label = tf.squeeze(features.pop(_LABEL_FEATURE), axis=2)\n",
    "    label = tf.cast(label, tf.float32)\n",
    "\n",
    "    return features, label"
   ]
  },
  {
   "cell_type": "markdown",
   "id": "1ebde29a",
   "metadata": {},
   "source": [
    "**Feature Transformations with transform_fn**\n",
    "\n",
    "Функция преобразования принимает необработанные dense or sparse features из устройства чтения ввода, применяет подходящие преобразования для возврата плотных представлений для каждой фичи. Это важно перед передачей этих признаков в нейронную сеть, поскольку слои нейронных сетей обычно принимают dense features в качестве входных данных.\n",
    "\n",
    "Функция преобразования обрабатывает любые преобразования признаков, определенные пользователем. Для работы с разреженными признаками, такими как текстовые данные, мы предоставляем удобную возможность для создания общих встраиваний на основе столбцов фичей."
   ]
  },
  {
   "cell_type": "code",
   "execution_count": 158,
   "id": "75de2570",
   "metadata": {
    "ExecuteTime": {
     "end_time": "2021-11-12T17:22:11.627971Z",
     "start_time": "2021-11-12T17:22:11.616232Z"
    }
   },
   "outputs": [],
   "source": [
    "def make_transform_fn():\n",
    "    def _transform_fn(features, mode):\n",
    "        \"\"\"Defines transform_fn.\"\"\"\n",
    "        context_features, example_features = tfr.feature.encode_listwise_features(\n",
    "        features=features,\n",
    "        context_feature_columns=context_feature_columns(),\n",
    "        example_feature_columns=example_feature_columns(),\n",
    "        mode=mode,\n",
    "        scope=\"transform_layer\")\n",
    "\n",
    "        return context_features, example_features\n",
    "    return _transform_fn"
   ]
  },
  {
   "cell_type": "markdown",
   "id": "0811383c",
   "metadata": {},
   "source": [
    "**Feature Interactions using scoring_fn**\n",
    "Затем мы переходим к функции оценки, которая, возможно, лежит в основе модели рейтинга TF. Идея состоит в том, чтобы вычислить оценку релевантности для (набора) пар запрос-документ. Модель TF-Ranking будет использовать данные обучения для изучения этой функции.\n",
    "\n",
    "Здесь мы формулируем функцию оценки с использованием сети прямого распространения. Функция использует характеристики одного примера (например, пары запрос-документ) и выдает оценку релевантности."
   ]
  },
  {
   "cell_type": "code",
   "execution_count": 159,
   "id": "073341a9",
   "metadata": {
    "ExecuteTime": {
     "end_time": "2021-11-12T17:22:34.804751Z",
     "start_time": "2021-11-12T17:22:34.792412Z"
    }
   },
   "outputs": [],
   "source": [
    "def make_score_fn():\n",
    "    \"\"\"Returns a scoring function to build `EstimatorSpec`.\"\"\"\n",
    "\n",
    "    def _score_fn(context_features, group_features, mode, params, config):\n",
    "        \"\"\"Defines the network to score a group of documents.\"\"\"\n",
    "        with tf.compat.v1.name_scope(\"input_layer\"):\n",
    "            context_input = [\n",
    "              tf.compat.v1.layers.flatten(context_features[name])\n",
    "            for name in sorted(context_feature_columns())\n",
    "            ]\n",
    "            group_input = [\n",
    "              tf.compat.v1.layers.flatten(group_features[name])\n",
    "              for name in sorted(example_feature_columns())\n",
    "            ]\n",
    "            input_layer = tf.concat(context_input + group_input, 1)\n",
    "\n",
    "        is_training = (mode == tf.estimator.ModeKeys.TRAIN)\n",
    "        cur_layer = input_layer\n",
    "        cur_layer = tf.compat.v1.layers.batch_normalization(\n",
    "        cur_layer,\n",
    "        training=is_training,\n",
    "        momentum=0.99)\n",
    "\n",
    "        for i, layer_width in enumerate(int(d) for d in _HIDDEN_LAYER_DIMS):\n",
    "            cur_layer = tf.compat.v1.layers.dense(cur_layer, units=layer_width)\n",
    "            cur_layer = tf.compat.v1.layers.batch_normalization(\n",
    "            cur_layer,\n",
    "            training=is_training,\n",
    "            momentum=0.99)\n",
    "        cur_layer = tf.nn.relu(cur_layer)\n",
    "        cur_layer = tf.compat.v1.layers.dropout(\n",
    "          inputs=cur_layer, rate=_DROPOUT_RATE, training=is_training)\n",
    "        logits = tf.compat.v1.layers.dense(cur_layer, units=_GROUP_SIZE)\n",
    "        return logits\n",
    "\n",
    "    return _score_fn"
   ]
  },
  {
   "cell_type": "markdown",
   "id": "887bde81",
   "metadata": {},
   "source": [
    "## Losses, Metrics and Ranking Head"
   ]
  },
  {
   "cell_type": "markdown",
   "id": "ad303046",
   "metadata": {},
   "source": [
    "**Evaluation Metrics**\n",
    " "
   ]
  },
  {
   "cell_type": "code",
   "execution_count": null,
   "id": "1d6ad56b",
   "metadata": {},
   "outputs": [],
   "source": []
  },
  {
   "cell_type": "code",
   "execution_count": 160,
   "id": "1902e8d3",
   "metadata": {
    "ExecuteTime": {
     "end_time": "2021-11-12T17:23:05.770941Z",
     "start_time": "2021-11-12T17:23:05.765107Z"
    }
   },
   "outputs": [],
   "source": [
    "def eval_metric_fns():\n",
    "    \"\"\"Returns a dict from name to metric functions.\n",
    "\n",
    "  This can be customized as follows. Care must be taken when handling padded\n",
    "  lists.\n",
    "\n",
    "  def _auc(labels, predictions, features):\n",
    "    is_label_valid = tf_reshape(tf.greater_equal(labels, 0.), [-1, 1])\n",
    "    clean_labels = tf.boolean_mask(tf.reshape(labels, [-1, 1], is_label_valid)\n",
    "    clean_pred = tf.boolean_maks(tf.reshape(predictions, [-1, 1], is_label_valid)\n",
    "    return tf.metrics.auc(clean_labels, tf.sigmoid(clean_pred), ...)\n",
    "  metric_fns[\"auc\"] = _auc\n",
    "\n",
    "  Returns:\n",
    "    A dict mapping from metric name to a metric function with above signature.\n",
    "  \"\"\"\n",
    "    metric_fns = {}\n",
    "    metric_fns.update({\n",
    "      f\"metric/ndcg@{topn}\": tfr.metrics.make_ranking_metric_fn(\n",
    "          tfr.metrics.RankingMetricKey.NDCG, topn=topn)\n",
    "      for topn in [1, 3, 5, 10]\n",
    "    })\n",
    "\n",
    "    return metric_fns\n"
   ]
  },
  {
   "cell_type": "markdown",
   "id": "0478aba4",
   "metadata": {},
   "source": [
    "### Ranking Losses"
   ]
  },
  {
   "cell_type": "code",
   "execution_count": 161,
   "id": "07747e3c",
   "metadata": {
    "ExecuteTime": {
     "end_time": "2021-11-12T17:23:18.162949Z",
     "start_time": "2021-11-12T17:23:18.159072Z"
    }
   },
   "outputs": [],
   "source": [
    "# Define a loss function. To find a complete list of available\n",
    "# loss functions or to learn how to add your own custom function\n",
    "# please refer to the tensorflow_ranking.losses module.\n",
    "\n",
    "_LOSS = tfr.losses.RankingLossKey.APPROX_NDCG_LOSS\n",
    "loss_fn = tfr.losses.make_loss_fn(_LOSS)"
   ]
  },
  {
   "cell_type": "markdown",
   "id": "7840f0d1",
   "metadata": {},
   "source": [
    "### Ranking Head"
   ]
  },
  {
   "cell_type": "markdown",
   "id": "7b0ad3d6",
   "metadata": {},
   "source": [
    "В рабочем процессе оценщика Head - это абстракция, которая инкапсулирует потери и соответствующие показатели. Head легко взаимодействует с оценщиком, что требует от пользователя определения функции оценки и определения потерь и расчета показателей."
   ]
  },
  {
   "cell_type": "code",
   "execution_count": 162,
   "id": "f98e61af",
   "metadata": {
    "ExecuteTime": {
     "end_time": "2021-11-12T17:23:38.305651Z",
     "start_time": "2021-11-12T17:23:38.298898Z"
    }
   },
   "outputs": [],
   "source": [
    "optimizer = tf.compat.v1.train.AdagradOptimizer(\n",
    "learning_rate=_LEARNING_RATE)\n",
    "\n",
    "\n",
    "def _train_op_fn(loss):\n",
    "    \"\"\"Defines train op used in ranking head.\"\"\"\n",
    "    update_ops = tf.compat.v1.get_collection(tf.compat.v1.GraphKeys.UPDATE_OPS)\n",
    "    minimize_op = optimizer.minimize(\n",
    "      loss=loss, global_step=tf.compat.v1.train.get_global_step())\n",
    "    train_op = tf.group([update_ops, minimize_op])\n",
    "    return train_op\n",
    "\n",
    "\n",
    "ranking_head = tfr.head.create_ranking_head(\n",
    "      loss_fn=loss_fn,\n",
    "      eval_metric_fns=eval_metric_fns(),\n",
    "      train_op_fn=_train_op_fn)"
   ]
  },
  {
   "cell_type": "code",
   "execution_count": null,
   "id": "3d8225ec",
   "metadata": {},
   "outputs": [],
   "source": []
  },
  {
   "cell_type": "markdown",
   "id": "76898b2f",
   "metadata": {},
   "source": [
    "### Putting It All Together in a Model Builder"
   ]
  },
  {
   "cell_type": "markdown",
   "id": "f11a39bc",
   "metadata": {},
   "source": [
    "Теперь мы готовы собрать все вышеперечисленные компоненты вместе и создать одну сущность модели, который можно использовать для обучения и оценки модели."
   ]
  },
  {
   "cell_type": "code",
   "execution_count": 163,
   "id": "fab7b57d",
   "metadata": {
    "ExecuteTime": {
     "end_time": "2021-11-12T17:23:57.027678Z",
     "start_time": "2021-11-12T17:23:57.022618Z"
    }
   },
   "outputs": [
    {
     "name": "stdout",
     "output_type": "stream",
     "text": [
      "INFO:tensorflow:Building groupwise ranking model.\n"
     ]
    }
   ],
   "source": [
    "model_fn = tfr.model.make_groupwise_ranking_fn(\n",
    "          group_score_fn=make_score_fn(),\n",
    "          transform_fn=make_transform_fn(),\n",
    "          group_size=_GROUP_SIZE,\n",
    "          ranking_head=ranking_head)"
   ]
  },
  {
   "cell_type": "markdown",
   "id": "76d54038",
   "metadata": {},
   "source": [
    "### Train and evaluate the ranker"
   ]
  },
  {
   "cell_type": "code",
   "execution_count": 164,
   "id": "c5e8f2f3",
   "metadata": {
    "ExecuteTime": {
     "end_time": "2021-11-12T17:25:58.756320Z",
     "start_time": "2021-11-12T17:25:58.748443Z"
    }
   },
   "outputs": [],
   "source": [
    "def train_and_eval_fn():\n",
    "    \"\"\"Train and eval function used by `tf.estimator.train_and_evaluate`.\"\"\"\n",
    "    run_config = tf.estimator.RunConfig(\n",
    "      save_checkpoints_steps=1000)\n",
    "    ranker = tf.estimator.Estimator(\n",
    "      model_fn=model_fn,\n",
    "      model_dir=_MODEL_DIR,\n",
    "      config=run_config)\n",
    "\n",
    "    train_input_fn = lambda: input_fn(_TRAIN_DATA_PATH)\n",
    "    eval_input_fn = lambda: input_fn(_TEST_DATA_PATH, num_epochs=1)\n",
    "\n",
    "    train_spec = tf.estimator.TrainSpec(\n",
    "      input_fn=train_input_fn, max_steps=_NUM_TRAIN_STEPS)\n",
    "    eval_spec = tf.estimator.EvalSpec(\n",
    "      name=\"eval\",\n",
    "      input_fn=eval_input_fn,\n",
    "      throttle_secs=15)\n",
    "    return (ranker, train_spec, eval_spec)"
   ]
  },
  {
   "cell_type": "code",
   "execution_count": 165,
   "id": "104a26a4",
   "metadata": {
    "ExecuteTime": {
     "end_time": "2021-11-12T17:25:58.971279Z",
     "start_time": "2021-11-12T17:25:58.955132Z"
    },
    "scrolled": true
   },
   "outputs": [
    {
     "name": "stdout",
     "output_type": "stream",
     "text": [
      "INFO:tensorflow:Using config: {'_model_dir': 'ranking_model_dir', '_tf_random_seed': None, '_save_summary_steps': 100, '_save_checkpoints_steps': 1000, '_save_checkpoints_secs': None, '_session_config': allow_soft_placement: true\n",
      "graph_options {\n",
      "  rewrite_options {\n",
      "    meta_optimizer_iterations: ONE\n",
      "  }\n",
      "}\n",
      ", '_keep_checkpoint_max': 5, '_keep_checkpoint_every_n_hours': 10000, '_log_step_count_steps': 100, '_train_distribute': None, '_device_fn': None, '_protocol': None, '_eval_distribute': None, '_experimental_distribute': None, '_experimental_max_worker_delay_secs': None, '_session_creation_timeout_secs': 7200, '_checkpoint_save_graph_def': True, '_service': None, '_cluster_spec': ClusterSpec({}), '_task_type': 'worker', '_task_id': 0, '_global_id_in_cluster': 0, '_master': '', '_evaluation_master': '', '_is_chief': True, '_num_ps_replicas': 0, '_num_worker_replicas': 1}\n",
      "WARNING:tensorflow:Estimator's model_fn (<function _make_model_fn.<locals>._model_fn at 0x7f9abc5106a8>) includes params argument, but params are not passed to Estimator.\n",
      "INFO:tensorflow:Not using Distribute Coordinator.\n",
      "INFO:tensorflow:Running training and evaluation locally (non-distributed).\n",
      "INFO:tensorflow:Start train and evaluate loop. The evaluate will happen after every checkpoint. Checkpoint frequency is determined based on RunConfig arguments: save_checkpoints_steps 1000 or save_checkpoints_secs None.\n",
      "INFO:tensorflow:Skipping training since max_steps has already saved.\n"
     ]
    },
    {
     "data": {
      "text/plain": [
       "(None, None)"
      ]
     },
     "execution_count": 165,
     "metadata": {},
     "output_type": "execute_result"
    }
   ],
   "source": [
    "ranker, train_spec, eval_spec = train_and_eval_fn()\n",
    "tf.estimator.train_and_evaluate(ranker, train_spec, eval_spec)"
   ]
  },
  {
   "cell_type": "markdown",
   "id": "cc6becd4",
   "metadata": {},
   "source": [
    "### Launch TensorBoard"
   ]
  },
  {
   "cell_type": "code",
   "execution_count": 158,
   "id": "fc67a3b9",
   "metadata": {
    "ExecuteTime": {
     "end_time": "2021-11-11T19:30:45.371741Z",
     "start_time": "2021-11-11T19:30:45.147879Z"
    }
   },
   "outputs": [
    {
     "data": {
      "text/plain": [
       "ERROR: Could not find `tensorboard`. Please ensure that your PATH\n",
       "contains an executable `tensorboard` program, or explicitly specify\n",
       "the path to a TensorBoard binary by setting the `TENSORBOARD_BINARY`\n",
       "environment variable."
      ]
     },
     "metadata": {},
     "output_type": "display_data"
    }
   ],
   "source": [
    "%load_ext tensorboard\n",
    "%tensorboard --logdir=\"ranking_model_dir\" --port 12345"
   ]
  },
  {
   "cell_type": "markdown",
   "id": "fac385fb",
   "metadata": {},
   "source": [
    "### Generating Predictions"
   ]
  },
  {
   "cell_type": "markdown",
   "id": "dca16548",
   "metadata": {},
   "source": [
    "Мы показываем, как создавать прогнозы по функциям набора данных. Мы предполагаем, что метка отсутствует и должна быть выведена с использованием модели ранжирования.\n",
    "\n",
    "Подобно input_fn, используемому для обучения и оценки, pred_input_fn считывает данные в формате ELWC и сохраняет их как TFRecords для создания функций. Мы устанавливаем количество эпох равным 1, чтобы генератор прекратил итерацию, когда достигнет конца набора данных. Кроме того, при чтении точки данных не перемешиваются, поэтому поведение функции predic () является детерминированным."
   ]
  },
  {
   "cell_type": "code",
   "execution_count": 167,
   "id": "c7a0ba1c",
   "metadata": {
    "ExecuteTime": {
     "end_time": "2021-11-12T17:26:56.065487Z",
     "start_time": "2021-11-12T17:26:56.058177Z"
    }
   },
   "outputs": [],
   "source": [
    "def predict_input_fn(path):\n",
    "    context_feature_spec = tf.feature_column.make_parse_example_spec(\n",
    "        context_feature_columns().values())\n",
    "    example_feature_spec = tf.feature_column.make_parse_example_spec(\n",
    "        list(example_feature_columns().values()))\n",
    "    dataset = tfr.data.build_ranking_dataset(\n",
    "        file_pattern=path,\n",
    "        data_format=tfr.data.ELWC,\n",
    "        batch_size=_BATCH_SIZE,\n",
    "        list_size=_LIST_SIZE,\n",
    "        context_feature_spec=context_feature_spec,\n",
    "        example_feature_spec=example_feature_spec,\n",
    "        reader=tf.data.TFRecordDataset,\n",
    "        shuffle=False,\n",
    "        num_epochs=1)\n",
    "    features = tf.compat.v1.data.make_one_shot_iterator(dataset).get_next()\n",
    "    return features"
   ]
  },
  {
   "cell_type": "markdown",
   "id": "a719f751",
   "metadata": {},
   "source": [
    "Будем генерировать прогнозы на тестовом наборе данных, где мы рассматриваем только контекст и примеры функций и прогнозируем метки. Pred_input_fn генерирует прогнозы для пакета точек данных. Пакетная обработка позволяет нам перебирать большие наборы данных, которые невозможно загрузить в память."
   ]
  },
  {
   "cell_type": "code",
   "execution_count": 168,
   "id": "7a75e61a",
   "metadata": {
    "ExecuteTime": {
     "end_time": "2021-11-12T17:26:56.484597Z",
     "start_time": "2021-11-12T17:26:56.480996Z"
    }
   },
   "outputs": [],
   "source": [
    "predictions = ranker.predict(input_fn=lambda: predict_input_fn(\"test.tfrecords\"))"
   ]
  },
  {
   "cell_type": "markdown",
   "id": "eeed4e90",
   "metadata": {
    "ExecuteTime": {
     "end_time": "2021-11-10T19:14:38.106733Z",
     "start_time": "2021-11-10T19:14:38.103679Z"
    }
   },
   "source": [
    "ranker.predict возвращает генератор, который мы можем перебирать для создания прогнозов, пока генератор не будет исчерпан."
   ]
  },
  {
   "cell_type": "code",
   "execution_count": 169,
   "id": "4a9f9a04",
   "metadata": {
    "ExecuteTime": {
     "end_time": "2021-11-12T17:27:07.728802Z",
     "start_time": "2021-11-12T17:27:00.676608Z"
    },
    "scrolled": true
   },
   "outputs": [
    {
     "name": "stdout",
     "output_type": "stream",
     "text": [
      "INFO:tensorflow:vocabulary_size = 30522 in query_tokens is inferred from the number of elements in the vocabulary_file vocab.txt.\n",
      "INFO:tensorflow:vocabulary_size = 30522 in document_tokens is inferred from the number of elements in the vocabulary_file vocab.txt.\n"
     ]
    },
    {
     "name": "stderr",
     "output_type": "stream",
     "text": [
      "2021-11-12 20:27:05.360829: W tensorflow/stream_executor/platform/default/dso_loader.cc:64] Could not load dynamic library 'libcudart.so.11.0'; dlerror: libcudart.so.11.0: cannot open shared object file: No such file or directory\n",
      "2021-11-12 20:27:05.360953: W tensorflow/stream_executor/platform/default/dso_loader.cc:64] Could not load dynamic library 'libcublas.so.11'; dlerror: libcublas.so.11: cannot open shared object file: No such file or directory\n",
      "2021-11-12 20:27:05.361015: W tensorflow/stream_executor/platform/default/dso_loader.cc:64] Could not load dynamic library 'libcublasLt.so.11'; dlerror: libcublasLt.so.11: cannot open shared object file: No such file or directory\n",
      "2021-11-12 20:27:05.364624: W tensorflow/stream_executor/platform/default/dso_loader.cc:64] Could not load dynamic library 'libcusolver.so.11'; dlerror: libcusolver.so.11: cannot open shared object file: No such file or directory\n",
      "2021-11-12 20:27:05.364703: W tensorflow/stream_executor/platform/default/dso_loader.cc:64] Could not load dynamic library 'libcusparse.so.11'; dlerror: libcusparse.so.11: cannot open shared object file: No such file or directory\n",
      "2021-11-12 20:27:05.364765: W tensorflow/stream_executor/platform/default/dso_loader.cc:64] Could not load dynamic library 'libcudnn.so.8'; dlerror: libcudnn.so.8: cannot open shared object file: No such file or directory\n",
      "2021-11-12 20:27:05.364783: W tensorflow/core/common_runtime/gpu/gpu_device.cc:1850] Cannot dlopen some GPU libraries. Please make sure the missing libraries mentioned above are installed properly if you would like to use GPU. Follow the guide at https://www.tensorflow.org/install/gpu for how to download and setup the required libraries for your platform.\n",
      "Skipping registering GPU devices...\n"
     ]
    },
    {
     "name": "stdout",
     "output_type": "stream",
     "text": [
      "WARNING:tensorflow:Input graph does not use tf.data.Dataset or contain a QueueRunner. That means predict yields forever. This is probably a mistake.\n",
      "INFO:tensorflow:Calling model_fn.\n",
      "INFO:tensorflow:vocabulary_size = 30522 in query_tokens is inferred from the number of elements in the vocabulary_file vocab.txt.\n",
      "INFO:tensorflow:vocabulary_size = 30522 in document_tokens is inferred from the number of elements in the vocabulary_file vocab.txt.\n",
      "INFO:tensorflow:vocabulary_size = 30522 in query_tokens is inferred from the number of elements in the vocabulary_file vocab.txt.\n",
      "INFO:tensorflow:vocabulary_size = 30522 in document_tokens is inferred from the number of elements in the vocabulary_file vocab.txt.\n"
     ]
    },
    {
     "name": "stderr",
     "output_type": "stream",
     "text": [
      "/data/home/irsafilo/course/shad/venv/lib/python3.7/site-packages/ipykernel_launcher.py:9: UserWarning: `tf.layers.flatten` is deprecated and will be removed in a future version. Please use `tf.keras.layers.Flatten` instead.\n",
      "  if __name__ == '__main__':\n",
      "/data/home/irsafilo/course/shad/venv/lib/python3.7/site-packages/keras/legacy_tf_layers/core.py:523: UserWarning: `layer.apply` is deprecated and will be removed in a future version. Please use `layer.__call__` method instead.\n",
      "  return layer.apply(inputs)\n",
      "/data/home/irsafilo/course/shad/venv/lib/python3.7/site-packages/ipykernel_launcher.py:13: UserWarning: `tf.layers.flatten` is deprecated and will be removed in a future version. Please use `tf.keras.layers.Flatten` instead.\n",
      "  del sys.path[0]\n",
      "/data/home/irsafilo/course/shad/venv/lib/python3.7/site-packages/ipykernel_launcher.py:22: UserWarning: `tf.layers.batch_normalization` is deprecated and will be removed in a future version. Please use `tf.keras.layers.BatchNormalization` instead. In particular, `tf.control_dependencies(tf.GraphKeys.UPDATE_OPS)` should not be used (consult the `tf.keras.layers.BatchNormalization` documentation).\n",
      "/data/home/irsafilo/course/shad/venv/lib/python3.7/site-packages/keras/legacy_tf_layers/normalization.py:455: UserWarning: `layer.apply` is deprecated and will be removed in a future version. Please use `layer.__call__` method instead.\n",
      "  return layer.apply(inputs, training=training)\n",
      "/data/home/irsafilo/course/shad/venv/lib/python3.7/site-packages/ipykernel_launcher.py:25: UserWarning: `tf.layers.dense` is deprecated and will be removed in a future version. Please use `tf.keras.layers.Dense` instead.\n",
      "/data/home/irsafilo/course/shad/venv/lib/python3.7/site-packages/keras/legacy_tf_layers/core.py:255: UserWarning: `layer.apply` is deprecated and will be removed in a future version. Please use `layer.__call__` method instead.\n",
      "  return layer.apply(inputs)\n",
      "/data/home/irsafilo/course/shad/venv/lib/python3.7/site-packages/ipykernel_launcher.py:29: UserWarning: `tf.layers.batch_normalization` is deprecated and will be removed in a future version. Please use `tf.keras.layers.BatchNormalization` instead. In particular, `tf.control_dependencies(tf.GraphKeys.UPDATE_OPS)` should not be used (consult the `tf.keras.layers.BatchNormalization` documentation).\n"
     ]
    },
    {
     "name": "stdout",
     "output_type": "stream",
     "text": [
      "INFO:tensorflow:Done calling model_fn.\n"
     ]
    },
    {
     "name": "stderr",
     "output_type": "stream",
     "text": [
      "/data/home/irsafilo/course/shad/venv/lib/python3.7/site-packages/ipykernel_launcher.py:32: UserWarning: `tf.layers.dropout` is deprecated and will be removed in a future version. Please use `tf.keras.layers.Dropout` instead.\n",
      "/data/home/irsafilo/course/shad/venv/lib/python3.7/site-packages/keras/legacy_tf_layers/core.py:401: UserWarning: `layer.apply` is deprecated and will be removed in a future version. Please use `layer.__call__` method instead.\n",
      "  return layer.apply(inputs, training=training)\n",
      "/data/home/irsafilo/course/shad/venv/lib/python3.7/site-packages/ipykernel_launcher.py:33: UserWarning: `tf.layers.dense` is deprecated and will be removed in a future version. Please use `tf.keras.layers.Dense` instead.\n"
     ]
    },
    {
     "name": "stdout",
     "output_type": "stream",
     "text": [
      "INFO:tensorflow:Graph was finalized.\n"
     ]
    },
    {
     "name": "stderr",
     "output_type": "stream",
     "text": [
      "2021-11-12 20:27:06.932023: I tensorflow/core/platform/cpu_feature_guard.cc:151] This TensorFlow binary is optimized with oneAPI Deep Neural Network Library (oneDNN) to use the following CPU instructions in performance-critical operations:  AVX2 AVX512F FMA\n",
      "To enable them in other operations, rebuild TensorFlow with the appropriate compiler flags.\n"
     ]
    },
    {
     "name": "stdout",
     "output_type": "stream",
     "text": [
      "INFO:tensorflow:Restoring parameters from ranking_model_dir/model.ckpt-15000\n",
      "INFO:tensorflow:Running local_init_op.\n",
      "INFO:tensorflow:Done running local_init_op.\n"
     ]
    },
    {
     "name": "stderr",
     "output_type": "stream",
     "text": [
      "2021-11-12 20:27:07.297873: W tensorflow/core/common_runtime/gpu/gpu_device.cc:1850] Cannot dlopen some GPU libraries. Please make sure the missing libraries mentioned above are installed properly if you would like to use GPU. Follow the guide at https://www.tensorflow.org/install/gpu for how to download and setup the required libraries for your platform.\n",
      "Skipping registering GPU devices...\n"
     ]
    }
   ],
   "source": [
    "x = next(predictions)\n",
    "assert len(x) == _LIST_SIZE  # Note that this includes padding."
   ]
  },
  {
   "cell_type": "code",
   "execution_count": null,
   "id": "e847b811",
   "metadata": {},
   "outputs": [],
   "source": []
  },
  {
   "cell_type": "code",
   "execution_count": null,
   "id": "8cf157d8",
   "metadata": {},
   "outputs": [],
   "source": []
  }
 ],
 "metadata": {
  "kernelspec": {
   "display_name": "MTS ED",
   "language": "python",
   "name": "shad"
  },
  "language_info": {
   "codemirror_mode": {
    "name": "ipython",
    "version": 3
   },
   "file_extension": ".py",
   "mimetype": "text/x-python",
   "name": "python",
   "nbconvert_exporter": "python",
   "pygments_lexer": "ipython3",
   "version": "3.7.3"
  }
 },
 "nbformat": 4,
 "nbformat_minor": 5
}
