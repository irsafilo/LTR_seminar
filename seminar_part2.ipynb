{
 "cells": [
  {
   "cell_type": "code",
   "execution_count": 1,
   "id": "0641034c",
   "metadata": {
    "ExecuteTime": {
     "end_time": "2021-11-12T17:32:36.610892Z",
     "start_time": "2021-11-12T17:32:34.143142Z"
    }
   },
   "outputs": [
    {
     "name": "stderr",
     "output_type": "stream",
     "text": [
      "2021-11-12 20:32:34.819068: W tensorflow/stream_executor/platform/default/dso_loader.cc:64] Could not load dynamic library 'libcudart.so.11.0'; dlerror: libcudart.so.11.0: cannot open shared object file: No such file or directory\n",
      "2021-11-12 20:32:34.819113: I tensorflow/stream_executor/cuda/cudart_stub.cc:29] Ignore above cudart dlerror if you do not have a GPU set up on your machine.\n"
     ]
    }
   ],
   "source": [
    "import ast\n",
    "import json\n",
    "import matplotlib.pyplot as plt\n",
    "import numpy as np\n",
    "import os\n",
    "import pandas as pd\n",
    "import pickle\n",
    "import tensorflow as tf\n",
    "import tensorflow.keras.backend as K\n",
    "import warnings\n",
    "warnings.filterwarnings('ignore')\n",
    "\n",
    "from collections import Counter\n",
    "from random import randint, random\n",
    "from scipy.sparse import coo_matrix, hstack\n",
    "from sklearn.metrics.pairwise import euclidean_distances, cosine_distances, cosine_similarity\n",
    "from tensorflow import keras\n",
    "from tqdm import tqdm"
   ]
  },
  {
   "cell_type": "markdown",
   "id": "58dab66d",
   "metadata": {},
   "source": [
    "## Считаем препроцессные данные из прошлого ноутбучка"
   ]
  },
  {
   "cell_type": "code",
   "execution_count": 2,
   "id": "4b139b8e",
   "metadata": {
    "ExecuteTime": {
     "end_time": "2021-11-12T17:32:40.776890Z",
     "start_time": "2021-11-12T17:32:40.609117Z"
    }
   },
   "outputs": [],
   "source": [
    "interactions_df = pd.read_pickle('data/interactions_preprocessed.pickle')\n",
    "users_df = pd.read_pickle('data/users_preprocessed.pickle')\n",
    "items_df = pd.read_pickle('data/items_preprocessed.pickle')"
   ]
  },
  {
   "cell_type": "code",
   "execution_count": 3,
   "id": "5631b84a",
   "metadata": {
    "ExecuteTime": {
     "end_time": "2021-11-12T17:32:49.486891Z",
     "start_time": "2021-11-12T17:32:49.460934Z"
    }
   },
   "outputs": [
    {
     "data": {
      "text/html": [
       "<div>\n",
       "<style scoped>\n",
       "    .dataframe tbody tr th:only-of-type {\n",
       "        vertical-align: middle;\n",
       "    }\n",
       "\n",
       "    .dataframe tbody tr th {\n",
       "        vertical-align: top;\n",
       "    }\n",
       "\n",
       "    .dataframe thead th {\n",
       "        text-align: right;\n",
       "    }\n",
       "</style>\n",
       "<table border=\"1\" class=\"dataframe\">\n",
       "  <thead>\n",
       "    <tr style=\"text-align: right;\">\n",
       "      <th></th>\n",
       "      <th>user_id</th>\n",
       "      <th>age</th>\n",
       "      <th>sex</th>\n",
       "    </tr>\n",
       "  </thead>\n",
       "  <tbody>\n",
       "    <tr>\n",
       "      <th>0</th>\n",
       "      <td>1</td>\n",
       "      <td>45_54</td>\n",
       "      <td>NaN</td>\n",
       "    </tr>\n",
       "    <tr>\n",
       "      <th>1</th>\n",
       "      <td>2</td>\n",
       "      <td>18_24</td>\n",
       "      <td>0.0</td>\n",
       "    </tr>\n",
       "    <tr>\n",
       "      <th>2</th>\n",
       "      <td>3</td>\n",
       "      <td>65_inf</td>\n",
       "      <td>0.0</td>\n",
       "    </tr>\n",
       "    <tr>\n",
       "      <th>3</th>\n",
       "      <td>4</td>\n",
       "      <td>18_24</td>\n",
       "      <td>0.0</td>\n",
       "    </tr>\n",
       "    <tr>\n",
       "      <th>4</th>\n",
       "      <td>5</td>\n",
       "      <td>35_44</td>\n",
       "      <td>0.0</td>\n",
       "    </tr>\n",
       "  </tbody>\n",
       "</table>\n",
       "</div>"
      ],
      "text/plain": [
       "   user_id     age  sex\n",
       "0        1   45_54  NaN\n",
       "1        2   18_24  0.0\n",
       "2        3  65_inf  0.0\n",
       "3        4   18_24  0.0\n",
       "4        5   35_44  0.0"
      ]
     },
     "execution_count": 3,
     "metadata": {},
     "output_type": "execute_result"
    }
   ],
   "source": [
    "users_df.head()"
   ]
  },
  {
   "cell_type": "code",
   "execution_count": 4,
   "id": "f0ebc644",
   "metadata": {
    "ExecuteTime": {
     "end_time": "2021-11-12T17:33:03.228101Z",
     "start_time": "2021-11-12T17:33:03.208463Z"
    }
   },
   "outputs": [],
   "source": [
    "items_df = items_df.rename(columns = {'id' : 'item_id'})"
   ]
  },
  {
   "cell_type": "code",
   "execution_count": 5,
   "id": "176700ba",
   "metadata": {
    "ExecuteTime": {
     "end_time": "2021-11-12T17:33:04.715386Z",
     "start_time": "2021-11-12T17:33:04.697204Z"
    }
   },
   "outputs": [
    {
     "data": {
      "text/html": [
       "<div>\n",
       "<style scoped>\n",
       "    .dataframe tbody tr th:only-of-type {\n",
       "        vertical-align: middle;\n",
       "    }\n",
       "\n",
       "    .dataframe tbody tr th {\n",
       "        vertical-align: top;\n",
       "    }\n",
       "\n",
       "    .dataframe thead th {\n",
       "        text-align: right;\n",
       "    }\n",
       "</style>\n",
       "<table border=\"1\" class=\"dataframe\">\n",
       "  <thead>\n",
       "    <tr style=\"text-align: right;\">\n",
       "      <th></th>\n",
       "      <th>item_id</th>\n",
       "      <th>title</th>\n",
       "      <th>genres</th>\n",
       "      <th>authors</th>\n",
       "      <th>year</th>\n",
       "    </tr>\n",
       "  </thead>\n",
       "  <tbody>\n",
       "    <tr>\n",
       "      <th>0</th>\n",
       "      <td>128115</td>\n",
       "      <td>Ворон-челобитчик</td>\n",
       "      <td>Зарубежные детские книги,Сказки,Зарубежная кла...</td>\n",
       "      <td>Михаил Салтыков-Щедрин</td>\n",
       "      <td>1886</td>\n",
       "    </tr>\n",
       "    <tr>\n",
       "      <th>1</th>\n",
       "      <td>210979</td>\n",
       "      <td>Скрипка Ротшильда</td>\n",
       "      <td>Классическая проза,Литература 19 века,Русская ...</td>\n",
       "      <td>Антон Чехов</td>\n",
       "      <td>1894</td>\n",
       "    </tr>\n",
       "    <tr>\n",
       "      <th>2</th>\n",
       "      <td>95632</td>\n",
       "      <td>Испорченные дети</td>\n",
       "      <td>Зарубежная классика,Классическая проза,Литерат...</td>\n",
       "      <td>Михаил Салтыков-Щедрин</td>\n",
       "      <td>1869</td>\n",
       "    </tr>\n",
       "    <tr>\n",
       "      <th>3</th>\n",
       "      <td>247906</td>\n",
       "      <td>Странный человек</td>\n",
       "      <td>Пьесы и драматургия,Литература 19 века</td>\n",
       "      <td>Михаил Лермонтов</td>\n",
       "      <td>1831</td>\n",
       "    </tr>\n",
       "    <tr>\n",
       "      <th>4</th>\n",
       "      <td>294280</td>\n",
       "      <td>Господа ташкентцы</td>\n",
       "      <td>Зарубежная классика,Классическая проза,Литерат...</td>\n",
       "      <td>Михаил Салтыков-Щедрин</td>\n",
       "      <td>1873</td>\n",
       "    </tr>\n",
       "  </tbody>\n",
       "</table>\n",
       "</div>"
      ],
      "text/plain": [
       "   item_id              title  \\\n",
       "0   128115   Ворон-челобитчик   \n",
       "1   210979  Скрипка Ротшильда   \n",
       "2    95632   Испорченные дети   \n",
       "3   247906   Странный человек   \n",
       "4   294280  Господа ташкентцы   \n",
       "\n",
       "                                              genres                 authors  \\\n",
       "0  Зарубежные детские книги,Сказки,Зарубежная кла...  Михаил Салтыков-Щедрин   \n",
       "1  Классическая проза,Литература 19 века,Русская ...             Антон Чехов   \n",
       "2  Зарубежная классика,Классическая проза,Литерат...  Михаил Салтыков-Щедрин   \n",
       "3             Пьесы и драматургия,Литература 19 века        Михаил Лермонтов   \n",
       "4  Зарубежная классика,Классическая проза,Литерат...  Михаил Салтыков-Щедрин   \n",
       "\n",
       "   year  \n",
       "0  1886  \n",
       "1  1894  \n",
       "2  1869  \n",
       "3  1831  \n",
       "4  1873  "
      ]
     },
     "execution_count": 5,
     "metadata": {},
     "output_type": "execute_result"
    }
   ],
   "source": [
    "items_df.head()"
   ]
  },
  {
   "cell_type": "code",
   "execution_count": 6,
   "id": "4157e057",
   "metadata": {
    "ExecuteTime": {
     "end_time": "2021-11-12T17:33:13.723570Z",
     "start_time": "2021-11-12T17:33:13.701789Z"
    }
   },
   "outputs": [
    {
     "data": {
      "text/html": [
       "<div>\n",
       "<style scoped>\n",
       "    .dataframe tbody tr th:only-of-type {\n",
       "        vertical-align: middle;\n",
       "    }\n",
       "\n",
       "    .dataframe tbody tr th {\n",
       "        vertical-align: top;\n",
       "    }\n",
       "\n",
       "    .dataframe thead th {\n",
       "        text-align: right;\n",
       "    }\n",
       "</style>\n",
       "<table border=\"1\" class=\"dataframe\">\n",
       "  <thead>\n",
       "    <tr style=\"text-align: right;\">\n",
       "      <th></th>\n",
       "      <th>user_id</th>\n",
       "      <th>item_id</th>\n",
       "      <th>progress</th>\n",
       "      <th>rating</th>\n",
       "      <th>start_date</th>\n",
       "    </tr>\n",
       "  </thead>\n",
       "  <tbody>\n",
       "    <tr>\n",
       "      <th>0</th>\n",
       "      <td>126706</td>\n",
       "      <td>14433</td>\n",
       "      <td>80</td>\n",
       "      <td>NaN</td>\n",
       "      <td>2018-01-01</td>\n",
       "    </tr>\n",
       "    <tr>\n",
       "      <th>1</th>\n",
       "      <td>127290</td>\n",
       "      <td>140952</td>\n",
       "      <td>58</td>\n",
       "      <td>NaN</td>\n",
       "      <td>2018-01-01</td>\n",
       "    </tr>\n",
       "    <tr>\n",
       "      <th>2</th>\n",
       "      <td>66991</td>\n",
       "      <td>198453</td>\n",
       "      <td>89</td>\n",
       "      <td>NaN</td>\n",
       "      <td>2018-01-01</td>\n",
       "    </tr>\n",
       "    <tr>\n",
       "      <th>3</th>\n",
       "      <td>46791</td>\n",
       "      <td>83486</td>\n",
       "      <td>23</td>\n",
       "      <td>5.0</td>\n",
       "      <td>2018-01-01</td>\n",
       "    </tr>\n",
       "    <tr>\n",
       "      <th>4</th>\n",
       "      <td>79313</td>\n",
       "      <td>188770</td>\n",
       "      <td>88</td>\n",
       "      <td>5.0</td>\n",
       "      <td>2018-01-01</td>\n",
       "    </tr>\n",
       "  </tbody>\n",
       "</table>\n",
       "</div>"
      ],
      "text/plain": [
       "   user_id  item_id  progress  rating start_date\n",
       "0   126706    14433        80     NaN 2018-01-01\n",
       "1   127290   140952        58     NaN 2018-01-01\n",
       "2    66991   198453        89     NaN 2018-01-01\n",
       "3    46791    83486        23     5.0 2018-01-01\n",
       "4    79313   188770        88     5.0 2018-01-01"
      ]
     },
     "execution_count": 6,
     "metadata": {},
     "output_type": "execute_result"
    }
   ],
   "source": [
    "interactions_df.head()"
   ]
  },
  {
   "cell_type": "markdown",
   "id": "3078c258",
   "metadata": {},
   "source": [
    "## Готовим фичи пользователей"
   ]
  },
  {
   "cell_type": "code",
   "execution_count": 7,
   "id": "ee0b07b0",
   "metadata": {
    "ExecuteTime": {
     "end_time": "2021-11-12T17:33:22.004468Z",
     "start_time": "2021-11-12T17:33:21.961678Z"
    }
   },
   "outputs": [
    {
     "data": {
      "text/html": [
       "<div>\n",
       "<style scoped>\n",
       "    .dataframe tbody tr th:only-of-type {\n",
       "        vertical-align: middle;\n",
       "    }\n",
       "\n",
       "    .dataframe tbody tr th {\n",
       "        vertical-align: top;\n",
       "    }\n",
       "\n",
       "    .dataframe thead th {\n",
       "        text-align: right;\n",
       "    }\n",
       "</style>\n",
       "<table border=\"1\" class=\"dataframe\">\n",
       "  <thead>\n",
       "    <tr style=\"text-align: right;\">\n",
       "      <th></th>\n",
       "      <th>user_id</th>\n",
       "      <th>age_18_24</th>\n",
       "      <th>age_25_34</th>\n",
       "      <th>age_35_44</th>\n",
       "      <th>age_45_54</th>\n",
       "      <th>age_55_64</th>\n",
       "      <th>age_65_inf</th>\n",
       "      <th>sex_0.0</th>\n",
       "      <th>sex_1.0</th>\n",
       "    </tr>\n",
       "  </thead>\n",
       "  <tbody>\n",
       "    <tr>\n",
       "      <th>0</th>\n",
       "      <td>1</td>\n",
       "      <td>0</td>\n",
       "      <td>0</td>\n",
       "      <td>0</td>\n",
       "      <td>1</td>\n",
       "      <td>0</td>\n",
       "      <td>0</td>\n",
       "      <td>0</td>\n",
       "      <td>0</td>\n",
       "    </tr>\n",
       "    <tr>\n",
       "      <th>1</th>\n",
       "      <td>2</td>\n",
       "      <td>1</td>\n",
       "      <td>0</td>\n",
       "      <td>0</td>\n",
       "      <td>0</td>\n",
       "      <td>0</td>\n",
       "      <td>0</td>\n",
       "      <td>1</td>\n",
       "      <td>0</td>\n",
       "    </tr>\n",
       "    <tr>\n",
       "      <th>2</th>\n",
       "      <td>3</td>\n",
       "      <td>0</td>\n",
       "      <td>0</td>\n",
       "      <td>0</td>\n",
       "      <td>0</td>\n",
       "      <td>0</td>\n",
       "      <td>1</td>\n",
       "      <td>1</td>\n",
       "      <td>0</td>\n",
       "    </tr>\n",
       "    <tr>\n",
       "      <th>3</th>\n",
       "      <td>4</td>\n",
       "      <td>1</td>\n",
       "      <td>0</td>\n",
       "      <td>0</td>\n",
       "      <td>0</td>\n",
       "      <td>0</td>\n",
       "      <td>0</td>\n",
       "      <td>1</td>\n",
       "      <td>0</td>\n",
       "    </tr>\n",
       "    <tr>\n",
       "      <th>4</th>\n",
       "      <td>5</td>\n",
       "      <td>0</td>\n",
       "      <td>0</td>\n",
       "      <td>1</td>\n",
       "      <td>0</td>\n",
       "      <td>0</td>\n",
       "      <td>0</td>\n",
       "      <td>1</td>\n",
       "      <td>0</td>\n",
       "    </tr>\n",
       "  </tbody>\n",
       "</table>\n",
       "</div>"
      ],
      "text/plain": [
       "   user_id  age_18_24  age_25_34  age_35_44  age_45_54  age_55_64  age_65_inf  \\\n",
       "0        1          0          0          0          1          0           0   \n",
       "1        2          1          0          0          0          0           0   \n",
       "2        3          0          0          0          0          0           1   \n",
       "3        4          1          0          0          0          0           0   \n",
       "4        5          0          0          1          0          0           0   \n",
       "\n",
       "   sex_0.0  sex_1.0  \n",
       "0        0        0  \n",
       "1        1        0  \n",
       "2        1        0  \n",
       "3        1        0  \n",
       "4        1        0  "
      ]
     },
     "execution_count": 7,
     "metadata": {},
     "output_type": "execute_result"
    }
   ],
   "source": [
    "user_cat_feats = [\"age\", \"sex\"]\n",
    "\n",
    "users_ohe_df = users_df.user_id\n",
    "for feat in user_cat_feats:\n",
    "  # получаем датафрейм с one-hot encoding для каждой категориальной фичи\n",
    "    ohe_feat_df = pd.get_dummies(users_df[feat], prefix=feat)\n",
    "  # конкатенируем ohe-hot датафрейм с датафреймом, \n",
    "  # который мы получили на предыдущем шаге\n",
    "    users_ohe_df = pd.concat([users_ohe_df, ohe_feat_df], axis=1)\n",
    "\n",
    "users_ohe_df.head()\n"
   ]
  },
  {
   "cell_type": "markdown",
   "id": "2e156ed8",
   "metadata": {},
   "source": [
    "## Готовим фичи айтемов"
   ]
  },
  {
   "cell_type": "code",
   "execution_count": 8,
   "id": "63947e6a",
   "metadata": {
    "ExecuteTime": {
     "end_time": "2021-11-12T17:33:38.817797Z",
     "start_time": "2021-11-12T17:33:38.435427Z"
    }
   },
   "outputs": [
    {
     "data": {
      "text/html": [
       "<div>\n",
       "<style scoped>\n",
       "    .dataframe tbody tr th:only-of-type {\n",
       "        vertical-align: middle;\n",
       "    }\n",
       "\n",
       "    .dataframe tbody tr th {\n",
       "        vertical-align: top;\n",
       "    }\n",
       "\n",
       "    .dataframe thead th {\n",
       "        text-align: right;\n",
       "    }\n",
       "</style>\n",
       "<table border=\"1\" class=\"dataframe\">\n",
       "  <thead>\n",
       "    <tr style=\"text-align: right;\">\n",
       "      <th></th>\n",
       "      <th>item_id</th>\n",
       "      <th>year_04.01.2014</th>\n",
       "      <th>year_04.08.2010</th>\n",
       "      <th>year_1000</th>\n",
       "      <th>year_1048–1123</th>\n",
       "      <th>year_1260–1327</th>\n",
       "      <th>year_1307–1321</th>\n",
       "      <th>year_1350</th>\n",
       "      <th>year_1353</th>\n",
       "      <th>year_1486</th>\n",
       "      <th>...</th>\n",
       "      <th>year_до 1937 г.</th>\n",
       "      <th>year_до 1940 г.</th>\n",
       "      <th>year_до 1942 г.</th>\n",
       "      <th>year_до 1959 г., 2018 г.</th>\n",
       "      <th>year_до 1968 г.</th>\n",
       "      <th>year_до 1972 г.</th>\n",
       "      <th>year_ок. 355 г. до н. э.</th>\n",
       "      <th>year_около 1900 г.</th>\n",
       "      <th>year_около 500 г. до н.э.</th>\n",
       "      <th>year_первая половина XIX dtrf</th>\n",
       "    </tr>\n",
       "  </thead>\n",
       "  <tbody>\n",
       "    <tr>\n",
       "      <th>0</th>\n",
       "      <td>128115</td>\n",
       "      <td>0</td>\n",
       "      <td>0</td>\n",
       "      <td>0</td>\n",
       "      <td>0</td>\n",
       "      <td>0</td>\n",
       "      <td>0</td>\n",
       "      <td>0</td>\n",
       "      <td>0</td>\n",
       "      <td>0</td>\n",
       "      <td>...</td>\n",
       "      <td>0</td>\n",
       "      <td>0</td>\n",
       "      <td>0</td>\n",
       "      <td>0</td>\n",
       "      <td>0</td>\n",
       "      <td>0</td>\n",
       "      <td>0</td>\n",
       "      <td>0</td>\n",
       "      <td>0</td>\n",
       "      <td>0</td>\n",
       "    </tr>\n",
       "    <tr>\n",
       "      <th>1</th>\n",
       "      <td>210979</td>\n",
       "      <td>0</td>\n",
       "      <td>0</td>\n",
       "      <td>0</td>\n",
       "      <td>0</td>\n",
       "      <td>0</td>\n",
       "      <td>0</td>\n",
       "      <td>0</td>\n",
       "      <td>0</td>\n",
       "      <td>0</td>\n",
       "      <td>...</td>\n",
       "      <td>0</td>\n",
       "      <td>0</td>\n",
       "      <td>0</td>\n",
       "      <td>0</td>\n",
       "      <td>0</td>\n",
       "      <td>0</td>\n",
       "      <td>0</td>\n",
       "      <td>0</td>\n",
       "      <td>0</td>\n",
       "      <td>0</td>\n",
       "    </tr>\n",
       "    <tr>\n",
       "      <th>2</th>\n",
       "      <td>95632</td>\n",
       "      <td>0</td>\n",
       "      <td>0</td>\n",
       "      <td>0</td>\n",
       "      <td>0</td>\n",
       "      <td>0</td>\n",
       "      <td>0</td>\n",
       "      <td>0</td>\n",
       "      <td>0</td>\n",
       "      <td>0</td>\n",
       "      <td>...</td>\n",
       "      <td>0</td>\n",
       "      <td>0</td>\n",
       "      <td>0</td>\n",
       "      <td>0</td>\n",
       "      <td>0</td>\n",
       "      <td>0</td>\n",
       "      <td>0</td>\n",
       "      <td>0</td>\n",
       "      <td>0</td>\n",
       "      <td>0</td>\n",
       "    </tr>\n",
       "    <tr>\n",
       "      <th>3</th>\n",
       "      <td>247906</td>\n",
       "      <td>0</td>\n",
       "      <td>0</td>\n",
       "      <td>0</td>\n",
       "      <td>0</td>\n",
       "      <td>0</td>\n",
       "      <td>0</td>\n",
       "      <td>0</td>\n",
       "      <td>0</td>\n",
       "      <td>0</td>\n",
       "      <td>...</td>\n",
       "      <td>0</td>\n",
       "      <td>0</td>\n",
       "      <td>0</td>\n",
       "      <td>0</td>\n",
       "      <td>0</td>\n",
       "      <td>0</td>\n",
       "      <td>0</td>\n",
       "      <td>0</td>\n",
       "      <td>0</td>\n",
       "      <td>0</td>\n",
       "    </tr>\n",
       "    <tr>\n",
       "      <th>4</th>\n",
       "      <td>294280</td>\n",
       "      <td>0</td>\n",
       "      <td>0</td>\n",
       "      <td>0</td>\n",
       "      <td>0</td>\n",
       "      <td>0</td>\n",
       "      <td>0</td>\n",
       "      <td>0</td>\n",
       "      <td>0</td>\n",
       "      <td>0</td>\n",
       "      <td>...</td>\n",
       "      <td>0</td>\n",
       "      <td>0</td>\n",
       "      <td>0</td>\n",
       "      <td>0</td>\n",
       "      <td>0</td>\n",
       "      <td>0</td>\n",
       "      <td>0</td>\n",
       "      <td>0</td>\n",
       "      <td>0</td>\n",
       "      <td>0</td>\n",
       "    </tr>\n",
       "  </tbody>\n",
       "</table>\n",
       "<p>5 rows × 1054 columns</p>\n",
       "</div>"
      ],
      "text/plain": [
       "   item_id  year_04.01.2014  year_04.08.2010  year_1000  year_1048–1123  \\\n",
       "0   128115                0                0          0               0   \n",
       "1   210979                0                0          0               0   \n",
       "2    95632                0                0          0               0   \n",
       "3   247906                0                0          0               0   \n",
       "4   294280                0                0          0               0   \n",
       "\n",
       "   year_1260–1327  year_1307–1321  year_1350  year_1353  year_1486  ...  \\\n",
       "0               0               0          0          0          0  ...   \n",
       "1               0               0          0          0          0  ...   \n",
       "2               0               0          0          0          0  ...   \n",
       "3               0               0          0          0          0  ...   \n",
       "4               0               0          0          0          0  ...   \n",
       "\n",
       "   year_до 1937 г.  year_до 1940 г.  year_до 1942 г.  \\\n",
       "0                0                0                0   \n",
       "1                0                0                0   \n",
       "2                0                0                0   \n",
       "3                0                0                0   \n",
       "4                0                0                0   \n",
       "\n",
       "   year_до 1959 г., 2018 г.  year_до 1968 г.  year_до 1972 г.  \\\n",
       "0                         0                0                0   \n",
       "1                         0                0                0   \n",
       "2                         0                0                0   \n",
       "3                         0                0                0   \n",
       "4                         0                0                0   \n",
       "\n",
       "   year_ок. 355 г. до н. э.  year_около 1900 г.  year_около 500 г. до н.э.  \\\n",
       "0                         0                   0                          0   \n",
       "1                         0                   0                          0   \n",
       "2                         0                   0                          0   \n",
       "3                         0                   0                          0   \n",
       "4                         0                   0                          0   \n",
       "\n",
       "   year_первая половина XIX dtrf  \n",
       "0                              0  \n",
       "1                              0  \n",
       "2                              0  \n",
       "3                              0  \n",
       "4                              0  \n",
       "\n",
       "[5 rows x 1054 columns]"
      ]
     },
     "execution_count": 8,
     "metadata": {},
     "output_type": "execute_result"
    }
   ],
   "source": [
    "item_cat_feats = ['year']\n",
    "\n",
    "items_ohe_df = items_df.item_id\n",
    "\n",
    "for feat in item_cat_feats:\n",
    "    ohe_feat_df = pd.get_dummies(items_df[feat], prefix=feat)\n",
    "    items_ohe_df = pd.concat([items_ohe_df, ohe_feat_df], axis=1) \n",
    "\n",
    "items_ohe_df.head()"
   ]
  },
  {
   "cell_type": "markdown",
   "id": "03707834",
   "metadata": {},
   "source": [
    "## Сделаем матрицу взаимодействий"
   ]
  },
  {
   "cell_type": "code",
   "execution_count": 9,
   "id": "18e7fa9c",
   "metadata": {
    "ExecuteTime": {
     "end_time": "2021-11-12T17:33:52.996948Z",
     "start_time": "2021-11-12T17:33:52.904964Z"
    }
   },
   "outputs": [
    {
     "data": {
      "text/plain": [
       "99357     6575\n",
       "316995    2706\n",
       "109201    2585\n",
       "241026    2300\n",
       "28889     2287\n",
       "          ... \n",
       "180212       4\n",
       "93290        3\n",
       "132600       3\n",
       "171910       3\n",
       "285283       2\n",
       "Name: item_id, Length: 59599, dtype: int64"
      ]
     },
     "execution_count": 9,
     "metadata": {},
     "output_type": "execute_result"
    }
   ],
   "source": [
    "interactions_df.item_id.value_counts()"
   ]
  },
  {
   "cell_type": "code",
   "execution_count": 10,
   "id": "19ffc095",
   "metadata": {
    "ExecuteTime": {
     "end_time": "2021-11-12T17:33:57.237986Z",
     "start_time": "2021-11-12T17:33:57.149233Z"
    }
   },
   "outputs": [
    {
     "data": {
      "text/plain": [
       "41297     2091\n",
       "150282    1352\n",
       "155199     850\n",
       "143558     832\n",
       "86301      822\n",
       "          ... \n",
       "61054        1\n",
       "62524        1\n",
       "131211       1\n",
       "101207       1\n",
       "62409        1\n",
       "Name: user_id, Length: 151600, dtype: int64"
      ]
     },
     "execution_count": 10,
     "metadata": {},
     "output_type": "execute_result"
    }
   ],
   "source": [
    "interactions_df.user_id.value_counts()"
   ]
  },
  {
   "cell_type": "code",
   "execution_count": 11,
   "id": "e932a967",
   "metadata": {
    "ExecuteTime": {
     "end_time": "2021-11-12T17:33:57.818305Z",
     "start_time": "2021-11-12T17:33:57.534883Z"
    }
   },
   "outputs": [
    {
     "data": {
      "text/plain": [
       "<AxesSubplot:>"
      ]
     },
     "execution_count": 11,
     "metadata": {},
     "output_type": "execute_result"
    },
    {
     "data": {
      "image/png": "[encoded data removed]",
      "text/plain": [
       "<Figure size 432x288 with 1 Axes>"
      ]
     },
     "metadata": {
      "needs_background": "light"
     },
     "output_type": "display_data"
    }
   ],
   "source": [
    "interactions_df.progress.hist()"
   ]
  },
  {
   "cell_type": "code",
   "execution_count": null,
   "id": "2b41ecc6",
   "metadata": {},
   "outputs": [],
   "source": []
  },
  {
   "cell_type": "code",
   "execution_count": 12,
   "id": "4bf3288c",
   "metadata": {
    "ExecuteTime": {
     "end_time": "2021-11-12T17:34:42.560569Z",
     "start_time": "2021-11-12T17:34:41.237998Z"
    }
   },
   "outputs": [
    {
     "name": "stdout",
     "output_type": "stream",
     "text": [
      "N users before: 151600\n",
      "N items before: 59599\n",
      "\n",
      "N users after: 81243\n",
      "N items after: 49405\n"
     ]
    }
   ],
   "source": [
    "print(f\"N users before: {interactions_df.user_id.nunique()}\")\n",
    "print(f\"N items before: {interactions_df.item_id.nunique()}\\n\")\n",
    "\n",
    "# отфильтруем все события взаимодействий, в которых пользователь прочитал\n",
    "# книгу менее чем на 5 процентов\n",
    "interactions_df = interactions_df[interactions_df.progress > 5]\n",
    "\n",
    "# соберем всех пользователей, которые прочитали \n",
    "# больше 5 книг \n",
    "valid_users = []\n",
    "\n",
    "c = Counter(interactions_df.user_id)\n",
    "for user_id, entries in c.most_common():\n",
    "    if entries > 5:\n",
    "        valid_users.append(user_id)\n",
    "\n",
    "# и соберем все книги, которые прочитали больше 10 пользователей\n",
    "valid_items = []\n",
    "\n",
    "c = Counter(interactions_df.item_id)\n",
    "for item_id, entries in c.most_common():\n",
    "    if entries > 10:\n",
    "        valid_items.append(item_id)\n",
    "\n",
    "# отбросим непопулярные книги и неактивных юзеров\n",
    "interactions_df = interactions_df[interactions_df.user_id.isin(valid_users)]\n",
    "interactions_df = interactions_df[interactions_df.item_id.isin(valid_items)]\n",
    "\n",
    "print(f\"N users after: {interactions_df.user_id.nunique()}\")\n",
    "print(f\"N items after: {interactions_df.item_id.nunique()}\")"
   ]
  },
  {
   "cell_type": "markdown",
   "id": "fa5a9ef4",
   "metadata": {},
   "source": [
    "После фильтрации может получиться так, что некоторые айтемы/юзеры есть в датасете взаимодействий, но при этом они отсутствуют в датасетах айтемов/юзеров или наоборот. Поэтому найдем id айтемов и id юзеров, которые есть во всех датасетах и оставим только их."
   ]
  },
  {
   "cell_type": "code",
   "execution_count": 13,
   "id": "e161389d",
   "metadata": {
    "ExecuteTime": {
     "end_time": "2021-11-12T17:35:13.372387Z",
     "start_time": "2021-11-12T17:35:12.750400Z"
    }
   },
   "outputs": [
    {
     "name": "stdout",
     "output_type": "stream",
     "text": [
      "73069\n",
      "49405\n"
     ]
    }
   ],
   "source": [
    "common_users = set(interactions_df.user_id.unique()).intersection(set(users_ohe_df.user_id.unique()))\n",
    "common_items = set(interactions_df.item_id.unique()).intersection(set(items_ohe_df.item_id.unique()))\n",
    "\n",
    "print(len(common_users))\n",
    "print(len(common_items))\n",
    "\n",
    "interactions_df = interactions_df[interactions_df.item_id.isin(common_items)]\n",
    "interactions_df = interactions_df[interactions_df.user_id.isin(common_users)]\n",
    "\n",
    "items_ohe_df = items_ohe_df[items_ohe_df.item_id.isin(common_items)]\n",
    "users_ohe_df = users_ohe_df[users_ohe_df.user_id.isin(common_users)]"
   ]
  },
  {
   "cell_type": "markdown",
   "id": "bf6a4d33",
   "metadata": {},
   "source": [
    "Соберем взаимодействия в матрицу user*item так, чтобы в строках этой матрицы были user_id, в столбцах - item_id, а на пересечениях строк и столбцов - единица, если пользователь взаимодействовал с айтемом и ноль, если нет.\n",
    "\n",
    "Такую матрицу удобно собирать в numpy array, однако нужно помнить, что numpy array индексируется порядковыми индексами, а нам же удобнее использовать item_id и user_id.\n",
    "\n",
    "Создадим некие внутренние индексы для user_id и item_id - uid и iid. Для этого просто соберем все user_id и item_id и пронумеруем их по порядку."
   ]
  },
  {
   "cell_type": "code",
   "execution_count": 15,
   "id": "85dd3415",
   "metadata": {
    "ExecuteTime": {
     "end_time": "2021-11-12T17:36:11.922792Z",
     "start_time": "2021-11-12T17:36:11.744670Z"
    }
   },
   "outputs": [
    {
     "name": "stdout",
     "output_type": "stream",
     "text": [
      "[0, 1, 2, 3, 4]\n",
      "[0, 1, 2, 3, 4]\n"
     ]
    },
    {
     "data": {
      "text/html": [
       "<div>\n",
       "<style scoped>\n",
       "    .dataframe tbody tr th:only-of-type {\n",
       "        vertical-align: middle;\n",
       "    }\n",
       "\n",
       "    .dataframe tbody tr th {\n",
       "        vertical-align: top;\n",
       "    }\n",
       "\n",
       "    .dataframe thead th {\n",
       "        text-align: right;\n",
       "    }\n",
       "</style>\n",
       "<table border=\"1\" class=\"dataframe\">\n",
       "  <thead>\n",
       "    <tr style=\"text-align: right;\">\n",
       "      <th></th>\n",
       "      <th>user_id</th>\n",
       "      <th>item_id</th>\n",
       "      <th>progress</th>\n",
       "      <th>rating</th>\n",
       "      <th>start_date</th>\n",
       "      <th>uid</th>\n",
       "      <th>iid</th>\n",
       "    </tr>\n",
       "  </thead>\n",
       "  <tbody>\n",
       "    <tr>\n",
       "      <th>0</th>\n",
       "      <td>126706</td>\n",
       "      <td>14433</td>\n",
       "      <td>80</td>\n",
       "      <td>NaN</td>\n",
       "      <td>2018-01-01</td>\n",
       "      <td>57964</td>\n",
       "      <td>2181</td>\n",
       "    </tr>\n",
       "    <tr>\n",
       "      <th>3</th>\n",
       "      <td>46791</td>\n",
       "      <td>83486</td>\n",
       "      <td>23</td>\n",
       "      <td>5.0</td>\n",
       "      <td>2018-01-01</td>\n",
       "      <td>21551</td>\n",
       "      <td>12799</td>\n",
       "    </tr>\n",
       "    <tr>\n",
       "      <th>4</th>\n",
       "      <td>79313</td>\n",
       "      <td>188770</td>\n",
       "      <td>88</td>\n",
       "      <td>5.0</td>\n",
       "      <td>2018-01-01</td>\n",
       "      <td>36542</td>\n",
       "      <td>29033</td>\n",
       "    </tr>\n",
       "    <tr>\n",
       "      <th>5</th>\n",
       "      <td>63454</td>\n",
       "      <td>78434</td>\n",
       "      <td>87</td>\n",
       "      <td>NaN</td>\n",
       "      <td>2018-01-01</td>\n",
       "      <td>29280</td>\n",
       "      <td>12007</td>\n",
       "    </tr>\n",
       "    <tr>\n",
       "      <th>6</th>\n",
       "      <td>127451</td>\n",
       "      <td>14876</td>\n",
       "      <td>69</td>\n",
       "      <td>NaN</td>\n",
       "      <td>2018-01-01</td>\n",
       "      <td>58304</td>\n",
       "      <td>2251</td>\n",
       "    </tr>\n",
       "  </tbody>\n",
       "</table>\n",
       "</div>"
      ],
      "text/plain": [
       "   user_id  item_id  progress  rating start_date    uid    iid\n",
       "0   126706    14433        80     NaN 2018-01-01  57964   2181\n",
       "3    46791    83486        23     5.0 2018-01-01  21551  12799\n",
       "4    79313   188770        88     5.0 2018-01-01  36542  29033\n",
       "5    63454    78434        87     NaN 2018-01-01  29280  12007\n",
       "6   127451    14876        69     NaN 2018-01-01  58304   2251"
      ]
     },
     "execution_count": 15,
     "metadata": {},
     "output_type": "execute_result"
    }
   ],
   "source": [
    "interactions_df[\"uid\"] = interactions_df[\"user_id\"].astype(\"category\")\n",
    "interactions_df[\"uid\"] = interactions_df[\"uid\"].cat.codes\n",
    "\n",
    "interactions_df[\"iid\"] = interactions_df[\"item_id\"].astype(\"category\")\n",
    "interactions_df[\"iid\"] = interactions_df[\"iid\"].cat.codes\n",
    "\n",
    "print(sorted(interactions_df.iid.unique())[:5])\n",
    "print(sorted(interactions_df.uid.unique())[:5])\n",
    "interactions_df.head()"
   ]
  },
  {
   "cell_type": "markdown",
   "id": "1663e774",
   "metadata": {},
   "source": [
    "Отнормируем матрицу взаимодействий"
   ]
  },
  {
   "cell_type": "code",
   "execution_count": 16,
   "id": "0f63494d",
   "metadata": {
    "ExecuteTime": {
     "end_time": "2021-11-12T17:36:50.639809Z",
     "start_time": "2021-11-12T17:36:23.370820Z"
    }
   },
   "outputs": [],
   "source": [
    "interactions_vec = np.zeros((interactions_df.uid.nunique(), \n",
    "                             interactions_df.iid.nunique())) \n",
    "\n",
    "for user_id, item_id in zip(interactions_df.uid, interactions_df.iid):\n",
    "    interactions_vec[user_id, item_id] += 1\n",
    "\n",
    "\n",
    "res = interactions_vec.sum(axis=1)\n",
    "for i in range(len(interactions_vec)):\n",
    "    interactions_vec[i] /= res[i]"
   ]
  },
  {
   "cell_type": "code",
   "execution_count": 17,
   "id": "e7b36af8",
   "metadata": {
    "ExecuteTime": {
     "end_time": "2021-11-12T17:36:50.705266Z",
     "start_time": "2021-11-12T17:36:50.642446Z"
    }
   },
   "outputs": [
    {
     "name": "stdout",
     "output_type": "stream",
     "text": [
      "49405\n",
      "49405\n",
      "73069\n",
      "73069\n"
     ]
    },
    {
     "data": {
      "text/plain": [
       "set()"
      ]
     },
     "execution_count": 17,
     "metadata": {},
     "output_type": "execute_result"
    }
   ],
   "source": [
    "print(interactions_df.item_id.nunique())\n",
    "print(items_ohe_df.item_id.nunique())\n",
    "print(interactions_df.user_id.nunique())\n",
    "print(users_ohe_df.user_id.nunique())\n",
    "\n",
    "set(items_ohe_df.item_id.unique()) - set(interactions_df.item_id.unique())"
   ]
  },
  {
   "cell_type": "markdown",
   "id": "62d19c27",
   "metadata": {},
   "source": [
    "Для того, чтобы можно было удобно превратить iid/uid в item_id/user_id и наоборот соберем словари \n",
    "\n",
    "{iid: item_id}, {uid: user_id} и {item_id: iid}, {user_id: uid}."
   ]
  },
  {
   "cell_type": "code",
   "execution_count": 18,
   "id": "68bb3b35",
   "metadata": {
    "ExecuteTime": {
     "end_time": "2021-11-12T17:36:50.976003Z",
     "start_time": "2021-11-12T17:36:50.706710Z"
    }
   },
   "outputs": [],
   "source": [
    "iid_to_item_id = interactions_df[[\"iid\", \"item_id\"]].drop_duplicates().set_index(\"iid\").to_dict()[\"item_id\"]\n",
    "item_id_to_iid = interactions_df[[\"iid\", \"item_id\"]].drop_duplicates().set_index(\"item_id\").to_dict()[\"iid\"]\n",
    "\n",
    "uid_to_user_id = interactions_df[[\"uid\", \"user_id\"]].drop_duplicates().set_index(\"uid\").to_dict()[\"user_id\"]\n",
    "user_id_to_uid = interactions_df[[\"uid\", \"user_id\"]].drop_duplicates().set_index(\"user_id\").to_dict()[\"uid\"]"
   ]
  },
  {
   "cell_type": "markdown",
   "id": "a3a42c81",
   "metadata": {},
   "source": [
    "И проиндексируем датасеты users_ohe_df и items_ohe_df по внутренним айди:"
   ]
  },
  {
   "cell_type": "code",
   "execution_count": 19,
   "id": "2946f682",
   "metadata": {
    "ExecuteTime": {
     "end_time": "2021-11-12T17:37:04.327456Z",
     "start_time": "2021-11-12T17:37:04.179069Z"
    }
   },
   "outputs": [],
   "source": [
    "items_ohe_df[\"iid\"] = items_ohe_df[\"item_id\"].apply(lambda x: item_id_to_iid[x])\n",
    "items_ohe_df = items_ohe_df.set_index(\"iid\")\n",
    "\n",
    "users_ohe_df[\"uid\"] = users_ohe_df[\"user_id\"].apply(lambda x: user_id_to_uid[x])\n",
    "users_ohe_df = users_ohe_df.set_index(\"uid\")"
   ]
  },
  {
   "cell_type": "code",
   "execution_count": null,
   "id": "4a8c0ee9",
   "metadata": {},
   "outputs": [],
   "source": []
  },
  {
   "cell_type": "code",
   "execution_count": 20,
   "id": "312402cc",
   "metadata": {
    "ExecuteTime": {
     "end_time": "2021-11-12T17:38:42.337367Z",
     "start_time": "2021-11-12T17:38:42.332789Z"
    }
   },
   "outputs": [],
   "source": [
    "def triplet_loss(y_true, y_pred, n_dims=128, alpha=0.4):\n",
    "    # будем ожидать, что на вход функции прилетит три сконкатенированных \n",
    "    # вектора - вектор юзера и два вектора айтема\n",
    "    anchor = y_pred[:, 0:n_dims]\n",
    "    positive = y_pred[:, n_dims:n_dims*2]\n",
    "    negative = y_pred[:, n_dims*2:n_dims*3]\n",
    "\n",
    "    # считаем расстояния от вектора юзера до вектора хорошего айтема\n",
    "    pos_dist = K.sum(K.square(anchor - positive), axis=1)\n",
    "    # и до плохого\n",
    "    neg_dist = K.sum(K.square(anchor - negative), axis=1)\n",
    "\n",
    "    # считаем лосс\n",
    "    basic_loss = pos_dist - neg_dist + alpha\n",
    "    loss = K.maximum(basic_loss, 0.0) # возвращаем ноль, если лосс отрицательный\n",
    " \n",
    "    return loss"
   ]
  },
  {
   "cell_type": "markdown",
   "id": "6f5242eb",
   "metadata": {
    "ExecuteTime": {
     "end_time": "2021-10-28T19:19:05.615364Z",
     "start_time": "2021-10-28T19:19:05.612463Z"
    }
   },
   "source": [
    "Попробуйте другие лоссы, например, BPR Triplet loss"
   ]
  },
  {
   "cell_type": "markdown",
   "id": "603597be",
   "metadata": {
    "ExecuteTime": {
     "end_time": "2021-10-23T11:20:03.327838Z",
     "start_time": "2021-10-23T11:20:03.324389Z"
    }
   },
   "source": [
    "## Генератор и семплирование\n",
    "\n",
    "Сделаем простой генератор. Он будет брать рандромного юзера, и два разных айтема - хороший пример и плохой:\n",
    "- хорошим примером будет тот айтем, который был взят из датасета взаимодействий в соответствии с распределением просмотренных айтемов для этого юзера;\n",
    "- а плохим айтемом будет просто любой другой _случайный айтем_*\n",
    "\n",
    "\n",
    "\\* _подумайте, как можно использовать информацию о качестве взаимодействия юзеров с айтемами для более репрезентативного сэмплирования?_"
   ]
  },
  {
   "cell_type": "code",
   "execution_count": 21,
   "id": "354f406a",
   "metadata": {
    "ExecuteTime": {
     "end_time": "2021-11-12T17:40:12.020718Z",
     "start_time": "2021-11-12T17:40:12.010631Z"
    }
   },
   "outputs": [],
   "source": [
    "def generator(items, users, interactions, batch_size=1024):\n",
    "    while True:\n",
    "        uid_meta = []\n",
    "        uid_interaction = []\n",
    "        pos = []\n",
    "        neg = []\n",
    "        for _ in range(batch_size):\n",
    "            # берем рандомный uid\n",
    "            uid_i = randint(0, interactions.shape[0]-1)\n",
    "            # id хорошего айтема\n",
    "            pos_i = np.random.choice(range(interactions.shape[1]), p=interactions[uid_i])\n",
    "            # id плохого айтема\n",
    "            neg_i = np.random.choice(range(interactions.shape[1]))\n",
    "            # фичи юзера\n",
    "            uid_meta.append(users.iloc[uid_i])\n",
    "            # вектор айтемов, с которыми юзер взаимодействовал\n",
    "            uid_interaction.append(interactions_vec[uid_i])\n",
    "            # фичи хорошего айтема\n",
    "            pos.append(items.iloc[pos_i])\n",
    "            # фичи плохого айтема\n",
    "            neg.append(items.iloc[neg_i])\n",
    "            \n",
    "        yield [np.array(uid_meta), np.array(uid_interaction), np.array(pos), np.array(neg)], [np.array(uid_meta), np.array(uid_interaction)]\n"
   ]
  },
  {
   "cell_type": "code",
   "execution_count": 22,
   "id": "2a0acb90",
   "metadata": {
    "ExecuteTime": {
     "end_time": "2021-11-12T17:40:27.079076Z",
     "start_time": "2021-11-12T17:40:13.122841Z"
    }
   },
   "outputs": [
    {
     "name": "stdout",
     "output_type": "stream",
     "text": [
      "вектор фичей юзера: (1024, 8)\n",
      "вектор взаимодействий юзера с айтемами: (1024, 49405)\n",
      "вектор 'хорошего' айтема: (1024, 1053)\n",
      "вектор 'плохого' айтема: (1024, 1053)\n",
      "\n",
      "вектор фичей юзера: (1024, 8)\n",
      "вектор взаимодействий юзера с айтемами: (1024, 49405)\n"
     ]
    }
   ],
   "source": [
    "# инициализируем генератор\n",
    "gen = generator(items=items_ohe_df.drop([\"item_id\"], axis=1), \n",
    "                users=users_ohe_df.drop([\"user_id\"], axis=1), \n",
    "                interactions=interactions_vec)\n",
    "\n",
    "ret = next(gen)\n",
    "\n",
    "\n",
    "print(f\"вектор фичей юзера: {ret[0][0].shape}\")\n",
    "print(f\"вектор взаимодействий юзера с айтемами: {ret[0][1].shape}\")\n",
    "print(f\"вектор 'хорошего' айтема: {ret[0][2].shape}\")\n",
    "print(f\"вектор 'плохого' айтема: {ret[0][3].shape}\")\n",
    "print()\n",
    "print(f\"вектор фичей юзера: {ret[1][0].shape}\")\n",
    "print(f\"вектор взаимодействий юзера с айтемами: {ret[1][1].shape}\")"
   ]
  },
  {
   "cell_type": "markdown",
   "id": "d7ed043a",
   "metadata": {},
   "source": [
    "### Сделайте генаратор, который будет использовать информацию о качестве взаимодействия юзеров с айтемами для более репрезентативного сэмплирования"
   ]
  },
  {
   "cell_type": "code",
   "execution_count": 23,
   "id": "6988f60a",
   "metadata": {
    "ExecuteTime": {
     "end_time": "2021-11-12T17:41:26.749352Z",
     "start_time": "2021-11-12T17:41:26.601392Z"
    }
   },
   "outputs": [
    {
     "name": "stdout",
     "output_type": "stream",
     "text": [
      "N_FACTORS: 128\n",
      "ITEM_MODEL_SHAPE: (1053,)\n",
      "USER_META_MODEL_SHAPE: (8,)\n",
      "USER_INTERACTION_MODEL_SHAPE: (49405,)\n"
     ]
    }
   ],
   "source": [
    "N_FACTORS = 128\n",
    "\n",
    "# в датасетах есть столбец user_id/item_id, помним, что он не является фичей для обучения!\n",
    "ITEM_MODEL_SHAPE = (items_ohe_df.drop([\"item_id\"], axis=1).shape[1], ) \n",
    "USER_META_MODEL_SHAPE = (users_ohe_df.drop([\"user_id\"], axis=1).shape[1], )\n",
    "\n",
    "USER_INTERACTION_MODEL_SHAPE = (interactions_vec.shape[1], )\n",
    "\n",
    "print(f\"N_FACTORS: {N_FACTORS}\")\n",
    "print(f\"ITEM_MODEL_SHAPE: {ITEM_MODEL_SHAPE}\")\n",
    "print(f\"USER_META_MODEL_SHAPE: {USER_META_MODEL_SHAPE}\")\n",
    "print(f\"USER_INTERACTION_MODEL_SHAPE: {USER_INTERACTION_MODEL_SHAPE}\")"
   ]
  },
  {
   "cell_type": "code",
   "execution_count": 24,
   "id": "d492410d",
   "metadata": {
    "ExecuteTime": {
     "end_time": "2021-11-12T17:43:52.929910Z",
     "start_time": "2021-11-12T17:43:52.682500Z"
    }
   },
   "outputs": [
    {
     "name": "stderr",
     "output_type": "stream",
     "text": [
      "2021-11-12 20:43:52.711238: W tensorflow/stream_executor/platform/default/dso_loader.cc:64] Could not load dynamic library 'libcudart.so.11.0'; dlerror: libcudart.so.11.0: cannot open shared object file: No such file or directory\n",
      "2021-11-12 20:43:52.711298: W tensorflow/stream_executor/platform/default/dso_loader.cc:64] Could not load dynamic library 'libcublas.so.11'; dlerror: libcublas.so.11: cannot open shared object file: No such file or directory\n",
      "2021-11-12 20:43:52.711342: W tensorflow/stream_executor/platform/default/dso_loader.cc:64] Could not load dynamic library 'libcublasLt.so.11'; dlerror: libcublasLt.so.11: cannot open shared object file: No such file or directory\n",
      "2021-11-12 20:43:52.713919: W tensorflow/stream_executor/platform/default/dso_loader.cc:64] Could not load dynamic library 'libcusolver.so.11'; dlerror: libcusolver.so.11: cannot open shared object file: No such file or directory\n",
      "2021-11-12 20:43:52.713961: W tensorflow/stream_executor/platform/default/dso_loader.cc:64] Could not load dynamic library 'libcusparse.so.11'; dlerror: libcusparse.so.11: cannot open shared object file: No such file or directory\n",
      "2021-11-12 20:43:52.713995: W tensorflow/stream_executor/platform/default/dso_loader.cc:64] Could not load dynamic library 'libcudnn.so.8'; dlerror: libcudnn.so.8: cannot open shared object file: No such file or directory\n",
      "2021-11-12 20:43:52.714004: W tensorflow/core/common_runtime/gpu/gpu_device.cc:1850] Cannot dlopen some GPU libraries. Please make sure the missing libraries mentioned above are installed properly if you would like to use GPU. Follow the guide at https://www.tensorflow.org/install/gpu for how to download and setup the required libraries for your platform.\n",
      "Skipping registering GPU devices...\n",
      "2021-11-12 20:43:52.714403: I tensorflow/core/platform/cpu_feature_guard.cc:151] This TensorFlow binary is optimized with oneAPI Deep Neural Network Library (oneDNN) to use the following CPU instructions in performance-critical operations:  AVX2 AVX512F FMA\n",
      "To enable them in other operations, rebuild TensorFlow with the appropriate compiler flags.\n"
     ]
    }
   ],
   "source": [
    "def item_model(n_factors=N_FACTORS):\n",
    "    # входной слой\n",
    "    inp = keras.layers.Input(shape=ITEM_MODEL_SHAPE)\n",
    "    \n",
    "    # полносвязный слой\n",
    "    layer_1 = keras.layers.Dense(N_FACTORS, activation='elu', use_bias=False,\n",
    "                               kernel_regularizer=keras.regularizers.l2(1e-6),\n",
    "                               activity_regularizer=keras.regularizers.l2(l2=1e-6))(inp)\n",
    "\n",
    "    # делаем residual connection - складываем два слоя, \n",
    "    # чтобы градиенты не затухали во время обучения\n",
    "    layer_2 = keras.layers.Dense(N_FACTORS, activation='elu', use_bias=False,\n",
    "                             kernel_regularizer=keras.regularizers.l2(1e-6),\n",
    "                             activity_regularizer=keras.regularizers.l2(l2=1e-6))(layer_1)\n",
    "    \n",
    "    add = keras.layers.Add()([layer_1, layer_2])\n",
    "    \n",
    "    # выходной слой\n",
    "    out = keras.layers.Dense(N_FACTORS, activation='linear', use_bias=False,\n",
    "                             kernel_regularizer=keras.regularizers.l2(1e-6),\n",
    "                             activity_regularizer=keras.regularizers.l2(l2=1e-6))(add)\n",
    "    \n",
    "    return keras.models.Model(inp, out)\n",
    "\n",
    "\n",
    "def user_model(n_factors=N_FACTORS):\n",
    "    # входной слой для вектора фичей юзера (из users_ohe_df)\n",
    "    inp_meta = keras.layers.Input(shape=USER_META_MODEL_SHAPE)\n",
    "    # входной слой для вектора прочтений (из iteractions_vec)\n",
    "    inp_interaction = keras.layers.Input(shape=USER_INTERACTION_MODEL_SHAPE)\n",
    "\n",
    "    # полносвязный слой\n",
    "    layer_1_meta = keras.layers.Dense(N_FACTORS, activation='elu', use_bias=False,\n",
    "                                 kernel_regularizer=keras.regularizers.l2(1e-6),\n",
    "                                 activity_regularizer=keras.regularizers.l2(l2=1e-6))(inp_meta)\n",
    "\n",
    "    layer_1_interaction = keras.layers.Dense(N_FACTORS, activation='elu', use_bias=False,\n",
    "                                 kernel_regularizer=keras.regularizers.l2(1e-6),\n",
    "                                 activity_regularizer=keras.regularizers.l2(l2=1e-6))(inp_interaction)\n",
    "\n",
    "    # делаем residual connection - складываем два слоя,\n",
    "    # чтобы градиенты не затухали во время обучения\n",
    "    layer_2_meta = keras.layers.Dense(N_FACTORS, activation='elu', use_bias=False,\n",
    "                                 kernel_regularizer=keras.regularizers.l2(1e-6),\n",
    "                                 activity_regularizer=keras.regularizers.l2(l2=1e-6))(layer_1_meta)\n",
    "    \n",
    "\n",
    "    add = keras.layers.Add()([layer_1_meta, layer_2_meta])\n",
    "    \n",
    "    # конкатенируем вектор фичей с вектором прочтений\n",
    "    concat_meta_interaction = keras.layers.Concatenate()([add, layer_1_interaction])\n",
    "    \n",
    "    # выходной слой\n",
    "    out = keras.layers.Dense(N_FACTORS, activation='linear', use_bias=False,\n",
    "                             kernel_regularizer=keras.regularizers.l2(1e-6),\n",
    "                             activity_regularizer=keras.regularizers.l2(l2=1e-6))(concat_meta_interaction)\n",
    "    \n",
    "    return keras.models.Model([inp_meta, inp_interaction], out)\n",
    "\n",
    "# инициализируем модели юзера и айтема\n",
    "i2v = item_model()\n",
    "u2v = user_model()\n",
    "\n",
    "# вход для вектора фичей юзера (из users_ohe_df)\n",
    "ancor_meta_in = keras.layers.Input(shape=USER_META_MODEL_SHAPE)\n",
    "# вход для вектора прочтений юзера (из interactions_vec)\n",
    "ancor_interaction_in = keras.layers.Input(shape=USER_INTERACTION_MODEL_SHAPE)\n",
    "\n",
    "# вход для вектора \"хорошего\" айтема\n",
    "pos_in = keras.layers.Input(shape=ITEM_MODEL_SHAPE)\n",
    "# вход для вектора \"плохого\" айтема\n",
    "neg_in = keras.layers.Input(shape=ITEM_MODEL_SHAPE)\n",
    "\n",
    "# получаем вектор юзера\n",
    "ancor = u2v([ancor_meta_in, ancor_interaction_in])\n",
    "# получаем вектор \"хорошего\" айтема\n",
    "pos = i2v(pos_in)\n",
    "# получаем вектор \"плохого\" айтема\n",
    "neg = i2v(neg_in)\n",
    "\n",
    "# конкатенируем полученные векторы\n",
    "res = keras.layers.Concatenate(name=\"concat_ancor_pos_neg\")([ancor, pos, neg])\n",
    "\n",
    "# собираем модель\n",
    "model = keras.models.Model([ancor_meta_in, ancor_interaction_in, pos_in, neg_in], res)"
   ]
  },
  {
   "cell_type": "markdown",
   "id": "4433ddb6",
   "metadata": {},
   "source": [
    "### Попробуйте передать текстовые признаки в модель"
   ]
  },
  {
   "cell_type": "code",
   "execution_count": 25,
   "id": "8e960cc2",
   "metadata": {
    "ExecuteTime": {
     "end_time": "2021-11-12T17:45:23.581424Z",
     "start_time": "2021-11-12T17:45:23.576143Z"
    }
   },
   "outputs": [],
   "source": [
    "model_name = 'recsys_resnet_linear'\n",
    "\n",
    "# логируем процесс обучения в тензорборд\n",
    "t_board = keras.callbacks.TensorBoard(log_dir=f'runs/{model_name}')\n",
    "\n",
    "# уменьшаем learning_rate, если лосс долго не уменьшается (в течение двух эпох)\n",
    "decay = keras.callbacks.ReduceLROnPlateau(monitor='loss', patience=2, factor=0.8, verbose=1)\n",
    "\n",
    "# сохраняем модель после каждой эпохи, если лосс уменьшился\n",
    "check = keras.callbacks.ModelCheckpoint(filepath=model_name + '/epoch{epoch}-{loss:.2f}.h5', monitor=\"loss\")\n"
   ]
  },
  {
   "cell_type": "code",
   "execution_count": 26,
   "id": "80030ff7",
   "metadata": {
    "ExecuteTime": {
     "end_time": "2021-11-12T17:45:26.301636Z",
     "start_time": "2021-11-12T17:45:26.284767Z"
    }
   },
   "outputs": [],
   "source": [
    "# компилируем модель, используем оптимайзер Adam и triplet loss\n",
    "opt = keras.optimizers.Adam(lr=0.001)\n",
    "model.compile(loss=triplet_loss, optimizer=opt)"
   ]
  },
  {
   "cell_type": "code",
   "execution_count": 27,
   "id": "44e24990",
   "metadata": {
    "ExecuteTime": {
     "end_time": "2021-11-12T17:45:50.133965Z",
     "start_time": "2021-11-12T17:45:50.091509Z"
    }
   },
   "outputs": [
    {
     "name": "stdout",
     "output_type": "stream",
     "text": [
      "Model: \"model_3\"\n",
      "__________________________________________________________________________________________________\n",
      " Layer (type)                   Output Shape         Param #     Connected to                     \n",
      "==================================================================================================\n",
      " input_8 (InputLayer)           [(None, 1053)]       0           []                               \n",
      "                                                                                                  \n",
      " dense_7 (Dense)                (None, 128)          134784      ['input_8[0][0]']                \n",
      "                                                                                                  \n",
      " dense_8 (Dense)                (None, 128)          16384       ['dense_7[0][0]']                \n",
      "                                                                                                  \n",
      " add_2 (Add)                    (None, 128)          0           ['dense_7[0][0]',                \n",
      "                                                                  'dense_8[0][0]']                \n",
      "                                                                                                  \n",
      " dense_9 (Dense)                (None, 128)          16384       ['add_2[0][0]']                  \n",
      "                                                                                                  \n",
      "==================================================================================================\n",
      "Total params: 167,552\n",
      "Trainable params: 167,552\n",
      "Non-trainable params: 0\n",
      "__________________________________________________________________________________________________\n"
     ]
    }
   ],
   "source": [
    "# модель айтема\n",
    "item_model().summary()"
   ]
  },
  {
   "cell_type": "code",
   "execution_count": 29,
   "id": "ff8d41a5",
   "metadata": {
    "ExecuteTime": {
     "end_time": "2021-11-12T17:46:22.737021Z",
     "start_time": "2021-11-12T17:46:22.662243Z"
    }
   },
   "outputs": [
    {
     "name": "stdout",
     "output_type": "stream",
     "text": [
      "Model: \"model_5\"\n",
      "__________________________________________________________________________________________________\n",
      " Layer (type)                   Output Shape         Param #     Connected to                     \n",
      "==================================================================================================\n",
      " input_11 (InputLayer)          [(None, 8)]          0           []                               \n",
      "                                                                                                  \n",
      " dense_14 (Dense)               (None, 128)          1024        ['input_11[0][0]']               \n",
      "                                                                                                  \n",
      " dense_16 (Dense)               (None, 128)          16384       ['dense_14[0][0]']               \n",
      "                                                                                                  \n",
      " input_12 (InputLayer)          [(None, 49405)]      0           []                               \n",
      "                                                                                                  \n",
      " add_4 (Add)                    (None, 128)          0           ['dense_14[0][0]',               \n",
      "                                                                  'dense_16[0][0]']               \n",
      "                                                                                                  \n",
      " dense_15 (Dense)               (None, 128)          6323840     ['input_12[0][0]']               \n",
      "                                                                                                  \n",
      " concatenate_2 (Concatenate)    (None, 256)          0           ['add_4[0][0]',                  \n",
      "                                                                  'dense_15[0][0]']               \n",
      "                                                                                                  \n",
      " dense_17 (Dense)               (None, 128)          32768       ['concatenate_2[0][0]']          \n",
      "                                                                                                  \n",
      "==================================================================================================\n",
      "Total params: 6,374,016\n",
      "Trainable params: 6,374,016\n",
      "Non-trainable params: 0\n",
      "__________________________________________________________________________________________________\n"
     ]
    }
   ],
   "source": [
    "# модель юзера\n",
    "user_model().summary()"
   ]
  },
  {
   "cell_type": "code",
   "execution_count": 30,
   "id": "27955589",
   "metadata": {
    "ExecuteTime": {
     "end_time": "2021-11-12T17:46:22.924763Z",
     "start_time": "2021-11-12T17:46:22.914971Z"
    }
   },
   "outputs": [
    {
     "name": "stdout",
     "output_type": "stream",
     "text": [
      "Model: \"model_2\"\n",
      "__________________________________________________________________________________________________\n",
      " Layer (type)                   Output Shape         Param #     Connected to                     \n",
      "==================================================================================================\n",
      " input_4 (InputLayer)           [(None, 8)]          0           []                               \n",
      "                                                                                                  \n",
      " input_5 (InputLayer)           [(None, 49405)]      0           []                               \n",
      "                                                                                                  \n",
      " input_6 (InputLayer)           [(None, 1053)]       0           []                               \n",
      "                                                                                                  \n",
      " input_7 (InputLayer)           [(None, 1053)]       0           []                               \n",
      "                                                                                                  \n",
      " model_1 (Functional)           (None, 128)          6374016     ['input_4[0][0]',                \n",
      "                                                                  'input_5[0][0]']                \n",
      "                                                                                                  \n",
      " model (Functional)             (None, 128)          167552      ['input_6[0][0]',                \n",
      "                                                                  'input_7[0][0]']                \n",
      "                                                                                                  \n",
      " concat_ancor_pos_neg (Concaten  (None, 384)         0           ['model_1[0][0]',                \n",
      " ate)                                                             'model[0][0]',                  \n",
      "                                                                  'model[1][0]']                  \n",
      "                                                                                                  \n",
      "==================================================================================================\n",
      "Total params: 6,541,568\n",
      "Trainable params: 6,541,568\n",
      "Non-trainable params: 0\n",
      "__________________________________________________________________________________________________\n"
     ]
    }
   ],
   "source": [
    "# общая модель\n",
    "model.summary()"
   ]
  },
  {
   "cell_type": "code",
   "execution_count": 32,
   "id": "127498a2",
   "metadata": {
    "ExecuteTime": {
     "end_time": "2021-11-12T17:48:03.124297Z",
     "start_time": "2021-11-12T17:46:49.566296Z"
    }
   },
   "outputs": [
    {
     "name": "stdout",
     "output_type": "stream",
     "text": [
      "Epoch 1/10\n",
      "10/10 [==============================] - 8s 805ms/step - loss: 0.4254 - lr: 0.0010\n",
      "Epoch 2/10\n",
      "10/10 [==============================] - 7s 790ms/step - loss: 0.4461 - lr: 0.0010\n",
      "Epoch 3/10\n",
      "10/10 [==============================] - ETA: 0s - loss: 0.4263\n",
      "Epoch 00003: ReduceLROnPlateau reducing learning rate to 0.000800000037997961.\n",
      "10/10 [==============================] - 7s 785ms/step - loss: 0.4263 - lr: 0.0010\n",
      "Epoch 4/10\n",
      "10/10 [==============================] - 7s 790ms/step - loss: 0.4283 - lr: 8.0000e-04\n",
      "Epoch 5/10\n",
      "10/10 [==============================] - 7s 781ms/step - loss: 0.4146 - lr: 8.0000e-04\n",
      "Epoch 6/10\n",
      "10/10 [==============================] - 7s 793ms/step - loss: 0.3905 - lr: 8.0000e-04\n",
      "Epoch 7/10\n",
      "10/10 [==============================] - 7s 793ms/step - loss: 0.4171 - lr: 8.0000e-04\n",
      "Epoch 8/10\n",
      "10/10 [==============================] - ETA: 0s - loss: 0.4112\n",
      "Epoch 00008: ReduceLROnPlateau reducing learning rate to 0.0006400000303983689.\n",
      "10/10 [==============================] - 7s 786ms/step - loss: 0.4112 - lr: 8.0000e-04\n",
      "Epoch 9/10\n",
      "10/10 [==============================] - 7s 799ms/step - loss: 0.3973 - lr: 6.4000e-04\n",
      "Epoch 10/10\n",
      "10/10 [==============================] - ETA: 0s - loss: 0.4118\n",
      "Epoch 00010: ReduceLROnPlateau reducing learning rate to 0.0005120000336319208.\n",
      "10/10 [==============================] - 7s 803ms/step - loss: 0.4118 - lr: 6.4000e-04\n"
     ]
    },
    {
     "data": {
      "text/plain": [
       "<keras.callbacks.History at 0x7fa2102d0940>"
      ]
     },
     "execution_count": 32,
     "metadata": {},
     "output_type": "execute_result"
    }
   ],
   "source": [
    "# начинаем обучение, не забывая дропнуть столбцы item_id и user_id \n",
    "# из датафреймов при инициализации генератора.\n",
    "\n",
    "# batch_size можно (и лучше) поставить побольше, если вы не органичены в ресурсах\n",
    "\n",
    "model.fit(generator(items=items_ohe_df.drop([\"item_id\"], axis=1), \n",
    "                    users=users_ohe_df.drop([\"user_id\"], axis=1), \n",
    "                    interactions=interactions_vec,\n",
    "                    batch_size=64), \n",
    "          steps_per_epoch=10, \n",
    "          epochs=10, \n",
    "          initial_epoch=0,\n",
    "          callbacks=[decay, t_board, check]\n",
    ")"
   ]
  },
  {
   "cell_type": "code",
   "execution_count": 33,
   "id": "9ac8c264",
   "metadata": {
    "ExecuteTime": {
     "end_time": "2021-11-12T17:48:03.496763Z",
     "start_time": "2021-11-12T17:48:03.126151Z"
    }
   },
   "outputs": [
    {
     "data": {
      "text/plain": [
       "array([[1.2788182]], dtype=float32)"
      ]
     },
     "execution_count": 33,
     "metadata": {},
     "output_type": "execute_result"
    }
   ],
   "source": [
    "# берем рандомного юзера\n",
    "rand_uid = np.random.choice(list(users_ohe_df.index))\n",
    "\n",
    "# получаем фичи юзера и вектор его прочтений айтемов\n",
    "user_meta_feats = users_ohe_df.drop([\"user_id\"], axis=1).iloc[rand_uid]\n",
    "user_interaction_vec = interactions_vec[rand_uid]\n",
    "\n",
    "# берем рандомный айтем\n",
    "rand_iid = np.random.choice(list(items_ohe_df.index))\n",
    "# получаем фичи айтема\n",
    "item_feats = items_ohe_df.drop([\"item_id\"], axis=1).iloc[rand_iid]\n",
    "\n",
    "# получаем вектор юзера\n",
    "user_vec = u2v.predict([np.array(user_meta_feats).reshape(1, -1), \n",
    "                        np.array(user_interaction_vec).reshape(1, -1)])\n",
    "\n",
    "# и вектор айтема\n",
    "item_vec = i2v.predict(np.array(item_feats).reshape(1, -1))\n",
    "\n",
    "# считаем расстояние между вектором юзера и вектором айтема\n",
    "from sklearn.metrics.pairwise import euclidean_distances as ED\n",
    "\n",
    "ED(user_vec, item_vec)"
   ]
  },
  {
   "cell_type": "code",
   "execution_count": 34,
   "id": "fdcbb73f",
   "metadata": {
    "ExecuteTime": {
     "end_time": "2021-11-12T17:48:03.503182Z",
     "start_time": "2021-11-12T17:48:03.498390Z"
    },
    "scrolled": true
   },
   "outputs": [
    {
     "data": {
      "text/plain": [
       "array([[-0.18851323,  0.04706178, -0.05153631,  0.03456496, -0.02133543,\n",
       "         0.0492543 ,  0.02075875, -0.16830534,  0.19368578,  0.0440345 ,\n",
       "         0.03925734,  0.03277311,  0.03573084, -0.08050685,  0.27494034,\n",
       "        -0.11122713, -0.12571764, -0.09703019,  0.12816812,  0.03082033,\n",
       "        -0.01606173, -0.36464643,  0.05208298,  0.1121352 ,  0.15618253,\n",
       "        -0.1389575 ,  0.05411236,  0.05826526,  0.08232784, -0.05887258,\n",
       "        -0.03059391,  0.01843996,  0.08065605, -0.00450321, -0.05638199,\n",
       "         0.07914472, -0.05125329,  0.06723793, -0.10001785,  0.07074863,\n",
       "        -0.1655999 ,  0.1174056 , -0.02952207, -0.06631662, -0.07170611,\n",
       "         0.13238055, -0.04809105,  0.08061258,  0.01351003,  0.1315113 ,\n",
       "        -0.04204864,  0.20643428,  0.0025431 , -0.01976206,  0.039511  ,\n",
       "        -0.1767093 ,  0.03298384, -0.11121874, -0.1718179 , -0.08407038,\n",
       "        -0.05100616, -0.22454633, -0.13208216, -0.0577857 , -0.0250898 ,\n",
       "         0.01615428,  0.20365487,  0.05817094,  0.09610078, -0.02801171,\n",
       "        -0.14233553, -0.0162963 , -0.05065855, -0.0588157 ,  0.00153119,\n",
       "         0.02391388,  0.09628828, -0.11689148, -0.09684016, -0.10943217,\n",
       "        -0.11362907, -0.06580071, -0.09021267,  0.001313  , -0.04996452,\n",
       "         0.04373617, -0.0707468 , -0.14988084, -0.00687856,  0.05743835,\n",
       "        -0.30588287, -0.18283206, -0.03540707, -0.05159819,  0.21623218,\n",
       "         0.01542076, -0.07605617, -0.04048354,  0.03806807,  0.01019094,\n",
       "        -0.26972762,  0.12719034, -0.17032921, -0.16337043,  0.27110416,\n",
       "        -0.1233394 ,  0.0825583 ,  0.1375015 , -0.09178958, -0.02260413,\n",
       "        -0.21241109,  0.056208  ,  0.20378251, -0.08618906,  0.01071516,\n",
       "        -0.16616891, -0.00211899,  0.02452525, -0.11886901, -0.12770395,\n",
       "         0.02065996, -0.18648155, -0.15040223,  0.02285786,  0.06763715,\n",
       "        -0.02348543, -0.00673415,  0.06275979]], dtype=float32)"
      ]
     },
     "execution_count": 34,
     "metadata": {},
     "output_type": "execute_result"
    }
   ],
   "source": [
    "user_vec"
   ]
  },
  {
   "cell_type": "code",
   "execution_count": 35,
   "id": "68f70dfc",
   "metadata": {
    "ExecuteTime": {
     "end_time": "2021-11-12T17:48:07.475736Z",
     "start_time": "2021-11-12T17:48:07.471321Z"
    }
   },
   "outputs": [
    {
     "data": {
      "text/plain": [
       "array([[ 0.09022269,  0.023182  , -0.00384583, -0.05193808, -0.06789412,\n",
       "        -0.05338884, -0.05334615, -0.04025203,  0.04123341, -0.00812187,\n",
       "         0.02433483,  0.03721314, -0.01518783, -0.08523925,  0.0195984 ,\n",
       "        -0.01342528, -0.02619235, -0.00019335, -0.04458345,  0.00619504,\n",
       "        -0.07125148, -0.01091019, -0.04748909, -0.00652844, -0.01816751,\n",
       "         0.05960707,  0.06496407, -0.00979601, -0.0482608 , -0.00758784,\n",
       "        -0.02565195, -0.00029856, -0.00702834, -0.0243919 , -0.01441352,\n",
       "        -0.03280492,  0.00242267,  0.02385643, -0.01774629,  0.04245916,\n",
       "        -0.0005385 ,  0.01177109,  0.04709896, -0.01576111, -0.06784723,\n",
       "        -0.00709644, -0.01170595,  0.06325393, -0.04185711,  0.08863299,\n",
       "         0.01084588,  0.13735534, -0.04328685,  0.01954026, -0.09021721,\n",
       "        -0.04865884,  0.01191267,  0.00233854,  0.05226815, -0.02335813,\n",
       "        -0.01588166, -0.02419307,  0.00076838,  0.05791378, -0.00141115,\n",
       "         0.06994002, -0.03934609, -0.03228685, -0.00848702, -0.00126947,\n",
       "        -0.05609882,  0.00976397, -0.03220377, -0.04092848,  0.02287808,\n",
       "         0.04848143, -0.03989225,  0.05228976, -0.03702487, -0.03136271,\n",
       "        -0.02542847, -0.10530832,  0.008983  , -0.04250323, -0.04039501,\n",
       "        -0.00905552,  0.02811241,  0.00836298,  0.01269366,  0.06134378,\n",
       "        -0.03450067,  0.06513005, -0.03883126, -0.05022119,  0.04458695,\n",
       "         0.02692193, -0.02949009, -0.0484208 ,  0.0028777 ,  0.06257379,\n",
       "         0.01788469,  0.03600041, -0.05658614, -0.02050527, -0.00888858,\n",
       "        -0.04465893, -0.05517558,  0.04217189, -0.02243096, -0.02522054,\n",
       "        -0.02556209,  0.0240756 , -0.01228854, -0.00338073, -0.00306969,\n",
       "         0.02146228, -0.04333826,  0.03352473,  0.00979894, -0.03756601,\n",
       "         0.07925272, -0.02200091, -0.03916908,  0.00746759,  0.10875914,\n",
       "        -0.04006658, -0.02741499,  0.00648665]], dtype=float32)"
      ]
     },
     "execution_count": 35,
     "metadata": {},
     "output_type": "execute_result"
    }
   ],
   "source": [
    "item_vec"
   ]
  },
  {
   "cell_type": "code",
   "execution_count": 36,
   "id": "f0dfe454",
   "metadata": {
    "ExecuteTime": {
     "end_time": "2021-11-12T17:48:33.591889Z",
     "start_time": "2021-11-12T17:48:32.159754Z"
    }
   },
   "outputs": [],
   "source": [
    "# получаем фичи всех айтемов\n",
    "items_feats = items_ohe_df.drop([\"item_id\"], axis=1).to_numpy()\n",
    "# получаем векторы всех айтемов\n",
    "items_vecs = i2v.predict(items_feats)\n",
    "\n",
    "# считаем расстояния\n",
    "dists = ED(user_vec, items_vecs)"
   ]
  },
  {
   "cell_type": "code",
   "execution_count": 37,
   "id": "b19209b6",
   "metadata": {
    "ExecuteTime": {
     "end_time": "2021-11-12T17:48:35.826325Z",
     "start_time": "2021-11-12T17:48:35.821423Z"
    }
   },
   "outputs": [
    {
     "data": {
      "text/plain": [
       "array([ 9217, 11117, 35930, 32456, 43076])"
      ]
     },
     "execution_count": 37,
     "metadata": {},
     "output_type": "execute_result"
    }
   ],
   "source": [
    "top5_iids = np.argsort(dists, axis=1)[0][:5]\n",
    "top5_iids"
   ]
  },
  {
   "cell_type": "code",
   "execution_count": 38,
   "id": "abea48f7",
   "metadata": {
    "ExecuteTime": {
     "end_time": "2021-11-12T17:48:45.422528Z",
     "start_time": "2021-11-12T17:48:45.416738Z"
    }
   },
   "outputs": [
    {
     "data": {
      "text/plain": [
       "[60005, 72564, 233876, 211289, 280377]"
      ]
     },
     "execution_count": 38,
     "metadata": {},
     "output_type": "execute_result"
    }
   ],
   "source": [
    "top5_item_ids = [iid_to_item_id[iid] for iid in top5_iids]\n",
    "top5_item_ids"
   ]
  },
  {
   "cell_type": "code",
   "execution_count": 39,
   "id": "a8c8fb26",
   "metadata": {
    "ExecuteTime": {
     "end_time": "2021-11-12T17:48:46.093380Z",
     "start_time": "2021-11-12T17:48:46.085272Z"
    }
   },
   "outputs": [
    {
     "data": {
      "text/plain": [
       "15702             Рейтинг лучших любовников\n",
       "21089                               Паладин\n",
       "28489               Маскарад на семь персон\n",
       "46787    Караван Историй. Коллекция 02-2015\n",
       "58031               Заложница чужих желаний\n",
       "Name: title, dtype: object"
      ]
     },
     "execution_count": 39,
     "metadata": {},
     "output_type": "execute_result"
    }
   ],
   "source": [
    "recommended_titles = items_df.loc[items_df.item_id.isin(top5_item_ids)].title\n",
    "recommended_titles"
   ]
  },
  {
   "cell_type": "code",
   "execution_count": 40,
   "id": "02a79d27",
   "metadata": {
    "ExecuteTime": {
     "end_time": "2021-11-12T17:48:46.504427Z",
     "start_time": "2021-11-12T17:48:46.498172Z"
    }
   },
   "outputs": [
    {
     "data": {
      "text/plain": [
       "3269                                         Шмагія\n",
       "3618                      Страна кривого зазеркалья\n",
       "5446                       С викингами на Свальбард\n",
       "23778        Управление бизнесом. Психология успеха\n",
       "29286                            Невинность палачей\n",
       "40830    Космос – моя работа. Записки конструктора.\n",
       "Name: title, dtype: object"
      ]
     },
     "execution_count": 40,
     "metadata": {},
     "output_type": "execute_result"
    }
   ],
   "source": [
    "iids_viewed = np.where(interactions_vec[rand_uid] > 0)\n",
    "viewed_titles = items_df.iloc[iids_viewed].title\n",
    "viewed_titles"
   ]
  },
  {
   "cell_type": "code",
   "execution_count": null,
   "id": "b009f089",
   "metadata": {},
   "outputs": [],
   "source": []
  },
  {
   "cell_type": "code",
   "execution_count": null,
   "id": "e528295b",
   "metadata": {},
   "outputs": [],
   "source": []
  }
 ],
 "metadata": {
  "kernelspec": {
   "display_name": "MTS ED",
   "language": "python",
   "name": "shad"
  },
  "language_info": {
   "codemirror_mode": {
    "name": "ipython",
    "version": 3
   },
   "file_extension": ".py",
   "mimetype": "text/x-python",
   "name": "python",
   "nbconvert_exporter": "python",
   "pygments_lexer": "ipython3",
   "version": "3.7.3"
  }
 },
 "nbformat": 4,
 "nbformat_minor": 5
}
